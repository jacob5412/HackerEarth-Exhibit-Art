{
 "cells": [
  {
   "cell_type": "markdown",
   "id": "parallel-falls",
   "metadata": {},
   "source": [
    "# Exploratory Data Analysis - 2: Bivariate Analysis, Feature Engineering and Missing Data"
   ]
  },
  {
   "cell_type": "code",
   "execution_count": 1,
   "id": "supposed-hours",
   "metadata": {},
   "outputs": [
    {
     "data": {
      "application/javascript": [
       "\n",
       "            setTimeout(function() {\n",
       "                var nbb_cell_id = 1;\n",
       "                var nbb_unformatted_code = \"import pandas as pd\\nimport numpy as np\\nimport matplotlib.pyplot as plt\\nimport seaborn as sns\\nfrom sklearn.ensemble import RandomForestRegressor, RandomForestClassifier\\nfrom sklearn.metrics import mean_squared_error, f1_score\\nfrom sklearn.model_selection import RandomizedSearchCV, GridSearchCV, train_test_split\\n\\n%load_ext nb_black\";\n",
       "                var nbb_formatted_code = \"import pandas as pd\\nimport numpy as np\\nimport matplotlib.pyplot as plt\\nimport seaborn as sns\\nfrom sklearn.ensemble import RandomForestRegressor, RandomForestClassifier\\nfrom sklearn.metrics import mean_squared_error, f1_score\\nfrom sklearn.model_selection import RandomizedSearchCV, GridSearchCV, train_test_split\\n\\n%load_ext nb_black\";\n",
       "                var nbb_cells = Jupyter.notebook.get_cells();\n",
       "                for (var i = 0; i < nbb_cells.length; ++i) {\n",
       "                    if (nbb_cells[i].input_prompt_number == nbb_cell_id) {\n",
       "                        if (nbb_cells[i].get_text() == nbb_unformatted_code) {\n",
       "                             nbb_cells[i].set_text(nbb_formatted_code);\n",
       "                        }\n",
       "                        break;\n",
       "                    }\n",
       "                }\n",
       "            }, 500);\n",
       "            "
      ],
      "text/plain": [
       "<IPython.core.display.Javascript object>"
      ]
     },
     "metadata": {},
     "output_type": "display_data"
    }
   ],
   "source": [
    "import pandas as pd\n",
    "import numpy as np\n",
    "import matplotlib.pyplot as plt\n",
    "import seaborn as sns\n",
    "from sklearn.ensemble import RandomForestRegressor, RandomForestClassifier\n",
    "from sklearn.metrics import mean_squared_error, f1_score\n",
    "from sklearn.model_selection import RandomizedSearchCV, GridSearchCV, train_test_split\n",
    "\n",
    "%load_ext nb_black"
   ]
  },
  {
   "cell_type": "code",
   "execution_count": 2,
   "id": "adopted-sister",
   "metadata": {},
   "outputs": [
    {
     "data": {
      "application/javascript": [
       "\n",
       "            setTimeout(function() {\n",
       "                var nbb_cell_id = 2;\n",
       "                var nbb_unformatted_code = \"train_df = pd.read_csv(\\n    \\\"data/train.csv\\\", parse_dates=[\\\"Scheduled Date\\\", \\\"Delivery Date\\\"]\\n)\";\n",
       "                var nbb_formatted_code = \"train_df = pd.read_csv(\\n    \\\"data/train.csv\\\", parse_dates=[\\\"Scheduled Date\\\", \\\"Delivery Date\\\"]\\n)\";\n",
       "                var nbb_cells = Jupyter.notebook.get_cells();\n",
       "                for (var i = 0; i < nbb_cells.length; ++i) {\n",
       "                    if (nbb_cells[i].input_prompt_number == nbb_cell_id) {\n",
       "                        if (nbb_cells[i].get_text() == nbb_unformatted_code) {\n",
       "                             nbb_cells[i].set_text(nbb_formatted_code);\n",
       "                        }\n",
       "                        break;\n",
       "                    }\n",
       "                }\n",
       "            }, 500);\n",
       "            "
      ],
      "text/plain": [
       "<IPython.core.display.Javascript object>"
      ]
     },
     "metadata": {},
     "output_type": "display_data"
    }
   ],
   "source": [
    "train_df = pd.read_csv(\n",
    "    \"data/train.csv\", parse_dates=[\"Scheduled Date\", \"Delivery Date\"]\n",
    ")"
   ]
  },
  {
   "cell_type": "code",
   "execution_count": 3,
   "id": "attempted-pressing",
   "metadata": {},
   "outputs": [
    {
     "data": {
      "application/javascript": [
       "\n",
       "            setTimeout(function() {\n",
       "                var nbb_cell_id = 3;\n",
       "                var nbb_unformatted_code = \"test_df = pd.read_csv(\\\"data/test.csv\\\", parse_dates=[\\\"Scheduled Date\\\", \\\"Delivery Date\\\"])\";\n",
       "                var nbb_formatted_code = \"test_df = pd.read_csv(\\\"data/test.csv\\\", parse_dates=[\\\"Scheduled Date\\\", \\\"Delivery Date\\\"])\";\n",
       "                var nbb_cells = Jupyter.notebook.get_cells();\n",
       "                for (var i = 0; i < nbb_cells.length; ++i) {\n",
       "                    if (nbb_cells[i].input_prompt_number == nbb_cell_id) {\n",
       "                        if (nbb_cells[i].get_text() == nbb_unformatted_code) {\n",
       "                             nbb_cells[i].set_text(nbb_formatted_code);\n",
       "                        }\n",
       "                        break;\n",
       "                    }\n",
       "                }\n",
       "            }, 500);\n",
       "            "
      ],
      "text/plain": [
       "<IPython.core.display.Javascript object>"
      ]
     },
     "metadata": {},
     "output_type": "display_data"
    }
   ],
   "source": [
    "test_df = pd.read_csv(\"data/test.csv\", parse_dates=[\"Scheduled Date\", \"Delivery Date\"])"
   ]
  },
  {
   "cell_type": "code",
   "execution_count": 4,
   "id": "hundred-geometry",
   "metadata": {},
   "outputs": [
    {
     "data": {
      "application/javascript": [
       "\n",
       "            setTimeout(function() {\n",
       "                var nbb_cell_id = 4;\n",
       "                var nbb_unformatted_code = \"TUNING = 0\";\n",
       "                var nbb_formatted_code = \"TUNING = 0\";\n",
       "                var nbb_cells = Jupyter.notebook.get_cells();\n",
       "                for (var i = 0; i < nbb_cells.length; ++i) {\n",
       "                    if (nbb_cells[i].input_prompt_number == nbb_cell_id) {\n",
       "                        if (nbb_cells[i].get_text() == nbb_unformatted_code) {\n",
       "                             nbb_cells[i].set_text(nbb_formatted_code);\n",
       "                        }\n",
       "                        break;\n",
       "                    }\n",
       "                }\n",
       "            }, 500);\n",
       "            "
      ],
      "text/plain": [
       "<IPython.core.display.Javascript object>"
      ]
     },
     "metadata": {},
     "output_type": "display_data"
    }
   ],
   "source": [
    "TUNING = 0"
   ]
  },
  {
   "cell_type": "markdown",
   "id": "described-magnitude",
   "metadata": {},
   "source": [
    "## Treating Missing Data"
   ]
  },
  {
   "cell_type": "code",
   "execution_count": 5,
   "id": "comic-variance",
   "metadata": {
    "scrolled": false
   },
   "outputs": [
    {
     "name": "stdout",
     "output_type": "stream",
     "text": [
      "<class 'pandas.core.frame.DataFrame'>\n",
      "RangeIndex: 6500 entries, 0 to 6499\n",
      "Data columns (total 20 columns):\n",
      " #   Column                 Non-Null Count  Dtype         \n",
      "---  ------                 --------------  -----         \n",
      " 0   Customer Id            6500 non-null   object        \n",
      " 1   Artist Name            6500 non-null   object        \n",
      " 2   Artist Reputation      5750 non-null   float64       \n",
      " 3   Height                 6125 non-null   float64       \n",
      " 4   Width                  5916 non-null   float64       \n",
      " 5   Weight                 5913 non-null   float64       \n",
      " 6   Material               5736 non-null   object        \n",
      " 7   Price Of Sculpture     6500 non-null   float64       \n",
      " 8   Base Shipping Price    6500 non-null   float64       \n",
      " 9   International          6500 non-null   object        \n",
      " 10  Express Shipment       6500 non-null   object        \n",
      " 11  Installation Included  6500 non-null   object        \n",
      " 12  Transport              5108 non-null   object        \n",
      " 13  Fragile                6500 non-null   object        \n",
      " 14  Customer Information   6500 non-null   object        \n",
      " 15  Remote Location        5729 non-null   object        \n",
      " 16  Scheduled Date         6500 non-null   datetime64[ns]\n",
      " 17  Delivery Date          6500 non-null   datetime64[ns]\n",
      " 18  Customer Location      6500 non-null   object        \n",
      " 19  Cost                   6500 non-null   float64       \n",
      "dtypes: datetime64[ns](2), float64(7), object(11)\n",
      "memory usage: 1015.8+ KB\n"
     ]
    },
    {
     "data": {
      "application/javascript": [
       "\n",
       "            setTimeout(function() {\n",
       "                var nbb_cell_id = 5;\n",
       "                var nbb_unformatted_code = \"train_df.info()\";\n",
       "                var nbb_formatted_code = \"train_df.info()\";\n",
       "                var nbb_cells = Jupyter.notebook.get_cells();\n",
       "                for (var i = 0; i < nbb_cells.length; ++i) {\n",
       "                    if (nbb_cells[i].input_prompt_number == nbb_cell_id) {\n",
       "                        if (nbb_cells[i].get_text() == nbb_unformatted_code) {\n",
       "                             nbb_cells[i].set_text(nbb_formatted_code);\n",
       "                        }\n",
       "                        break;\n",
       "                    }\n",
       "                }\n",
       "            }, 500);\n",
       "            "
      ],
      "text/plain": [
       "<IPython.core.display.Javascript object>"
      ]
     },
     "metadata": {},
     "output_type": "display_data"
    }
   ],
   "source": [
    "train_df.info()"
   ]
  },
  {
   "cell_type": "markdown",
   "id": "hybrid-organization",
   "metadata": {},
   "source": [
    "We can immediately identify some of the missing columns as:\n",
    "* `Artist Reputation`\n",
    "* `Height`\n",
    "* `Width`\n",
    "* `Weight`\n",
    "* `Material`\n",
    "* `Transport`\n",
    "* `Remote Location`\n",
    "\n",
    "Missing values \"can have a significant effect on the conclusions that can be drawn from the data\" [1]. We need to figure out whether to drop these or imputate them based on how they can impact the results drawn by our model.\n",
    "\n",
    "This article Towards Data Science [2], explains the different ways the data can be missing. These are:\n",
    "1. Missing at random - there is a systematic relationship between the propensity of missing values and the observed data, but not the missing data\n",
    "2. Missing Completely at Random - no relationship between the missingness of the data and any values, observed or missing\n",
    "3. Missing Not at Random - data is missing is related to the unobserved data"
   ]
  },
  {
   "cell_type": "code",
   "execution_count": 6,
   "id": "south-motorcycle",
   "metadata": {},
   "outputs": [
    {
     "data": {
      "application/javascript": [
       "\n",
       "            setTimeout(function() {\n",
       "                var nbb_cell_id = 6;\n",
       "                var nbb_unformatted_code = \"missing_values_df = (train_df.isna().sum() / train_df.shape[0] * 100).reset_index()\";\n",
       "                var nbb_formatted_code = \"missing_values_df = (train_df.isna().sum() / train_df.shape[0] * 100).reset_index()\";\n",
       "                var nbb_cells = Jupyter.notebook.get_cells();\n",
       "                for (var i = 0; i < nbb_cells.length; ++i) {\n",
       "                    if (nbb_cells[i].input_prompt_number == nbb_cell_id) {\n",
       "                        if (nbb_cells[i].get_text() == nbb_unformatted_code) {\n",
       "                             nbb_cells[i].set_text(nbb_formatted_code);\n",
       "                        }\n",
       "                        break;\n",
       "                    }\n",
       "                }\n",
       "            }, 500);\n",
       "            "
      ],
      "text/plain": [
       "<IPython.core.display.Javascript object>"
      ]
     },
     "metadata": {},
     "output_type": "display_data"
    }
   ],
   "source": [
    "missing_values_df = (train_df.isna().sum() / train_df.shape[0] * 100).reset_index()"
   ]
  },
  {
   "cell_type": "code",
   "execution_count": 7,
   "id": "black-protest",
   "metadata": {},
   "outputs": [
    {
     "data": {
      "text/html": [
       "<div>\n",
       "<style scoped>\n",
       "    .dataframe tbody tr th:only-of-type {\n",
       "        vertical-align: middle;\n",
       "    }\n",
       "\n",
       "    .dataframe tbody tr th {\n",
       "        vertical-align: top;\n",
       "    }\n",
       "\n",
       "    .dataframe thead th {\n",
       "        text-align: right;\n",
       "    }\n",
       "</style>\n",
       "<table border=\"1\" class=\"dataframe\">\n",
       "  <thead>\n",
       "    <tr style=\"text-align: right;\">\n",
       "      <th></th>\n",
       "      <th>index</th>\n",
       "      <th>0</th>\n",
       "    </tr>\n",
       "  </thead>\n",
       "  <tbody>\n",
       "    <tr>\n",
       "      <th>2</th>\n",
       "      <td>Artist Reputation</td>\n",
       "      <td>11.538462</td>\n",
       "    </tr>\n",
       "    <tr>\n",
       "      <th>3</th>\n",
       "      <td>Height</td>\n",
       "      <td>5.769231</td>\n",
       "    </tr>\n",
       "    <tr>\n",
       "      <th>4</th>\n",
       "      <td>Width</td>\n",
       "      <td>8.984615</td>\n",
       "    </tr>\n",
       "    <tr>\n",
       "      <th>5</th>\n",
       "      <td>Weight</td>\n",
       "      <td>9.030769</td>\n",
       "    </tr>\n",
       "    <tr>\n",
       "      <th>6</th>\n",
       "      <td>Material</td>\n",
       "      <td>11.753846</td>\n",
       "    </tr>\n",
       "    <tr>\n",
       "      <th>12</th>\n",
       "      <td>Transport</td>\n",
       "      <td>21.415385</td>\n",
       "    </tr>\n",
       "    <tr>\n",
       "      <th>15</th>\n",
       "      <td>Remote Location</td>\n",
       "      <td>11.861538</td>\n",
       "    </tr>\n",
       "  </tbody>\n",
       "</table>\n",
       "</div>"
      ],
      "text/plain": [
       "                index          0\n",
       "2   Artist Reputation  11.538462\n",
       "3              Height   5.769231\n",
       "4               Width   8.984615\n",
       "5              Weight   9.030769\n",
       "6            Material  11.753846\n",
       "12          Transport  21.415385\n",
       "15    Remote Location  11.861538"
      ]
     },
     "execution_count": 7,
     "metadata": {},
     "output_type": "execute_result"
    },
    {
     "data": {
      "application/javascript": [
       "\n",
       "            setTimeout(function() {\n",
       "                var nbb_cell_id = 7;\n",
       "                var nbb_unformatted_code = \"missing_values_df[missing_values_df[0] > 0]\";\n",
       "                var nbb_formatted_code = \"missing_values_df[missing_values_df[0] > 0]\";\n",
       "                var nbb_cells = Jupyter.notebook.get_cells();\n",
       "                for (var i = 0; i < nbb_cells.length; ++i) {\n",
       "                    if (nbb_cells[i].input_prompt_number == nbb_cell_id) {\n",
       "                        if (nbb_cells[i].get_text() == nbb_unformatted_code) {\n",
       "                             nbb_cells[i].set_text(nbb_formatted_code);\n",
       "                        }\n",
       "                        break;\n",
       "                    }\n",
       "                }\n",
       "            }, 500);\n",
       "            "
      ],
      "text/plain": [
       "<IPython.core.display.Javascript object>"
      ]
     },
     "metadata": {},
     "output_type": "display_data"
    }
   ],
   "source": [
    "missing_values_df[missing_values_df[0] > 0]"
   ]
  },
  {
   "cell_type": "markdown",
   "id": "nuclear-colombia",
   "metadata": {},
   "source": [
    "### Univariate Analysis of Missing data wrt Target variable\n",
    "\n",
    "The easiest to do is to check if there's a relationship between the missing values itself and the target variable"
   ]
  },
  {
   "cell_type": "code",
   "execution_count": 8,
   "id": "affiliated-allocation",
   "metadata": {},
   "outputs": [
    {
     "data": {
      "image/png": "[encoded data removed]",
      "text/plain": [
       "<Figure size 432x288 with 1 Axes>"
      ]
     },
     "metadata": {
      "needs_background": "light"
     },
     "output_type": "display_data"
    },
    {
     "data": {
      "application/javascript": [
       "\n",
       "            setTimeout(function() {\n",
       "                var nbb_cell_id = 8;\n",
       "                var nbb_unformatted_code = \"plt.hist(train_df.loc[train_df[\\\"Artist Reputation\\\"].isna(), \\\"Cost\\\"])\\nplt.grid()\\nplt.show()\";\n",
       "                var nbb_formatted_code = \"plt.hist(train_df.loc[train_df[\\\"Artist Reputation\\\"].isna(), \\\"Cost\\\"])\\nplt.grid()\\nplt.show()\";\n",
       "                var nbb_cells = Jupyter.notebook.get_cells();\n",
       "                for (var i = 0; i < nbb_cells.length; ++i) {\n",
       "                    if (nbb_cells[i].input_prompt_number == nbb_cell_id) {\n",
       "                        if (nbb_cells[i].get_text() == nbb_unformatted_code) {\n",
       "                             nbb_cells[i].set_text(nbb_formatted_code);\n",
       "                        }\n",
       "                        break;\n",
       "                    }\n",
       "                }\n",
       "            }, 500);\n",
       "            "
      ],
      "text/plain": [
       "<IPython.core.display.Javascript object>"
      ]
     },
     "metadata": {},
     "output_type": "display_data"
    }
   ],
   "source": [
    "plt.hist(train_df.loc[train_df[\"Artist Reputation\"].isna(), \"Cost\"])\n",
    "plt.grid()\n",
    "plt.show()"
   ]
  },
  {
   "cell_type": "markdown",
   "id": "interracial-transcript",
   "metadata": {},
   "source": [
    "Most of Cost seem to be distributed around 0, but this is also the cast with the non-missing values. Hence there's no relationship here."
   ]
  },
  {
   "cell_type": "code",
   "execution_count": 9,
   "id": "introductory-dating",
   "metadata": {},
   "outputs": [
    {
     "data": {
      "text/plain": [
       "count    7.500000e+02\n",
       "mean     1.555013e+04\n",
       "std      1.800113e+05\n",
       "min     -5.881832e+05\n",
       "10%      7.884600e+01\n",
       "25%      1.824700e+02\n",
       "50%      3.659600e+02\n",
       "75%      1.167327e+03\n",
       "90%      5.173631e+03\n",
       "95%      1.786683e+04\n",
       "99%      2.145674e+05\n",
       "max      3.324867e+06\n",
       "Name: Cost, dtype: float64"
      ]
     },
     "execution_count": 9,
     "metadata": {},
     "output_type": "execute_result"
    },
    {
     "data": {
      "application/javascript": [
       "\n",
       "            setTimeout(function() {\n",
       "                var nbb_cell_id = 9;\n",
       "                var nbb_unformatted_code = \"train_df.loc[train_df[\\\"Artist Reputation\\\"].isna(), \\\"Cost\\\"].describe(\\n    percentiles=[0.1, 0.25, 0.5, 0.75, 0.9, 0.95, 0.99]\\n)\";\n",
       "                var nbb_formatted_code = \"train_df.loc[train_df[\\\"Artist Reputation\\\"].isna(), \\\"Cost\\\"].describe(\\n    percentiles=[0.1, 0.25, 0.5, 0.75, 0.9, 0.95, 0.99]\\n)\";\n",
       "                var nbb_cells = Jupyter.notebook.get_cells();\n",
       "                for (var i = 0; i < nbb_cells.length; ++i) {\n",
       "                    if (nbb_cells[i].input_prompt_number == nbb_cell_id) {\n",
       "                        if (nbb_cells[i].get_text() == nbb_unformatted_code) {\n",
       "                             nbb_cells[i].set_text(nbb_formatted_code);\n",
       "                        }\n",
       "                        break;\n",
       "                    }\n",
       "                }\n",
       "            }, 500);\n",
       "            "
      ],
      "text/plain": [
       "<IPython.core.display.Javascript object>"
      ]
     },
     "metadata": {},
     "output_type": "display_data"
    }
   ],
   "source": [
    "train_df.loc[train_df[\"Artist Reputation\"].isna(), \"Cost\"].describe(\n",
    "    percentiles=[0.1, 0.25, 0.5, 0.75, 0.9, 0.95, 0.99]\n",
    ")"
   ]
  },
  {
   "cell_type": "code",
   "execution_count": 10,
   "id": "informal-smith",
   "metadata": {},
   "outputs": [
    {
     "data": {
      "image/png": "[encoded data removed]",
      "text/plain": [
       "<Figure size 432x288 with 1 Axes>"
      ]
     },
     "metadata": {
      "needs_background": "light"
     },
     "output_type": "display_data"
    },
    {
     "data": {
      "application/javascript": [
       "\n",
       "            setTimeout(function() {\n",
       "                var nbb_cell_id = 10;\n",
       "                var nbb_unformatted_code = \"plt.hist(train_df.loc[train_df[\\\"Height\\\"].isna(), \\\"Cost\\\"])\\nplt.grid()\\nplt.show()\";\n",
       "                var nbb_formatted_code = \"plt.hist(train_df.loc[train_df[\\\"Height\\\"].isna(), \\\"Cost\\\"])\\nplt.grid()\\nplt.show()\";\n",
       "                var nbb_cells = Jupyter.notebook.get_cells();\n",
       "                for (var i = 0; i < nbb_cells.length; ++i) {\n",
       "                    if (nbb_cells[i].input_prompt_number == nbb_cell_id) {\n",
       "                        if (nbb_cells[i].get_text() == nbb_unformatted_code) {\n",
       "                             nbb_cells[i].set_text(nbb_formatted_code);\n",
       "                        }\n",
       "                        break;\n",
       "                    }\n",
       "                }\n",
       "            }, 500);\n",
       "            "
      ],
      "text/plain": [
       "<IPython.core.display.Javascript object>"
      ]
     },
     "metadata": {},
     "output_type": "display_data"
    }
   ],
   "source": [
    "plt.hist(train_df.loc[train_df[\"Height\"].isna(), \"Cost\"])\n",
    "plt.grid()\n",
    "plt.show()"
   ]
  },
  {
   "cell_type": "code",
   "execution_count": 11,
   "id": "available-complexity",
   "metadata": {},
   "outputs": [
    {
     "data": {
      "text/plain": [
       "count    3.750000e+02\n",
       "mean     2.731979e+04\n",
       "std      3.153483e+05\n",
       "min     -3.608145e+05\n",
       "10%      1.159240e+02\n",
       "25%      1.882250e+02\n",
       "50%      3.916100e+02\n",
       "75%      1.195765e+03\n",
       "90%      5.949440e+03\n",
       "95%      1.713534e+04\n",
       "99%      2.149380e+05\n",
       "max      4.976101e+06\n",
       "Name: Cost, dtype: float64"
      ]
     },
     "execution_count": 11,
     "metadata": {},
     "output_type": "execute_result"
    },
    {
     "data": {
      "application/javascript": [
       "\n",
       "            setTimeout(function() {\n",
       "                var nbb_cell_id = 11;\n",
       "                var nbb_unformatted_code = \"train_df.loc[train_df[\\\"Height\\\"].isna(), \\\"Cost\\\"].describe(\\n    percentiles=[0.1, 0.25, 0.5, 0.75, 0.9, 0.95, 0.99]\\n)\";\n",
       "                var nbb_formatted_code = \"train_df.loc[train_df[\\\"Height\\\"].isna(), \\\"Cost\\\"].describe(\\n    percentiles=[0.1, 0.25, 0.5, 0.75, 0.9, 0.95, 0.99]\\n)\";\n",
       "                var nbb_cells = Jupyter.notebook.get_cells();\n",
       "                for (var i = 0; i < nbb_cells.length; ++i) {\n",
       "                    if (nbb_cells[i].input_prompt_number == nbb_cell_id) {\n",
       "                        if (nbb_cells[i].get_text() == nbb_unformatted_code) {\n",
       "                             nbb_cells[i].set_text(nbb_formatted_code);\n",
       "                        }\n",
       "                        break;\n",
       "                    }\n",
       "                }\n",
       "            }, 500);\n",
       "            "
      ],
      "text/plain": [
       "<IPython.core.display.Javascript object>"
      ]
     },
     "metadata": {},
     "output_type": "display_data"
    }
   ],
   "source": [
    "train_df.loc[train_df[\"Height\"].isna(), \"Cost\"].describe(\n",
    "    percentiles=[0.1, 0.25, 0.5, 0.75, 0.9, 0.95, 0.99]\n",
    ")"
   ]
  },
  {
   "cell_type": "code",
   "execution_count": 12,
   "id": "designed-duplicate",
   "metadata": {},
   "outputs": [
    {
     "data": {
      "image/png": "[encoded data removed]",
      "text/plain": [
       "<Figure size 432x288 with 1 Axes>"
      ]
     },
     "metadata": {
      "needs_background": "light"
     },
     "output_type": "display_data"
    },
    {
     "data": {
      "application/javascript": [
       "\n",
       "            setTimeout(function() {\n",
       "                var nbb_cell_id = 12;\n",
       "                var nbb_unformatted_code = \"plt.hist(train_df.loc[train_df[\\\"Width\\\"].isna(), \\\"Cost\\\"])\\nplt.grid()\\nplt.show()\";\n",
       "                var nbb_formatted_code = \"plt.hist(train_df.loc[train_df[\\\"Width\\\"].isna(), \\\"Cost\\\"])\\nplt.grid()\\nplt.show()\";\n",
       "                var nbb_cells = Jupyter.notebook.get_cells();\n",
       "                for (var i = 0; i < nbb_cells.length; ++i) {\n",
       "                    if (nbb_cells[i].input_prompt_number == nbb_cell_id) {\n",
       "                        if (nbb_cells[i].get_text() == nbb_unformatted_code) {\n",
       "                             nbb_cells[i].set_text(nbb_formatted_code);\n",
       "                        }\n",
       "                        break;\n",
       "                    }\n",
       "                }\n",
       "            }, 500);\n",
       "            "
      ],
      "text/plain": [
       "<IPython.core.display.Javascript object>"
      ]
     },
     "metadata": {},
     "output_type": "display_data"
    }
   ],
   "source": [
    "plt.hist(train_df.loc[train_df[\"Width\"].isna(), \"Cost\"])\n",
    "plt.grid()\n",
    "plt.show()"
   ]
  },
  {
   "cell_type": "code",
   "execution_count": 13,
   "id": "sublime-clearing",
   "metadata": {},
   "outputs": [
    {
     "data": {
      "image/png": "[encoded data removed]",
      "text/plain": [
       "<Figure size 432x288 with 1 Axes>"
      ]
     },
     "metadata": {
      "needs_background": "light"
     },
     "output_type": "display_data"
    },
    {
     "data": {
      "application/javascript": [
       "\n",
       "            setTimeout(function() {\n",
       "                var nbb_cell_id = 13;\n",
       "                var nbb_unformatted_code = \"plt.hist(train_df.loc[train_df[\\\"Weight\\\"].isna(), \\\"Cost\\\"])\\nplt.grid()\\nplt.show()\";\n",
       "                var nbb_formatted_code = \"plt.hist(train_df.loc[train_df[\\\"Weight\\\"].isna(), \\\"Cost\\\"])\\nplt.grid()\\nplt.show()\";\n",
       "                var nbb_cells = Jupyter.notebook.get_cells();\n",
       "                for (var i = 0; i < nbb_cells.length; ++i) {\n",
       "                    if (nbb_cells[i].input_prompt_number == nbb_cell_id) {\n",
       "                        if (nbb_cells[i].get_text() == nbb_unformatted_code) {\n",
       "                             nbb_cells[i].set_text(nbb_formatted_code);\n",
       "                        }\n",
       "                        break;\n",
       "                    }\n",
       "                }\n",
       "            }, 500);\n",
       "            "
      ],
      "text/plain": [
       "<IPython.core.display.Javascript object>"
      ]
     },
     "metadata": {},
     "output_type": "display_data"
    }
   ],
   "source": [
    "plt.hist(train_df.loc[train_df[\"Weight\"].isna(), \"Cost\"])\n",
    "plt.grid()\n",
    "plt.show()"
   ]
  },
  {
   "cell_type": "code",
   "execution_count": 14,
   "id": "abroad-gross",
   "metadata": {},
   "outputs": [
    {
     "data": {
      "text/plain": [
       "count    5.870000e+02\n",
       "mean     1.768451e+04\n",
       "std      2.197743e+05\n",
       "min     -5.766298e+04\n",
       "10%     -1.590600e+02\n",
       "25%      1.875200e+02\n",
       "50%      3.657300e+02\n",
       "75%      1.118590e+03\n",
       "90%      5.019574e+03\n",
       "95%      1.680177e+04\n",
       "99%      1.602159e+05\n",
       "max      4.976101e+06\n",
       "Name: Cost, dtype: float64"
      ]
     },
     "execution_count": 14,
     "metadata": {},
     "output_type": "execute_result"
    },
    {
     "data": {
      "application/javascript": [
       "\n",
       "            setTimeout(function() {\n",
       "                var nbb_cell_id = 14;\n",
       "                var nbb_unformatted_code = \"train_df.loc[train_df[\\\"Weight\\\"].isna(), \\\"Cost\\\"].describe(\\n    percentiles=[0.1, 0.25, 0.5, 0.75, 0.9, 0.95, 0.99]\\n)\";\n",
       "                var nbb_formatted_code = \"train_df.loc[train_df[\\\"Weight\\\"].isna(), \\\"Cost\\\"].describe(\\n    percentiles=[0.1, 0.25, 0.5, 0.75, 0.9, 0.95, 0.99]\\n)\";\n",
       "                var nbb_cells = Jupyter.notebook.get_cells();\n",
       "                for (var i = 0; i < nbb_cells.length; ++i) {\n",
       "                    if (nbb_cells[i].input_prompt_number == nbb_cell_id) {\n",
       "                        if (nbb_cells[i].get_text() == nbb_unformatted_code) {\n",
       "                             nbb_cells[i].set_text(nbb_formatted_code);\n",
       "                        }\n",
       "                        break;\n",
       "                    }\n",
       "                }\n",
       "            }, 500);\n",
       "            "
      ],
      "text/plain": [
       "<IPython.core.display.Javascript object>"
      ]
     },
     "metadata": {},
     "output_type": "display_data"
    }
   ],
   "source": [
    "train_df.loc[train_df[\"Weight\"].isna(), \"Cost\"].describe(\n",
    "    percentiles=[0.1, 0.25, 0.5, 0.75, 0.9, 0.95, 0.99]\n",
    ")"
   ]
  },
  {
   "cell_type": "code",
   "execution_count": 15,
   "id": "bridal-samba",
   "metadata": {},
   "outputs": [
    {
     "data": {
      "image/png": "[encoded data removed]",
      "text/plain": [
       "<Figure size 432x288 with 1 Axes>"
      ]
     },
     "metadata": {
      "needs_background": "light"
     },
     "output_type": "display_data"
    },
    {
     "data": {
      "application/javascript": [
       "\n",
       "            setTimeout(function() {\n",
       "                var nbb_cell_id = 15;\n",
       "                var nbb_unformatted_code = \"plt.hist(train_df.loc[train_df[\\\"Material\\\"].isna(), \\\"Cost\\\"])\\nplt.grid()\\nplt.show()\";\n",
       "                var nbb_formatted_code = \"plt.hist(train_df.loc[train_df[\\\"Material\\\"].isna(), \\\"Cost\\\"])\\nplt.grid()\\nplt.show()\";\n",
       "                var nbb_cells = Jupyter.notebook.get_cells();\n",
       "                for (var i = 0; i < nbb_cells.length; ++i) {\n",
       "                    if (nbb_cells[i].input_prompt_number == nbb_cell_id) {\n",
       "                        if (nbb_cells[i].get_text() == nbb_unformatted_code) {\n",
       "                             nbb_cells[i].set_text(nbb_formatted_code);\n",
       "                        }\n",
       "                        break;\n",
       "                    }\n",
       "                }\n",
       "            }, 500);\n",
       "            "
      ],
      "text/plain": [
       "<IPython.core.display.Javascript object>"
      ]
     },
     "metadata": {},
     "output_type": "display_data"
    }
   ],
   "source": [
    "plt.hist(train_df.loc[train_df[\"Material\"].isna(), \"Cost\"])\n",
    "plt.grid()\n",
    "plt.show()"
   ]
  },
  {
   "cell_type": "code",
   "execution_count": 16,
   "id": "monetary-inclusion",
   "metadata": {},
   "outputs": [
    {
     "data": {
      "image/png": "[encoded data removed]",
      "text/plain": [
       "<Figure size 432x288 with 1 Axes>"
      ]
     },
     "metadata": {
      "needs_background": "light"
     },
     "output_type": "display_data"
    },
    {
     "data": {
      "application/javascript": [
       "\n",
       "            setTimeout(function() {\n",
       "                var nbb_cell_id = 16;\n",
       "                var nbb_unformatted_code = \"plt.hist(train_df.loc[train_df[\\\"Transport\\\"].isna(), \\\"Cost\\\"])\\nplt.grid()\\nplt.show()\";\n",
       "                var nbb_formatted_code = \"plt.hist(train_df.loc[train_df[\\\"Transport\\\"].isna(), \\\"Cost\\\"])\\nplt.grid()\\nplt.show()\";\n",
       "                var nbb_cells = Jupyter.notebook.get_cells();\n",
       "                for (var i = 0; i < nbb_cells.length; ++i) {\n",
       "                    if (nbb_cells[i].input_prompt_number == nbb_cell_id) {\n",
       "                        if (nbb_cells[i].get_text() == nbb_unformatted_code) {\n",
       "                             nbb_cells[i].set_text(nbb_formatted_code);\n",
       "                        }\n",
       "                        break;\n",
       "                    }\n",
       "                }\n",
       "            }, 500);\n",
       "            "
      ],
      "text/plain": [
       "<IPython.core.display.Javascript object>"
      ]
     },
     "metadata": {},
     "output_type": "display_data"
    }
   ],
   "source": [
    "plt.hist(train_df.loc[train_df[\"Transport\"].isna(), \"Cost\"])\n",
    "plt.grid()\n",
    "plt.show()"
   ]
  },
  {
   "cell_type": "code",
   "execution_count": 17,
   "id": "early-receiver",
   "metadata": {},
   "outputs": [
    {
     "data": {
      "image/png": "[encoded data removed]",
      "text/plain": [
       "<Figure size 432x288 with 1 Axes>"
      ]
     },
     "metadata": {
      "needs_background": "light"
     },
     "output_type": "display_data"
    },
    {
     "data": {
      "application/javascript": [
       "\n",
       "            setTimeout(function() {\n",
       "                var nbb_cell_id = 17;\n",
       "                var nbb_unformatted_code = \"plt.hist(train_df.loc[train_df[\\\"Remote Location\\\"].isna(), \\\"Cost\\\"])\\nplt.grid()\\nplt.show()\";\n",
       "                var nbb_formatted_code = \"plt.hist(train_df.loc[train_df[\\\"Remote Location\\\"].isna(), \\\"Cost\\\"])\\nplt.grid()\\nplt.show()\";\n",
       "                var nbb_cells = Jupyter.notebook.get_cells();\n",
       "                for (var i = 0; i < nbb_cells.length; ++i) {\n",
       "                    if (nbb_cells[i].input_prompt_number == nbb_cell_id) {\n",
       "                        if (nbb_cells[i].get_text() == nbb_unformatted_code) {\n",
       "                             nbb_cells[i].set_text(nbb_formatted_code);\n",
       "                        }\n",
       "                        break;\n",
       "                    }\n",
       "                }\n",
       "            }, 500);\n",
       "            "
      ],
      "text/plain": [
       "<IPython.core.display.Javascript object>"
      ]
     },
     "metadata": {},
     "output_type": "display_data"
    }
   ],
   "source": [
    "plt.hist(train_df.loc[train_df[\"Remote Location\"].isna(), \"Cost\"])\n",
    "plt.grid()\n",
    "plt.show()"
   ]
  },
  {
   "cell_type": "markdown",
   "id": "choice-variation",
   "metadata": {},
   "source": [
    "There seems to be no apparent relationship with the missing variables values and the target variable \"Cost\".\n",
    "\n",
    "### `Artist Reputation`"
   ]
  },
  {
   "cell_type": "code",
   "execution_count": 18,
   "id": "federal-float",
   "metadata": {},
   "outputs": [
    {
     "data": {
      "text/plain": [
       "750"
      ]
     },
     "execution_count": 18,
     "metadata": {},
     "output_type": "execute_result"
    },
    {
     "data": {
      "application/javascript": [
       "\n",
       "            setTimeout(function() {\n",
       "                var nbb_cell_id = 18;\n",
       "                var nbb_unformatted_code = \"train_df[\\\"Artist Reputation\\\"].isna().sum()\";\n",
       "                var nbb_formatted_code = \"train_df[\\\"Artist Reputation\\\"].isna().sum()\";\n",
       "                var nbb_cells = Jupyter.notebook.get_cells();\n",
       "                for (var i = 0; i < nbb_cells.length; ++i) {\n",
       "                    if (nbb_cells[i].input_prompt_number == nbb_cell_id) {\n",
       "                        if (nbb_cells[i].get_text() == nbb_unformatted_code) {\n",
       "                             nbb_cells[i].set_text(nbb_formatted_code);\n",
       "                        }\n",
       "                        break;\n",
       "                    }\n",
       "                }\n",
       "            }, 500);\n",
       "            "
      ],
      "text/plain": [
       "<IPython.core.display.Javascript object>"
      ]
     },
     "metadata": {},
     "output_type": "display_data"
    }
   ],
   "source": [
    "train_df[\"Artist Reputation\"].isna().sum()"
   ]
  },
  {
   "cell_type": "markdown",
   "id": "cordless-suspension",
   "metadata": {},
   "source": [
    "There are 750 rows with missing Artist Reputations. We can fill this up using information based on these columns:\n",
    "1. `Price Of Sculpture`\n",
    "2. `Base Shipping Price`\n",
    "\n",
    "Neither of these columns have any NA values. We can use `RandomForests` to fill the NAs."
   ]
  },
  {
   "cell_type": "code",
   "execution_count": 19,
   "id": "generous-fisher",
   "metadata": {},
   "outputs": [
    {
     "data": {
      "application/javascript": [
       "\n",
       "            setTimeout(function() {\n",
       "                var nbb_cell_id = 19;\n",
       "                var nbb_unformatted_code = \"artist_rep_train_df = train_df.loc[\\n    ~train_df[\\\"Artist Reputation\\\"].isna(),\\n    [\\\"Artist Reputation\\\", \\\"Price Of Sculpture\\\", \\\"Base Shipping Price\\\"],\\n]\\n\\nartist_rep_test_df = train_df.loc[\\n    train_df[\\\"Artist Reputation\\\"].isna(),\\n    [\\\"Artist Reputation\\\", \\\"Price Of Sculpture\\\", \\\"Base Shipping Price\\\"],\\n]\";\n",
       "                var nbb_formatted_code = \"artist_rep_train_df = train_df.loc[\\n    ~train_df[\\\"Artist Reputation\\\"].isna(),\\n    [\\\"Artist Reputation\\\", \\\"Price Of Sculpture\\\", \\\"Base Shipping Price\\\"],\\n]\\n\\nartist_rep_test_df = train_df.loc[\\n    train_df[\\\"Artist Reputation\\\"].isna(),\\n    [\\\"Artist Reputation\\\", \\\"Price Of Sculpture\\\", \\\"Base Shipping Price\\\"],\\n]\";\n",
       "                var nbb_cells = Jupyter.notebook.get_cells();\n",
       "                for (var i = 0; i < nbb_cells.length; ++i) {\n",
       "                    if (nbb_cells[i].input_prompt_number == nbb_cell_id) {\n",
       "                        if (nbb_cells[i].get_text() == nbb_unformatted_code) {\n",
       "                             nbb_cells[i].set_text(nbb_formatted_code);\n",
       "                        }\n",
       "                        break;\n",
       "                    }\n",
       "                }\n",
       "            }, 500);\n",
       "            "
      ],
      "text/plain": [
       "<IPython.core.display.Javascript object>"
      ]
     },
     "metadata": {},
     "output_type": "display_data"
    }
   ],
   "source": [
    "artist_rep_train_df = train_df.loc[\n",
    "    ~train_df[\"Artist Reputation\"].isna(),\n",
    "    [\"Artist Reputation\", \"Price Of Sculpture\", \"Base Shipping Price\"],\n",
    "]\n",
    "\n",
    "artist_rep_test_df = train_df.loc[\n",
    "    train_df[\"Artist Reputation\"].isna(),\n",
    "    [\"Artist Reputation\", \"Price Of Sculpture\", \"Base Shipping Price\"],\n",
    "]"
   ]
  },
  {
   "cell_type": "code",
   "execution_count": 20,
   "id": "ecological-panel",
   "metadata": {},
   "outputs": [
    {
     "data": {
      "application/javascript": [
       "\n",
       "            setTimeout(function() {\n",
       "                var nbb_cell_id = 20;\n",
       "                var nbb_unformatted_code = \"(\\n    artist_rep_X_train,\\n    artist_rep_X_val,\\n    artist_rep_y_train,\\n    artist_rep_y_val,\\n) = train_test_split(\\n    artist_rep_train_df.drop([\\\"Artist Reputation\\\"], axis=1),\\n    artist_rep_train_df[[\\\"Artist Reputation\\\"]],\\n    test_size=0.40,\\n    random_state=42,\\n)\";\n",
       "                var nbb_formatted_code = \"(\\n    artist_rep_X_train,\\n    artist_rep_X_val,\\n    artist_rep_y_train,\\n    artist_rep_y_val,\\n) = train_test_split(\\n    artist_rep_train_df.drop([\\\"Artist Reputation\\\"], axis=1),\\n    artist_rep_train_df[[\\\"Artist Reputation\\\"]],\\n    test_size=0.40,\\n    random_state=42,\\n)\";\n",
       "                var nbb_cells = Jupyter.notebook.get_cells();\n",
       "                for (var i = 0; i < nbb_cells.length; ++i) {\n",
       "                    if (nbb_cells[i].input_prompt_number == nbb_cell_id) {\n",
       "                        if (nbb_cells[i].get_text() == nbb_unformatted_code) {\n",
       "                             nbb_cells[i].set_text(nbb_formatted_code);\n",
       "                        }\n",
       "                        break;\n",
       "                    }\n",
       "                }\n",
       "            }, 500);\n",
       "            "
      ],
      "text/plain": [
       "<IPython.core.display.Javascript object>"
      ]
     },
     "metadata": {},
     "output_type": "display_data"
    }
   ],
   "source": [
    "(\n",
    "    artist_rep_X_train,\n",
    "    artist_rep_X_val,\n",
    "    artist_rep_y_train,\n",
    "    artist_rep_y_val,\n",
    ") = train_test_split(\n",
    "    artist_rep_train_df.drop([\"Artist Reputation\"], axis=1),\n",
    "    artist_rep_train_df[[\"Artist Reputation\"]],\n",
    "    test_size=0.40,\n",
    "    random_state=42,\n",
    ")"
   ]
  },
  {
   "cell_type": "code",
   "execution_count": 21,
   "id": "sized-proof",
   "metadata": {},
   "outputs": [
    {
     "data": {
      "application/javascript": [
       "\n",
       "            setTimeout(function() {\n",
       "                var nbb_cell_id = 21;\n",
       "                var nbb_unformatted_code = \"# Number of trees in random forest\\nn_estimators = [int(x) for x in np.linspace(start=200, stop=2000, num=10)]\\n# Number of features to consider at every split\\nmax_features = [\\\"auto\\\", \\\"sqrt\\\"]\\n# Maximum number of levels in tree\\nmax_depth = [int(x) for x in np.linspace(10, 110, num=11)]\\nmax_depth.append(None)\\n# Minimum number of samples required to split a node\\nmin_samples_split = [2, 5, 10]\\n# Minimum number of samples required at each leaf node\\nmin_samples_leaf = [1, 2, 4]\\n# Method of selecting samples for training each tree\\nbootstrap = [True, False]\\n\\n# Create the random grid\\nrandom_grid = {\\n    \\\"n_estimators\\\": n_estimators,\\n    \\\"max_features\\\": max_features,\\n    \\\"max_depth\\\": max_depth,\\n    \\\"min_samples_split\\\": min_samples_split,\\n    \\\"min_samples_leaf\\\": min_samples_leaf,\\n    \\\"bootstrap\\\": bootstrap,\\n}\";\n",
       "                var nbb_formatted_code = \"# Number of trees in random forest\\nn_estimators = [int(x) for x in np.linspace(start=200, stop=2000, num=10)]\\n# Number of features to consider at every split\\nmax_features = [\\\"auto\\\", \\\"sqrt\\\"]\\n# Maximum number of levels in tree\\nmax_depth = [int(x) for x in np.linspace(10, 110, num=11)]\\nmax_depth.append(None)\\n# Minimum number of samples required to split a node\\nmin_samples_split = [2, 5, 10]\\n# Minimum number of samples required at each leaf node\\nmin_samples_leaf = [1, 2, 4]\\n# Method of selecting samples for training each tree\\nbootstrap = [True, False]\\n\\n# Create the random grid\\nrandom_grid = {\\n    \\\"n_estimators\\\": n_estimators,\\n    \\\"max_features\\\": max_features,\\n    \\\"max_depth\\\": max_depth,\\n    \\\"min_samples_split\\\": min_samples_split,\\n    \\\"min_samples_leaf\\\": min_samples_leaf,\\n    \\\"bootstrap\\\": bootstrap,\\n}\";\n",
       "                var nbb_cells = Jupyter.notebook.get_cells();\n",
       "                for (var i = 0; i < nbb_cells.length; ++i) {\n",
       "                    if (nbb_cells[i].input_prompt_number == nbb_cell_id) {\n",
       "                        if (nbb_cells[i].get_text() == nbb_unformatted_code) {\n",
       "                             nbb_cells[i].set_text(nbb_formatted_code);\n",
       "                        }\n",
       "                        break;\n",
       "                    }\n",
       "                }\n",
       "            }, 500);\n",
       "            "
      ],
      "text/plain": [
       "<IPython.core.display.Javascript object>"
      ]
     },
     "metadata": {},
     "output_type": "display_data"
    }
   ],
   "source": [
    "# Number of trees in random forest\n",
    "n_estimators = [int(x) for x in np.linspace(start=200, stop=2000, num=10)]\n",
    "# Number of features to consider at every split\n",
    "max_features = [\"auto\", \"sqrt\"]\n",
    "# Maximum number of levels in tree\n",
    "max_depth = [int(x) for x in np.linspace(10, 110, num=11)]\n",
    "max_depth.append(None)\n",
    "# Minimum number of samples required to split a node\n",
    "min_samples_split = [2, 5, 10]\n",
    "# Minimum number of samples required at each leaf node\n",
    "min_samples_leaf = [1, 2, 4]\n",
    "# Method of selecting samples for training each tree\n",
    "bootstrap = [True, False]\n",
    "\n",
    "# Create the random grid\n",
    "random_grid = {\n",
    "    \"n_estimators\": n_estimators,\n",
    "    \"max_features\": max_features,\n",
    "    \"max_depth\": max_depth,\n",
    "    \"min_samples_split\": min_samples_split,\n",
    "    \"min_samples_leaf\": min_samples_leaf,\n",
    "    \"bootstrap\": bootstrap,\n",
    "}"
   ]
  },
  {
   "cell_type": "code",
   "execution_count": 22,
   "id": "private-curtis",
   "metadata": {},
   "outputs": [
    {
     "data": {
      "application/javascript": [
       "\n",
       "            setTimeout(function() {\n",
       "                var nbb_cell_id = 22;\n",
       "                var nbb_unformatted_code = \"artist_rep_na_val_regr = RandomForestRegressor()\";\n",
       "                var nbb_formatted_code = \"artist_rep_na_val_regr = RandomForestRegressor()\";\n",
       "                var nbb_cells = Jupyter.notebook.get_cells();\n",
       "                for (var i = 0; i < nbb_cells.length; ++i) {\n",
       "                    if (nbb_cells[i].input_prompt_number == nbb_cell_id) {\n",
       "                        if (nbb_cells[i].get_text() == nbb_unformatted_code) {\n",
       "                             nbb_cells[i].set_text(nbb_formatted_code);\n",
       "                        }\n",
       "                        break;\n",
       "                    }\n",
       "                }\n",
       "            }, 500);\n",
       "            "
      ],
      "text/plain": [
       "<IPython.core.display.Javascript object>"
      ]
     },
     "metadata": {},
     "output_type": "display_data"
    }
   ],
   "source": [
    "artist_rep_na_val_regr = RandomForestRegressor()"
   ]
  },
  {
   "cell_type": "code",
   "execution_count": 23,
   "id": "liquid-bridges",
   "metadata": {},
   "outputs": [
    {
     "data": {
      "application/javascript": [
       "\n",
       "            setTimeout(function() {\n",
       "                var nbb_cell_id = 23;\n",
       "                var nbb_unformatted_code = \"rf_random = RandomizedSearchCV(\\n    estimator=artist_rep_na_val_regr,\\n    param_distributions=random_grid,\\n    n_iter=100,\\n    cv=3,\\n    verbose=2,\\n    random_state=42,\\n    n_jobs=-1,\\n)\";\n",
       "                var nbb_formatted_code = \"rf_random = RandomizedSearchCV(\\n    estimator=artist_rep_na_val_regr,\\n    param_distributions=random_grid,\\n    n_iter=100,\\n    cv=3,\\n    verbose=2,\\n    random_state=42,\\n    n_jobs=-1,\\n)\";\n",
       "                var nbb_cells = Jupyter.notebook.get_cells();\n",
       "                for (var i = 0; i < nbb_cells.length; ++i) {\n",
       "                    if (nbb_cells[i].input_prompt_number == nbb_cell_id) {\n",
       "                        if (nbb_cells[i].get_text() == nbb_unformatted_code) {\n",
       "                             nbb_cells[i].set_text(nbb_formatted_code);\n",
       "                        }\n",
       "                        break;\n",
       "                    }\n",
       "                }\n",
       "            }, 500);\n",
       "            "
      ],
      "text/plain": [
       "<IPython.core.display.Javascript object>"
      ]
     },
     "metadata": {},
     "output_type": "display_data"
    }
   ],
   "source": [
    "rf_random = RandomizedSearchCV(\n",
    "    estimator=artist_rep_na_val_regr,\n",
    "    param_distributions=random_grid,\n",
    "    n_iter=100,\n",
    "    cv=3,\n",
    "    verbose=2,\n",
    "    random_state=42,\n",
    "    n_jobs=-1,\n",
    ")"
   ]
  },
  {
   "cell_type": "code",
   "execution_count": 24,
   "id": "gross-protest",
   "metadata": {},
   "outputs": [
    {
     "data": {
      "application/javascript": [
       "\n",
       "            setTimeout(function() {\n",
       "                var nbb_cell_id = 24;\n",
       "                var nbb_unformatted_code = \"if TUNING:\\n    rf_random.fit(\\n        artist_rep_X_train,\\n        artist_rep_y_train,\\n    )\";\n",
       "                var nbb_formatted_code = \"if TUNING:\\n    rf_random.fit(\\n        artist_rep_X_train,\\n        artist_rep_y_train,\\n    )\";\n",
       "                var nbb_cells = Jupyter.notebook.get_cells();\n",
       "                for (var i = 0; i < nbb_cells.length; ++i) {\n",
       "                    if (nbb_cells[i].input_prompt_number == nbb_cell_id) {\n",
       "                        if (nbb_cells[i].get_text() == nbb_unformatted_code) {\n",
       "                             nbb_cells[i].set_text(nbb_formatted_code);\n",
       "                        }\n",
       "                        break;\n",
       "                    }\n",
       "                }\n",
       "            }, 500);\n",
       "            "
      ],
      "text/plain": [
       "<IPython.core.display.Javascript object>"
      ]
     },
     "metadata": {},
     "output_type": "display_data"
    }
   ],
   "source": [
    "if TUNING:\n",
    "    rf_random.fit(\n",
    "        artist_rep_X_train,\n",
    "        artist_rep_y_train,\n",
    "    )"
   ]
  },
  {
   "cell_type": "code",
   "execution_count": 25,
   "id": "fifty-nicholas",
   "metadata": {},
   "outputs": [
    {
     "data": {
      "application/javascript": [
       "\n",
       "            setTimeout(function() {\n",
       "                var nbb_cell_id = 25;\n",
       "                var nbb_unformatted_code = \"if TUNING:\\n    print(rf_random.best_params_)\";\n",
       "                var nbb_formatted_code = \"if TUNING:\\n    print(rf_random.best_params_)\";\n",
       "                var nbb_cells = Jupyter.notebook.get_cells();\n",
       "                for (var i = 0; i < nbb_cells.length; ++i) {\n",
       "                    if (nbb_cells[i].input_prompt_number == nbb_cell_id) {\n",
       "                        if (nbb_cells[i].get_text() == nbb_unformatted_code) {\n",
       "                             nbb_cells[i].set_text(nbb_formatted_code);\n",
       "                        }\n",
       "                        break;\n",
       "                    }\n",
       "                }\n",
       "            }, 500);\n",
       "            "
      ],
      "text/plain": [
       "<IPython.core.display.Javascript object>"
      ]
     },
     "metadata": {},
     "output_type": "display_data"
    }
   ],
   "source": [
    "if TUNING:\n",
    "    print(rf_random.best_params_)"
   ]
  },
  {
   "cell_type": "code",
   "execution_count": 26,
   "id": "characteristic-chick",
   "metadata": {
    "scrolled": true
   },
   "outputs": [
    {
     "data": {
      "application/javascript": [
       "\n",
       "            setTimeout(function() {\n",
       "                var nbb_cell_id = 26;\n",
       "                var nbb_unformatted_code = \"if TUNING:\\n    base_model = RandomForestRegressor(n_estimators=10, random_state=42)\\n    base_model.fit(artist_rep_X_train, artist_rep_y_train)\\n    artist_rep_y_pred = base_model.predict(artist_rep_X_val)\\n    mean_squared_error(artist_rep_y_val, artist_rep_y_pred)\";\n",
       "                var nbb_formatted_code = \"if TUNING:\\n    base_model = RandomForestRegressor(n_estimators=10, random_state=42)\\n    base_model.fit(artist_rep_X_train, artist_rep_y_train)\\n    artist_rep_y_pred = base_model.predict(artist_rep_X_val)\\n    mean_squared_error(artist_rep_y_val, artist_rep_y_pred)\";\n",
       "                var nbb_cells = Jupyter.notebook.get_cells();\n",
       "                for (var i = 0; i < nbb_cells.length; ++i) {\n",
       "                    if (nbb_cells[i].input_prompt_number == nbb_cell_id) {\n",
       "                        if (nbb_cells[i].get_text() == nbb_unformatted_code) {\n",
       "                             nbb_cells[i].set_text(nbb_formatted_code);\n",
       "                        }\n",
       "                        break;\n",
       "                    }\n",
       "                }\n",
       "            }, 500);\n",
       "            "
      ],
      "text/plain": [
       "<IPython.core.display.Javascript object>"
      ]
     },
     "metadata": {},
     "output_type": "display_data"
    }
   ],
   "source": [
    "if TUNING:\n",
    "    base_model = RandomForestRegressor(n_estimators=10, random_state=42)\n",
    "    base_model.fit(artist_rep_X_train, artist_rep_y_train)\n",
    "    artist_rep_y_pred = base_model.predict(artist_rep_X_val)\n",
    "    mean_squared_error(artist_rep_y_val, artist_rep_y_pred)"
   ]
  },
  {
   "cell_type": "code",
   "execution_count": 27,
   "id": "superb-tulsa",
   "metadata": {},
   "outputs": [
    {
     "data": {
      "application/javascript": [
       "\n",
       "            setTimeout(function() {\n",
       "                var nbb_cell_id = 27;\n",
       "                var nbb_unformatted_code = \"if TUNING:\\n    best_random = rf_random.best_estimator_\\n    artist_rep_y_pred = best_random.predict(artist_rep_X_val)\\n    print(mean_squared_error(artist_rep_y_val, artist_rep_y_pred))\";\n",
       "                var nbb_formatted_code = \"if TUNING:\\n    best_random = rf_random.best_estimator_\\n    artist_rep_y_pred = best_random.predict(artist_rep_X_val)\\n    print(mean_squared_error(artist_rep_y_val, artist_rep_y_pred))\";\n",
       "                var nbb_cells = Jupyter.notebook.get_cells();\n",
       "                for (var i = 0; i < nbb_cells.length; ++i) {\n",
       "                    if (nbb_cells[i].input_prompt_number == nbb_cell_id) {\n",
       "                        if (nbb_cells[i].get_text() == nbb_unformatted_code) {\n",
       "                             nbb_cells[i].set_text(nbb_formatted_code);\n",
       "                        }\n",
       "                        break;\n",
       "                    }\n",
       "                }\n",
       "            }, 500);\n",
       "            "
      ],
      "text/plain": [
       "<IPython.core.display.Javascript object>"
      ]
     },
     "metadata": {},
     "output_type": "display_data"
    }
   ],
   "source": [
    "if TUNING:\n",
    "    best_random = rf_random.best_estimator_\n",
    "    artist_rep_y_pred = best_random.predict(artist_rep_X_val)\n",
    "    print(mean_squared_error(artist_rep_y_val, artist_rep_y_pred))"
   ]
  },
  {
   "cell_type": "markdown",
   "id": "proprietary-grave",
   "metadata": {},
   "source": [
    "* Best random estimator using `RandomizedSearchCV` has a 25% lower MSE than the default Random Forest hyperparameters.\n",
    "* Creating the parameter grid based on the results of random search\n",
    "\n",
    "```json\n",
    "{\n",
    "    \"n_estimators\": 1000,\n",
    "    \"min_samples_split\": 10,\n",
    "    \"min_samples_leaf\": 2,\n",
    "    \"max_features\": \"sqrt\",\n",
    "    \"max_depth\": 10,\n",
    "    \"bootstrap\": True,\n",
    "}\n",
    "```"
   ]
  },
  {
   "cell_type": "code",
   "execution_count": 28,
   "id": "pacific-hayes",
   "metadata": {},
   "outputs": [
    {
     "data": {
      "application/javascript": [
       "\n",
       "            setTimeout(function() {\n",
       "                var nbb_cell_id = 28;\n",
       "                var nbb_unformatted_code = \"param_grid = {\\n    \\\"bootstrap\\\": [True],\\n    \\\"max_depth\\\": [10, 20, 30, 40],\\n    \\\"max_features\\\": [2, 3],\\n    \\\"min_samples_leaf\\\": [2, 3, 4],\\n    \\\"min_samples_split\\\": [9, 10, 11],\\n    \\\"n_estimators\\\": [900, 1000, 1100, 1200],\\n}\";\n",
       "                var nbb_formatted_code = \"param_grid = {\\n    \\\"bootstrap\\\": [True],\\n    \\\"max_depth\\\": [10, 20, 30, 40],\\n    \\\"max_features\\\": [2, 3],\\n    \\\"min_samples_leaf\\\": [2, 3, 4],\\n    \\\"min_samples_split\\\": [9, 10, 11],\\n    \\\"n_estimators\\\": [900, 1000, 1100, 1200],\\n}\";\n",
       "                var nbb_cells = Jupyter.notebook.get_cells();\n",
       "                for (var i = 0; i < nbb_cells.length; ++i) {\n",
       "                    if (nbb_cells[i].input_prompt_number == nbb_cell_id) {\n",
       "                        if (nbb_cells[i].get_text() == nbb_unformatted_code) {\n",
       "                             nbb_cells[i].set_text(nbb_formatted_code);\n",
       "                        }\n",
       "                        break;\n",
       "                    }\n",
       "                }\n",
       "            }, 500);\n",
       "            "
      ],
      "text/plain": [
       "<IPython.core.display.Javascript object>"
      ]
     },
     "metadata": {},
     "output_type": "display_data"
    }
   ],
   "source": [
    "param_grid = {\n",
    "    \"bootstrap\": [True],\n",
    "    \"max_depth\": [10, 20, 30, 40],\n",
    "    \"max_features\": [2, 3],\n",
    "    \"min_samples_leaf\": [2, 3, 4],\n",
    "    \"min_samples_split\": [9, 10, 11],\n",
    "    \"n_estimators\": [900, 1000, 1100, 1200],\n",
    "}"
   ]
  },
  {
   "cell_type": "code",
   "execution_count": 29,
   "id": "decimal-pendant",
   "metadata": {},
   "outputs": [
    {
     "data": {
      "application/javascript": [
       "\n",
       "            setTimeout(function() {\n",
       "                var nbb_cell_id = 29;\n",
       "                var nbb_unformatted_code = \"# Create a base model\\nrf = RandomForestRegressor()\\n\\n# Instantiate the grid search model\\ngrid_search = GridSearchCV(\\n    estimator=rf, param_grid=param_grid, cv=3, n_jobs=-1, verbose=2\\n)\";\n",
       "                var nbb_formatted_code = \"# Create a base model\\nrf = RandomForestRegressor()\\n\\n# Instantiate the grid search model\\ngrid_search = GridSearchCV(\\n    estimator=rf, param_grid=param_grid, cv=3, n_jobs=-1, verbose=2\\n)\";\n",
       "                var nbb_cells = Jupyter.notebook.get_cells();\n",
       "                for (var i = 0; i < nbb_cells.length; ++i) {\n",
       "                    if (nbb_cells[i].input_prompt_number == nbb_cell_id) {\n",
       "                        if (nbb_cells[i].get_text() == nbb_unformatted_code) {\n",
       "                             nbb_cells[i].set_text(nbb_formatted_code);\n",
       "                        }\n",
       "                        break;\n",
       "                    }\n",
       "                }\n",
       "            }, 500);\n",
       "            "
      ],
      "text/plain": [
       "<IPython.core.display.Javascript object>"
      ]
     },
     "metadata": {},
     "output_type": "display_data"
    }
   ],
   "source": [
    "# Create a base model\n",
    "rf = RandomForestRegressor()\n",
    "\n",
    "# Instantiate the grid search model\n",
    "grid_search = GridSearchCV(\n",
    "    estimator=rf, param_grid=param_grid, cv=3, n_jobs=-1, verbose=2\n",
    ")"
   ]
  },
  {
   "cell_type": "code",
   "execution_count": 30,
   "id": "atlantic-bible",
   "metadata": {},
   "outputs": [
    {
     "data": {
      "application/javascript": [
       "\n",
       "            setTimeout(function() {\n",
       "                var nbb_cell_id = 30;\n",
       "                var nbb_unformatted_code = \"if TUNING:\\n    # Fit the grid search to the data\\n    grid_search.fit(artist_rep_X_train, artist_rep_y_train)\";\n",
       "                var nbb_formatted_code = \"if TUNING:\\n    # Fit the grid search to the data\\n    grid_search.fit(artist_rep_X_train, artist_rep_y_train)\";\n",
       "                var nbb_cells = Jupyter.notebook.get_cells();\n",
       "                for (var i = 0; i < nbb_cells.length; ++i) {\n",
       "                    if (nbb_cells[i].input_prompt_number == nbb_cell_id) {\n",
       "                        if (nbb_cells[i].get_text() == nbb_unformatted_code) {\n",
       "                             nbb_cells[i].set_text(nbb_formatted_code);\n",
       "                        }\n",
       "                        break;\n",
       "                    }\n",
       "                }\n",
       "            }, 500);\n",
       "            "
      ],
      "text/plain": [
       "<IPython.core.display.Javascript object>"
      ]
     },
     "metadata": {},
     "output_type": "display_data"
    }
   ],
   "source": [
    "if TUNING:\n",
    "    # Fit the grid search to the data\n",
    "    grid_search.fit(artist_rep_X_train, artist_rep_y_train)"
   ]
  },
  {
   "cell_type": "code",
   "execution_count": 31,
   "id": "continent-serum",
   "metadata": {},
   "outputs": [
    {
     "data": {
      "application/javascript": [
       "\n",
       "            setTimeout(function() {\n",
       "                var nbb_cell_id = 31;\n",
       "                var nbb_unformatted_code = \"if TUNING:\\n    print(grid_search.best_params_)\";\n",
       "                var nbb_formatted_code = \"if TUNING:\\n    print(grid_search.best_params_)\";\n",
       "                var nbb_cells = Jupyter.notebook.get_cells();\n",
       "                for (var i = 0; i < nbb_cells.length; ++i) {\n",
       "                    if (nbb_cells[i].input_prompt_number == nbb_cell_id) {\n",
       "                        if (nbb_cells[i].get_text() == nbb_unformatted_code) {\n",
       "                             nbb_cells[i].set_text(nbb_formatted_code);\n",
       "                        }\n",
       "                        break;\n",
       "                    }\n",
       "                }\n",
       "            }, 500);\n",
       "            "
      ],
      "text/plain": [
       "<IPython.core.display.Javascript object>"
      ]
     },
     "metadata": {},
     "output_type": "display_data"
    }
   ],
   "source": [
    "if TUNING:\n",
    "    print(grid_search.best_params_)"
   ]
  },
  {
   "cell_type": "markdown",
   "id": "buried-voltage",
   "metadata": {},
   "source": [
    "* Best hyperparameters using GridSearchCV are:\n",
    "\n",
    "```json\n",
    "{\n",
    "    \"bootstrap\": True,\n",
    "    \"max_depth\": 10,\n",
    "    \"max_features\": 2,\n",
    "    \"min_samples_leaf\": 2,\n",
    "    \"min_samples_split\": 10,\n",
    "    \"n_estimators\": 1100,\n",
    "}\n",
    "```"
   ]
  },
  {
   "cell_type": "code",
   "execution_count": 32,
   "id": "compressed-delay",
   "metadata": {},
   "outputs": [
    {
     "data": {
      "application/javascript": [
       "\n",
       "            setTimeout(function() {\n",
       "                var nbb_cell_id = 32;\n",
       "                var nbb_unformatted_code = \"if TUNING:\\n    best_grid = grid_search.best_estimator_\\n    best_grid.fit(artist_rep_X_train, artist_rep_y_train)\\n    artist_rep_y_pred = best_grid.predict(artist_rep_X_val)\\n    print(mean_squared_error(artist_rep_y_val, artist_rep_y_pred))\";\n",
       "                var nbb_formatted_code = \"if TUNING:\\n    best_grid = grid_search.best_estimator_\\n    best_grid.fit(artist_rep_X_train, artist_rep_y_train)\\n    artist_rep_y_pred = best_grid.predict(artist_rep_X_val)\\n    print(mean_squared_error(artist_rep_y_val, artist_rep_y_pred))\";\n",
       "                var nbb_cells = Jupyter.notebook.get_cells();\n",
       "                for (var i = 0; i < nbb_cells.length; ++i) {\n",
       "                    if (nbb_cells[i].input_prompt_number == nbb_cell_id) {\n",
       "                        if (nbb_cells[i].get_text() == nbb_unformatted_code) {\n",
       "                             nbb_cells[i].set_text(nbb_formatted_code);\n",
       "                        }\n",
       "                        break;\n",
       "                    }\n",
       "                }\n",
       "            }, 500);\n",
       "            "
      ],
      "text/plain": [
       "<IPython.core.display.Javascript object>"
      ]
     },
     "metadata": {},
     "output_type": "display_data"
    }
   ],
   "source": [
    "if TUNING:\n",
    "    best_grid = grid_search.best_estimator_\n",
    "    best_grid.fit(artist_rep_X_train, artist_rep_y_train)\n",
    "    artist_rep_y_pred = best_grid.predict(artist_rep_X_val)\n",
    "    print(mean_squared_error(artist_rep_y_val, artist_rep_y_pred))"
   ]
  },
  {
   "cell_type": "code",
   "execution_count": 33,
   "id": "muslim-directive",
   "metadata": {},
   "outputs": [
    {
     "data": {
      "application/javascript": [
       "\n",
       "            setTimeout(function() {\n",
       "                var nbb_cell_id = 33;\n",
       "                var nbb_unformatted_code = \"# Creating a RF regressor\\nartist_rep_rf = RandomForestRegressor(\\n    **{\\n        \\\"bootstrap\\\": True,\\n        \\\"max_depth\\\": 10,\\n        \\\"max_features\\\": \\\"sqrt\\\",\\n        \\\"min_samples_leaf\\\": 2,\\n        \\\"min_samples_split\\\": 10,\\n        \\\"n_estimators\\\": 1100,\\n    }\\n)\";\n",
       "                var nbb_formatted_code = \"# Creating a RF regressor\\nartist_rep_rf = RandomForestRegressor(\\n    **{\\n        \\\"bootstrap\\\": True,\\n        \\\"max_depth\\\": 10,\\n        \\\"max_features\\\": \\\"sqrt\\\",\\n        \\\"min_samples_leaf\\\": 2,\\n        \\\"min_samples_split\\\": 10,\\n        \\\"n_estimators\\\": 1100,\\n    }\\n)\";\n",
       "                var nbb_cells = Jupyter.notebook.get_cells();\n",
       "                for (var i = 0; i < nbb_cells.length; ++i) {\n",
       "                    if (nbb_cells[i].input_prompt_number == nbb_cell_id) {\n",
       "                        if (nbb_cells[i].get_text() == nbb_unformatted_code) {\n",
       "                             nbb_cells[i].set_text(nbb_formatted_code);\n",
       "                        }\n",
       "                        break;\n",
       "                    }\n",
       "                }\n",
       "            }, 500);\n",
       "            "
      ],
      "text/plain": [
       "<IPython.core.display.Javascript object>"
      ]
     },
     "metadata": {},
     "output_type": "display_data"
    }
   ],
   "source": [
    "# Creating a RF regressor\n",
    "artist_rep_rf = RandomForestRegressor(\n",
    "    **{\n",
    "        \"bootstrap\": True,\n",
    "        \"max_depth\": 10,\n",
    "        \"max_features\": \"sqrt\",\n",
    "        \"min_samples_leaf\": 2,\n",
    "        \"min_samples_split\": 10,\n",
    "        \"n_estimators\": 1100,\n",
    "    }\n",
    ")"
   ]
  },
  {
   "cell_type": "code",
   "execution_count": 34,
   "id": "standing-college",
   "metadata": {},
   "outputs": [
    {
     "name": "stderr",
     "output_type": "stream",
     "text": [
      "<ipython-input-34-411004291cb1>:1: DataConversionWarning: A column-vector y was passed when a 1d array was expected. Please change the shape of y to (n_samples,), for example using ravel().\n",
      "  artist_rep_rf.fit(artist_rep_X_train, artist_rep_y_train)\n"
     ]
    },
    {
     "data": {
      "text/plain": [
       "0.06801033085801646"
      ]
     },
     "execution_count": 34,
     "metadata": {},
     "output_type": "execute_result"
    },
    {
     "data": {
      "application/javascript": [
       "\n",
       "            setTimeout(function() {\n",
       "                var nbb_cell_id = 34;\n",
       "                var nbb_unformatted_code = \"artist_rep_rf.fit(artist_rep_X_train, artist_rep_y_train)\\nartist_rep_y_pred = artist_rep_rf.predict(artist_rep_X_val)\\nmean_squared_error(artist_rep_y_val, artist_rep_y_pred)\";\n",
       "                var nbb_formatted_code = \"artist_rep_rf.fit(artist_rep_X_train, artist_rep_y_train)\\nartist_rep_y_pred = artist_rep_rf.predict(artist_rep_X_val)\\nmean_squared_error(artist_rep_y_val, artist_rep_y_pred)\";\n",
       "                var nbb_cells = Jupyter.notebook.get_cells();\n",
       "                for (var i = 0; i < nbb_cells.length; ++i) {\n",
       "                    if (nbb_cells[i].input_prompt_number == nbb_cell_id) {\n",
       "                        if (nbb_cells[i].get_text() == nbb_unformatted_code) {\n",
       "                             nbb_cells[i].set_text(nbb_formatted_code);\n",
       "                        }\n",
       "                        break;\n",
       "                    }\n",
       "                }\n",
       "            }, 500);\n",
       "            "
      ],
      "text/plain": [
       "<IPython.core.display.Javascript object>"
      ]
     },
     "metadata": {},
     "output_type": "display_data"
    }
   ],
   "source": [
    "artist_rep_rf.fit(artist_rep_X_train, artist_rep_y_train)\n",
    "artist_rep_y_pred = artist_rep_rf.predict(artist_rep_X_val)\n",
    "mean_squared_error(artist_rep_y_val, artist_rep_y_pred)"
   ]
  },
  {
   "cell_type": "code",
   "execution_count": 35,
   "id": "precise-picnic",
   "metadata": {},
   "outputs": [
    {
     "name": "stderr",
     "output_type": "stream",
     "text": [
      "<ipython-input-35-9413ea736aa4>:1: DataConversionWarning: A column-vector y was passed when a 1d array was expected. Please change the shape of y to (n_samples,), for example using ravel().\n",
      "  artist_rep_rf.fit(\n"
     ]
    },
    {
     "data": {
      "text/plain": [
       "RandomForestRegressor(max_depth=10, max_features='sqrt', min_samples_leaf=2,\n",
       "                      min_samples_split=10, n_estimators=1100)"
      ]
     },
     "execution_count": 35,
     "metadata": {},
     "output_type": "execute_result"
    },
    {
     "data": {
      "application/javascript": [
       "\n",
       "            setTimeout(function() {\n",
       "                var nbb_cell_id = 35;\n",
       "                var nbb_unformatted_code = \"artist_rep_rf.fit(\\n    artist_rep_train_df[[\\\"Base Shipping Price\\\", \\\"Price Of Sculpture\\\"]],\\n    artist_rep_train_df[[\\\"Artist Reputation\\\"]],\\n)\";\n",
       "                var nbb_formatted_code = \"artist_rep_rf.fit(\\n    artist_rep_train_df[[\\\"Base Shipping Price\\\", \\\"Price Of Sculpture\\\"]],\\n    artist_rep_train_df[[\\\"Artist Reputation\\\"]],\\n)\";\n",
       "                var nbb_cells = Jupyter.notebook.get_cells();\n",
       "                for (var i = 0; i < nbb_cells.length; ++i) {\n",
       "                    if (nbb_cells[i].input_prompt_number == nbb_cell_id) {\n",
       "                        if (nbb_cells[i].get_text() == nbb_unformatted_code) {\n",
       "                             nbb_cells[i].set_text(nbb_formatted_code);\n",
       "                        }\n",
       "                        break;\n",
       "                    }\n",
       "                }\n",
       "            }, 500);\n",
       "            "
      ],
      "text/plain": [
       "<IPython.core.display.Javascript object>"
      ]
     },
     "metadata": {},
     "output_type": "display_data"
    }
   ],
   "source": [
    "artist_rep_rf.fit(\n",
    "    artist_rep_train_df[[\"Base Shipping Price\", \"Price Of Sculpture\"]],\n",
    "    artist_rep_train_df[[\"Artist Reputation\"]],\n",
    ")"
   ]
  },
  {
   "cell_type": "code",
   "execution_count": 36,
   "id": "blocked-birthday",
   "metadata": {},
   "outputs": [
    {
     "data": {
      "application/javascript": [
       "\n",
       "            setTimeout(function() {\n",
       "                var nbb_cell_id = 36;\n",
       "                var nbb_unformatted_code = \"train_df.loc[\\n    train_df[\\\"Artist Reputation\\\"].isna(),\\n    [\\\"Artist Reputation\\\"],\\n] = artist_rep_rf.predict(\\n    train_df.loc[\\n        train_df[\\\"Artist Reputation\\\"].isna(),\\n        [\\\"Price Of Sculpture\\\", \\\"Base Shipping Price\\\"],\\n    ]\\n)\";\n",
       "                var nbb_formatted_code = \"train_df.loc[\\n    train_df[\\\"Artist Reputation\\\"].isna(),\\n    [\\\"Artist Reputation\\\"],\\n] = artist_rep_rf.predict(\\n    train_df.loc[\\n        train_df[\\\"Artist Reputation\\\"].isna(),\\n        [\\\"Price Of Sculpture\\\", \\\"Base Shipping Price\\\"],\\n    ]\\n)\";\n",
       "                var nbb_cells = Jupyter.notebook.get_cells();\n",
       "                for (var i = 0; i < nbb_cells.length; ++i) {\n",
       "                    if (nbb_cells[i].input_prompt_number == nbb_cell_id) {\n",
       "                        if (nbb_cells[i].get_text() == nbb_unformatted_code) {\n",
       "                             nbb_cells[i].set_text(nbb_formatted_code);\n",
       "                        }\n",
       "                        break;\n",
       "                    }\n",
       "                }\n",
       "            }, 500);\n",
       "            "
      ],
      "text/plain": [
       "<IPython.core.display.Javascript object>"
      ]
     },
     "metadata": {},
     "output_type": "display_data"
    }
   ],
   "source": [
    "train_df.loc[\n",
    "    train_df[\"Artist Reputation\"].isna(),\n",
    "    [\"Artist Reputation\"],\n",
    "] = artist_rep_rf.predict(\n",
    "    train_df.loc[\n",
    "        train_df[\"Artist Reputation\"].isna(),\n",
    "        [\"Price Of Sculpture\", \"Base Shipping Price\"],\n",
    "    ]\n",
    ")"
   ]
  },
  {
   "cell_type": "code",
   "execution_count": 37,
   "id": "stone-peter",
   "metadata": {},
   "outputs": [
    {
     "data": {
      "text/html": [
       "<div>\n",
       "<style scoped>\n",
       "    .dataframe tbody tr th:only-of-type {\n",
       "        vertical-align: middle;\n",
       "    }\n",
       "\n",
       "    .dataframe tbody tr th {\n",
       "        vertical-align: top;\n",
       "    }\n",
       "\n",
       "    .dataframe thead th {\n",
       "        text-align: right;\n",
       "    }\n",
       "</style>\n",
       "<table border=\"1\" class=\"dataframe\">\n",
       "  <thead>\n",
       "    <tr style=\"text-align: right;\">\n",
       "      <th></th>\n",
       "      <th>Price Of Sculpture</th>\n",
       "      <th>Base Shipping Price</th>\n",
       "      <th>Artist Reputation</th>\n",
       "    </tr>\n",
       "  </thead>\n",
       "  <tbody>\n",
       "    <tr>\n",
       "      <th>4545</th>\n",
       "      <td>6.65</td>\n",
       "      <td>21.59</td>\n",
       "      <td>0.12</td>\n",
       "    </tr>\n",
       "    <tr>\n",
       "      <th>1692</th>\n",
       "      <td>5.90</td>\n",
       "      <td>23.21</td>\n",
       "      <td>0.61</td>\n",
       "    </tr>\n",
       "    <tr>\n",
       "      <th>2583</th>\n",
       "      <td>6.16</td>\n",
       "      <td>18.56</td>\n",
       "      <td>0.61</td>\n",
       "    </tr>\n",
       "    <tr>\n",
       "      <th>1094</th>\n",
       "      <td>4.26</td>\n",
       "      <td>19.61</td>\n",
       "      <td>0.05</td>\n",
       "    </tr>\n",
       "    <tr>\n",
       "      <th>3008</th>\n",
       "      <td>6.55</td>\n",
       "      <td>20.03</td>\n",
       "      <td>0.62</td>\n",
       "    </tr>\n",
       "  </tbody>\n",
       "</table>\n",
       "</div>"
      ],
      "text/plain": [
       "      Price Of Sculpture  Base Shipping Price  Artist Reputation\n",
       "4545                6.65                21.59               0.12\n",
       "1692                5.90                23.21               0.61\n",
       "2583                6.16                18.56               0.61\n",
       "1094                4.26                19.61               0.05\n",
       "3008                6.55                20.03               0.62"
      ]
     },
     "execution_count": 37,
     "metadata": {},
     "output_type": "execute_result"
    },
    {
     "data": {
      "application/javascript": [
       "\n",
       "            setTimeout(function() {\n",
       "                var nbb_cell_id = 37;\n",
       "                var nbb_unformatted_code = \"train_df[[\\\"Price Of Sculpture\\\", \\\"Base Shipping Price\\\", \\\"Artist Reputation\\\"]].sample(5)\";\n",
       "                var nbb_formatted_code = \"train_df[[\\\"Price Of Sculpture\\\", \\\"Base Shipping Price\\\", \\\"Artist Reputation\\\"]].sample(5)\";\n",
       "                var nbb_cells = Jupyter.notebook.get_cells();\n",
       "                for (var i = 0; i < nbb_cells.length; ++i) {\n",
       "                    if (nbb_cells[i].input_prompt_number == nbb_cell_id) {\n",
       "                        if (nbb_cells[i].get_text() == nbb_unformatted_code) {\n",
       "                             nbb_cells[i].set_text(nbb_formatted_code);\n",
       "                        }\n",
       "                        break;\n",
       "                    }\n",
       "                }\n",
       "            }, 500);\n",
       "            "
      ],
      "text/plain": [
       "<IPython.core.display.Javascript object>"
      ]
     },
     "metadata": {},
     "output_type": "display_data"
    }
   ],
   "source": [
    "train_df[[\"Price Of Sculpture\", \"Base Shipping Price\", \"Artist Reputation\"]].sample(5)"
   ]
  },
  {
   "cell_type": "code",
   "execution_count": 38,
   "id": "contrary-event",
   "metadata": {},
   "outputs": [
    {
     "data": {
      "application/javascript": [
       "\n",
       "            setTimeout(function() {\n",
       "                var nbb_cell_id = 38;\n",
       "                var nbb_unformatted_code = \"test_df.loc[\\n    test_df[\\\"Artist Reputation\\\"].isna(),\\n    [\\\"Artist Reputation\\\"],\\n] = artist_rep_rf.predict(\\n    test_df.loc[\\n        test_df[\\\"Artist Reputation\\\"].isna(),\\n        [\\\"Price Of Sculpture\\\", \\\"Base Shipping Price\\\"],\\n    ]\\n)\";\n",
       "                var nbb_formatted_code = \"test_df.loc[\\n    test_df[\\\"Artist Reputation\\\"].isna(),\\n    [\\\"Artist Reputation\\\"],\\n] = artist_rep_rf.predict(\\n    test_df.loc[\\n        test_df[\\\"Artist Reputation\\\"].isna(),\\n        [\\\"Price Of Sculpture\\\", \\\"Base Shipping Price\\\"],\\n    ]\\n)\";\n",
       "                var nbb_cells = Jupyter.notebook.get_cells();\n",
       "                for (var i = 0; i < nbb_cells.length; ++i) {\n",
       "                    if (nbb_cells[i].input_prompt_number == nbb_cell_id) {\n",
       "                        if (nbb_cells[i].get_text() == nbb_unformatted_code) {\n",
       "                             nbb_cells[i].set_text(nbb_formatted_code);\n",
       "                        }\n",
       "                        break;\n",
       "                    }\n",
       "                }\n",
       "            }, 500);\n",
       "            "
      ],
      "text/plain": [
       "<IPython.core.display.Javascript object>"
      ]
     },
     "metadata": {},
     "output_type": "display_data"
    }
   ],
   "source": [
    "test_df.loc[\n",
    "    test_df[\"Artist Reputation\"].isna(),\n",
    "    [\"Artist Reputation\"],\n",
    "] = artist_rep_rf.predict(\n",
    "    test_df.loc[\n",
    "        test_df[\"Artist Reputation\"].isna(),\n",
    "        [\"Price Of Sculpture\", \"Base Shipping Price\"],\n",
    "    ]\n",
    ")"
   ]
  },
  {
   "cell_type": "code",
   "execution_count": 39,
   "id": "patent-ceramic",
   "metadata": {},
   "outputs": [
    {
     "data": {
      "text/html": [
       "<div>\n",
       "<style scoped>\n",
       "    .dataframe tbody tr th:only-of-type {\n",
       "        vertical-align: middle;\n",
       "    }\n",
       "\n",
       "    .dataframe tbody tr th {\n",
       "        vertical-align: top;\n",
       "    }\n",
       "\n",
       "    .dataframe thead th {\n",
       "        text-align: right;\n",
       "    }\n",
       "</style>\n",
       "<table border=\"1\" class=\"dataframe\">\n",
       "  <thead>\n",
       "    <tr style=\"text-align: right;\">\n",
       "      <th></th>\n",
       "      <th>Price Of Sculpture</th>\n",
       "      <th>Base Shipping Price</th>\n",
       "      <th>Artist Reputation</th>\n",
       "    </tr>\n",
       "  </thead>\n",
       "  <tbody>\n",
       "    <tr>\n",
       "      <th>551</th>\n",
       "      <td>6.44</td>\n",
       "      <td>17.55</td>\n",
       "      <td>0.723074</td>\n",
       "    </tr>\n",
       "    <tr>\n",
       "      <th>632</th>\n",
       "      <td>44.81</td>\n",
       "      <td>92.27</td>\n",
       "      <td>0.090000</td>\n",
       "    </tr>\n",
       "    <tr>\n",
       "      <th>1448</th>\n",
       "      <td>252.43</td>\n",
       "      <td>87.12</td>\n",
       "      <td>0.990000</td>\n",
       "    </tr>\n",
       "    <tr>\n",
       "      <th>72</th>\n",
       "      <td>17.29</td>\n",
       "      <td>22.59</td>\n",
       "      <td>0.670000</td>\n",
       "    </tr>\n",
       "    <tr>\n",
       "      <th>2675</th>\n",
       "      <td>4.65</td>\n",
       "      <td>23.49</td>\n",
       "      <td>0.930000</td>\n",
       "    </tr>\n",
       "  </tbody>\n",
       "</table>\n",
       "</div>"
      ],
      "text/plain": [
       "      Price Of Sculpture  Base Shipping Price  Artist Reputation\n",
       "551                 6.44                17.55           0.723074\n",
       "632                44.81                92.27           0.090000\n",
       "1448              252.43                87.12           0.990000\n",
       "72                 17.29                22.59           0.670000\n",
       "2675                4.65                23.49           0.930000"
      ]
     },
     "execution_count": 39,
     "metadata": {},
     "output_type": "execute_result"
    },
    {
     "data": {
      "application/javascript": [
       "\n",
       "            setTimeout(function() {\n",
       "                var nbb_cell_id = 39;\n",
       "                var nbb_unformatted_code = \"test_df[[\\\"Price Of Sculpture\\\", \\\"Base Shipping Price\\\", \\\"Artist Reputation\\\"]].sample(5)\";\n",
       "                var nbb_formatted_code = \"test_df[[\\\"Price Of Sculpture\\\", \\\"Base Shipping Price\\\", \\\"Artist Reputation\\\"]].sample(5)\";\n",
       "                var nbb_cells = Jupyter.notebook.get_cells();\n",
       "                for (var i = 0; i < nbb_cells.length; ++i) {\n",
       "                    if (nbb_cells[i].input_prompt_number == nbb_cell_id) {\n",
       "                        if (nbb_cells[i].get_text() == nbb_unformatted_code) {\n",
       "                             nbb_cells[i].set_text(nbb_formatted_code);\n",
       "                        }\n",
       "                        break;\n",
       "                    }\n",
       "                }\n",
       "            }, 500);\n",
       "            "
      ],
      "text/plain": [
       "<IPython.core.display.Javascript object>"
      ]
     },
     "metadata": {},
     "output_type": "display_data"
    }
   ],
   "source": [
    "test_df[[\"Price Of Sculpture\", \"Base Shipping Price\", \"Artist Reputation\"]].sample(5)"
   ]
  },
  {
   "cell_type": "markdown",
   "id": "nuclear-extent",
   "metadata": {},
   "source": [
    "### `Transport`"
   ]
  },
  {
   "cell_type": "code",
   "execution_count": 40,
   "id": "hungarian-transport",
   "metadata": {},
   "outputs": [
    {
     "data": {
      "text/plain": [
       "array(['Airways', 'Roadways', nan, 'Waterways'], dtype=object)"
      ]
     },
     "execution_count": 40,
     "metadata": {},
     "output_type": "execute_result"
    },
    {
     "data": {
      "application/javascript": [
       "\n",
       "            setTimeout(function() {\n",
       "                var nbb_cell_id = 40;\n",
       "                var nbb_unformatted_code = \"train_df[\\\"Transport\\\"].unique()\";\n",
       "                var nbb_formatted_code = \"train_df[\\\"Transport\\\"].unique()\";\n",
       "                var nbb_cells = Jupyter.notebook.get_cells();\n",
       "                for (var i = 0; i < nbb_cells.length; ++i) {\n",
       "                    if (nbb_cells[i].input_prompt_number == nbb_cell_id) {\n",
       "                        if (nbb_cells[i].get_text() == nbb_unformatted_code) {\n",
       "                             nbb_cells[i].set_text(nbb_formatted_code);\n",
       "                        }\n",
       "                        break;\n",
       "                    }\n",
       "                }\n",
       "            }, 500);\n",
       "            "
      ],
      "text/plain": [
       "<IPython.core.display.Javascript object>"
      ]
     },
     "metadata": {},
     "output_type": "display_data"
    }
   ],
   "source": [
    "train_df[\"Transport\"].unique()"
   ]
  },
  {
   "cell_type": "markdown",
   "id": "accredited-weekly",
   "metadata": {},
   "source": [
    "The type of transport used can be a factor of the following variables:\n",
    "* `International`\n",
    "* `Express Shipment`\n",
    "* `Remote Location`\n",
    "\n",
    "A Random Forest Classifier can be used here."
   ]
  },
  {
   "cell_type": "code",
   "execution_count": 41,
   "id": "placed-repair",
   "metadata": {},
   "outputs": [
    {
     "data": {
      "text/html": [
       "<div>\n",
       "<style scoped>\n",
       "    .dataframe tbody tr th:only-of-type {\n",
       "        vertical-align: middle;\n",
       "    }\n",
       "\n",
       "    .dataframe tbody tr th {\n",
       "        vertical-align: top;\n",
       "    }\n",
       "\n",
       "    .dataframe thead th {\n",
       "        text-align: right;\n",
       "    }\n",
       "</style>\n",
       "<table border=\"1\" class=\"dataframe\">\n",
       "  <thead>\n",
       "    <tr style=\"text-align: right;\">\n",
       "      <th></th>\n",
       "      <th>International</th>\n",
       "      <th>Express Shipment</th>\n",
       "      <th>Remote Location</th>\n",
       "      <th>Transport</th>\n",
       "    </tr>\n",
       "  </thead>\n",
       "  <tbody>\n",
       "    <tr>\n",
       "      <th>0</th>\n",
       "      <td>Yes</td>\n",
       "      <td>Yes</td>\n",
       "      <td>No</td>\n",
       "      <td>Airways</td>\n",
       "    </tr>\n",
       "    <tr>\n",
       "      <th>1</th>\n",
       "      <td>No</td>\n",
       "      <td>No</td>\n",
       "      <td>No</td>\n",
       "      <td>Roadways</td>\n",
       "    </tr>\n",
       "    <tr>\n",
       "      <th>2</th>\n",
       "      <td>No</td>\n",
       "      <td>No</td>\n",
       "      <td>Yes</td>\n",
       "      <td>Roadways</td>\n",
       "    </tr>\n",
       "    <tr>\n",
       "      <th>3</th>\n",
       "      <td>No</td>\n",
       "      <td>No</td>\n",
       "      <td>Yes</td>\n",
       "      <td>NaN</td>\n",
       "    </tr>\n",
       "    <tr>\n",
       "      <th>4</th>\n",
       "      <td>Yes</td>\n",
       "      <td>Yes</td>\n",
       "      <td>No</td>\n",
       "      <td>Airways</td>\n",
       "    </tr>\n",
       "  </tbody>\n",
       "</table>\n",
       "</div>"
      ],
      "text/plain": [
       "  International Express Shipment Remote Location Transport\n",
       "0           Yes              Yes              No   Airways\n",
       "1            No               No              No  Roadways\n",
       "2            No               No             Yes  Roadways\n",
       "3            No               No             Yes       NaN\n",
       "4           Yes              Yes              No   Airways"
      ]
     },
     "execution_count": 41,
     "metadata": {},
     "output_type": "execute_result"
    },
    {
     "data": {
      "application/javascript": [
       "\n",
       "            setTimeout(function() {\n",
       "                var nbb_cell_id = 41;\n",
       "                var nbb_unformatted_code = \"train_df[[\\\"International\\\", \\\"Express Shipment\\\", \\\"Remote Location\\\", \\\"Transport\\\"]].head()\";\n",
       "                var nbb_formatted_code = \"train_df[[\\\"International\\\", \\\"Express Shipment\\\", \\\"Remote Location\\\", \\\"Transport\\\"]].head()\";\n",
       "                var nbb_cells = Jupyter.notebook.get_cells();\n",
       "                for (var i = 0; i < nbb_cells.length; ++i) {\n",
       "                    if (nbb_cells[i].input_prompt_number == nbb_cell_id) {\n",
       "                        if (nbb_cells[i].get_text() == nbb_unformatted_code) {\n",
       "                             nbb_cells[i].set_text(nbb_formatted_code);\n",
       "                        }\n",
       "                        break;\n",
       "                    }\n",
       "                }\n",
       "            }, 500);\n",
       "            "
      ],
      "text/plain": [
       "<IPython.core.display.Javascript object>"
      ]
     },
     "metadata": {},
     "output_type": "display_data"
    }
   ],
   "source": [
    "train_df[[\"International\", \"Express Shipment\", \"Remote Location\", \"Transport\"]].head()"
   ]
  },
  {
   "cell_type": "code",
   "execution_count": 42,
   "id": "suburban-disney",
   "metadata": {},
   "outputs": [
    {
     "data": {
      "application/javascript": [
       "\n",
       "            setTimeout(function() {\n",
       "                var nbb_cell_id = 42;\n",
       "                var nbb_unformatted_code = \"transport_train_df = train_df.loc[\\n    ~train_df[\\\"Transport\\\"].isna(),\\n    [\\\"International\\\", \\\"Express Shipment\\\", \\\"Remote Location\\\", \\\"Transport\\\"],\\n]\";\n",
       "                var nbb_formatted_code = \"transport_train_df = train_df.loc[\\n    ~train_df[\\\"Transport\\\"].isna(),\\n    [\\\"International\\\", \\\"Express Shipment\\\", \\\"Remote Location\\\", \\\"Transport\\\"],\\n]\";\n",
       "                var nbb_cells = Jupyter.notebook.get_cells();\n",
       "                for (var i = 0; i < nbb_cells.length; ++i) {\n",
       "                    if (nbb_cells[i].input_prompt_number == nbb_cell_id) {\n",
       "                        if (nbb_cells[i].get_text() == nbb_unformatted_code) {\n",
       "                             nbb_cells[i].set_text(nbb_formatted_code);\n",
       "                        }\n",
       "                        break;\n",
       "                    }\n",
       "                }\n",
       "            }, 500);\n",
       "            "
      ],
      "text/plain": [
       "<IPython.core.display.Javascript object>"
      ]
     },
     "metadata": {},
     "output_type": "display_data"
    }
   ],
   "source": [
    "transport_train_df = train_df.loc[\n",
    "    ~train_df[\"Transport\"].isna(),\n",
    "    [\"International\", \"Express Shipment\", \"Remote Location\", \"Transport\"],\n",
    "]"
   ]
  },
  {
   "cell_type": "code",
   "execution_count": 43,
   "id": "forward-basket",
   "metadata": {},
   "outputs": [
    {
     "data": {
      "application/javascript": [
       "\n",
       "            setTimeout(function() {\n",
       "                var nbb_cell_id = 43;\n",
       "                var nbb_unformatted_code = \"(\\n    transport_X_train,\\n    transport_X_val,\\n    transport_y_train,\\n    transport_y_val,\\n) = train_test_split(\\n    transport_train_df.drop([\\\"Transport\\\"], axis=1),\\n    transport_train_df[[\\\"Transport\\\"]],\\n    test_size=0.40,\\n    random_state=42,\\n)\";\n",
       "                var nbb_formatted_code = \"(\\n    transport_X_train,\\n    transport_X_val,\\n    transport_y_train,\\n    transport_y_val,\\n) = train_test_split(\\n    transport_train_df.drop([\\\"Transport\\\"], axis=1),\\n    transport_train_df[[\\\"Transport\\\"]],\\n    test_size=0.40,\\n    random_state=42,\\n)\";\n",
       "                var nbb_cells = Jupyter.notebook.get_cells();\n",
       "                for (var i = 0; i < nbb_cells.length; ++i) {\n",
       "                    if (nbb_cells[i].input_prompt_number == nbb_cell_id) {\n",
       "                        if (nbb_cells[i].get_text() == nbb_unformatted_code) {\n",
       "                             nbb_cells[i].set_text(nbb_formatted_code);\n",
       "                        }\n",
       "                        break;\n",
       "                    }\n",
       "                }\n",
       "            }, 500);\n",
       "            "
      ],
      "text/plain": [
       "<IPython.core.display.Javascript object>"
      ]
     },
     "metadata": {},
     "output_type": "display_data"
    }
   ],
   "source": [
    "(\n",
    "    transport_X_train,\n",
    "    transport_X_val,\n",
    "    transport_y_train,\n",
    "    transport_y_val,\n",
    ") = train_test_split(\n",
    "    transport_train_df.drop([\"Transport\"], axis=1),\n",
    "    transport_train_df[[\"Transport\"]],\n",
    "    test_size=0.40,\n",
    "    random_state=42,\n",
    ")"
   ]
  },
  {
   "cell_type": "code",
   "execution_count": 44,
   "id": "rapid-content",
   "metadata": {},
   "outputs": [
    {
     "data": {
      "application/javascript": [
       "\n",
       "            setTimeout(function() {\n",
       "                var nbb_cell_id = 44;\n",
       "                var nbb_unformatted_code = \"transport_X_train = pd.get_dummies(transport_X_train)\\ntransport_X_val = pd.get_dummies(transport_X_val)\";\n",
       "                var nbb_formatted_code = \"transport_X_train = pd.get_dummies(transport_X_train)\\ntransport_X_val = pd.get_dummies(transport_X_val)\";\n",
       "                var nbb_cells = Jupyter.notebook.get_cells();\n",
       "                for (var i = 0; i < nbb_cells.length; ++i) {\n",
       "                    if (nbb_cells[i].input_prompt_number == nbb_cell_id) {\n",
       "                        if (nbb_cells[i].get_text() == nbb_unformatted_code) {\n",
       "                             nbb_cells[i].set_text(nbb_formatted_code);\n",
       "                        }\n",
       "                        break;\n",
       "                    }\n",
       "                }\n",
       "            }, 500);\n",
       "            "
      ],
      "text/plain": [
       "<IPython.core.display.Javascript object>"
      ]
     },
     "metadata": {},
     "output_type": "display_data"
    }
   ],
   "source": [
    "transport_X_train = pd.get_dummies(transport_X_train)\n",
    "transport_X_val = pd.get_dummies(transport_X_val)"
   ]
  },
  {
   "cell_type": "code",
   "execution_count": 45,
   "id": "virtual-realtor",
   "metadata": {},
   "outputs": [
    {
     "data": {
      "application/javascript": [
       "\n",
       "            setTimeout(function() {\n",
       "                var nbb_cell_id = 45;\n",
       "                var nbb_unformatted_code = \"n_estimators = [int(x) for x in np.linspace(start=200, stop=2000, num=10)]\\ncriterion = [\\\"gini\\\", \\\"entropy\\\"]\\nmax_features = [\\\"auto\\\", \\\"sqrt\\\"]\\nmax_depth = [int(x) for x in np.linspace(10, 110, num=11)]\\nmax_depth.append(None)\\nmin_samples_split = [2, 5, 10]\\nmin_samples_leaf = [1, 2, 4]\\nbootstrap = [True, False]\\n\\n# Create the random grid\\nrandom_grid = {\\n    \\\"n_estimators\\\": n_estimators,\\n    \\\"criterion\\\": criterion,\\n    \\\"max_features\\\": max_features,\\n    \\\"max_depth\\\": max_depth,\\n    \\\"min_samples_split\\\": min_samples_split,\\n    \\\"min_samples_leaf\\\": min_samples_leaf,\\n    \\\"bootstrap\\\": bootstrap,\\n}\";\n",
       "                var nbb_formatted_code = \"n_estimators = [int(x) for x in np.linspace(start=200, stop=2000, num=10)]\\ncriterion = [\\\"gini\\\", \\\"entropy\\\"]\\nmax_features = [\\\"auto\\\", \\\"sqrt\\\"]\\nmax_depth = [int(x) for x in np.linspace(10, 110, num=11)]\\nmax_depth.append(None)\\nmin_samples_split = [2, 5, 10]\\nmin_samples_leaf = [1, 2, 4]\\nbootstrap = [True, False]\\n\\n# Create the random grid\\nrandom_grid = {\\n    \\\"n_estimators\\\": n_estimators,\\n    \\\"criterion\\\": criterion,\\n    \\\"max_features\\\": max_features,\\n    \\\"max_depth\\\": max_depth,\\n    \\\"min_samples_split\\\": min_samples_split,\\n    \\\"min_samples_leaf\\\": min_samples_leaf,\\n    \\\"bootstrap\\\": bootstrap,\\n}\";\n",
       "                var nbb_cells = Jupyter.notebook.get_cells();\n",
       "                for (var i = 0; i < nbb_cells.length; ++i) {\n",
       "                    if (nbb_cells[i].input_prompt_number == nbb_cell_id) {\n",
       "                        if (nbb_cells[i].get_text() == nbb_unformatted_code) {\n",
       "                             nbb_cells[i].set_text(nbb_formatted_code);\n",
       "                        }\n",
       "                        break;\n",
       "                    }\n",
       "                }\n",
       "            }, 500);\n",
       "            "
      ],
      "text/plain": [
       "<IPython.core.display.Javascript object>"
      ]
     },
     "metadata": {},
     "output_type": "display_data"
    }
   ],
   "source": [
    "n_estimators = [int(x) for x in np.linspace(start=200, stop=2000, num=10)]\n",
    "criterion = [\"gini\", \"entropy\"]\n",
    "max_features = [\"auto\", \"sqrt\"]\n",
    "max_depth = [int(x) for x in np.linspace(10, 110, num=11)]\n",
    "max_depth.append(None)\n",
    "min_samples_split = [2, 5, 10]\n",
    "min_samples_leaf = [1, 2, 4]\n",
    "bootstrap = [True, False]\n",
    "\n",
    "# Create the random grid\n",
    "random_grid = {\n",
    "    \"n_estimators\": n_estimators,\n",
    "    \"criterion\": criterion,\n",
    "    \"max_features\": max_features,\n",
    "    \"max_depth\": max_depth,\n",
    "    \"min_samples_split\": min_samples_split,\n",
    "    \"min_samples_leaf\": min_samples_leaf,\n",
    "    \"bootstrap\": bootstrap,\n",
    "}"
   ]
  },
  {
   "cell_type": "code",
   "execution_count": 46,
   "id": "valued-privilege",
   "metadata": {},
   "outputs": [
    {
     "data": {
      "application/javascript": [
       "\n",
       "            setTimeout(function() {\n",
       "                var nbb_cell_id = 46;\n",
       "                var nbb_unformatted_code = \"transport_rf_clf = RandomForestClassifier()\";\n",
       "                var nbb_formatted_code = \"transport_rf_clf = RandomForestClassifier()\";\n",
       "                var nbb_cells = Jupyter.notebook.get_cells();\n",
       "                for (var i = 0; i < nbb_cells.length; ++i) {\n",
       "                    if (nbb_cells[i].input_prompt_number == nbb_cell_id) {\n",
       "                        if (nbb_cells[i].get_text() == nbb_unformatted_code) {\n",
       "                             nbb_cells[i].set_text(nbb_formatted_code);\n",
       "                        }\n",
       "                        break;\n",
       "                    }\n",
       "                }\n",
       "            }, 500);\n",
       "            "
      ],
      "text/plain": [
       "<IPython.core.display.Javascript object>"
      ]
     },
     "metadata": {},
     "output_type": "display_data"
    }
   ],
   "source": [
    "transport_rf_clf = RandomForestClassifier()"
   ]
  },
  {
   "cell_type": "code",
   "execution_count": 47,
   "id": "stretch-andrews",
   "metadata": {},
   "outputs": [
    {
     "data": {
      "application/javascript": [
       "\n",
       "            setTimeout(function() {\n",
       "                var nbb_cell_id = 47;\n",
       "                var nbb_unformatted_code = \"rf_random = RandomizedSearchCV(\\n    estimator=transport_rf_clf,\\n    param_distributions=random_grid,\\n    n_iter=100,\\n    cv=3,\\n    verbose=2,\\n    random_state=42,\\n    n_jobs=-1,\\n)\";\n",
       "                var nbb_formatted_code = \"rf_random = RandomizedSearchCV(\\n    estimator=transport_rf_clf,\\n    param_distributions=random_grid,\\n    n_iter=100,\\n    cv=3,\\n    verbose=2,\\n    random_state=42,\\n    n_jobs=-1,\\n)\";\n",
       "                var nbb_cells = Jupyter.notebook.get_cells();\n",
       "                for (var i = 0; i < nbb_cells.length; ++i) {\n",
       "                    if (nbb_cells[i].input_prompt_number == nbb_cell_id) {\n",
       "                        if (nbb_cells[i].get_text() == nbb_unformatted_code) {\n",
       "                             nbb_cells[i].set_text(nbb_formatted_code);\n",
       "                        }\n",
       "                        break;\n",
       "                    }\n",
       "                }\n",
       "            }, 500);\n",
       "            "
      ],
      "text/plain": [
       "<IPython.core.display.Javascript object>"
      ]
     },
     "metadata": {},
     "output_type": "display_data"
    }
   ],
   "source": [
    "rf_random = RandomizedSearchCV(\n",
    "    estimator=transport_rf_clf,\n",
    "    param_distributions=random_grid,\n",
    "    n_iter=100,\n",
    "    cv=3,\n",
    "    verbose=2,\n",
    "    random_state=42,\n",
    "    n_jobs=-1,\n",
    ")"
   ]
  },
  {
   "cell_type": "code",
   "execution_count": 48,
   "id": "understood-amount",
   "metadata": {},
   "outputs": [
    {
     "data": {
      "application/javascript": [
       "\n",
       "            setTimeout(function() {\n",
       "                var nbb_cell_id = 48;\n",
       "                var nbb_unformatted_code = \"if TUNING:\\n    rf_random.fit(\\n        transport_X_train,\\n        transport_y_train,\\n    )\";\n",
       "                var nbb_formatted_code = \"if TUNING:\\n    rf_random.fit(\\n        transport_X_train,\\n        transport_y_train,\\n    )\";\n",
       "                var nbb_cells = Jupyter.notebook.get_cells();\n",
       "                for (var i = 0; i < nbb_cells.length; ++i) {\n",
       "                    if (nbb_cells[i].input_prompt_number == nbb_cell_id) {\n",
       "                        if (nbb_cells[i].get_text() == nbb_unformatted_code) {\n",
       "                             nbb_cells[i].set_text(nbb_formatted_code);\n",
       "                        }\n",
       "                        break;\n",
       "                    }\n",
       "                }\n",
       "            }, 500);\n",
       "            "
      ],
      "text/plain": [
       "<IPython.core.display.Javascript object>"
      ]
     },
     "metadata": {},
     "output_type": "display_data"
    }
   ],
   "source": [
    "if TUNING:\n",
    "    rf_random.fit(\n",
    "        transport_X_train,\n",
    "        transport_y_train,\n",
    "    )"
   ]
  },
  {
   "cell_type": "code",
   "execution_count": 49,
   "id": "modified-edward",
   "metadata": {},
   "outputs": [
    {
     "data": {
      "application/javascript": [
       "\n",
       "            setTimeout(function() {\n",
       "                var nbb_cell_id = 49;\n",
       "                var nbb_unformatted_code = \"if TUNING:\\n    print(rf_random.best_params_)\";\n",
       "                var nbb_formatted_code = \"if TUNING:\\n    print(rf_random.best_params_)\";\n",
       "                var nbb_cells = Jupyter.notebook.get_cells();\n",
       "                for (var i = 0; i < nbb_cells.length; ++i) {\n",
       "                    if (nbb_cells[i].input_prompt_number == nbb_cell_id) {\n",
       "                        if (nbb_cells[i].get_text() == nbb_unformatted_code) {\n",
       "                             nbb_cells[i].set_text(nbb_formatted_code);\n",
       "                        }\n",
       "                        break;\n",
       "                    }\n",
       "                }\n",
       "            }, 500);\n",
       "            "
      ],
      "text/plain": [
       "<IPython.core.display.Javascript object>"
      ]
     },
     "metadata": {},
     "output_type": "display_data"
    }
   ],
   "source": [
    "if TUNING:\n",
    "    print(rf_random.best_params_)"
   ]
  },
  {
   "cell_type": "markdown",
   "id": "acoustic-granny",
   "metadata": {},
   "source": [
    "The best params using randomized search are:\n",
    "\n",
    "```json\n",
    "{\n",
    "    \"n_estimators\": 1200,\n",
    "    \"min_samples_split\": 10,\n",
    "    \"min_samples_leaf\": 2,\n",
    "    \"max_features\": \"sqrt\",\n",
    "    \"max_depth\": 20,\n",
    "    \"criterion\": \"entropy\",\n",
    "    \"bootstrap\": False,\n",
    "}\n",
    "```"
   ]
  },
  {
   "cell_type": "code",
   "execution_count": 50,
   "id": "stopped-character",
   "metadata": {},
   "outputs": [
    {
     "data": {
      "application/javascript": [
       "\n",
       "            setTimeout(function() {\n",
       "                var nbb_cell_id = 50;\n",
       "                var nbb_unformatted_code = \"if TUNING:\\n    base_model = RandomForestClassifier(n_estimators=10, random_state=42)\\n    base_model.fit(transport_X_train, transport_y_train)\\n    transport_y_pred = base_model.predict(transport_X_val)\\n    print(f1_score(transport_y_val, transport_y_pred, average=\\\"weighted\\\"))\";\n",
       "                var nbb_formatted_code = \"if TUNING:\\n    base_model = RandomForestClassifier(n_estimators=10, random_state=42)\\n    base_model.fit(transport_X_train, transport_y_train)\\n    transport_y_pred = base_model.predict(transport_X_val)\\n    print(f1_score(transport_y_val, transport_y_pred, average=\\\"weighted\\\"))\";\n",
       "                var nbb_cells = Jupyter.notebook.get_cells();\n",
       "                for (var i = 0; i < nbb_cells.length; ++i) {\n",
       "                    if (nbb_cells[i].input_prompt_number == nbb_cell_id) {\n",
       "                        if (nbb_cells[i].get_text() == nbb_unformatted_code) {\n",
       "                             nbb_cells[i].set_text(nbb_formatted_code);\n",
       "                        }\n",
       "                        break;\n",
       "                    }\n",
       "                }\n",
       "            }, 500);\n",
       "            "
      ],
      "text/plain": [
       "<IPython.core.display.Javascript object>"
      ]
     },
     "metadata": {},
     "output_type": "display_data"
    }
   ],
   "source": [
    "if TUNING:\n",
    "    base_model = RandomForestClassifier(n_estimators=10, random_state=42)\n",
    "    base_model.fit(transport_X_train, transport_y_train)\n",
    "    transport_y_pred = base_model.predict(transport_X_val)\n",
    "    print(f1_score(transport_y_val, transport_y_pred, average=\"weighted\"))"
   ]
  },
  {
   "cell_type": "code",
   "execution_count": 51,
   "id": "corresponding-constant",
   "metadata": {},
   "outputs": [
    {
     "data": {
      "application/javascript": [
       "\n",
       "            setTimeout(function() {\n",
       "                var nbb_cell_id = 51;\n",
       "                var nbb_unformatted_code = \"if TUNING:\\n    best_random = rf_random.best_estimator_\\n    transport_y_pred = best_random.predict(transport_X_val)\\n    print(f1_score(transport_y_val, transport_y_pred, average=\\\"weighted\\\"))\";\n",
       "                var nbb_formatted_code = \"if TUNING:\\n    best_random = rf_random.best_estimator_\\n    transport_y_pred = best_random.predict(transport_X_val)\\n    print(f1_score(transport_y_val, transport_y_pred, average=\\\"weighted\\\"))\";\n",
       "                var nbb_cells = Jupyter.notebook.get_cells();\n",
       "                for (var i = 0; i < nbb_cells.length; ++i) {\n",
       "                    if (nbb_cells[i].input_prompt_number == nbb_cell_id) {\n",
       "                        if (nbb_cells[i].get_text() == nbb_unformatted_code) {\n",
       "                             nbb_cells[i].set_text(nbb_formatted_code);\n",
       "                        }\n",
       "                        break;\n",
       "                    }\n",
       "                }\n",
       "            }, 500);\n",
       "            "
      ],
      "text/plain": [
       "<IPython.core.display.Javascript object>"
      ]
     },
     "metadata": {},
     "output_type": "display_data"
    }
   ],
   "source": [
    "if TUNING:\n",
    "    best_random = rf_random.best_estimator_\n",
    "    transport_y_pred = best_random.predict(transport_X_val)\n",
    "    print(f1_score(transport_y_val, transport_y_pred, average=\"weighted\"))"
   ]
  },
  {
   "cell_type": "markdown",
   "id": "opponent-problem",
   "metadata": {},
   "source": [
    "* The best params don't make a difference to the weighted average f1-score.\n",
    "* Creating Grid search using the params"
   ]
  },
  {
   "cell_type": "code",
   "execution_count": 52,
   "id": "infectious-appearance",
   "metadata": {},
   "outputs": [
    {
     "data": {
      "application/javascript": [
       "\n",
       "            setTimeout(function() {\n",
       "                var nbb_cell_id = 52;\n",
       "                var nbb_unformatted_code = \"param_grid = {\\n    \\\"bootstrap\\\": [False],\\n    \\\"max_depth\\\": [20, 30, 40],\\n    \\\"max_features\\\": [2, 3],\\n    \\\"min_samples_leaf\\\": [2, 3],\\n    \\\"min_samples_split\\\": [9, 10, 11],\\n    \\\"n_estimators\\\": [1200, 1350, 1400],\\n}\";\n",
       "                var nbb_formatted_code = \"param_grid = {\\n    \\\"bootstrap\\\": [False],\\n    \\\"max_depth\\\": [20, 30, 40],\\n    \\\"max_features\\\": [2, 3],\\n    \\\"min_samples_leaf\\\": [2, 3],\\n    \\\"min_samples_split\\\": [9, 10, 11],\\n    \\\"n_estimators\\\": [1200, 1350, 1400],\\n}\";\n",
       "                var nbb_cells = Jupyter.notebook.get_cells();\n",
       "                for (var i = 0; i < nbb_cells.length; ++i) {\n",
       "                    if (nbb_cells[i].input_prompt_number == nbb_cell_id) {\n",
       "                        if (nbb_cells[i].get_text() == nbb_unformatted_code) {\n",
       "                             nbb_cells[i].set_text(nbb_formatted_code);\n",
       "                        }\n",
       "                        break;\n",
       "                    }\n",
       "                }\n",
       "            }, 500);\n",
       "            "
      ],
      "text/plain": [
       "<IPython.core.display.Javascript object>"
      ]
     },
     "metadata": {},
     "output_type": "display_data"
    }
   ],
   "source": [
    "param_grid = {\n",
    "    \"bootstrap\": [False],\n",
    "    \"max_depth\": [20, 30, 40],\n",
    "    \"max_features\": [2, 3],\n",
    "    \"min_samples_leaf\": [2, 3],\n",
    "    \"min_samples_split\": [9, 10, 11],\n",
    "    \"n_estimators\": [1200, 1350, 1400],\n",
    "}"
   ]
  },
  {
   "cell_type": "code",
   "execution_count": 53,
   "id": "organized-victim",
   "metadata": {},
   "outputs": [
    {
     "data": {
      "application/javascript": [
       "\n",
       "            setTimeout(function() {\n",
       "                var nbb_cell_id = 53;\n",
       "                var nbb_unformatted_code = \"# Create a base model\\nrf = RandomForestClassifier()\\n\\n# Instantiate the grid search model\\ngrid_search = GridSearchCV(\\n    estimator=rf, param_grid=param_grid, cv=3, n_jobs=-1, verbose=2\\n)\";\n",
       "                var nbb_formatted_code = \"# Create a base model\\nrf = RandomForestClassifier()\\n\\n# Instantiate the grid search model\\ngrid_search = GridSearchCV(\\n    estimator=rf, param_grid=param_grid, cv=3, n_jobs=-1, verbose=2\\n)\";\n",
       "                var nbb_cells = Jupyter.notebook.get_cells();\n",
       "                for (var i = 0; i < nbb_cells.length; ++i) {\n",
       "                    if (nbb_cells[i].input_prompt_number == nbb_cell_id) {\n",
       "                        if (nbb_cells[i].get_text() == nbb_unformatted_code) {\n",
       "                             nbb_cells[i].set_text(nbb_formatted_code);\n",
       "                        }\n",
       "                        break;\n",
       "                    }\n",
       "                }\n",
       "            }, 500);\n",
       "            "
      ],
      "text/plain": [
       "<IPython.core.display.Javascript object>"
      ]
     },
     "metadata": {},
     "output_type": "display_data"
    }
   ],
   "source": [
    "# Create a base model\n",
    "rf = RandomForestClassifier()\n",
    "\n",
    "# Instantiate the grid search model\n",
    "grid_search = GridSearchCV(\n",
    "    estimator=rf, param_grid=param_grid, cv=3, n_jobs=-1, verbose=2\n",
    ")"
   ]
  },
  {
   "cell_type": "code",
   "execution_count": 54,
   "id": "answering-excitement",
   "metadata": {},
   "outputs": [
    {
     "data": {
      "application/javascript": [
       "\n",
       "            setTimeout(function() {\n",
       "                var nbb_cell_id = 54;\n",
       "                var nbb_unformatted_code = \"if TUNING:\\n    # Fit the grid search to the data\\n    grid_search.fit(transport_X_train, transport_y_train)\";\n",
       "                var nbb_formatted_code = \"if TUNING:\\n    # Fit the grid search to the data\\n    grid_search.fit(transport_X_train, transport_y_train)\";\n",
       "                var nbb_cells = Jupyter.notebook.get_cells();\n",
       "                for (var i = 0; i < nbb_cells.length; ++i) {\n",
       "                    if (nbb_cells[i].input_prompt_number == nbb_cell_id) {\n",
       "                        if (nbb_cells[i].get_text() == nbb_unformatted_code) {\n",
       "                             nbb_cells[i].set_text(nbb_formatted_code);\n",
       "                        }\n",
       "                        break;\n",
       "                    }\n",
       "                }\n",
       "            }, 500);\n",
       "            "
      ],
      "text/plain": [
       "<IPython.core.display.Javascript object>"
      ]
     },
     "metadata": {},
     "output_type": "display_data"
    }
   ],
   "source": [
    "if TUNING:\n",
    "    # Fit the grid search to the data\n",
    "    grid_search.fit(transport_X_train, transport_y_train)"
   ]
  },
  {
   "cell_type": "code",
   "execution_count": 55,
   "id": "union-allah",
   "metadata": {},
   "outputs": [
    {
     "data": {
      "application/javascript": [
       "\n",
       "            setTimeout(function() {\n",
       "                var nbb_cell_id = 55;\n",
       "                var nbb_unformatted_code = \"if TUNING:\\n    print(grid_search.best_params_)\";\n",
       "                var nbb_formatted_code = \"if TUNING:\\n    print(grid_search.best_params_)\";\n",
       "                var nbb_cells = Jupyter.notebook.get_cells();\n",
       "                for (var i = 0; i < nbb_cells.length; ++i) {\n",
       "                    if (nbb_cells[i].input_prompt_number == nbb_cell_id) {\n",
       "                        if (nbb_cells[i].get_text() == nbb_unformatted_code) {\n",
       "                             nbb_cells[i].set_text(nbb_formatted_code);\n",
       "                        }\n",
       "                        break;\n",
       "                    }\n",
       "                }\n",
       "            }, 500);\n",
       "            "
      ],
      "text/plain": [
       "<IPython.core.display.Javascript object>"
      ]
     },
     "metadata": {},
     "output_type": "display_data"
    }
   ],
   "source": [
    "if TUNING:\n",
    "    print(grid_search.best_params_)"
   ]
  },
  {
   "cell_type": "markdown",
   "id": "continuing-miracle",
   "metadata": {},
   "source": [
    "Best params:\n",
    "\n",
    "```python\n",
    "{\n",
    "    \"bootstrap\": False,\n",
    "    \"max_depth\": 20,\n",
    "    \"max_features\": 2,\n",
    "    \"min_samples_leaf\": 2,\n",
    "    \"min_samples_split\": 9,\n",
    "    \"n_estimators\": 1200,\n",
    "}\n",
    "```"
   ]
  },
  {
   "cell_type": "code",
   "execution_count": 56,
   "id": "increased-wilson",
   "metadata": {},
   "outputs": [
    {
     "data": {
      "application/javascript": [
       "\n",
       "            setTimeout(function() {\n",
       "                var nbb_cell_id = 56;\n",
       "                var nbb_unformatted_code = \"if TUNING:\\n    best_grid = grid_search.best_estimator_\\n    transport_y_pred = best_grid.predict(transport_X_val)\\n    print(f1_score(transport_y_val, transport_y_pred, average=\\\"weighted\\\"))\";\n",
       "                var nbb_formatted_code = \"if TUNING:\\n    best_grid = grid_search.best_estimator_\\n    transport_y_pred = best_grid.predict(transport_X_val)\\n    print(f1_score(transport_y_val, transport_y_pred, average=\\\"weighted\\\"))\";\n",
       "                var nbb_cells = Jupyter.notebook.get_cells();\n",
       "                for (var i = 0; i < nbb_cells.length; ++i) {\n",
       "                    if (nbb_cells[i].input_prompt_number == nbb_cell_id) {\n",
       "                        if (nbb_cells[i].get_text() == nbb_unformatted_code) {\n",
       "                             nbb_cells[i].set_text(nbb_formatted_code);\n",
       "                        }\n",
       "                        break;\n",
       "                    }\n",
       "                }\n",
       "            }, 500);\n",
       "            "
      ],
      "text/plain": [
       "<IPython.core.display.Javascript object>"
      ]
     },
     "metadata": {},
     "output_type": "display_data"
    }
   ],
   "source": [
    "if TUNING:\n",
    "    best_grid = grid_search.best_estimator_\n",
    "    transport_y_pred = best_grid.predict(transport_X_val)\n",
    "    print(f1_score(transport_y_val, transport_y_pred, average=\"weighted\"))"
   ]
  },
  {
   "cell_type": "code",
   "execution_count": 57,
   "id": "christian-membrane",
   "metadata": {},
   "outputs": [
    {
     "data": {
      "application/javascript": [
       "\n",
       "            setTimeout(function() {\n",
       "                var nbb_cell_id = 57;\n",
       "                var nbb_unformatted_code = \"transport_rfc = RandomForestClassifier(\\n    **{\\n        \\\"n_estimators\\\": 1200,\\n        \\\"min_samples_split\\\": 9,\\n        \\\"min_samples_leaf\\\": 2,\\n        \\\"max_features\\\": \\\"sqrt\\\",\\n        \\\"max_depth\\\": 20,\\n        \\\"criterion\\\": \\\"entropy\\\",\\n        \\\"bootstrap\\\": False,\\n    }\\n)\";\n",
       "                var nbb_formatted_code = \"transport_rfc = RandomForestClassifier(\\n    **{\\n        \\\"n_estimators\\\": 1200,\\n        \\\"min_samples_split\\\": 9,\\n        \\\"min_samples_leaf\\\": 2,\\n        \\\"max_features\\\": \\\"sqrt\\\",\\n        \\\"max_depth\\\": 20,\\n        \\\"criterion\\\": \\\"entropy\\\",\\n        \\\"bootstrap\\\": False,\\n    }\\n)\";\n",
       "                var nbb_cells = Jupyter.notebook.get_cells();\n",
       "                for (var i = 0; i < nbb_cells.length; ++i) {\n",
       "                    if (nbb_cells[i].input_prompt_number == nbb_cell_id) {\n",
       "                        if (nbb_cells[i].get_text() == nbb_unformatted_code) {\n",
       "                             nbb_cells[i].set_text(nbb_formatted_code);\n",
       "                        }\n",
       "                        break;\n",
       "                    }\n",
       "                }\n",
       "            }, 500);\n",
       "            "
      ],
      "text/plain": [
       "<IPython.core.display.Javascript object>"
      ]
     },
     "metadata": {},
     "output_type": "display_data"
    }
   ],
   "source": [
    "transport_rfc = RandomForestClassifier(\n",
    "    **{\n",
    "        \"n_estimators\": 1200,\n",
    "        \"min_samples_split\": 9,\n",
    "        \"min_samples_leaf\": 2,\n",
    "        \"max_features\": \"sqrt\",\n",
    "        \"max_depth\": 20,\n",
    "        \"criterion\": \"entropy\",\n",
    "        \"bootstrap\": False,\n",
    "    }\n",
    ")"
   ]
  },
  {
   "cell_type": "code",
   "execution_count": 58,
   "id": "revolutionary-rogers",
   "metadata": {},
   "outputs": [
    {
     "name": "stderr",
     "output_type": "stream",
     "text": [
      "<ipython-input-58-bde65f34d0e2>:1: DataConversionWarning: A column-vector y was passed when a 1d array was expected. Please change the shape of y to (n_samples,), for example using ravel().\n",
      "  transport_rfc.fit(\n"
     ]
    },
    {
     "data": {
      "text/plain": [
       "RandomForestClassifier(bootstrap=False, criterion='entropy', max_depth=20,\n",
       "                       max_features='sqrt', min_samples_leaf=2,\n",
       "                       min_samples_split=9, n_estimators=1200)"
      ]
     },
     "execution_count": 58,
     "metadata": {},
     "output_type": "execute_result"
    },
    {
     "data": {
      "application/javascript": [
       "\n",
       "            setTimeout(function() {\n",
       "                var nbb_cell_id = 58;\n",
       "                var nbb_unformatted_code = \"transport_rfc.fit(\\n    pd.get_dummies(\\n        train_df.loc[\\n            ~train_df[\\\"Transport\\\"].isna(),\\n            [\\\"International\\\", \\\"Express Shipment\\\", \\\"Remote Location\\\"],\\n        ]\\n    ),\\n    train_df.loc[\\n        ~train_df[\\\"Transport\\\"].isna(),\\n        [\\\"Transport\\\"],\\n    ],\\n)\";\n",
       "                var nbb_formatted_code = \"transport_rfc.fit(\\n    pd.get_dummies(\\n        train_df.loc[\\n            ~train_df[\\\"Transport\\\"].isna(),\\n            [\\\"International\\\", \\\"Express Shipment\\\", \\\"Remote Location\\\"],\\n        ]\\n    ),\\n    train_df.loc[\\n        ~train_df[\\\"Transport\\\"].isna(),\\n        [\\\"Transport\\\"],\\n    ],\\n)\";\n",
       "                var nbb_cells = Jupyter.notebook.get_cells();\n",
       "                for (var i = 0; i < nbb_cells.length; ++i) {\n",
       "                    if (nbb_cells[i].input_prompt_number == nbb_cell_id) {\n",
       "                        if (nbb_cells[i].get_text() == nbb_unformatted_code) {\n",
       "                             nbb_cells[i].set_text(nbb_formatted_code);\n",
       "                        }\n",
       "                        break;\n",
       "                    }\n",
       "                }\n",
       "            }, 500);\n",
       "            "
      ],
      "text/plain": [
       "<IPython.core.display.Javascript object>"
      ]
     },
     "metadata": {},
     "output_type": "display_data"
    }
   ],
   "source": [
    "transport_rfc.fit(\n",
    "    pd.get_dummies(\n",
    "        train_df.loc[\n",
    "            ~train_df[\"Transport\"].isna(),\n",
    "            [\"International\", \"Express Shipment\", \"Remote Location\"],\n",
    "        ]\n",
    "    ),\n",
    "    train_df.loc[\n",
    "        ~train_df[\"Transport\"].isna(),\n",
    "        [\"Transport\"],\n",
    "    ],\n",
    ")"
   ]
  },
  {
   "cell_type": "code",
   "execution_count": 59,
   "id": "wicked-mexican",
   "metadata": {},
   "outputs": [
    {
     "data": {
      "application/javascript": [
       "\n",
       "            setTimeout(function() {\n",
       "                var nbb_cell_id = 59;\n",
       "                var nbb_unformatted_code = \"train_df.loc[train_df[\\\"Transport\\\"].isna(), [\\\"Transport\\\"],] = transport_rfc.predict(\\n    pd.get_dummies(\\n        train_df.loc[\\n            train_df[\\\"Transport\\\"].isna(),\\n            [\\\"International\\\", \\\"Express Shipment\\\", \\\"Remote Location\\\"],\\n        ]\\n    )\\n)\";\n",
       "                var nbb_formatted_code = \"train_df.loc[train_df[\\\"Transport\\\"].isna(), [\\\"Transport\\\"],] = transport_rfc.predict(\\n    pd.get_dummies(\\n        train_df.loc[\\n            train_df[\\\"Transport\\\"].isna(),\\n            [\\\"International\\\", \\\"Express Shipment\\\", \\\"Remote Location\\\"],\\n        ]\\n    )\\n)\";\n",
       "                var nbb_cells = Jupyter.notebook.get_cells();\n",
       "                for (var i = 0; i < nbb_cells.length; ++i) {\n",
       "                    if (nbb_cells[i].input_prompt_number == nbb_cell_id) {\n",
       "                        if (nbb_cells[i].get_text() == nbb_unformatted_code) {\n",
       "                             nbb_cells[i].set_text(nbb_formatted_code);\n",
       "                        }\n",
       "                        break;\n",
       "                    }\n",
       "                }\n",
       "            }, 500);\n",
       "            "
      ],
      "text/plain": [
       "<IPython.core.display.Javascript object>"
      ]
     },
     "metadata": {},
     "output_type": "display_data"
    }
   ],
   "source": [
    "train_df.loc[train_df[\"Transport\"].isna(), [\"Transport\"],] = transport_rfc.predict(\n",
    "    pd.get_dummies(\n",
    "        train_df.loc[\n",
    "            train_df[\"Transport\"].isna(),\n",
    "            [\"International\", \"Express Shipment\", \"Remote Location\"],\n",
    "        ]\n",
    "    )\n",
    ")"
   ]
  },
  {
   "cell_type": "code",
   "execution_count": 60,
   "id": "subject-summit",
   "metadata": {},
   "outputs": [
    {
     "data": {
      "text/html": [
       "<div>\n",
       "<style scoped>\n",
       "    .dataframe tbody tr th:only-of-type {\n",
       "        vertical-align: middle;\n",
       "    }\n",
       "\n",
       "    .dataframe tbody tr th {\n",
       "        vertical-align: top;\n",
       "    }\n",
       "\n",
       "    .dataframe thead th {\n",
       "        text-align: right;\n",
       "    }\n",
       "</style>\n",
       "<table border=\"1\" class=\"dataframe\">\n",
       "  <thead>\n",
       "    <tr style=\"text-align: right;\">\n",
       "      <th></th>\n",
       "      <th>Transport</th>\n",
       "      <th>International</th>\n",
       "      <th>Express Shipment</th>\n",
       "      <th>Remote Location</th>\n",
       "    </tr>\n",
       "  </thead>\n",
       "  <tbody>\n",
       "    <tr>\n",
       "      <th>3306</th>\n",
       "      <td>Airways</td>\n",
       "      <td>No</td>\n",
       "      <td>Yes</td>\n",
       "      <td>No</td>\n",
       "    </tr>\n",
       "    <tr>\n",
       "      <th>6083</th>\n",
       "      <td>Roadways</td>\n",
       "      <td>No</td>\n",
       "      <td>Yes</td>\n",
       "      <td>No</td>\n",
       "    </tr>\n",
       "    <tr>\n",
       "      <th>6180</th>\n",
       "      <td>Airways</td>\n",
       "      <td>Yes</td>\n",
       "      <td>Yes</td>\n",
       "      <td>No</td>\n",
       "    </tr>\n",
       "    <tr>\n",
       "      <th>44</th>\n",
       "      <td>Roadways</td>\n",
       "      <td>No</td>\n",
       "      <td>No</td>\n",
       "      <td>Yes</td>\n",
       "    </tr>\n",
       "    <tr>\n",
       "      <th>3159</th>\n",
       "      <td>Roadways</td>\n",
       "      <td>No</td>\n",
       "      <td>Yes</td>\n",
       "      <td>No</td>\n",
       "    </tr>\n",
       "  </tbody>\n",
       "</table>\n",
       "</div>"
      ],
      "text/plain": [
       "     Transport International Express Shipment Remote Location\n",
       "3306   Airways            No              Yes              No\n",
       "6083  Roadways            No              Yes              No\n",
       "6180   Airways           Yes              Yes              No\n",
       "44    Roadways            No               No             Yes\n",
       "3159  Roadways            No              Yes              No"
      ]
     },
     "execution_count": 60,
     "metadata": {},
     "output_type": "execute_result"
    },
    {
     "data": {
      "application/javascript": [
       "\n",
       "            setTimeout(function() {\n",
       "                var nbb_cell_id = 60;\n",
       "                var nbb_unformatted_code = \"train_df[[\\\"Transport\\\", \\\"International\\\", \\\"Express Shipment\\\", \\\"Remote Location\\\"]].sample(\\n    5\\n)\";\n",
       "                var nbb_formatted_code = \"train_df[[\\\"Transport\\\", \\\"International\\\", \\\"Express Shipment\\\", \\\"Remote Location\\\"]].sample(\\n    5\\n)\";\n",
       "                var nbb_cells = Jupyter.notebook.get_cells();\n",
       "                for (var i = 0; i < nbb_cells.length; ++i) {\n",
       "                    if (nbb_cells[i].input_prompt_number == nbb_cell_id) {\n",
       "                        if (nbb_cells[i].get_text() == nbb_unformatted_code) {\n",
       "                             nbb_cells[i].set_text(nbb_formatted_code);\n",
       "                        }\n",
       "                        break;\n",
       "                    }\n",
       "                }\n",
       "            }, 500);\n",
       "            "
      ],
      "text/plain": [
       "<IPython.core.display.Javascript object>"
      ]
     },
     "metadata": {},
     "output_type": "display_data"
    }
   ],
   "source": [
    "train_df[[\"Transport\", \"International\", \"Express Shipment\", \"Remote Location\"]].sample(\n",
    "    5\n",
    ")"
   ]
  },
  {
   "cell_type": "code",
   "execution_count": 61,
   "id": "human-glenn",
   "metadata": {},
   "outputs": [
    {
     "data": {
      "application/javascript": [
       "\n",
       "            setTimeout(function() {\n",
       "                var nbb_cell_id = 61;\n",
       "                var nbb_unformatted_code = \"test_df.loc[test_df[\\\"Transport\\\"].isna(), [\\\"Transport\\\"],] = transport_rfc.predict(\\n    pd.get_dummies(\\n        test_df.loc[\\n            test_df[\\\"Transport\\\"].isna(),\\n            [\\\"International\\\", \\\"Express Shipment\\\", \\\"Remote Location\\\"],\\n        ]\\n    )\\n)\";\n",
       "                var nbb_formatted_code = \"test_df.loc[test_df[\\\"Transport\\\"].isna(), [\\\"Transport\\\"],] = transport_rfc.predict(\\n    pd.get_dummies(\\n        test_df.loc[\\n            test_df[\\\"Transport\\\"].isna(),\\n            [\\\"International\\\", \\\"Express Shipment\\\", \\\"Remote Location\\\"],\\n        ]\\n    )\\n)\";\n",
       "                var nbb_cells = Jupyter.notebook.get_cells();\n",
       "                for (var i = 0; i < nbb_cells.length; ++i) {\n",
       "                    if (nbb_cells[i].input_prompt_number == nbb_cell_id) {\n",
       "                        if (nbb_cells[i].get_text() == nbb_unformatted_code) {\n",
       "                             nbb_cells[i].set_text(nbb_formatted_code);\n",
       "                        }\n",
       "                        break;\n",
       "                    }\n",
       "                }\n",
       "            }, 500);\n",
       "            "
      ],
      "text/plain": [
       "<IPython.core.display.Javascript object>"
      ]
     },
     "metadata": {},
     "output_type": "display_data"
    }
   ],
   "source": [
    "test_df.loc[test_df[\"Transport\"].isna(), [\"Transport\"],] = transport_rfc.predict(\n",
    "    pd.get_dummies(\n",
    "        test_df.loc[\n",
    "            test_df[\"Transport\"].isna(),\n",
    "            [\"International\", \"Express Shipment\", \"Remote Location\"],\n",
    "        ]\n",
    "    )\n",
    ")"
   ]
  },
  {
   "cell_type": "code",
   "execution_count": 62,
   "id": "extra-nomination",
   "metadata": {},
   "outputs": [
    {
     "data": {
      "text/html": [
       "<div>\n",
       "<style scoped>\n",
       "    .dataframe tbody tr th:only-of-type {\n",
       "        vertical-align: middle;\n",
       "    }\n",
       "\n",
       "    .dataframe tbody tr th {\n",
       "        vertical-align: top;\n",
       "    }\n",
       "\n",
       "    .dataframe thead th {\n",
       "        text-align: right;\n",
       "    }\n",
       "</style>\n",
       "<table border=\"1\" class=\"dataframe\">\n",
       "  <thead>\n",
       "    <tr style=\"text-align: right;\">\n",
       "      <th></th>\n",
       "      <th>Transport</th>\n",
       "      <th>International</th>\n",
       "      <th>Express Shipment</th>\n",
       "      <th>Remote Location</th>\n",
       "    </tr>\n",
       "  </thead>\n",
       "  <tbody>\n",
       "    <tr>\n",
       "      <th>3252</th>\n",
       "      <td>Airways</td>\n",
       "      <td>No</td>\n",
       "      <td>Yes</td>\n",
       "      <td>No</td>\n",
       "    </tr>\n",
       "    <tr>\n",
       "      <th>1672</th>\n",
       "      <td>Airways</td>\n",
       "      <td>Yes</td>\n",
       "      <td>Yes</td>\n",
       "      <td>Yes</td>\n",
       "    </tr>\n",
       "    <tr>\n",
       "      <th>3061</th>\n",
       "      <td>Waterways</td>\n",
       "      <td>Yes</td>\n",
       "      <td>No</td>\n",
       "      <td>Yes</td>\n",
       "    </tr>\n",
       "    <tr>\n",
       "      <th>587</th>\n",
       "      <td>Airways</td>\n",
       "      <td>No</td>\n",
       "      <td>No</td>\n",
       "      <td>No</td>\n",
       "    </tr>\n",
       "    <tr>\n",
       "      <th>1512</th>\n",
       "      <td>Roadways</td>\n",
       "      <td>No</td>\n",
       "      <td>No</td>\n",
       "      <td>No</td>\n",
       "    </tr>\n",
       "  </tbody>\n",
       "</table>\n",
       "</div>"
      ],
      "text/plain": [
       "      Transport International Express Shipment Remote Location\n",
       "3252    Airways            No              Yes              No\n",
       "1672    Airways           Yes              Yes             Yes\n",
       "3061  Waterways           Yes               No             Yes\n",
       "587     Airways            No               No              No\n",
       "1512   Roadways            No               No              No"
      ]
     },
     "execution_count": 62,
     "metadata": {},
     "output_type": "execute_result"
    },
    {
     "data": {
      "application/javascript": [
       "\n",
       "            setTimeout(function() {\n",
       "                var nbb_cell_id = 62;\n",
       "                var nbb_unformatted_code = \"test_df[[\\\"Transport\\\", \\\"International\\\", \\\"Express Shipment\\\", \\\"Remote Location\\\"]].sample(5)\";\n",
       "                var nbb_formatted_code = \"test_df[[\\\"Transport\\\", \\\"International\\\", \\\"Express Shipment\\\", \\\"Remote Location\\\"]].sample(5)\";\n",
       "                var nbb_cells = Jupyter.notebook.get_cells();\n",
       "                for (var i = 0; i < nbb_cells.length; ++i) {\n",
       "                    if (nbb_cells[i].input_prompt_number == nbb_cell_id) {\n",
       "                        if (nbb_cells[i].get_text() == nbb_unformatted_code) {\n",
       "                             nbb_cells[i].set_text(nbb_formatted_code);\n",
       "                        }\n",
       "                        break;\n",
       "                    }\n",
       "                }\n",
       "            }, 500);\n",
       "            "
      ],
      "text/plain": [
       "<IPython.core.display.Javascript object>"
      ]
     },
     "metadata": {},
     "output_type": "display_data"
    }
   ],
   "source": [
    "test_df[[\"Transport\", \"International\", \"Express Shipment\", \"Remote Location\"]].sample(5)"
   ]
  },
  {
   "cell_type": "markdown",
   "id": "frank-facial",
   "metadata": {},
   "source": [
    "### `Remote Location`\n",
    "\n",
    "This variable is influenced by the following other variables:\n",
    "* `International`\n",
    "* `Express Shipment`\n",
    "* `Transport`"
   ]
  },
  {
   "cell_type": "code",
   "execution_count": 63,
   "id": "pleased-latin",
   "metadata": {},
   "outputs": [
    {
     "data": {
      "text/html": [
       "<div>\n",
       "<style scoped>\n",
       "    .dataframe tbody tr th:only-of-type {\n",
       "        vertical-align: middle;\n",
       "    }\n",
       "\n",
       "    .dataframe tbody tr th {\n",
       "        vertical-align: top;\n",
       "    }\n",
       "\n",
       "    .dataframe thead th {\n",
       "        text-align: right;\n",
       "    }\n",
       "</style>\n",
       "<table border=\"1\" class=\"dataframe\">\n",
       "  <thead>\n",
       "    <tr style=\"text-align: right;\">\n",
       "      <th></th>\n",
       "      <th>Transport</th>\n",
       "      <th>International</th>\n",
       "      <th>Express Shipment</th>\n",
       "      <th>Remote Location</th>\n",
       "    </tr>\n",
       "  </thead>\n",
       "  <tbody>\n",
       "    <tr>\n",
       "      <th>2215</th>\n",
       "      <td>Airways</td>\n",
       "      <td>No</td>\n",
       "      <td>Yes</td>\n",
       "      <td>No</td>\n",
       "    </tr>\n",
       "    <tr>\n",
       "      <th>5852</th>\n",
       "      <td>Waterways</td>\n",
       "      <td>No</td>\n",
       "      <td>No</td>\n",
       "      <td>No</td>\n",
       "    </tr>\n",
       "    <tr>\n",
       "      <th>3698</th>\n",
       "      <td>Waterways</td>\n",
       "      <td>No</td>\n",
       "      <td>No</td>\n",
       "      <td>No</td>\n",
       "    </tr>\n",
       "    <tr>\n",
       "      <th>2783</th>\n",
       "      <td>Roadways</td>\n",
       "      <td>No</td>\n",
       "      <td>No</td>\n",
       "      <td>No</td>\n",
       "    </tr>\n",
       "    <tr>\n",
       "      <th>4155</th>\n",
       "      <td>Waterways</td>\n",
       "      <td>No</td>\n",
       "      <td>No</td>\n",
       "      <td>No</td>\n",
       "    </tr>\n",
       "  </tbody>\n",
       "</table>\n",
       "</div>"
      ],
      "text/plain": [
       "      Transport International Express Shipment Remote Location\n",
       "2215    Airways            No              Yes              No\n",
       "5852  Waterways            No               No              No\n",
       "3698  Waterways            No               No              No\n",
       "2783   Roadways            No               No              No\n",
       "4155  Waterways            No               No              No"
      ]
     },
     "execution_count": 63,
     "metadata": {},
     "output_type": "execute_result"
    },
    {
     "data": {
      "application/javascript": [
       "\n",
       "            setTimeout(function() {\n",
       "                var nbb_cell_id = 63;\n",
       "                var nbb_unformatted_code = \"train_df[[\\\"Transport\\\", \\\"International\\\", \\\"Express Shipment\\\", \\\"Remote Location\\\"]].sample(\\n    5\\n)\";\n",
       "                var nbb_formatted_code = \"train_df[[\\\"Transport\\\", \\\"International\\\", \\\"Express Shipment\\\", \\\"Remote Location\\\"]].sample(\\n    5\\n)\";\n",
       "                var nbb_cells = Jupyter.notebook.get_cells();\n",
       "                for (var i = 0; i < nbb_cells.length; ++i) {\n",
       "                    if (nbb_cells[i].input_prompt_number == nbb_cell_id) {\n",
       "                        if (nbb_cells[i].get_text() == nbb_unformatted_code) {\n",
       "                             nbb_cells[i].set_text(nbb_formatted_code);\n",
       "                        }\n",
       "                        break;\n",
       "                    }\n",
       "                }\n",
       "            }, 500);\n",
       "            "
      ],
      "text/plain": [
       "<IPython.core.display.Javascript object>"
      ]
     },
     "metadata": {},
     "output_type": "display_data"
    }
   ],
   "source": [
    "train_df[[\"Transport\", \"International\", \"Express Shipment\", \"Remote Location\"]].sample(\n",
    "    5\n",
    ")"
   ]
  },
  {
   "cell_type": "code",
   "execution_count": 64,
   "id": "photographic-style",
   "metadata": {},
   "outputs": [
    {
     "data": {
      "application/javascript": [
       "\n",
       "            setTimeout(function() {\n",
       "                var nbb_cell_id = 64;\n",
       "                var nbb_unformatted_code = \"remote_location_train_df = train_df.loc[\\n    ~train_df[\\\"Remote Location\\\"].isna(),\\n    [\\\"Transport\\\", \\\"International\\\", \\\"Express Shipment\\\", \\\"Remote Location\\\"],\\n]\";\n",
       "                var nbb_formatted_code = \"remote_location_train_df = train_df.loc[\\n    ~train_df[\\\"Remote Location\\\"].isna(),\\n    [\\\"Transport\\\", \\\"International\\\", \\\"Express Shipment\\\", \\\"Remote Location\\\"],\\n]\";\n",
       "                var nbb_cells = Jupyter.notebook.get_cells();\n",
       "                for (var i = 0; i < nbb_cells.length; ++i) {\n",
       "                    if (nbb_cells[i].input_prompt_number == nbb_cell_id) {\n",
       "                        if (nbb_cells[i].get_text() == nbb_unformatted_code) {\n",
       "                             nbb_cells[i].set_text(nbb_formatted_code);\n",
       "                        }\n",
       "                        break;\n",
       "                    }\n",
       "                }\n",
       "            }, 500);\n",
       "            "
      ],
      "text/plain": [
       "<IPython.core.display.Javascript object>"
      ]
     },
     "metadata": {},
     "output_type": "display_data"
    }
   ],
   "source": [
    "remote_location_train_df = train_df.loc[\n",
    "    ~train_df[\"Remote Location\"].isna(),\n",
    "    [\"Transport\", \"International\", \"Express Shipment\", \"Remote Location\"],\n",
    "]"
   ]
  },
  {
   "cell_type": "code",
   "execution_count": 65,
   "id": "dried-candidate",
   "metadata": {},
   "outputs": [
    {
     "data": {
      "application/javascript": [
       "\n",
       "            setTimeout(function() {\n",
       "                var nbb_cell_id = 65;\n",
       "                var nbb_unformatted_code = \"(\\n    remote_location_X_train,\\n    remote_location_X_val,\\n    remote_location_y_train,\\n    remote_location_y_val,\\n) = train_test_split(\\n    remote_location_train_df.drop([\\\"Remote Location\\\"], axis=1),\\n    remote_location_train_df[[\\\"Remote Location\\\"]],\\n    test_size=0.40,\\n    random_state=42,\\n)\";\n",
       "                var nbb_formatted_code = \"(\\n    remote_location_X_train,\\n    remote_location_X_val,\\n    remote_location_y_train,\\n    remote_location_y_val,\\n) = train_test_split(\\n    remote_location_train_df.drop([\\\"Remote Location\\\"], axis=1),\\n    remote_location_train_df[[\\\"Remote Location\\\"]],\\n    test_size=0.40,\\n    random_state=42,\\n)\";\n",
       "                var nbb_cells = Jupyter.notebook.get_cells();\n",
       "                for (var i = 0; i < nbb_cells.length; ++i) {\n",
       "                    if (nbb_cells[i].input_prompt_number == nbb_cell_id) {\n",
       "                        if (nbb_cells[i].get_text() == nbb_unformatted_code) {\n",
       "                             nbb_cells[i].set_text(nbb_formatted_code);\n",
       "                        }\n",
       "                        break;\n",
       "                    }\n",
       "                }\n",
       "            }, 500);\n",
       "            "
      ],
      "text/plain": [
       "<IPython.core.display.Javascript object>"
      ]
     },
     "metadata": {},
     "output_type": "display_data"
    }
   ],
   "source": [
    "(\n",
    "    remote_location_X_train,\n",
    "    remote_location_X_val,\n",
    "    remote_location_y_train,\n",
    "    remote_location_y_val,\n",
    ") = train_test_split(\n",
    "    remote_location_train_df.drop([\"Remote Location\"], axis=1),\n",
    "    remote_location_train_df[[\"Remote Location\"]],\n",
    "    test_size=0.40,\n",
    "    random_state=42,\n",
    ")"
   ]
  },
  {
   "cell_type": "code",
   "execution_count": 66,
   "id": "acoustic-richards",
   "metadata": {},
   "outputs": [
    {
     "data": {
      "application/javascript": [
       "\n",
       "            setTimeout(function() {\n",
       "                var nbb_cell_id = 66;\n",
       "                var nbb_unformatted_code = \"remote_location_X_train = pd.get_dummies(remote_location_X_train)\\nremote_location_X_val = pd.get_dummies(remote_location_X_val)\";\n",
       "                var nbb_formatted_code = \"remote_location_X_train = pd.get_dummies(remote_location_X_train)\\nremote_location_X_val = pd.get_dummies(remote_location_X_val)\";\n",
       "                var nbb_cells = Jupyter.notebook.get_cells();\n",
       "                for (var i = 0; i < nbb_cells.length; ++i) {\n",
       "                    if (nbb_cells[i].input_prompt_number == nbb_cell_id) {\n",
       "                        if (nbb_cells[i].get_text() == nbb_unformatted_code) {\n",
       "                             nbb_cells[i].set_text(nbb_formatted_code);\n",
       "                        }\n",
       "                        break;\n",
       "                    }\n",
       "                }\n",
       "            }, 500);\n",
       "            "
      ],
      "text/plain": [
       "<IPython.core.display.Javascript object>"
      ]
     },
     "metadata": {},
     "output_type": "display_data"
    }
   ],
   "source": [
    "remote_location_X_train = pd.get_dummies(remote_location_X_train)\n",
    "remote_location_X_val = pd.get_dummies(remote_location_X_val)"
   ]
  },
  {
   "cell_type": "code",
   "execution_count": 67,
   "id": "mature-attitude",
   "metadata": {},
   "outputs": [
    {
     "data": {
      "application/javascript": [
       "\n",
       "            setTimeout(function() {\n",
       "                var nbb_cell_id = 67;\n",
       "                var nbb_unformatted_code = \"n_estimators = [int(x) for x in np.linspace(start=200, stop=2000, num=10)]\\ncriterion = [\\\"gini\\\", \\\"entropy\\\"]\\nmax_features = [\\\"auto\\\", \\\"sqrt\\\"]\\nmax_depth = [int(x) for x in np.linspace(10, 110, num=11)]\\nmax_depth.append(None)\\nmin_samples_split = [2, 5, 10]\\nmin_samples_leaf = [1, 2, 4]\\nbootstrap = [True, False]\\n\\n# Create the random grid\\nrandom_grid = {\\n    \\\"n_estimators\\\": n_estimators,\\n    \\\"criterion\\\": criterion,\\n    \\\"max_features\\\": max_features,\\n    \\\"max_depth\\\": max_depth,\\n    \\\"min_samples_split\\\": min_samples_split,\\n    \\\"min_samples_leaf\\\": min_samples_leaf,\\n    \\\"bootstrap\\\": bootstrap,\\n}\";\n",
       "                var nbb_formatted_code = \"n_estimators = [int(x) for x in np.linspace(start=200, stop=2000, num=10)]\\ncriterion = [\\\"gini\\\", \\\"entropy\\\"]\\nmax_features = [\\\"auto\\\", \\\"sqrt\\\"]\\nmax_depth = [int(x) for x in np.linspace(10, 110, num=11)]\\nmax_depth.append(None)\\nmin_samples_split = [2, 5, 10]\\nmin_samples_leaf = [1, 2, 4]\\nbootstrap = [True, False]\\n\\n# Create the random grid\\nrandom_grid = {\\n    \\\"n_estimators\\\": n_estimators,\\n    \\\"criterion\\\": criterion,\\n    \\\"max_features\\\": max_features,\\n    \\\"max_depth\\\": max_depth,\\n    \\\"min_samples_split\\\": min_samples_split,\\n    \\\"min_samples_leaf\\\": min_samples_leaf,\\n    \\\"bootstrap\\\": bootstrap,\\n}\";\n",
       "                var nbb_cells = Jupyter.notebook.get_cells();\n",
       "                for (var i = 0; i < nbb_cells.length; ++i) {\n",
       "                    if (nbb_cells[i].input_prompt_number == nbb_cell_id) {\n",
       "                        if (nbb_cells[i].get_text() == nbb_unformatted_code) {\n",
       "                             nbb_cells[i].set_text(nbb_formatted_code);\n",
       "                        }\n",
       "                        break;\n",
       "                    }\n",
       "                }\n",
       "            }, 500);\n",
       "            "
      ],
      "text/plain": [
       "<IPython.core.display.Javascript object>"
      ]
     },
     "metadata": {},
     "output_type": "display_data"
    }
   ],
   "source": [
    "n_estimators = [int(x) for x in np.linspace(start=200, stop=2000, num=10)]\n",
    "criterion = [\"gini\", \"entropy\"]\n",
    "max_features = [\"auto\", \"sqrt\"]\n",
    "max_depth = [int(x) for x in np.linspace(10, 110, num=11)]\n",
    "max_depth.append(None)\n",
    "min_samples_split = [2, 5, 10]\n",
    "min_samples_leaf = [1, 2, 4]\n",
    "bootstrap = [True, False]\n",
    "\n",
    "# Create the random grid\n",
    "random_grid = {\n",
    "    \"n_estimators\": n_estimators,\n",
    "    \"criterion\": criterion,\n",
    "    \"max_features\": max_features,\n",
    "    \"max_depth\": max_depth,\n",
    "    \"min_samples_split\": min_samples_split,\n",
    "    \"min_samples_leaf\": min_samples_leaf,\n",
    "    \"bootstrap\": bootstrap,\n",
    "}"
   ]
  },
  {
   "cell_type": "code",
   "execution_count": 68,
   "id": "bearing-architecture",
   "metadata": {},
   "outputs": [
    {
     "data": {
      "application/javascript": [
       "\n",
       "            setTimeout(function() {\n",
       "                var nbb_cell_id = 68;\n",
       "                var nbb_unformatted_code = \"remote_location_rf_clf = RandomForestClassifier()\";\n",
       "                var nbb_formatted_code = \"remote_location_rf_clf = RandomForestClassifier()\";\n",
       "                var nbb_cells = Jupyter.notebook.get_cells();\n",
       "                for (var i = 0; i < nbb_cells.length; ++i) {\n",
       "                    if (nbb_cells[i].input_prompt_number == nbb_cell_id) {\n",
       "                        if (nbb_cells[i].get_text() == nbb_unformatted_code) {\n",
       "                             nbb_cells[i].set_text(nbb_formatted_code);\n",
       "                        }\n",
       "                        break;\n",
       "                    }\n",
       "                }\n",
       "            }, 500);\n",
       "            "
      ],
      "text/plain": [
       "<IPython.core.display.Javascript object>"
      ]
     },
     "metadata": {},
     "output_type": "display_data"
    }
   ],
   "source": [
    "remote_location_rf_clf = RandomForestClassifier()"
   ]
  },
  {
   "cell_type": "code",
   "execution_count": 69,
   "id": "fifteen-magnet",
   "metadata": {},
   "outputs": [
    {
     "data": {
      "application/javascript": [
       "\n",
       "            setTimeout(function() {\n",
       "                var nbb_cell_id = 69;\n",
       "                var nbb_unformatted_code = \"rf_random = RandomizedSearchCV(\\n    estimator=remote_location_rf_clf,\\n    param_distributions=random_grid,\\n    n_iter=100,\\n    cv=3,\\n    verbose=2,\\n    random_state=42,\\n    n_jobs=-1,\\n)\";\n",
       "                var nbb_formatted_code = \"rf_random = RandomizedSearchCV(\\n    estimator=remote_location_rf_clf,\\n    param_distributions=random_grid,\\n    n_iter=100,\\n    cv=3,\\n    verbose=2,\\n    random_state=42,\\n    n_jobs=-1,\\n)\";\n",
       "                var nbb_cells = Jupyter.notebook.get_cells();\n",
       "                for (var i = 0; i < nbb_cells.length; ++i) {\n",
       "                    if (nbb_cells[i].input_prompt_number == nbb_cell_id) {\n",
       "                        if (nbb_cells[i].get_text() == nbb_unformatted_code) {\n",
       "                             nbb_cells[i].set_text(nbb_formatted_code);\n",
       "                        }\n",
       "                        break;\n",
       "                    }\n",
       "                }\n",
       "            }, 500);\n",
       "            "
      ],
      "text/plain": [
       "<IPython.core.display.Javascript object>"
      ]
     },
     "metadata": {},
     "output_type": "display_data"
    }
   ],
   "source": [
    "rf_random = RandomizedSearchCV(\n",
    "    estimator=remote_location_rf_clf,\n",
    "    param_distributions=random_grid,\n",
    "    n_iter=100,\n",
    "    cv=3,\n",
    "    verbose=2,\n",
    "    random_state=42,\n",
    "    n_jobs=-1,\n",
    ")"
   ]
  },
  {
   "cell_type": "code",
   "execution_count": 70,
   "id": "lyric-washington",
   "metadata": {},
   "outputs": [
    {
     "data": {
      "application/javascript": [
       "\n",
       "            setTimeout(function() {\n",
       "                var nbb_cell_id = 70;\n",
       "                var nbb_unformatted_code = \"if TUNING:\\n    rf_random.fit(\\n        remote_location_X_train,\\n        remote_location_y_train,\\n    )\";\n",
       "                var nbb_formatted_code = \"if TUNING:\\n    rf_random.fit(\\n        remote_location_X_train,\\n        remote_location_y_train,\\n    )\";\n",
       "                var nbb_cells = Jupyter.notebook.get_cells();\n",
       "                for (var i = 0; i < nbb_cells.length; ++i) {\n",
       "                    if (nbb_cells[i].input_prompt_number == nbb_cell_id) {\n",
       "                        if (nbb_cells[i].get_text() == nbb_unformatted_code) {\n",
       "                             nbb_cells[i].set_text(nbb_formatted_code);\n",
       "                        }\n",
       "                        break;\n",
       "                    }\n",
       "                }\n",
       "            }, 500);\n",
       "            "
      ],
      "text/plain": [
       "<IPython.core.display.Javascript object>"
      ]
     },
     "metadata": {},
     "output_type": "display_data"
    }
   ],
   "source": [
    "if TUNING:\n",
    "    rf_random.fit(\n",
    "        remote_location_X_train,\n",
    "        remote_location_y_train,\n",
    "    )"
   ]
  },
  {
   "cell_type": "code",
   "execution_count": 71,
   "id": "classical-emphasis",
   "metadata": {},
   "outputs": [
    {
     "data": {
      "application/javascript": [
       "\n",
       "            setTimeout(function() {\n",
       "                var nbb_cell_id = 71;\n",
       "                var nbb_unformatted_code = \"if TUNING:\\n    print(rf_random.best_params_)\";\n",
       "                var nbb_formatted_code = \"if TUNING:\\n    print(rf_random.best_params_)\";\n",
       "                var nbb_cells = Jupyter.notebook.get_cells();\n",
       "                for (var i = 0; i < nbb_cells.length; ++i) {\n",
       "                    if (nbb_cells[i].input_prompt_number == nbb_cell_id) {\n",
       "                        if (nbb_cells[i].get_text() == nbb_unformatted_code) {\n",
       "                             nbb_cells[i].set_text(nbb_formatted_code);\n",
       "                        }\n",
       "                        break;\n",
       "                    }\n",
       "                }\n",
       "            }, 500);\n",
       "            "
      ],
      "text/plain": [
       "<IPython.core.display.Javascript object>"
      ]
     },
     "metadata": {},
     "output_type": "display_data"
    }
   ],
   "source": [
    "if TUNING:\n",
    "    print(rf_random.best_params_)"
   ]
  },
  {
   "cell_type": "markdown",
   "id": "south-seventh",
   "metadata": {},
   "source": [
    "The best params using randomized search are:\n",
    "\n",
    "```json\n",
    "{\n",
    "    \"n_estimators\": 1200,\n",
    "    \"min_samples_split\": 10,\n",
    "    \"min_samples_leaf\": 2,\n",
    "    \"max_features\": \"sqrt\",\n",
    "    \"max_depth\": 20,\n",
    "    \"criterion\": \"entropy\",\n",
    "    \"bootstrap\": False,\n",
    "}\n",
    "```"
   ]
  },
  {
   "cell_type": "code",
   "execution_count": 72,
   "id": "endless-marriage",
   "metadata": {},
   "outputs": [
    {
     "data": {
      "application/javascript": [
       "\n",
       "            setTimeout(function() {\n",
       "                var nbb_cell_id = 72;\n",
       "                var nbb_unformatted_code = \"if TUNING:\\n    base_model = RandomForestClassifier(n_estimators=10, random_state=42)\\n    base_model.fit(\\n        remote_location_X_train,\\n        remote_location_y_train,\\n    )\\n    remote_location_y_pred = base_model.predict(remote_location_X_val)\\n    print(f1_score(remote_location_y_val, remote_location_y_pred, average=\\\"weighted\\\"))\";\n",
       "                var nbb_formatted_code = \"if TUNING:\\n    base_model = RandomForestClassifier(n_estimators=10, random_state=42)\\n    base_model.fit(\\n        remote_location_X_train,\\n        remote_location_y_train,\\n    )\\n    remote_location_y_pred = base_model.predict(remote_location_X_val)\\n    print(f1_score(remote_location_y_val, remote_location_y_pred, average=\\\"weighted\\\"))\";\n",
       "                var nbb_cells = Jupyter.notebook.get_cells();\n",
       "                for (var i = 0; i < nbb_cells.length; ++i) {\n",
       "                    if (nbb_cells[i].input_prompt_number == nbb_cell_id) {\n",
       "                        if (nbb_cells[i].get_text() == nbb_unformatted_code) {\n",
       "                             nbb_cells[i].set_text(nbb_formatted_code);\n",
       "                        }\n",
       "                        break;\n",
       "                    }\n",
       "                }\n",
       "            }, 500);\n",
       "            "
      ],
      "text/plain": [
       "<IPython.core.display.Javascript object>"
      ]
     },
     "metadata": {},
     "output_type": "display_data"
    }
   ],
   "source": [
    "if TUNING:\n",
    "    base_model = RandomForestClassifier(n_estimators=10, random_state=42)\n",
    "    base_model.fit(\n",
    "        remote_location_X_train,\n",
    "        remote_location_y_train,\n",
    "    )\n",
    "    remote_location_y_pred = base_model.predict(remote_location_X_val)\n",
    "    print(f1_score(remote_location_y_val, remote_location_y_pred, average=\"weighted\"))"
   ]
  },
  {
   "cell_type": "code",
   "execution_count": 73,
   "id": "trying-darkness",
   "metadata": {},
   "outputs": [
    {
     "data": {
      "application/javascript": [
       "\n",
       "            setTimeout(function() {\n",
       "                var nbb_cell_id = 73;\n",
       "                var nbb_unformatted_code = \"if TUNING:\\n    best_random = rf_random.best_estimator_\\n    remote_location_y_pred = base_model.predict(remote_location_X_val)\\n    print(f1_score(remote_location_y_val, remote_location_y_pred, average=\\\"weighted\\\"))\";\n",
       "                var nbb_formatted_code = \"if TUNING:\\n    best_random = rf_random.best_estimator_\\n    remote_location_y_pred = base_model.predict(remote_location_X_val)\\n    print(f1_score(remote_location_y_val, remote_location_y_pred, average=\\\"weighted\\\"))\";\n",
       "                var nbb_cells = Jupyter.notebook.get_cells();\n",
       "                for (var i = 0; i < nbb_cells.length; ++i) {\n",
       "                    if (nbb_cells[i].input_prompt_number == nbb_cell_id) {\n",
       "                        if (nbb_cells[i].get_text() == nbb_unformatted_code) {\n",
       "                             nbb_cells[i].set_text(nbb_formatted_code);\n",
       "                        }\n",
       "                        break;\n",
       "                    }\n",
       "                }\n",
       "            }, 500);\n",
       "            "
      ],
      "text/plain": [
       "<IPython.core.display.Javascript object>"
      ]
     },
     "metadata": {},
     "output_type": "display_data"
    }
   ],
   "source": [
    "if TUNING:\n",
    "    best_random = rf_random.best_estimator_\n",
    "    remote_location_y_pred = base_model.predict(remote_location_X_val)\n",
    "    print(f1_score(remote_location_y_val, remote_location_y_pred, average=\"weighted\"))"
   ]
  },
  {
   "cell_type": "markdown",
   "id": "pressed-cannon",
   "metadata": {},
   "source": [
    "* The best params don't make a difference to the weighted average f1-score.\n",
    "* Creating Grid search using the params"
   ]
  },
  {
   "cell_type": "code",
   "execution_count": 74,
   "id": "dress-flexibility",
   "metadata": {},
   "outputs": [
    {
     "data": {
      "application/javascript": [
       "\n",
       "            setTimeout(function() {\n",
       "                var nbb_cell_id = 74;\n",
       "                var nbb_unformatted_code = \"param_grid = {\\n    \\\"bootstrap\\\": [False],\\n    \\\"max_depth\\\": [20, 30, 40],\\n    \\\"max_features\\\": [2, 3],\\n    \\\"min_samples_leaf\\\": [2, 3],\\n    \\\"min_samples_split\\\": [9, 10, 11],\\n    \\\"n_estimators\\\": [1200, 1350, 1400],\\n}\";\n",
       "                var nbb_formatted_code = \"param_grid = {\\n    \\\"bootstrap\\\": [False],\\n    \\\"max_depth\\\": [20, 30, 40],\\n    \\\"max_features\\\": [2, 3],\\n    \\\"min_samples_leaf\\\": [2, 3],\\n    \\\"min_samples_split\\\": [9, 10, 11],\\n    \\\"n_estimators\\\": [1200, 1350, 1400],\\n}\";\n",
       "                var nbb_cells = Jupyter.notebook.get_cells();\n",
       "                for (var i = 0; i < nbb_cells.length; ++i) {\n",
       "                    if (nbb_cells[i].input_prompt_number == nbb_cell_id) {\n",
       "                        if (nbb_cells[i].get_text() == nbb_unformatted_code) {\n",
       "                             nbb_cells[i].set_text(nbb_formatted_code);\n",
       "                        }\n",
       "                        break;\n",
       "                    }\n",
       "                }\n",
       "            }, 500);\n",
       "            "
      ],
      "text/plain": [
       "<IPython.core.display.Javascript object>"
      ]
     },
     "metadata": {},
     "output_type": "display_data"
    }
   ],
   "source": [
    "param_grid = {\n",
    "    \"bootstrap\": [False],\n",
    "    \"max_depth\": [20, 30, 40],\n",
    "    \"max_features\": [2, 3],\n",
    "    \"min_samples_leaf\": [2, 3],\n",
    "    \"min_samples_split\": [9, 10, 11],\n",
    "    \"n_estimators\": [1200, 1350, 1400],\n",
    "}"
   ]
  },
  {
   "cell_type": "code",
   "execution_count": 75,
   "id": "stone-administration",
   "metadata": {},
   "outputs": [
    {
     "data": {
      "application/javascript": [
       "\n",
       "            setTimeout(function() {\n",
       "                var nbb_cell_id = 75;\n",
       "                var nbb_unformatted_code = \"# Create a base model\\nrf = RandomForestClassifier()\\n\\n# Instantiate the grid search model\\ngrid_search = GridSearchCV(\\n    estimator=rf, param_grid=param_grid, cv=3, n_jobs=-1, verbose=2\\n)\";\n",
       "                var nbb_formatted_code = \"# Create a base model\\nrf = RandomForestClassifier()\\n\\n# Instantiate the grid search model\\ngrid_search = GridSearchCV(\\n    estimator=rf, param_grid=param_grid, cv=3, n_jobs=-1, verbose=2\\n)\";\n",
       "                var nbb_cells = Jupyter.notebook.get_cells();\n",
       "                for (var i = 0; i < nbb_cells.length; ++i) {\n",
       "                    if (nbb_cells[i].input_prompt_number == nbb_cell_id) {\n",
       "                        if (nbb_cells[i].get_text() == nbb_unformatted_code) {\n",
       "                             nbb_cells[i].set_text(nbb_formatted_code);\n",
       "                        }\n",
       "                        break;\n",
       "                    }\n",
       "                }\n",
       "            }, 500);\n",
       "            "
      ],
      "text/plain": [
       "<IPython.core.display.Javascript object>"
      ]
     },
     "metadata": {},
     "output_type": "display_data"
    }
   ],
   "source": [
    "# Create a base model\n",
    "rf = RandomForestClassifier()\n",
    "\n",
    "# Instantiate the grid search model\n",
    "grid_search = GridSearchCV(\n",
    "    estimator=rf, param_grid=param_grid, cv=3, n_jobs=-1, verbose=2\n",
    ")"
   ]
  },
  {
   "cell_type": "code",
   "execution_count": 76,
   "id": "twelve-nudist",
   "metadata": {},
   "outputs": [
    {
     "data": {
      "application/javascript": [
       "\n",
       "            setTimeout(function() {\n",
       "                var nbb_cell_id = 76;\n",
       "                var nbb_unformatted_code = \"if TUNING:\\n    # Fit the grid search to the data\\n    grid_search.fit(remote_location_X_train, remote_location_y_train)\";\n",
       "                var nbb_formatted_code = \"if TUNING:\\n    # Fit the grid search to the data\\n    grid_search.fit(remote_location_X_train, remote_location_y_train)\";\n",
       "                var nbb_cells = Jupyter.notebook.get_cells();\n",
       "                for (var i = 0; i < nbb_cells.length; ++i) {\n",
       "                    if (nbb_cells[i].input_prompt_number == nbb_cell_id) {\n",
       "                        if (nbb_cells[i].get_text() == nbb_unformatted_code) {\n",
       "                             nbb_cells[i].set_text(nbb_formatted_code);\n",
       "                        }\n",
       "                        break;\n",
       "                    }\n",
       "                }\n",
       "            }, 500);\n",
       "            "
      ],
      "text/plain": [
       "<IPython.core.display.Javascript object>"
      ]
     },
     "metadata": {},
     "output_type": "display_data"
    }
   ],
   "source": [
    "if TUNING:\n",
    "    # Fit the grid search to the data\n",
    "    grid_search.fit(remote_location_X_train, remote_location_y_train)"
   ]
  },
  {
   "cell_type": "code",
   "execution_count": 77,
   "id": "subject-currency",
   "metadata": {},
   "outputs": [
    {
     "data": {
      "application/javascript": [
       "\n",
       "            setTimeout(function() {\n",
       "                var nbb_cell_id = 77;\n",
       "                var nbb_unformatted_code = \"if TUNING:\\n    print(grid_search.best_params_)\";\n",
       "                var nbb_formatted_code = \"if TUNING:\\n    print(grid_search.best_params_)\";\n",
       "                var nbb_cells = Jupyter.notebook.get_cells();\n",
       "                for (var i = 0; i < nbb_cells.length; ++i) {\n",
       "                    if (nbb_cells[i].input_prompt_number == nbb_cell_id) {\n",
       "                        if (nbb_cells[i].get_text() == nbb_unformatted_code) {\n",
       "                             nbb_cells[i].set_text(nbb_formatted_code);\n",
       "                        }\n",
       "                        break;\n",
       "                    }\n",
       "                }\n",
       "            }, 500);\n",
       "            "
      ],
      "text/plain": [
       "<IPython.core.display.Javascript object>"
      ]
     },
     "metadata": {},
     "output_type": "display_data"
    }
   ],
   "source": [
    "if TUNING:\n",
    "    print(grid_search.best_params_)"
   ]
  },
  {
   "cell_type": "markdown",
   "id": "designing-strength",
   "metadata": {},
   "source": [
    "best params:\n",
    "\n",
    "```python\n",
    "{\n",
    "    \"bootstrap\": False,\n",
    "    \"max_depth\": 20,\n",
    "    \"max_features\": 2,\n",
    "    \"min_samples_leaf\": 2,\n",
    "    \"min_samples_split\": 9,\n",
    "    \"n_estimators\": 1200,\n",
    "}\n",
    "```"
   ]
  },
  {
   "cell_type": "code",
   "execution_count": 78,
   "id": "adjacent-people",
   "metadata": {},
   "outputs": [
    {
     "data": {
      "application/javascript": [
       "\n",
       "            setTimeout(function() {\n",
       "                var nbb_cell_id = 78;\n",
       "                var nbb_unformatted_code = \"if TUNING:\\n    best_grid = grid_search.best_estimator_\\n    transport_y_pred = best_grid.predict(remote_location_X_val)\\n    print(f1_score(remote_location_y_val, remote_location_y_pred, average=\\\"weighted\\\"))\";\n",
       "                var nbb_formatted_code = \"if TUNING:\\n    best_grid = grid_search.best_estimator_\\n    transport_y_pred = best_grid.predict(remote_location_X_val)\\n    print(f1_score(remote_location_y_val, remote_location_y_pred, average=\\\"weighted\\\"))\";\n",
       "                var nbb_cells = Jupyter.notebook.get_cells();\n",
       "                for (var i = 0; i < nbb_cells.length; ++i) {\n",
       "                    if (nbb_cells[i].input_prompt_number == nbb_cell_id) {\n",
       "                        if (nbb_cells[i].get_text() == nbb_unformatted_code) {\n",
       "                             nbb_cells[i].set_text(nbb_formatted_code);\n",
       "                        }\n",
       "                        break;\n",
       "                    }\n",
       "                }\n",
       "            }, 500);\n",
       "            "
      ],
      "text/plain": [
       "<IPython.core.display.Javascript object>"
      ]
     },
     "metadata": {},
     "output_type": "display_data"
    }
   ],
   "source": [
    "if TUNING:\n",
    "    best_grid = grid_search.best_estimator_\n",
    "    transport_y_pred = best_grid.predict(remote_location_X_val)\n",
    "    print(f1_score(remote_location_y_val, remote_location_y_pred, average=\"weighted\"))"
   ]
  },
  {
   "cell_type": "code",
   "execution_count": 79,
   "id": "alternative-property",
   "metadata": {},
   "outputs": [
    {
     "data": {
      "application/javascript": [
       "\n",
       "            setTimeout(function() {\n",
       "                var nbb_cell_id = 79;\n",
       "                var nbb_unformatted_code = \"remote_location_rfc = RandomForestClassifier(\\n    **{\\n        \\\"n_estimators\\\": 1200,\\n        \\\"min_samples_split\\\": 9,\\n        \\\"min_samples_leaf\\\": 2,\\n        \\\"max_features\\\": \\\"sqrt\\\",\\n        \\\"max_depth\\\": 20,\\n        \\\"criterion\\\": \\\"entropy\\\",\\n        \\\"bootstrap\\\": False,\\n    }\\n)\";\n",
       "                var nbb_formatted_code = \"remote_location_rfc = RandomForestClassifier(\\n    **{\\n        \\\"n_estimators\\\": 1200,\\n        \\\"min_samples_split\\\": 9,\\n        \\\"min_samples_leaf\\\": 2,\\n        \\\"max_features\\\": \\\"sqrt\\\",\\n        \\\"max_depth\\\": 20,\\n        \\\"criterion\\\": \\\"entropy\\\",\\n        \\\"bootstrap\\\": False,\\n    }\\n)\";\n",
       "                var nbb_cells = Jupyter.notebook.get_cells();\n",
       "                for (var i = 0; i < nbb_cells.length; ++i) {\n",
       "                    if (nbb_cells[i].input_prompt_number == nbb_cell_id) {\n",
       "                        if (nbb_cells[i].get_text() == nbb_unformatted_code) {\n",
       "                             nbb_cells[i].set_text(nbb_formatted_code);\n",
       "                        }\n",
       "                        break;\n",
       "                    }\n",
       "                }\n",
       "            }, 500);\n",
       "            "
      ],
      "text/plain": [
       "<IPython.core.display.Javascript object>"
      ]
     },
     "metadata": {},
     "output_type": "display_data"
    }
   ],
   "source": [
    "remote_location_rfc = RandomForestClassifier(\n",
    "    **{\n",
    "        \"n_estimators\": 1200,\n",
    "        \"min_samples_split\": 9,\n",
    "        \"min_samples_leaf\": 2,\n",
    "        \"max_features\": \"sqrt\",\n",
    "        \"max_depth\": 20,\n",
    "        \"criterion\": \"entropy\",\n",
    "        \"bootstrap\": False,\n",
    "    }\n",
    ")"
   ]
  },
  {
   "cell_type": "code",
   "execution_count": 80,
   "id": "touched-mason",
   "metadata": {},
   "outputs": [
    {
     "name": "stderr",
     "output_type": "stream",
     "text": [
      "<ipython-input-80-25d33f34f328>:1: DataConversionWarning: A column-vector y was passed when a 1d array was expected. Please change the shape of y to (n_samples,), for example using ravel().\n",
      "  remote_location_rfc.fit(\n"
     ]
    },
    {
     "data": {
      "text/plain": [
       "RandomForestClassifier(bootstrap=False, criterion='entropy', max_depth=20,\n",
       "                       max_features='sqrt', min_samples_leaf=2,\n",
       "                       min_samples_split=9, n_estimators=1200)"
      ]
     },
     "execution_count": 80,
     "metadata": {},
     "output_type": "execute_result"
    },
    {
     "data": {
      "application/javascript": [
       "\n",
       "            setTimeout(function() {\n",
       "                var nbb_cell_id = 80;\n",
       "                var nbb_unformatted_code = \"remote_location_rfc.fit(\\n    pd.get_dummies(\\n        train_df.loc[\\n            ~train_df[\\\"Remote Location\\\"].isna(),\\n            [\\\"International\\\", \\\"Express Shipment\\\", \\\"Transport\\\"],\\n        ]\\n    ),\\n    train_df.loc[\\n        ~train_df[\\\"Remote Location\\\"].isna(),\\n        [\\\"Remote Location\\\"],\\n    ],\\n)\";\n",
       "                var nbb_formatted_code = \"remote_location_rfc.fit(\\n    pd.get_dummies(\\n        train_df.loc[\\n            ~train_df[\\\"Remote Location\\\"].isna(),\\n            [\\\"International\\\", \\\"Express Shipment\\\", \\\"Transport\\\"],\\n        ]\\n    ),\\n    train_df.loc[\\n        ~train_df[\\\"Remote Location\\\"].isna(),\\n        [\\\"Remote Location\\\"],\\n    ],\\n)\";\n",
       "                var nbb_cells = Jupyter.notebook.get_cells();\n",
       "                for (var i = 0; i < nbb_cells.length; ++i) {\n",
       "                    if (nbb_cells[i].input_prompt_number == nbb_cell_id) {\n",
       "                        if (nbb_cells[i].get_text() == nbb_unformatted_code) {\n",
       "                             nbb_cells[i].set_text(nbb_formatted_code);\n",
       "                        }\n",
       "                        break;\n",
       "                    }\n",
       "                }\n",
       "            }, 500);\n",
       "            "
      ],
      "text/plain": [
       "<IPython.core.display.Javascript object>"
      ]
     },
     "metadata": {},
     "output_type": "display_data"
    }
   ],
   "source": [
    "remote_location_rfc.fit(\n",
    "    pd.get_dummies(\n",
    "        train_df.loc[\n",
    "            ~train_df[\"Remote Location\"].isna(),\n",
    "            [\"International\", \"Express Shipment\", \"Transport\"],\n",
    "        ]\n",
    "    ),\n",
    "    train_df.loc[\n",
    "        ~train_df[\"Remote Location\"].isna(),\n",
    "        [\"Remote Location\"],\n",
    "    ],\n",
    ")"
   ]
  },
  {
   "cell_type": "code",
   "execution_count": 81,
   "id": "removable-costa",
   "metadata": {},
   "outputs": [
    {
     "data": {
      "application/javascript": [
       "\n",
       "            setTimeout(function() {\n",
       "                var nbb_cell_id = 81;\n",
       "                var nbb_unformatted_code = \"train_df.loc[\\n    train_df[\\\"Remote Location\\\"].isna(),\\n    [\\\"Remote Location\\\"],\\n] = remote_location_rfc.predict(\\n    pd.get_dummies(\\n        train_df.loc[\\n            train_df[\\\"Remote Location\\\"].isna(),\\n            [\\\"International\\\", \\\"Express Shipment\\\", \\\"Transport\\\"],\\n        ]\\n    )\\n)\";\n",
       "                var nbb_formatted_code = \"train_df.loc[\\n    train_df[\\\"Remote Location\\\"].isna(),\\n    [\\\"Remote Location\\\"],\\n] = remote_location_rfc.predict(\\n    pd.get_dummies(\\n        train_df.loc[\\n            train_df[\\\"Remote Location\\\"].isna(),\\n            [\\\"International\\\", \\\"Express Shipment\\\", \\\"Transport\\\"],\\n        ]\\n    )\\n)\";\n",
       "                var nbb_cells = Jupyter.notebook.get_cells();\n",
       "                for (var i = 0; i < nbb_cells.length; ++i) {\n",
       "                    if (nbb_cells[i].input_prompt_number == nbb_cell_id) {\n",
       "                        if (nbb_cells[i].get_text() == nbb_unformatted_code) {\n",
       "                             nbb_cells[i].set_text(nbb_formatted_code);\n",
       "                        }\n",
       "                        break;\n",
       "                    }\n",
       "                }\n",
       "            }, 500);\n",
       "            "
      ],
      "text/plain": [
       "<IPython.core.display.Javascript object>"
      ]
     },
     "metadata": {},
     "output_type": "display_data"
    }
   ],
   "source": [
    "train_df.loc[\n",
    "    train_df[\"Remote Location\"].isna(),\n",
    "    [\"Remote Location\"],\n",
    "] = remote_location_rfc.predict(\n",
    "    pd.get_dummies(\n",
    "        train_df.loc[\n",
    "            train_df[\"Remote Location\"].isna(),\n",
    "            [\"International\", \"Express Shipment\", \"Transport\"],\n",
    "        ]\n",
    "    )\n",
    ")"
   ]
  },
  {
   "cell_type": "code",
   "execution_count": 82,
   "id": "regulation-waters",
   "metadata": {
    "scrolled": true
   },
   "outputs": [
    {
     "data": {
      "text/html": [
       "<div>\n",
       "<style scoped>\n",
       "    .dataframe tbody tr th:only-of-type {\n",
       "        vertical-align: middle;\n",
       "    }\n",
       "\n",
       "    .dataframe tbody tr th {\n",
       "        vertical-align: top;\n",
       "    }\n",
       "\n",
       "    .dataframe thead th {\n",
       "        text-align: right;\n",
       "    }\n",
       "</style>\n",
       "<table border=\"1\" class=\"dataframe\">\n",
       "  <thead>\n",
       "    <tr style=\"text-align: right;\">\n",
       "      <th></th>\n",
       "      <th>Transport</th>\n",
       "      <th>International</th>\n",
       "      <th>Express Shipment</th>\n",
       "      <th>Remote Location</th>\n",
       "    </tr>\n",
       "  </thead>\n",
       "  <tbody>\n",
       "    <tr>\n",
       "      <th>3152</th>\n",
       "      <td>Roadways</td>\n",
       "      <td>No</td>\n",
       "      <td>No</td>\n",
       "      <td>No</td>\n",
       "    </tr>\n",
       "    <tr>\n",
       "      <th>301</th>\n",
       "      <td>Waterways</td>\n",
       "      <td>Yes</td>\n",
       "      <td>No</td>\n",
       "      <td>No</td>\n",
       "    </tr>\n",
       "    <tr>\n",
       "      <th>1658</th>\n",
       "      <td>Waterways</td>\n",
       "      <td>Yes</td>\n",
       "      <td>No</td>\n",
       "      <td>Yes</td>\n",
       "    </tr>\n",
       "    <tr>\n",
       "      <th>4320</th>\n",
       "      <td>Roadways</td>\n",
       "      <td>No</td>\n",
       "      <td>Yes</td>\n",
       "      <td>No</td>\n",
       "    </tr>\n",
       "    <tr>\n",
       "      <th>3094</th>\n",
       "      <td>Airways</td>\n",
       "      <td>No</td>\n",
       "      <td>Yes</td>\n",
       "      <td>No</td>\n",
       "    </tr>\n",
       "  </tbody>\n",
       "</table>\n",
       "</div>"
      ],
      "text/plain": [
       "      Transport International Express Shipment Remote Location\n",
       "3152   Roadways            No               No              No\n",
       "301   Waterways           Yes               No              No\n",
       "1658  Waterways           Yes               No             Yes\n",
       "4320   Roadways            No              Yes              No\n",
       "3094    Airways            No              Yes              No"
      ]
     },
     "execution_count": 82,
     "metadata": {},
     "output_type": "execute_result"
    },
    {
     "data": {
      "application/javascript": [
       "\n",
       "            setTimeout(function() {\n",
       "                var nbb_cell_id = 82;\n",
       "                var nbb_unformatted_code = \"train_df[[\\\"Transport\\\", \\\"International\\\", \\\"Express Shipment\\\", \\\"Remote Location\\\"]].sample(\\n    5\\n)\";\n",
       "                var nbb_formatted_code = \"train_df[[\\\"Transport\\\", \\\"International\\\", \\\"Express Shipment\\\", \\\"Remote Location\\\"]].sample(\\n    5\\n)\";\n",
       "                var nbb_cells = Jupyter.notebook.get_cells();\n",
       "                for (var i = 0; i < nbb_cells.length; ++i) {\n",
       "                    if (nbb_cells[i].input_prompt_number == nbb_cell_id) {\n",
       "                        if (nbb_cells[i].get_text() == nbb_unformatted_code) {\n",
       "                             nbb_cells[i].set_text(nbb_formatted_code);\n",
       "                        }\n",
       "                        break;\n",
       "                    }\n",
       "                }\n",
       "            }, 500);\n",
       "            "
      ],
      "text/plain": [
       "<IPython.core.display.Javascript object>"
      ]
     },
     "metadata": {},
     "output_type": "display_data"
    }
   ],
   "source": [
    "train_df[[\"Transport\", \"International\", \"Express Shipment\", \"Remote Location\"]].sample(\n",
    "    5\n",
    ")"
   ]
  },
  {
   "cell_type": "code",
   "execution_count": 83,
   "id": "copyrighted-flesh",
   "metadata": {},
   "outputs": [
    {
     "data": {
      "text/plain": [
       "0"
      ]
     },
     "execution_count": 83,
     "metadata": {},
     "output_type": "execute_result"
    },
    {
     "data": {
      "application/javascript": [
       "\n",
       "            setTimeout(function() {\n",
       "                var nbb_cell_id = 83;\n",
       "                var nbb_unformatted_code = \"test_df[\\\"Remote Location\\\"].isna().sum()\";\n",
       "                var nbb_formatted_code = \"test_df[\\\"Remote Location\\\"].isna().sum()\";\n",
       "                var nbb_cells = Jupyter.notebook.get_cells();\n",
       "                for (var i = 0; i < nbb_cells.length; ++i) {\n",
       "                    if (nbb_cells[i].input_prompt_number == nbb_cell_id) {\n",
       "                        if (nbb_cells[i].get_text() == nbb_unformatted_code) {\n",
       "                             nbb_cells[i].set_text(nbb_formatted_code);\n",
       "                        }\n",
       "                        break;\n",
       "                    }\n",
       "                }\n",
       "            }, 500);\n",
       "            "
      ],
      "text/plain": [
       "<IPython.core.display.Javascript object>"
      ]
     },
     "metadata": {},
     "output_type": "display_data"
    }
   ],
   "source": [
    "test_df[\"Remote Location\"].isna().sum()"
   ]
  },
  {
   "cell_type": "markdown",
   "id": "criminal-premiere",
   "metadata": {},
   "source": [
    "No NAs in Remote Location in the test df"
   ]
  },
  {
   "cell_type": "markdown",
   "id": "minus-andrew",
   "metadata": {},
   "source": [
    "### `Height`, `Width`, `Weight`\n",
    "\n",
    "Replacing these with medians"
   ]
  },
  {
   "cell_type": "code",
   "execution_count": 84,
   "id": "respiratory-gates",
   "metadata": {},
   "outputs": [
    {
     "data": {
      "application/javascript": [
       "\n",
       "            setTimeout(function() {\n",
       "                var nbb_cell_id = 84;\n",
       "                var nbb_unformatted_code = \"train_df.loc[train_df[\\\"Height\\\"].isna(), \\\"Height\\\"] = train_df.loc[\\n    ~train_df[\\\"Height\\\"].isna(), \\\"Height\\\"\\n].median()\\ntrain_df.loc[train_df[\\\"Weight\\\"].isna(), \\\"Weight\\\"] = train_df.loc[\\n    ~train_df[\\\"Weight\\\"].isna(), \\\"Weight\\\"\\n].median()\\ntrain_df.loc[train_df[\\\"Width\\\"].isna(), \\\"Width\\\"] = train_df.loc[\\n    ~train_df[\\\"Width\\\"].isna(), \\\"Width\\\"\\n].median()\";\n",
       "                var nbb_formatted_code = \"train_df.loc[train_df[\\\"Height\\\"].isna(), \\\"Height\\\"] = train_df.loc[\\n    ~train_df[\\\"Height\\\"].isna(), \\\"Height\\\"\\n].median()\\ntrain_df.loc[train_df[\\\"Weight\\\"].isna(), \\\"Weight\\\"] = train_df.loc[\\n    ~train_df[\\\"Weight\\\"].isna(), \\\"Weight\\\"\\n].median()\\ntrain_df.loc[train_df[\\\"Width\\\"].isna(), \\\"Width\\\"] = train_df.loc[\\n    ~train_df[\\\"Width\\\"].isna(), \\\"Width\\\"\\n].median()\";\n",
       "                var nbb_cells = Jupyter.notebook.get_cells();\n",
       "                for (var i = 0; i < nbb_cells.length; ++i) {\n",
       "                    if (nbb_cells[i].input_prompt_number == nbb_cell_id) {\n",
       "                        if (nbb_cells[i].get_text() == nbb_unformatted_code) {\n",
       "                             nbb_cells[i].set_text(nbb_formatted_code);\n",
       "                        }\n",
       "                        break;\n",
       "                    }\n",
       "                }\n",
       "            }, 500);\n",
       "            "
      ],
      "text/plain": [
       "<IPython.core.display.Javascript object>"
      ]
     },
     "metadata": {},
     "output_type": "display_data"
    }
   ],
   "source": [
    "train_df.loc[train_df[\"Height\"].isna(), \"Height\"] = train_df.loc[\n",
    "    ~train_df[\"Height\"].isna(), \"Height\"\n",
    "].median()\n",
    "train_df.loc[train_df[\"Weight\"].isna(), \"Weight\"] = train_df.loc[\n",
    "    ~train_df[\"Weight\"].isna(), \"Weight\"\n",
    "].median()\n",
    "train_df.loc[train_df[\"Width\"].isna(), \"Width\"] = train_df.loc[\n",
    "    ~train_df[\"Width\"].isna(), \"Width\"\n",
    "].median()"
   ]
  },
  {
   "cell_type": "code",
   "execution_count": 85,
   "id": "balanced-scroll",
   "metadata": {},
   "outputs": [
    {
     "data": {
      "application/javascript": [
       "\n",
       "            setTimeout(function() {\n",
       "                var nbb_cell_id = 85;\n",
       "                var nbb_unformatted_code = \"test_df.loc[test_df[\\\"Height\\\"].isna(), \\\"Height\\\"] = test_df.loc[\\n    ~test_df[\\\"Height\\\"].isna(), \\\"Height\\\"\\n].median()\\ntest_df.loc[train_df[\\\"Weight\\\"].isna(), \\\"Weight\\\"] = test_df.loc[\\n    ~train_df[\\\"Weight\\\"].isna(), \\\"Weight\\\"\\n].median()\\ntest_df.loc[train_df[\\\"Width\\\"].isna(), \\\"Width\\\"] = test_df.loc[\\n    ~train_df[\\\"Width\\\"].isna(), \\\"Width\\\"\\n].median()\";\n",
       "                var nbb_formatted_code = \"test_df.loc[test_df[\\\"Height\\\"].isna(), \\\"Height\\\"] = test_df.loc[\\n    ~test_df[\\\"Height\\\"].isna(), \\\"Height\\\"\\n].median()\\ntest_df.loc[train_df[\\\"Weight\\\"].isna(), \\\"Weight\\\"] = test_df.loc[\\n    ~train_df[\\\"Weight\\\"].isna(), \\\"Weight\\\"\\n].median()\\ntest_df.loc[train_df[\\\"Width\\\"].isna(), \\\"Width\\\"] = test_df.loc[\\n    ~train_df[\\\"Width\\\"].isna(), \\\"Width\\\"\\n].median()\";\n",
       "                var nbb_cells = Jupyter.notebook.get_cells();\n",
       "                for (var i = 0; i < nbb_cells.length; ++i) {\n",
       "                    if (nbb_cells[i].input_prompt_number == nbb_cell_id) {\n",
       "                        if (nbb_cells[i].get_text() == nbb_unformatted_code) {\n",
       "                             nbb_cells[i].set_text(nbb_formatted_code);\n",
       "                        }\n",
       "                        break;\n",
       "                    }\n",
       "                }\n",
       "            }, 500);\n",
       "            "
      ],
      "text/plain": [
       "<IPython.core.display.Javascript object>"
      ]
     },
     "metadata": {},
     "output_type": "display_data"
    }
   ],
   "source": [
    "test_df.loc[test_df[\"Height\"].isna(), \"Height\"] = test_df.loc[\n",
    "    ~test_df[\"Height\"].isna(), \"Height\"\n",
    "].median()\n",
    "test_df.loc[train_df[\"Weight\"].isna(), \"Weight\"] = test_df.loc[\n",
    "    ~train_df[\"Weight\"].isna(), \"Weight\"\n",
    "].median()\n",
    "test_df.loc[train_df[\"Width\"].isna(), \"Width\"] = test_df.loc[\n",
    "    ~train_df[\"Width\"].isna(), \"Width\"\n",
    "].median()"
   ]
  },
  {
   "cell_type": "markdown",
   "id": "uniform-prefix",
   "metadata": {},
   "source": [
    "### `Material`\n",
    "\n",
    "This variable would be affected by:\n",
    "* `Weight`\n",
    "* `Fragile`\n",
    "* `Price of Sculpture`\n",
    "\n",
    "Is there a relationship between Fragility and Material type we can exploit?"
   ]
  },
  {
   "cell_type": "code",
   "execution_count": 86,
   "id": "departmental-empire",
   "metadata": {},
   "outputs": [
    {
     "data": {
      "text/html": [
       "<div>\n",
       "<style scoped>\n",
       "    .dataframe tbody tr th:only-of-type {\n",
       "        vertical-align: middle;\n",
       "    }\n",
       "\n",
       "    .dataframe tbody tr th {\n",
       "        vertical-align: top;\n",
       "    }\n",
       "\n",
       "    .dataframe thead th {\n",
       "        text-align: right;\n",
       "    }\n",
       "</style>\n",
       "<table border=\"1\" class=\"dataframe\">\n",
       "  <thead>\n",
       "    <tr style=\"text-align: right;\">\n",
       "      <th>Fragile</th>\n",
       "      <th>No</th>\n",
       "      <th>Yes</th>\n",
       "    </tr>\n",
       "    <tr>\n",
       "      <th>Material</th>\n",
       "      <th></th>\n",
       "      <th></th>\n",
       "    </tr>\n",
       "  </thead>\n",
       "  <tbody>\n",
       "    <tr>\n",
       "      <th>Aluminium</th>\n",
       "      <td>845</td>\n",
       "      <td>0</td>\n",
       "    </tr>\n",
       "    <tr>\n",
       "      <th>Brass</th>\n",
       "      <td>845</td>\n",
       "      <td>2</td>\n",
       "    </tr>\n",
       "    <tr>\n",
       "      <th>Bronze</th>\n",
       "      <td>817</td>\n",
       "      <td>4</td>\n",
       "    </tr>\n",
       "    <tr>\n",
       "      <th>Clay</th>\n",
       "      <td>0</td>\n",
       "      <td>816</td>\n",
       "    </tr>\n",
       "    <tr>\n",
       "      <th>Marble</th>\n",
       "      <td>718</td>\n",
       "      <td>101</td>\n",
       "    </tr>\n",
       "    <tr>\n",
       "      <th>Stone</th>\n",
       "      <td>772</td>\n",
       "      <td>0</td>\n",
       "    </tr>\n",
       "    <tr>\n",
       "      <th>Wood</th>\n",
       "      <td>816</td>\n",
       "      <td>0</td>\n",
       "    </tr>\n",
       "  </tbody>\n",
       "</table>\n",
       "</div>"
      ],
      "text/plain": [
       "Fragile     No  Yes\n",
       "Material           \n",
       "Aluminium  845    0\n",
       "Brass      845    2\n",
       "Bronze     817    4\n",
       "Clay         0  816\n",
       "Marble     718  101\n",
       "Stone      772    0\n",
       "Wood       816    0"
      ]
     },
     "execution_count": 86,
     "metadata": {},
     "output_type": "execute_result"
    },
    {
     "data": {
      "application/javascript": [
       "\n",
       "            setTimeout(function() {\n",
       "                var nbb_cell_id = 86;\n",
       "                var nbb_unformatted_code = \"pd.crosstab(train_df[\\\"Material\\\"], train_df[\\\"Fragile\\\"])\";\n",
       "                var nbb_formatted_code = \"pd.crosstab(train_df[\\\"Material\\\"], train_df[\\\"Fragile\\\"])\";\n",
       "                var nbb_cells = Jupyter.notebook.get_cells();\n",
       "                for (var i = 0; i < nbb_cells.length; ++i) {\n",
       "                    if (nbb_cells[i].input_prompt_number == nbb_cell_id) {\n",
       "                        if (nbb_cells[i].get_text() == nbb_unformatted_code) {\n",
       "                             nbb_cells[i].set_text(nbb_formatted_code);\n",
       "                        }\n",
       "                        break;\n",
       "                    }\n",
       "                }\n",
       "            }, 500);\n",
       "            "
      ],
      "text/plain": [
       "<IPython.core.display.Javascript object>"
      ]
     },
     "metadata": {},
     "output_type": "display_data"
    }
   ],
   "source": [
    "pd.crosstab(train_df[\"Material\"], train_df[\"Fragile\"])"
   ]
  },
  {
   "cell_type": "markdown",
   "id": "sudden-survival",
   "metadata": {},
   "source": [
    "Yes, seems like all Fragile Materials are either Clay or Marble"
   ]
  },
  {
   "cell_type": "code",
   "execution_count": 87,
   "id": "specified-patrol",
   "metadata": {},
   "outputs": [
    {
     "data": {
      "text/plain": [
       "Fragile\n",
       "No         648\n",
       "Yes        116\n",
       "dtype: int64"
      ]
     },
     "execution_count": 87,
     "metadata": {},
     "output_type": "execute_result"
    },
    {
     "data": {
      "application/javascript": [
       "\n",
       "            setTimeout(function() {\n",
       "                var nbb_cell_id = 87;\n",
       "                var nbb_unformatted_code = \"train_df.loc[train_df[\\\"Material\\\"].isna(), [\\\"Fragile\\\"]].value_counts()\";\n",
       "                var nbb_formatted_code = \"train_df.loc[train_df[\\\"Material\\\"].isna(), [\\\"Fragile\\\"]].value_counts()\";\n",
       "                var nbb_cells = Jupyter.notebook.get_cells();\n",
       "                for (var i = 0; i < nbb_cells.length; ++i) {\n",
       "                    if (nbb_cells[i].input_prompt_number == nbb_cell_id) {\n",
       "                        if (nbb_cells[i].get_text() == nbb_unformatted_code) {\n",
       "                             nbb_cells[i].set_text(nbb_formatted_code);\n",
       "                        }\n",
       "                        break;\n",
       "                    }\n",
       "                }\n",
       "            }, 500);\n",
       "            "
      ],
      "text/plain": [
       "<IPython.core.display.Javascript object>"
      ]
     },
     "metadata": {},
     "output_type": "display_data"
    }
   ],
   "source": [
    "train_df.loc[train_df[\"Material\"].isna(), [\"Fragile\"]].value_counts()"
   ]
  },
  {
   "cell_type": "markdown",
   "id": "statewide-cursor",
   "metadata": {},
   "source": [
    "But the missing values consists of both \"Yes\" and \"No\". We can use RandomForests again to fill the missing values."
   ]
  },
  {
   "cell_type": "code",
   "execution_count": 88,
   "id": "collective-halloween",
   "metadata": {},
   "outputs": [
    {
     "data": {
      "application/javascript": [
       "\n",
       "            setTimeout(function() {\n",
       "                var nbb_cell_id = 88;\n",
       "                var nbb_unformatted_code = \"material_train_df = train_df.loc[\\n    ~train_df[\\\"Material\\\"].isna(),\\n    [\\\"Material\\\", \\\"Weight\\\", \\\"Fragile\\\", \\\"Price Of Sculpture\\\"],\\n]\";\n",
       "                var nbb_formatted_code = \"material_train_df = train_df.loc[\\n    ~train_df[\\\"Material\\\"].isna(),\\n    [\\\"Material\\\", \\\"Weight\\\", \\\"Fragile\\\", \\\"Price Of Sculpture\\\"],\\n]\";\n",
       "                var nbb_cells = Jupyter.notebook.get_cells();\n",
       "                for (var i = 0; i < nbb_cells.length; ++i) {\n",
       "                    if (nbb_cells[i].input_prompt_number == nbb_cell_id) {\n",
       "                        if (nbb_cells[i].get_text() == nbb_unformatted_code) {\n",
       "                             nbb_cells[i].set_text(nbb_formatted_code);\n",
       "                        }\n",
       "                        break;\n",
       "                    }\n",
       "                }\n",
       "            }, 500);\n",
       "            "
      ],
      "text/plain": [
       "<IPython.core.display.Javascript object>"
      ]
     },
     "metadata": {},
     "output_type": "display_data"
    }
   ],
   "source": [
    "material_train_df = train_df.loc[\n",
    "    ~train_df[\"Material\"].isna(),\n",
    "    [\"Material\", \"Weight\", \"Fragile\", \"Price Of Sculpture\"],\n",
    "]"
   ]
  },
  {
   "cell_type": "code",
   "execution_count": 89,
   "id": "interesting-creation",
   "metadata": {},
   "outputs": [
    {
     "data": {
      "application/javascript": [
       "\n",
       "            setTimeout(function() {\n",
       "                var nbb_cell_id = 89;\n",
       "                var nbb_unformatted_code = \"(\\n    material_X_train,\\n    material_X_val,\\n    material_y_train,\\n    material_y_val,\\n) = train_test_split(\\n    material_train_df.drop([\\\"Material\\\"], axis=1),\\n    material_train_df[[\\\"Material\\\"]],\\n    test_size=0.40,\\n    random_state=42,\\n)\";\n",
       "                var nbb_formatted_code = \"(\\n    material_X_train,\\n    material_X_val,\\n    material_y_train,\\n    material_y_val,\\n) = train_test_split(\\n    material_train_df.drop([\\\"Material\\\"], axis=1),\\n    material_train_df[[\\\"Material\\\"]],\\n    test_size=0.40,\\n    random_state=42,\\n)\";\n",
       "                var nbb_cells = Jupyter.notebook.get_cells();\n",
       "                for (var i = 0; i < nbb_cells.length; ++i) {\n",
       "                    if (nbb_cells[i].input_prompt_number == nbb_cell_id) {\n",
       "                        if (nbb_cells[i].get_text() == nbb_unformatted_code) {\n",
       "                             nbb_cells[i].set_text(nbb_formatted_code);\n",
       "                        }\n",
       "                        break;\n",
       "                    }\n",
       "                }\n",
       "            }, 500);\n",
       "            "
      ],
      "text/plain": [
       "<IPython.core.display.Javascript object>"
      ]
     },
     "metadata": {},
     "output_type": "display_data"
    }
   ],
   "source": [
    "(\n",
    "    material_X_train,\n",
    "    material_X_val,\n",
    "    material_y_train,\n",
    "    material_y_val,\n",
    ") = train_test_split(\n",
    "    material_train_df.drop([\"Material\"], axis=1),\n",
    "    material_train_df[[\"Material\"]],\n",
    "    test_size=0.40,\n",
    "    random_state=42,\n",
    ")"
   ]
  },
  {
   "cell_type": "code",
   "execution_count": 90,
   "id": "stunning-swiss",
   "metadata": {},
   "outputs": [
    {
     "data": {
      "application/javascript": [
       "\n",
       "            setTimeout(function() {\n",
       "                var nbb_cell_id = 90;\n",
       "                var nbb_unformatted_code = \"material_X_train = pd.get_dummies(material_X_train)\\nmaterial_X_val = pd.get_dummies(material_X_val)\";\n",
       "                var nbb_formatted_code = \"material_X_train = pd.get_dummies(material_X_train)\\nmaterial_X_val = pd.get_dummies(material_X_val)\";\n",
       "                var nbb_cells = Jupyter.notebook.get_cells();\n",
       "                for (var i = 0; i < nbb_cells.length; ++i) {\n",
       "                    if (nbb_cells[i].input_prompt_number == nbb_cell_id) {\n",
       "                        if (nbb_cells[i].get_text() == nbb_unformatted_code) {\n",
       "                             nbb_cells[i].set_text(nbb_formatted_code);\n",
       "                        }\n",
       "                        break;\n",
       "                    }\n",
       "                }\n",
       "            }, 500);\n",
       "            "
      ],
      "text/plain": [
       "<IPython.core.display.Javascript object>"
      ]
     },
     "metadata": {},
     "output_type": "display_data"
    }
   ],
   "source": [
    "material_X_train = pd.get_dummies(material_X_train)\n",
    "material_X_val = pd.get_dummies(material_X_val)"
   ]
  },
  {
   "cell_type": "code",
   "execution_count": 91,
   "id": "piano-engineering",
   "metadata": {},
   "outputs": [
    {
     "data": {
      "application/javascript": [
       "\n",
       "            setTimeout(function() {\n",
       "                var nbb_cell_id = 91;\n",
       "                var nbb_unformatted_code = \"n_estimators = [int(x) for x in np.linspace(start=200, stop=2000, num=10)]\\ncriterion = [\\\"gini\\\", \\\"entropy\\\"]\\nmax_features = [\\\"auto\\\", \\\"sqrt\\\"]\\nmax_depth = [int(x) for x in np.linspace(10, 110, num=11)]\\nmax_depth.append(None)\\nmin_samples_split = [2, 5, 10]\\nmin_samples_leaf = [1, 2, 4]\\nbootstrap = [True, False]\\n\\n# Create the random grid\\nrandom_grid = {\\n    \\\"n_estimators\\\": n_estimators,\\n    \\\"criterion\\\": criterion,\\n    \\\"max_features\\\": max_features,\\n    \\\"max_depth\\\": max_depth,\\n    \\\"min_samples_split\\\": min_samples_split,\\n    \\\"min_samples_leaf\\\": min_samples_leaf,\\n    \\\"bootstrap\\\": bootstrap,\\n}\";\n",
       "                var nbb_formatted_code = \"n_estimators = [int(x) for x in np.linspace(start=200, stop=2000, num=10)]\\ncriterion = [\\\"gini\\\", \\\"entropy\\\"]\\nmax_features = [\\\"auto\\\", \\\"sqrt\\\"]\\nmax_depth = [int(x) for x in np.linspace(10, 110, num=11)]\\nmax_depth.append(None)\\nmin_samples_split = [2, 5, 10]\\nmin_samples_leaf = [1, 2, 4]\\nbootstrap = [True, False]\\n\\n# Create the random grid\\nrandom_grid = {\\n    \\\"n_estimators\\\": n_estimators,\\n    \\\"criterion\\\": criterion,\\n    \\\"max_features\\\": max_features,\\n    \\\"max_depth\\\": max_depth,\\n    \\\"min_samples_split\\\": min_samples_split,\\n    \\\"min_samples_leaf\\\": min_samples_leaf,\\n    \\\"bootstrap\\\": bootstrap,\\n}\";\n",
       "                var nbb_cells = Jupyter.notebook.get_cells();\n",
       "                for (var i = 0; i < nbb_cells.length; ++i) {\n",
       "                    if (nbb_cells[i].input_prompt_number == nbb_cell_id) {\n",
       "                        if (nbb_cells[i].get_text() == nbb_unformatted_code) {\n",
       "                             nbb_cells[i].set_text(nbb_formatted_code);\n",
       "                        }\n",
       "                        break;\n",
       "                    }\n",
       "                }\n",
       "            }, 500);\n",
       "            "
      ],
      "text/plain": [
       "<IPython.core.display.Javascript object>"
      ]
     },
     "metadata": {},
     "output_type": "display_data"
    }
   ],
   "source": [
    "n_estimators = [int(x) for x in np.linspace(start=200, stop=2000, num=10)]\n",
    "criterion = [\"gini\", \"entropy\"]\n",
    "max_features = [\"auto\", \"sqrt\"]\n",
    "max_depth = [int(x) for x in np.linspace(10, 110, num=11)]\n",
    "max_depth.append(None)\n",
    "min_samples_split = [2, 5, 10]\n",
    "min_samples_leaf = [1, 2, 4]\n",
    "bootstrap = [True, False]\n",
    "\n",
    "# Create the random grid\n",
    "random_grid = {\n",
    "    \"n_estimators\": n_estimators,\n",
    "    \"criterion\": criterion,\n",
    "    \"max_features\": max_features,\n",
    "    \"max_depth\": max_depth,\n",
    "    \"min_samples_split\": min_samples_split,\n",
    "    \"min_samples_leaf\": min_samples_leaf,\n",
    "    \"bootstrap\": bootstrap,\n",
    "}"
   ]
  },
  {
   "cell_type": "code",
   "execution_count": 92,
   "id": "irish-addition",
   "metadata": {},
   "outputs": [
    {
     "data": {
      "application/javascript": [
       "\n",
       "            setTimeout(function() {\n",
       "                var nbb_cell_id = 92;\n",
       "                var nbb_unformatted_code = \"material_rf_clf = RandomForestClassifier()\";\n",
       "                var nbb_formatted_code = \"material_rf_clf = RandomForestClassifier()\";\n",
       "                var nbb_cells = Jupyter.notebook.get_cells();\n",
       "                for (var i = 0; i < nbb_cells.length; ++i) {\n",
       "                    if (nbb_cells[i].input_prompt_number == nbb_cell_id) {\n",
       "                        if (nbb_cells[i].get_text() == nbb_unformatted_code) {\n",
       "                             nbb_cells[i].set_text(nbb_formatted_code);\n",
       "                        }\n",
       "                        break;\n",
       "                    }\n",
       "                }\n",
       "            }, 500);\n",
       "            "
      ],
      "text/plain": [
       "<IPython.core.display.Javascript object>"
      ]
     },
     "metadata": {},
     "output_type": "display_data"
    }
   ],
   "source": [
    "material_rf_clf = RandomForestClassifier()"
   ]
  },
  {
   "cell_type": "code",
   "execution_count": 93,
   "id": "extensive-defeat",
   "metadata": {},
   "outputs": [
    {
     "data": {
      "application/javascript": [
       "\n",
       "            setTimeout(function() {\n",
       "                var nbb_cell_id = 93;\n",
       "                var nbb_unformatted_code = \"rf_random = RandomizedSearchCV(\\n    estimator=material_rf_clf,\\n    param_distributions=random_grid,\\n    n_iter=100,\\n    cv=3,\\n    verbose=2,\\n    random_state=42,\\n    n_jobs=-1,\\n)\";\n",
       "                var nbb_formatted_code = \"rf_random = RandomizedSearchCV(\\n    estimator=material_rf_clf,\\n    param_distributions=random_grid,\\n    n_iter=100,\\n    cv=3,\\n    verbose=2,\\n    random_state=42,\\n    n_jobs=-1,\\n)\";\n",
       "                var nbb_cells = Jupyter.notebook.get_cells();\n",
       "                for (var i = 0; i < nbb_cells.length; ++i) {\n",
       "                    if (nbb_cells[i].input_prompt_number == nbb_cell_id) {\n",
       "                        if (nbb_cells[i].get_text() == nbb_unformatted_code) {\n",
       "                             nbb_cells[i].set_text(nbb_formatted_code);\n",
       "                        }\n",
       "                        break;\n",
       "                    }\n",
       "                }\n",
       "            }, 500);\n",
       "            "
      ],
      "text/plain": [
       "<IPython.core.display.Javascript object>"
      ]
     },
     "metadata": {},
     "output_type": "display_data"
    }
   ],
   "source": [
    "rf_random = RandomizedSearchCV(\n",
    "    estimator=material_rf_clf,\n",
    "    param_distributions=random_grid,\n",
    "    n_iter=100,\n",
    "    cv=3,\n",
    "    verbose=2,\n",
    "    random_state=42,\n",
    "    n_jobs=-1,\n",
    ")"
   ]
  },
  {
   "cell_type": "code",
   "execution_count": 94,
   "id": "physical-disclaimer",
   "metadata": {},
   "outputs": [
    {
     "data": {
      "application/javascript": [
       "\n",
       "            setTimeout(function() {\n",
       "                var nbb_cell_id = 94;\n",
       "                var nbb_unformatted_code = \"if TUNING:\\n    rf_random.fit(\\n        material_X_train,\\n        material_y_train,\\n    )\";\n",
       "                var nbb_formatted_code = \"if TUNING:\\n    rf_random.fit(\\n        material_X_train,\\n        material_y_train,\\n    )\";\n",
       "                var nbb_cells = Jupyter.notebook.get_cells();\n",
       "                for (var i = 0; i < nbb_cells.length; ++i) {\n",
       "                    if (nbb_cells[i].input_prompt_number == nbb_cell_id) {\n",
       "                        if (nbb_cells[i].get_text() == nbb_unformatted_code) {\n",
       "                             nbb_cells[i].set_text(nbb_formatted_code);\n",
       "                        }\n",
       "                        break;\n",
       "                    }\n",
       "                }\n",
       "            }, 500);\n",
       "            "
      ],
      "text/plain": [
       "<IPython.core.display.Javascript object>"
      ]
     },
     "metadata": {},
     "output_type": "display_data"
    }
   ],
   "source": [
    "if TUNING:\n",
    "    rf_random.fit(\n",
    "        material_X_train,\n",
    "        material_y_train,\n",
    "    )"
   ]
  },
  {
   "cell_type": "code",
   "execution_count": 95,
   "id": "large-humor",
   "metadata": {},
   "outputs": [
    {
     "data": {
      "application/javascript": [
       "\n",
       "            setTimeout(function() {\n",
       "                var nbb_cell_id = 95;\n",
       "                var nbb_unformatted_code = \"if TUNING:\\n    print(rf_random.best_params_)\";\n",
       "                var nbb_formatted_code = \"if TUNING:\\n    print(rf_random.best_params_)\";\n",
       "                var nbb_cells = Jupyter.notebook.get_cells();\n",
       "                for (var i = 0; i < nbb_cells.length; ++i) {\n",
       "                    if (nbb_cells[i].input_prompt_number == nbb_cell_id) {\n",
       "                        if (nbb_cells[i].get_text() == nbb_unformatted_code) {\n",
       "                             nbb_cells[i].set_text(nbb_formatted_code);\n",
       "                        }\n",
       "                        break;\n",
       "                    }\n",
       "                }\n",
       "            }, 500);\n",
       "            "
      ],
      "text/plain": [
       "<IPython.core.display.Javascript object>"
      ]
     },
     "metadata": {},
     "output_type": "display_data"
    }
   ],
   "source": [
    "if TUNING:\n",
    "    print(rf_random.best_params_)"
   ]
  },
  {
   "cell_type": "markdown",
   "id": "hydraulic-prime",
   "metadata": {},
   "source": [
    "* Best parameters based on random\n",
    "\n",
    "```python\n",
    "{\n",
    "    \"n_estimators\": 200,\n",
    "    \"min_samples_split\": 5,\n",
    "    \"min_samples_leaf\": 1,\n",
    "    \"max_features\": \"sqrt\",\n",
    "    \"max_depth\": 10,\n",
    "    \"criterion\": \"entropy\",\n",
    "    \"bootstrap\": True,\n",
    "}\n",
    "```"
   ]
  },
  {
   "cell_type": "code",
   "execution_count": 96,
   "id": "curious-disclaimer",
   "metadata": {},
   "outputs": [
    {
     "data": {
      "application/javascript": [
       "\n",
       "            setTimeout(function() {\n",
       "                var nbb_cell_id = 96;\n",
       "                var nbb_unformatted_code = \"if TUNING:\\n    base_model = RandomForestClassifier(n_estimators=10, random_state=42)\\n    base_model.fit(\\n        material_X_train,\\n        material_y_train,\\n    )\\n    material_X_pred = base_model.predict(material_X_val)\\n    print(f1_score(material_y_val, material_X_pred, average=\\\"weighted\\\"))\";\n",
       "                var nbb_formatted_code = \"if TUNING:\\n    base_model = RandomForestClassifier(n_estimators=10, random_state=42)\\n    base_model.fit(\\n        material_X_train,\\n        material_y_train,\\n    )\\n    material_X_pred = base_model.predict(material_X_val)\\n    print(f1_score(material_y_val, material_X_pred, average=\\\"weighted\\\"))\";\n",
       "                var nbb_cells = Jupyter.notebook.get_cells();\n",
       "                for (var i = 0; i < nbb_cells.length; ++i) {\n",
       "                    if (nbb_cells[i].input_prompt_number == nbb_cell_id) {\n",
       "                        if (nbb_cells[i].get_text() == nbb_unformatted_code) {\n",
       "                             nbb_cells[i].set_text(nbb_formatted_code);\n",
       "                        }\n",
       "                        break;\n",
       "                    }\n",
       "                }\n",
       "            }, 500);\n",
       "            "
      ],
      "text/plain": [
       "<IPython.core.display.Javascript object>"
      ]
     },
     "metadata": {},
     "output_type": "display_data"
    }
   ],
   "source": [
    "if TUNING:\n",
    "    base_model = RandomForestClassifier(n_estimators=10, random_state=42)\n",
    "    base_model.fit(\n",
    "        material_X_train,\n",
    "        material_y_train,\n",
    "    )\n",
    "    material_X_pred = base_model.predict(material_X_val)\n",
    "    print(f1_score(material_y_val, material_X_pred, average=\"weighted\"))"
   ]
  },
  {
   "cell_type": "code",
   "execution_count": 97,
   "id": "wooden-environment",
   "metadata": {},
   "outputs": [
    {
     "data": {
      "application/javascript": [
       "\n",
       "            setTimeout(function() {\n",
       "                var nbb_cell_id = 97;\n",
       "                var nbb_unformatted_code = \"if TUNING:\\n    best_random = rf_random.best_estimator_\\n    material_X_pred = best_random.predict(material_X_val)\\n    print(f1_score(material_y_val, material_X_pred, average=\\\"weighted\\\"))\";\n",
       "                var nbb_formatted_code = \"if TUNING:\\n    best_random = rf_random.best_estimator_\\n    material_X_pred = best_random.predict(material_X_val)\\n    print(f1_score(material_y_val, material_X_pred, average=\\\"weighted\\\"))\";\n",
       "                var nbb_cells = Jupyter.notebook.get_cells();\n",
       "                for (var i = 0; i < nbb_cells.length; ++i) {\n",
       "                    if (nbb_cells[i].input_prompt_number == nbb_cell_id) {\n",
       "                        if (nbb_cells[i].get_text() == nbb_unformatted_code) {\n",
       "                             nbb_cells[i].set_text(nbb_formatted_code);\n",
       "                        }\n",
       "                        break;\n",
       "                    }\n",
       "                }\n",
       "            }, 500);\n",
       "            "
      ],
      "text/plain": [
       "<IPython.core.display.Javascript object>"
      ]
     },
     "metadata": {},
     "output_type": "display_data"
    }
   ],
   "source": [
    "if TUNING:\n",
    "    best_random = rf_random.best_estimator_\n",
    "    material_X_pred = best_random.predict(material_X_val)\n",
    "    print(f1_score(material_y_val, material_X_pred, average=\"weighted\"))"
   ]
  },
  {
   "cell_type": "markdown",
   "id": "emerging-treat",
   "metadata": {},
   "source": [
    "* The best params improve the F1 score\n",
    "* Creating Grid search using the params"
   ]
  },
  {
   "cell_type": "code",
   "execution_count": 98,
   "id": "still-weather",
   "metadata": {},
   "outputs": [
    {
     "data": {
      "application/javascript": [
       "\n",
       "            setTimeout(function() {\n",
       "                var nbb_cell_id = 98;\n",
       "                var nbb_unformatted_code = \"param_grid = {\\n    \\\"bootstrap\\\": [True],\\n    \\\"max_depth\\\": [10, 20, 30],\\n    \\\"max_features\\\": [2, 3],\\n    \\\"min_samples_leaf\\\": [1, 2],\\n    \\\"min_samples_split\\\": [5, 6, 7],\\n    \\\"n_estimators\\\": [200, 300, 400],\\n}\";\n",
       "                var nbb_formatted_code = \"param_grid = {\\n    \\\"bootstrap\\\": [True],\\n    \\\"max_depth\\\": [10, 20, 30],\\n    \\\"max_features\\\": [2, 3],\\n    \\\"min_samples_leaf\\\": [1, 2],\\n    \\\"min_samples_split\\\": [5, 6, 7],\\n    \\\"n_estimators\\\": [200, 300, 400],\\n}\";\n",
       "                var nbb_cells = Jupyter.notebook.get_cells();\n",
       "                for (var i = 0; i < nbb_cells.length; ++i) {\n",
       "                    if (nbb_cells[i].input_prompt_number == nbb_cell_id) {\n",
       "                        if (nbb_cells[i].get_text() == nbb_unformatted_code) {\n",
       "                             nbb_cells[i].set_text(nbb_formatted_code);\n",
       "                        }\n",
       "                        break;\n",
       "                    }\n",
       "                }\n",
       "            }, 500);\n",
       "            "
      ],
      "text/plain": [
       "<IPython.core.display.Javascript object>"
      ]
     },
     "metadata": {},
     "output_type": "display_data"
    }
   ],
   "source": [
    "param_grid = {\n",
    "    \"bootstrap\": [True],\n",
    "    \"max_depth\": [10, 20, 30],\n",
    "    \"max_features\": [2, 3],\n",
    "    \"min_samples_leaf\": [1, 2],\n",
    "    \"min_samples_split\": [5, 6, 7],\n",
    "    \"n_estimators\": [200, 300, 400],\n",
    "}"
   ]
  },
  {
   "cell_type": "code",
   "execution_count": 99,
   "id": "overall-finding",
   "metadata": {},
   "outputs": [
    {
     "data": {
      "application/javascript": [
       "\n",
       "            setTimeout(function() {\n",
       "                var nbb_cell_id = 99;\n",
       "                var nbb_unformatted_code = \"# Create a base model\\nrf = RandomForestClassifier()\\n\\n# Instantiate the grid search model\\ngrid_search = GridSearchCV(\\n    estimator=rf, param_grid=param_grid, cv=3, n_jobs=-1, verbose=2\\n)\";\n",
       "                var nbb_formatted_code = \"# Create a base model\\nrf = RandomForestClassifier()\\n\\n# Instantiate the grid search model\\ngrid_search = GridSearchCV(\\n    estimator=rf, param_grid=param_grid, cv=3, n_jobs=-1, verbose=2\\n)\";\n",
       "                var nbb_cells = Jupyter.notebook.get_cells();\n",
       "                for (var i = 0; i < nbb_cells.length; ++i) {\n",
       "                    if (nbb_cells[i].input_prompt_number == nbb_cell_id) {\n",
       "                        if (nbb_cells[i].get_text() == nbb_unformatted_code) {\n",
       "                             nbb_cells[i].set_text(nbb_formatted_code);\n",
       "                        }\n",
       "                        break;\n",
       "                    }\n",
       "                }\n",
       "            }, 500);\n",
       "            "
      ],
      "text/plain": [
       "<IPython.core.display.Javascript object>"
      ]
     },
     "metadata": {},
     "output_type": "display_data"
    }
   ],
   "source": [
    "# Create a base model\n",
    "rf = RandomForestClassifier()\n",
    "\n",
    "# Instantiate the grid search model\n",
    "grid_search = GridSearchCV(\n",
    "    estimator=rf, param_grid=param_grid, cv=3, n_jobs=-1, verbose=2\n",
    ")"
   ]
  },
  {
   "cell_type": "code",
   "execution_count": 100,
   "id": "educated-optics",
   "metadata": {},
   "outputs": [
    {
     "data": {
      "application/javascript": [
       "\n",
       "            setTimeout(function() {\n",
       "                var nbb_cell_id = 100;\n",
       "                var nbb_unformatted_code = \"if TUNING:\\n    # Fit the grid search to the data\\n    grid_search.fit(material_X_train, material_y_train)\";\n",
       "                var nbb_formatted_code = \"if TUNING:\\n    # Fit the grid search to the data\\n    grid_search.fit(material_X_train, material_y_train)\";\n",
       "                var nbb_cells = Jupyter.notebook.get_cells();\n",
       "                for (var i = 0; i < nbb_cells.length; ++i) {\n",
       "                    if (nbb_cells[i].input_prompt_number == nbb_cell_id) {\n",
       "                        if (nbb_cells[i].get_text() == nbb_unformatted_code) {\n",
       "                             nbb_cells[i].set_text(nbb_formatted_code);\n",
       "                        }\n",
       "                        break;\n",
       "                    }\n",
       "                }\n",
       "            }, 500);\n",
       "            "
      ],
      "text/plain": [
       "<IPython.core.display.Javascript object>"
      ]
     },
     "metadata": {},
     "output_type": "display_data"
    }
   ],
   "source": [
    "if TUNING:\n",
    "    # Fit the grid search to the data\n",
    "    grid_search.fit(material_X_train, material_y_train)"
   ]
  },
  {
   "cell_type": "code",
   "execution_count": 101,
   "id": "random-winning",
   "metadata": {},
   "outputs": [
    {
     "data": {
      "application/javascript": [
       "\n",
       "            setTimeout(function() {\n",
       "                var nbb_cell_id = 101;\n",
       "                var nbb_unformatted_code = \"if TUNING:\\n    print(grid_search.best_params_)\";\n",
       "                var nbb_formatted_code = \"if TUNING:\\n    print(grid_search.best_params_)\";\n",
       "                var nbb_cells = Jupyter.notebook.get_cells();\n",
       "                for (var i = 0; i < nbb_cells.length; ++i) {\n",
       "                    if (nbb_cells[i].input_prompt_number == nbb_cell_id) {\n",
       "                        if (nbb_cells[i].get_text() == nbb_unformatted_code) {\n",
       "                             nbb_cells[i].set_text(nbb_formatted_code);\n",
       "                        }\n",
       "                        break;\n",
       "                    }\n",
       "                }\n",
       "            }, 500);\n",
       "            "
      ],
      "text/plain": [
       "<IPython.core.display.Javascript object>"
      ]
     },
     "metadata": {},
     "output_type": "display_data"
    }
   ],
   "source": [
    "if TUNING:\n",
    "    print(grid_search.best_params_)"
   ]
  },
  {
   "cell_type": "markdown",
   "id": "numerous-replication",
   "metadata": {},
   "source": [
    "* Best params:\n",
    "\n",
    "```python\n",
    "{\n",
    "    \"bootstrap\": True,\n",
    "    \"max_depth\": 10,\n",
    "    \"max_features\": 2,\n",
    "    \"min_samples_leaf\": 2,\n",
    "    \"min_samples_split\": 7,\n",
    "    \"n_estimators\": 200,\n",
    "}\n",
    "```"
   ]
  },
  {
   "cell_type": "code",
   "execution_count": 102,
   "id": "mounted-witch",
   "metadata": {},
   "outputs": [
    {
     "data": {
      "application/javascript": [
       "\n",
       "            setTimeout(function() {\n",
       "                var nbb_cell_id = 102;\n",
       "                var nbb_unformatted_code = \"if TUNING:\\n    best_grid = grid_search.best_estimator_\\n    material_y_pred = best_grid.predict(material_X_val)\\n    print(f1_score(material_y_val, material_y_pred, average=\\\"weighted\\\"))\";\n",
       "                var nbb_formatted_code = \"if TUNING:\\n    best_grid = grid_search.best_estimator_\\n    material_y_pred = best_grid.predict(material_X_val)\\n    print(f1_score(material_y_val, material_y_pred, average=\\\"weighted\\\"))\";\n",
       "                var nbb_cells = Jupyter.notebook.get_cells();\n",
       "                for (var i = 0; i < nbb_cells.length; ++i) {\n",
       "                    if (nbb_cells[i].input_prompt_number == nbb_cell_id) {\n",
       "                        if (nbb_cells[i].get_text() == nbb_unformatted_code) {\n",
       "                             nbb_cells[i].set_text(nbb_formatted_code);\n",
       "                        }\n",
       "                        break;\n",
       "                    }\n",
       "                }\n",
       "            }, 500);\n",
       "            "
      ],
      "text/plain": [
       "<IPython.core.display.Javascript object>"
      ]
     },
     "metadata": {},
     "output_type": "display_data"
    }
   ],
   "source": [
    "if TUNING:\n",
    "    best_grid = grid_search.best_estimator_\n",
    "    material_y_pred = best_grid.predict(material_X_val)\n",
    "    print(f1_score(material_y_val, material_y_pred, average=\"weighted\"))"
   ]
  },
  {
   "cell_type": "code",
   "execution_count": 103,
   "id": "advanced-sunrise",
   "metadata": {},
   "outputs": [
    {
     "data": {
      "application/javascript": [
       "\n",
       "            setTimeout(function() {\n",
       "                var nbb_cell_id = 103;\n",
       "                var nbb_unformatted_code = \"material_rfc = RandomForestClassifier(\\n    **{\\n        \\\"n_estimators\\\": 200,\\n        \\\"min_samples_split\\\": 7,\\n        \\\"min_samples_leaf\\\": 2,\\n        \\\"max_features\\\": \\\"sqrt\\\",\\n        \\\"max_depth\\\": 10,\\n        \\\"criterion\\\": \\\"entropy\\\",\\n        \\\"bootstrap\\\": True,\\n    }\\n)\";\n",
       "                var nbb_formatted_code = \"material_rfc = RandomForestClassifier(\\n    **{\\n        \\\"n_estimators\\\": 200,\\n        \\\"min_samples_split\\\": 7,\\n        \\\"min_samples_leaf\\\": 2,\\n        \\\"max_features\\\": \\\"sqrt\\\",\\n        \\\"max_depth\\\": 10,\\n        \\\"criterion\\\": \\\"entropy\\\",\\n        \\\"bootstrap\\\": True,\\n    }\\n)\";\n",
       "                var nbb_cells = Jupyter.notebook.get_cells();\n",
       "                for (var i = 0; i < nbb_cells.length; ++i) {\n",
       "                    if (nbb_cells[i].input_prompt_number == nbb_cell_id) {\n",
       "                        if (nbb_cells[i].get_text() == nbb_unformatted_code) {\n",
       "                             nbb_cells[i].set_text(nbb_formatted_code);\n",
       "                        }\n",
       "                        break;\n",
       "                    }\n",
       "                }\n",
       "            }, 500);\n",
       "            "
      ],
      "text/plain": [
       "<IPython.core.display.Javascript object>"
      ]
     },
     "metadata": {},
     "output_type": "display_data"
    }
   ],
   "source": [
    "material_rfc = RandomForestClassifier(\n",
    "    **{\n",
    "        \"n_estimators\": 200,\n",
    "        \"min_samples_split\": 7,\n",
    "        \"min_samples_leaf\": 2,\n",
    "        \"max_features\": \"sqrt\",\n",
    "        \"max_depth\": 10,\n",
    "        \"criterion\": \"entropy\",\n",
    "        \"bootstrap\": True,\n",
    "    }\n",
    ")"
   ]
  },
  {
   "cell_type": "code",
   "execution_count": 104,
   "id": "cloudy-emphasis",
   "metadata": {},
   "outputs": [
    {
     "name": "stderr",
     "output_type": "stream",
     "text": [
      "<ipython-input-104-d5f61ef203e1>:1: DataConversionWarning: A column-vector y was passed when a 1d array was expected. Please change the shape of y to (n_samples,), for example using ravel().\n",
      "  material_rfc.fit(\n"
     ]
    },
    {
     "data": {
      "text/plain": [
       "RandomForestClassifier(criterion='entropy', max_depth=10, max_features='sqrt',\n",
       "                       min_samples_leaf=2, min_samples_split=7,\n",
       "                       n_estimators=200)"
      ]
     },
     "execution_count": 104,
     "metadata": {},
     "output_type": "execute_result"
    },
    {
     "data": {
      "application/javascript": [
       "\n",
       "            setTimeout(function() {\n",
       "                var nbb_cell_id = 104;\n",
       "                var nbb_unformatted_code = \"material_rfc.fit(\\n    pd.get_dummies(\\n        train_df.loc[\\n            ~train_df[\\\"Material\\\"].isna(),\\n            [\\\"Weight\\\", \\\"Fragile\\\", \\\"Price Of Sculpture\\\"],\\n        ]\\n    ),\\n    train_df.loc[\\n        ~train_df[\\\"Material\\\"].isna(),\\n        [\\\"Material\\\"],\\n    ],\\n)\";\n",
       "                var nbb_formatted_code = \"material_rfc.fit(\\n    pd.get_dummies(\\n        train_df.loc[\\n            ~train_df[\\\"Material\\\"].isna(),\\n            [\\\"Weight\\\", \\\"Fragile\\\", \\\"Price Of Sculpture\\\"],\\n        ]\\n    ),\\n    train_df.loc[\\n        ~train_df[\\\"Material\\\"].isna(),\\n        [\\\"Material\\\"],\\n    ],\\n)\";\n",
       "                var nbb_cells = Jupyter.notebook.get_cells();\n",
       "                for (var i = 0; i < nbb_cells.length; ++i) {\n",
       "                    if (nbb_cells[i].input_prompt_number == nbb_cell_id) {\n",
       "                        if (nbb_cells[i].get_text() == nbb_unformatted_code) {\n",
       "                             nbb_cells[i].set_text(nbb_formatted_code);\n",
       "                        }\n",
       "                        break;\n",
       "                    }\n",
       "                }\n",
       "            }, 500);\n",
       "            "
      ],
      "text/plain": [
       "<IPython.core.display.Javascript object>"
      ]
     },
     "metadata": {},
     "output_type": "display_data"
    }
   ],
   "source": [
    "material_rfc.fit(\n",
    "    pd.get_dummies(\n",
    "        train_df.loc[\n",
    "            ~train_df[\"Material\"].isna(),\n",
    "            [\"Weight\", \"Fragile\", \"Price Of Sculpture\"],\n",
    "        ]\n",
    "    ),\n",
    "    train_df.loc[\n",
    "        ~train_df[\"Material\"].isna(),\n",
    "        [\"Material\"],\n",
    "    ],\n",
    ")"
   ]
  },
  {
   "cell_type": "code",
   "execution_count": 105,
   "id": "nutritional-citizenship",
   "metadata": {},
   "outputs": [
    {
     "data": {
      "application/javascript": [
       "\n",
       "            setTimeout(function() {\n",
       "                var nbb_cell_id = 105;\n",
       "                var nbb_unformatted_code = \"train_df.loc[train_df[\\\"Material\\\"].isna(), [\\\"Material\\\"],] = material_rfc.predict(\\n    pd.get_dummies(\\n        train_df.loc[\\n            train_df[\\\"Material\\\"].isna(),\\n            [\\\"Weight\\\", \\\"Fragile\\\", \\\"Price Of Sculpture\\\"],\\n        ]\\n    )\\n)\";\n",
       "                var nbb_formatted_code = \"train_df.loc[train_df[\\\"Material\\\"].isna(), [\\\"Material\\\"],] = material_rfc.predict(\\n    pd.get_dummies(\\n        train_df.loc[\\n            train_df[\\\"Material\\\"].isna(),\\n            [\\\"Weight\\\", \\\"Fragile\\\", \\\"Price Of Sculpture\\\"],\\n        ]\\n    )\\n)\";\n",
       "                var nbb_cells = Jupyter.notebook.get_cells();\n",
       "                for (var i = 0; i < nbb_cells.length; ++i) {\n",
       "                    if (nbb_cells[i].input_prompt_number == nbb_cell_id) {\n",
       "                        if (nbb_cells[i].get_text() == nbb_unformatted_code) {\n",
       "                             nbb_cells[i].set_text(nbb_formatted_code);\n",
       "                        }\n",
       "                        break;\n",
       "                    }\n",
       "                }\n",
       "            }, 500);\n",
       "            "
      ],
      "text/plain": [
       "<IPython.core.display.Javascript object>"
      ]
     },
     "metadata": {},
     "output_type": "display_data"
    }
   ],
   "source": [
    "train_df.loc[train_df[\"Material\"].isna(), [\"Material\"],] = material_rfc.predict(\n",
    "    pd.get_dummies(\n",
    "        train_df.loc[\n",
    "            train_df[\"Material\"].isna(),\n",
    "            [\"Weight\", \"Fragile\", \"Price Of Sculpture\"],\n",
    "        ]\n",
    "    )\n",
    ")"
   ]
  },
  {
   "cell_type": "code",
   "execution_count": 106,
   "id": "happy-crime",
   "metadata": {},
   "outputs": [
    {
     "data": {
      "text/html": [
       "<div>\n",
       "<style scoped>\n",
       "    .dataframe tbody tr th:only-of-type {\n",
       "        vertical-align: middle;\n",
       "    }\n",
       "\n",
       "    .dataframe tbody tr th {\n",
       "        vertical-align: top;\n",
       "    }\n",
       "\n",
       "    .dataframe thead th {\n",
       "        text-align: right;\n",
       "    }\n",
       "</style>\n",
       "<table border=\"1\" class=\"dataframe\">\n",
       "  <thead>\n",
       "    <tr style=\"text-align: right;\">\n",
       "      <th></th>\n",
       "      <th>Weight</th>\n",
       "      <th>Fragile</th>\n",
       "      <th>Price Of Sculpture</th>\n",
       "      <th>Material</th>\n",
       "    </tr>\n",
       "  </thead>\n",
       "  <tbody>\n",
       "    <tr>\n",
       "      <th>6394</th>\n",
       "      <td>7581.0</td>\n",
       "      <td>No</td>\n",
       "      <td>20.00</td>\n",
       "      <td>Brass</td>\n",
       "    </tr>\n",
       "    <tr>\n",
       "      <th>4251</th>\n",
       "      <td>432.0</td>\n",
       "      <td>No</td>\n",
       "      <td>6.86</td>\n",
       "      <td>Aluminium</td>\n",
       "    </tr>\n",
       "    <tr>\n",
       "      <th>2315</th>\n",
       "      <td>107.0</td>\n",
       "      <td>No</td>\n",
       "      <td>3.24</td>\n",
       "      <td>Wood</td>\n",
       "    </tr>\n",
       "    <tr>\n",
       "      <th>2470</th>\n",
       "      <td>4228.0</td>\n",
       "      <td>No</td>\n",
       "      <td>7.00</td>\n",
       "      <td>Marble</td>\n",
       "    </tr>\n",
       "    <tr>\n",
       "      <th>2698</th>\n",
       "      <td>6379.0</td>\n",
       "      <td>No</td>\n",
       "      <td>39.01</td>\n",
       "      <td>Stone</td>\n",
       "    </tr>\n",
       "  </tbody>\n",
       "</table>\n",
       "</div>"
      ],
      "text/plain": [
       "      Weight Fragile  Price Of Sculpture   Material\n",
       "6394  7581.0      No               20.00      Brass\n",
       "4251   432.0      No                6.86  Aluminium\n",
       "2315   107.0      No                3.24       Wood\n",
       "2470  4228.0      No                7.00     Marble\n",
       "2698  6379.0      No               39.01      Stone"
      ]
     },
     "execution_count": 106,
     "metadata": {},
     "output_type": "execute_result"
    },
    {
     "data": {
      "application/javascript": [
       "\n",
       "            setTimeout(function() {\n",
       "                var nbb_cell_id = 106;\n",
       "                var nbb_unformatted_code = \"train_df[[\\\"Weight\\\", \\\"Fragile\\\", \\\"Price Of Sculpture\\\", \\\"Material\\\"]].sample(5)\";\n",
       "                var nbb_formatted_code = \"train_df[[\\\"Weight\\\", \\\"Fragile\\\", \\\"Price Of Sculpture\\\", \\\"Material\\\"]].sample(5)\";\n",
       "                var nbb_cells = Jupyter.notebook.get_cells();\n",
       "                for (var i = 0; i < nbb_cells.length; ++i) {\n",
       "                    if (nbb_cells[i].input_prompt_number == nbb_cell_id) {\n",
       "                        if (nbb_cells[i].get_text() == nbb_unformatted_code) {\n",
       "                             nbb_cells[i].set_text(nbb_formatted_code);\n",
       "                        }\n",
       "                        break;\n",
       "                    }\n",
       "                }\n",
       "            }, 500);\n",
       "            "
      ],
      "text/plain": [
       "<IPython.core.display.Javascript object>"
      ]
     },
     "metadata": {},
     "output_type": "display_data"
    }
   ],
   "source": [
    "train_df[[\"Weight\", \"Fragile\", \"Price Of Sculpture\", \"Material\"]].sample(5)"
   ]
  },
  {
   "cell_type": "code",
   "execution_count": 107,
   "id": "bridal-practice",
   "metadata": {},
   "outputs": [
    {
     "data": {
      "text/html": [
       "<div>\n",
       "<style scoped>\n",
       "    .dataframe tbody tr th:only-of-type {\n",
       "        vertical-align: middle;\n",
       "    }\n",
       "\n",
       "    .dataframe tbody tr th {\n",
       "        vertical-align: top;\n",
       "    }\n",
       "\n",
       "    .dataframe thead th {\n",
       "        text-align: right;\n",
       "    }\n",
       "</style>\n",
       "<table border=\"1\" class=\"dataframe\">\n",
       "  <thead>\n",
       "    <tr style=\"text-align: right;\">\n",
       "      <th></th>\n",
       "      <th>Weight</th>\n",
       "      <th>Fragile</th>\n",
       "      <th>Price Of Sculpture</th>\n",
       "    </tr>\n",
       "  </thead>\n",
       "  <tbody>\n",
       "  </tbody>\n",
       "</table>\n",
       "</div>"
      ],
      "text/plain": [
       "Empty DataFrame\n",
       "Columns: [Weight, Fragile, Price Of Sculpture]\n",
       "Index: []"
      ]
     },
     "execution_count": 107,
     "metadata": {},
     "output_type": "execute_result"
    },
    {
     "data": {
      "application/javascript": [
       "\n",
       "            setTimeout(function() {\n",
       "                var nbb_cell_id = 107;\n",
       "                var nbb_unformatted_code = \"test_df.loc[\\n    test_df[\\\"Material\\\"].isna(),\\n    [\\\"Weight\\\", \\\"Fragile\\\", \\\"Price Of Sculpture\\\"],\\n]\";\n",
       "                var nbb_formatted_code = \"test_df.loc[\\n    test_df[\\\"Material\\\"].isna(),\\n    [\\\"Weight\\\", \\\"Fragile\\\", \\\"Price Of Sculpture\\\"],\\n]\";\n",
       "                var nbb_cells = Jupyter.notebook.get_cells();\n",
       "                for (var i = 0; i < nbb_cells.length; ++i) {\n",
       "                    if (nbb_cells[i].input_prompt_number == nbb_cell_id) {\n",
       "                        if (nbb_cells[i].get_text() == nbb_unformatted_code) {\n",
       "                             nbb_cells[i].set_text(nbb_formatted_code);\n",
       "                        }\n",
       "                        break;\n",
       "                    }\n",
       "                }\n",
       "            }, 500);\n",
       "            "
      ],
      "text/plain": [
       "<IPython.core.display.Javascript object>"
      ]
     },
     "metadata": {},
     "output_type": "display_data"
    }
   ],
   "source": [
    "test_df.loc[\n",
    "    test_df[\"Material\"].isna(),\n",
    "    [\"Weight\", \"Fragile\", \"Price Of Sculpture\"],\n",
    "]"
   ]
  },
  {
   "cell_type": "markdown",
   "id": "resident-providence",
   "metadata": {},
   "source": [
    "No NA in Material in test df."
   ]
  },
  {
   "cell_type": "markdown",
   "id": "ethical-trace",
   "metadata": {},
   "source": [
    "## Correlation Plots"
   ]
  },
  {
   "cell_type": "code",
   "execution_count": 108,
   "id": "after-venezuela",
   "metadata": {},
   "outputs": [
    {
     "data": {
      "image/png": "[encoded data removed]",
      "text/plain": [
       "<Figure size 3200x1800 with 2 Axes>"
      ]
     },
     "metadata": {
      "needs_background": "light"
     },
     "output_type": "display_data"
    },
    {
     "data": {
      "application/javascript": [
       "\n",
       "            setTimeout(function() {\n",
       "                var nbb_cell_id = 108;\n",
       "                var nbb_unformatted_code = \"plt.figure(figsize=(16, 9), dpi=200)\\ncorr_plot = train_df[\\n    [\\\"Height\\\", \\\"Width\\\", \\\"Weight\\\", \\\"Price Of Sculpture\\\", \\\"Base Shipping Price\\\", \\\"Cost\\\"]\\n].corr()\\nmask = np.zeros_like(corr_plot, dtype=bool)\\nmask[np.triu_indices_from(mask)] = True\\nsns.heatmap(\\n    corr_plot,\\n    square=False,\\n    linewidth=0.1,\\n    vmin=-1,\\n    vmax=1,\\n    cmap=\\\"coolwarm\\\",\\n    annot=True,\\n    mask=mask,\\n)\\nplt.show()\";\n",
       "                var nbb_formatted_code = \"plt.figure(figsize=(16, 9), dpi=200)\\ncorr_plot = train_df[\\n    [\\\"Height\\\", \\\"Width\\\", \\\"Weight\\\", \\\"Price Of Sculpture\\\", \\\"Base Shipping Price\\\", \\\"Cost\\\"]\\n].corr()\\nmask = np.zeros_like(corr_plot, dtype=bool)\\nmask[np.triu_indices_from(mask)] = True\\nsns.heatmap(\\n    corr_plot,\\n    square=False,\\n    linewidth=0.1,\\n    vmin=-1,\\n    vmax=1,\\n    cmap=\\\"coolwarm\\\",\\n    annot=True,\\n    mask=mask,\\n)\\nplt.show()\";\n",
       "                var nbb_cells = Jupyter.notebook.get_cells();\n",
       "                for (var i = 0; i < nbb_cells.length; ++i) {\n",
       "                    if (nbb_cells[i].input_prompt_number == nbb_cell_id) {\n",
       "                        if (nbb_cells[i].get_text() == nbb_unformatted_code) {\n",
       "                             nbb_cells[i].set_text(nbb_formatted_code);\n",
       "                        }\n",
       "                        break;\n",
       "                    }\n",
       "                }\n",
       "            }, 500);\n",
       "            "
      ],
      "text/plain": [
       "<IPython.core.display.Javascript object>"
      ]
     },
     "metadata": {},
     "output_type": "display_data"
    }
   ],
   "source": [
    "plt.figure(figsize=(16, 9), dpi=200)\n",
    "corr_plot = train_df[\n",
    "    [\"Height\", \"Width\", \"Weight\", \"Price Of Sculpture\", \"Base Shipping Price\", \"Cost\"]\n",
    "].corr()\n",
    "mask = np.zeros_like(corr_plot, dtype=bool)\n",
    "mask[np.triu_indices_from(mask)] = True\n",
    "sns.heatmap(\n",
    "    corr_plot,\n",
    "    square=False,\n",
    "    linewidth=0.1,\n",
    "    vmin=-1,\n",
    "    vmax=1,\n",
    "    cmap=\"coolwarm\",\n",
    "    annot=True,\n",
    "    mask=mask,\n",
    ")\n",
    "plt.show()"
   ]
  },
  {
   "cell_type": "markdown",
   "id": "catholic-blame",
   "metadata": {},
   "source": [
    "The following variables are correlated, based on their coefficient of correlation:\n",
    "1. Height and Width\n",
    "2. Weight and Price of Sculpture\n",
    "\n",
    "We can combine height and width in order to get area."
   ]
  },
  {
   "cell_type": "code",
   "execution_count": 109,
   "id": "internal-pharmacy",
   "metadata": {},
   "outputs": [
    {
     "data": {
      "application/javascript": [
       "\n",
       "            setTimeout(function() {\n",
       "                var nbb_cell_id = 109;\n",
       "                var nbb_unformatted_code = \"train_df[\\\"Area\\\"] = train_df[\\\"Height\\\"] * train_df[\\\"Width\\\"]\";\n",
       "                var nbb_formatted_code = \"train_df[\\\"Area\\\"] = train_df[\\\"Height\\\"] * train_df[\\\"Width\\\"]\";\n",
       "                var nbb_cells = Jupyter.notebook.get_cells();\n",
       "                for (var i = 0; i < nbb_cells.length; ++i) {\n",
       "                    if (nbb_cells[i].input_prompt_number == nbb_cell_id) {\n",
       "                        if (nbb_cells[i].get_text() == nbb_unformatted_code) {\n",
       "                             nbb_cells[i].set_text(nbb_formatted_code);\n",
       "                        }\n",
       "                        break;\n",
       "                    }\n",
       "                }\n",
       "            }, 500);\n",
       "            "
      ],
      "text/plain": [
       "<IPython.core.display.Javascript object>"
      ]
     },
     "metadata": {},
     "output_type": "display_data"
    }
   ],
   "source": [
    "train_df[\"Area\"] = train_df[\"Height\"] * train_df[\"Width\"]"
   ]
  },
  {
   "cell_type": "code",
   "execution_count": 110,
   "id": "exciting-geneva",
   "metadata": {},
   "outputs": [
    {
     "data": {
      "application/javascript": [
       "\n",
       "            setTimeout(function() {\n",
       "                var nbb_cell_id = 110;\n",
       "                var nbb_unformatted_code = \"test_df[\\\"Area\\\"] = test_df[\\\"Height\\\"] * test_df[\\\"Width\\\"]\";\n",
       "                var nbb_formatted_code = \"test_df[\\\"Area\\\"] = test_df[\\\"Height\\\"] * test_df[\\\"Width\\\"]\";\n",
       "                var nbb_cells = Jupyter.notebook.get_cells();\n",
       "                for (var i = 0; i < nbb_cells.length; ++i) {\n",
       "                    if (nbb_cells[i].input_prompt_number == nbb_cell_id) {\n",
       "                        if (nbb_cells[i].get_text() == nbb_unformatted_code) {\n",
       "                             nbb_cells[i].set_text(nbb_formatted_code);\n",
       "                        }\n",
       "                        break;\n",
       "                    }\n",
       "                }\n",
       "            }, 500);\n",
       "            "
      ],
      "text/plain": [
       "<IPython.core.display.Javascript object>"
      ]
     },
     "metadata": {},
     "output_type": "display_data"
    }
   ],
   "source": [
    "test_df[\"Area\"] = test_df[\"Height\"] * test_df[\"Width\"]"
   ]
  },
  {
   "cell_type": "markdown",
   "id": "faced-sheriff",
   "metadata": {},
   "source": [
    "Similarly Weight and Price of Sculpture can be combined to get price per unit weight"
   ]
  },
  {
   "cell_type": "code",
   "execution_count": 111,
   "id": "impressed-edwards",
   "metadata": {},
   "outputs": [
    {
     "data": {
      "application/javascript": [
       "\n",
       "            setTimeout(function() {\n",
       "                var nbb_cell_id = 111;\n",
       "                var nbb_unformatted_code = \"train_df[\\\"Price per unit weight\\\"] = train_df[\\\"Price Of Sculpture\\\"] / train_df[\\\"Weight\\\"]\";\n",
       "                var nbb_formatted_code = \"train_df[\\\"Price per unit weight\\\"] = train_df[\\\"Price Of Sculpture\\\"] / train_df[\\\"Weight\\\"]\";\n",
       "                var nbb_cells = Jupyter.notebook.get_cells();\n",
       "                for (var i = 0; i < nbb_cells.length; ++i) {\n",
       "                    if (nbb_cells[i].input_prompt_number == nbb_cell_id) {\n",
       "                        if (nbb_cells[i].get_text() == nbb_unformatted_code) {\n",
       "                             nbb_cells[i].set_text(nbb_formatted_code);\n",
       "                        }\n",
       "                        break;\n",
       "                    }\n",
       "                }\n",
       "            }, 500);\n",
       "            "
      ],
      "text/plain": [
       "<IPython.core.display.Javascript object>"
      ]
     },
     "metadata": {},
     "output_type": "display_data"
    }
   ],
   "source": [
    "train_df[\"Price per unit weight\"] = train_df[\"Price Of Sculpture\"] / train_df[\"Weight\"]"
   ]
  },
  {
   "cell_type": "code",
   "execution_count": 112,
   "id": "flying-offer",
   "metadata": {},
   "outputs": [
    {
     "data": {
      "application/javascript": [
       "\n",
       "            setTimeout(function() {\n",
       "                var nbb_cell_id = 112;\n",
       "                var nbb_unformatted_code = \"test_df[\\\"Price per unit weight\\\"] = test_df[\\\"Price Of Sculpture\\\"] / test_df[\\\"Weight\\\"]\";\n",
       "                var nbb_formatted_code = \"test_df[\\\"Price per unit weight\\\"] = test_df[\\\"Price Of Sculpture\\\"] / test_df[\\\"Weight\\\"]\";\n",
       "                var nbb_cells = Jupyter.notebook.get_cells();\n",
       "                for (var i = 0; i < nbb_cells.length; ++i) {\n",
       "                    if (nbb_cells[i].input_prompt_number == nbb_cell_id) {\n",
       "                        if (nbb_cells[i].get_text() == nbb_unformatted_code) {\n",
       "                             nbb_cells[i].set_text(nbb_formatted_code);\n",
       "                        }\n",
       "                        break;\n",
       "                    }\n",
       "                }\n",
       "            }, 500);\n",
       "            "
      ],
      "text/plain": [
       "<IPython.core.display.Javascript object>"
      ]
     },
     "metadata": {},
     "output_type": "display_data"
    }
   ],
   "source": [
    "test_df[\"Price per unit weight\"] = test_df[\"Price Of Sculpture\"] / test_df[\"Weight\"]"
   ]
  },
  {
   "cell_type": "code",
   "execution_count": 113,
   "id": "banned-empty",
   "metadata": {
    "scrolled": false
   },
   "outputs": [
    {
     "data": {
      "image/png": "[encoded data removed]",
      "text/plain": [
       "<Figure size 3200x1800 with 2 Axes>"
      ]
     },
     "metadata": {
      "needs_background": "light"
     },
     "output_type": "display_data"
    },
    {
     "data": {
      "application/javascript": [
       "\n",
       "            setTimeout(function() {\n",
       "                var nbb_cell_id = 113;\n",
       "                var nbb_unformatted_code = \"plt.figure(figsize=(16, 9), dpi=200)\\ncorr_plot = train_df[\\n    [\\\"Area\\\", \\\"Price per unit weight\\\", \\\"Base Shipping Price\\\", \\\"Cost\\\"]\\n].corr()\\nmask = np.zeros_like(corr_plot, dtype=bool)\\nmask[np.triu_indices_from(mask)] = True\\nsns.heatmap(\\n    corr_plot,\\n    square=False,\\n    linewidth=0.1,\\n    vmin=-1,\\n    vmax=1,\\n    cmap=\\\"coolwarm\\\",\\n    annot=True,\\n    mask=mask,\\n)\\nplt.show()\";\n",
       "                var nbb_formatted_code = \"plt.figure(figsize=(16, 9), dpi=200)\\ncorr_plot = train_df[\\n    [\\\"Area\\\", \\\"Price per unit weight\\\", \\\"Base Shipping Price\\\", \\\"Cost\\\"]\\n].corr()\\nmask = np.zeros_like(corr_plot, dtype=bool)\\nmask[np.triu_indices_from(mask)] = True\\nsns.heatmap(\\n    corr_plot,\\n    square=False,\\n    linewidth=0.1,\\n    vmin=-1,\\n    vmax=1,\\n    cmap=\\\"coolwarm\\\",\\n    annot=True,\\n    mask=mask,\\n)\\nplt.show()\";\n",
       "                var nbb_cells = Jupyter.notebook.get_cells();\n",
       "                for (var i = 0; i < nbb_cells.length; ++i) {\n",
       "                    if (nbb_cells[i].input_prompt_number == nbb_cell_id) {\n",
       "                        if (nbb_cells[i].get_text() == nbb_unformatted_code) {\n",
       "                             nbb_cells[i].set_text(nbb_formatted_code);\n",
       "                        }\n",
       "                        break;\n",
       "                    }\n",
       "                }\n",
       "            }, 500);\n",
       "            "
      ],
      "text/plain": [
       "<IPython.core.display.Javascript object>"
      ]
     },
     "metadata": {},
     "output_type": "display_data"
    }
   ],
   "source": [
    "plt.figure(figsize=(16, 9), dpi=200)\n",
    "corr_plot = train_df[\n",
    "    [\"Area\", \"Price per unit weight\", \"Base Shipping Price\", \"Cost\"]\n",
    "].corr()\n",
    "mask = np.zeros_like(corr_plot, dtype=bool)\n",
    "mask[np.triu_indices_from(mask)] = True\n",
    "sns.heatmap(\n",
    "    corr_plot,\n",
    "    square=False,\n",
    "    linewidth=0.1,\n",
    "    vmin=-1,\n",
    "    vmax=1,\n",
    "    cmap=\"coolwarm\",\n",
    "    annot=True,\n",
    "    mask=mask,\n",
    ")\n",
    "plt.show()"
   ]
  },
  {
   "cell_type": "code",
   "execution_count": 114,
   "id": "thorough-cooling",
   "metadata": {},
   "outputs": [
    {
     "data": {
      "application/javascript": [
       "\n",
       "            setTimeout(function() {\n",
       "                var nbb_cell_id = 114;\n",
       "                var nbb_unformatted_code = \"train_df.to_csv(\\\"data/train_cleaned.csv\\\", index=False)\\ntest_df.to_csv(\\\"data/test_cleaned.csv\\\", index=False)\";\n",
       "                var nbb_formatted_code = \"train_df.to_csv(\\\"data/train_cleaned.csv\\\", index=False)\\ntest_df.to_csv(\\\"data/test_cleaned.csv\\\", index=False)\";\n",
       "                var nbb_cells = Jupyter.notebook.get_cells();\n",
       "                for (var i = 0; i < nbb_cells.length; ++i) {\n",
       "                    if (nbb_cells[i].input_prompt_number == nbb_cell_id) {\n",
       "                        if (nbb_cells[i].get_text() == nbb_unformatted_code) {\n",
       "                             nbb_cells[i].set_text(nbb_formatted_code);\n",
       "                        }\n",
       "                        break;\n",
       "                    }\n",
       "                }\n",
       "            }, 500);\n",
       "            "
      ],
      "text/plain": [
       "<IPython.core.display.Javascript object>"
      ]
     },
     "metadata": {},
     "output_type": "display_data"
    }
   ],
   "source": [
    "train_df.to_csv(\"data/train_cleaned.csv\", index=False)\n",
    "test_df.to_csv(\"data/test_cleaned.csv\", index=False)"
   ]
  },
  {
   "cell_type": "markdown",
   "id": "greater-league",
   "metadata": {},
   "source": [
    "## References\n",
    "\n",
    "1. [The prevention and handling of the missing data](https://www.ncbi.nlm.nih.gov/pmc/articles/PMC3668100/)\n",
    "2. [How to Handle Missing Data](https://towardsdatascience.com/how-to-handle-missing-data-8646b18db0d4)\n",
    "3. [Tuning the Random Forest in Python](https://towardsdatascience.com/hyperparameter-tuning-the-random-forest-in-python-using-scikit-learn-28d2aa77dd74)"
   ]
  }
 ],
 "metadata": {
  "kernelspec": {
   "display_name": "Python 3",
   "language": "python",
   "name": "python3"
  },
  "language_info": {
   "codemirror_mode": {
    "name": "ipython",
    "version": 3
   },
   "file_extension": ".py",
   "mimetype": "text/x-python",
   "name": "python",
   "nbconvert_exporter": "python",
   "pygments_lexer": "ipython3",
   "version": "3.8.9"
  }
 },
 "nbformat": 4,
 "nbformat_minor": 5
}