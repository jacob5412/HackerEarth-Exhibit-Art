{
 "cells": [
  {
   "cell_type": "markdown",
   "id": "parallel-falls",
   "metadata": {},
   "source": [
    "# Exploratory Data Analysis - 2: Bivariate Analysis, Feature Engineering and Missing Data"
   ]
  },
  {
   "cell_type": "code",
   "execution_count": 1,
   "id": "supposed-hours",
   "metadata": {},
   "outputs": [
    {
     "data": {
      "application/javascript": [
       "\n",
       "            setTimeout(function() {\n",
       "                var nbb_cell_id = 1;\n",
       "                var nbb_unformatted_code = \"import pandas as pd\\nimport numpy as np\\nimport matplotlib.pyplot as plt\\nimport seaborn as sns\\n\\n%load_ext nb_black\";\n",
       "                var nbb_formatted_code = \"import pandas as pd\\nimport numpy as np\\nimport matplotlib.pyplot as plt\\nimport seaborn as sns\\n\\n%load_ext nb_black\";\n",
       "                var nbb_cells = Jupyter.notebook.get_cells();\n",
       "                for (var i = 0; i < nbb_cells.length; ++i) {\n",
       "                    if (nbb_cells[i].input_prompt_number == nbb_cell_id) {\n",
       "                        if (nbb_cells[i].get_text() == nbb_unformatted_code) {\n",
       "                             nbb_cells[i].set_text(nbb_formatted_code);\n",
       "                        }\n",
       "                        break;\n",
       "                    }\n",
       "                }\n",
       "            }, 500);\n",
       "            "
      ],
      "text/plain": [
       "<IPython.core.display.Javascript object>"
      ]
     },
     "metadata": {},
     "output_type": "display_data"
    }
   ],
   "source": [
    "import pandas as pd\n",
    "import numpy as np\n",
    "import matplotlib.pyplot as plt\n",
    "import seaborn as sns\n",
    "\n",
    "%load_ext nb_black"
   ]
  },
  {
   "cell_type": "code",
   "execution_count": 2,
   "id": "adopted-sister",
   "metadata": {},
   "outputs": [
    {
     "data": {
      "application/javascript": [
       "\n",
       "            setTimeout(function() {\n",
       "                var nbb_cell_id = 2;\n",
       "                var nbb_unformatted_code = \"train_df = pd.read_csv(\\n    \\\"data/train.csv\\\", parse_dates=[\\\"Scheduled Date\\\", \\\"Delivery Date\\\"]\\n)\";\n",
       "                var nbb_formatted_code = \"train_df = pd.read_csv(\\n    \\\"data/train.csv\\\", parse_dates=[\\\"Scheduled Date\\\", \\\"Delivery Date\\\"]\\n)\";\n",
       "                var nbb_cells = Jupyter.notebook.get_cells();\n",
       "                for (var i = 0; i < nbb_cells.length; ++i) {\n",
       "                    if (nbb_cells[i].input_prompt_number == nbb_cell_id) {\n",
       "                        if (nbb_cells[i].get_text() == nbb_unformatted_code) {\n",
       "                             nbb_cells[i].set_text(nbb_formatted_code);\n",
       "                        }\n",
       "                        break;\n",
       "                    }\n",
       "                }\n",
       "            }, 500);\n",
       "            "
      ],
      "text/plain": [
       "<IPython.core.display.Javascript object>"
      ]
     },
     "metadata": {},
     "output_type": "display_data"
    }
   ],
   "source": [
    "train_df = pd.read_csv(\n",
    "    \"data/train.csv\", parse_dates=[\"Scheduled Date\", \"Delivery Date\"]\n",
    ")"
   ]
  },
  {
   "cell_type": "markdown",
   "id": "shaped-florence",
   "metadata": {},
   "source": [
    "## Treating Missing Data"
   ]
  },
  {
   "cell_type": "code",
   "execution_count": 3,
   "id": "comic-variance",
   "metadata": {},
   "outputs": [
    {
     "name": "stdout",
     "output_type": "stream",
     "text": [
      "<class 'pandas.core.frame.DataFrame'>\n",
      "RangeIndex: 6500 entries, 0 to 6499\n",
      "Data columns (total 20 columns):\n",
      " #   Column                 Non-Null Count  Dtype         \n",
      "---  ------                 --------------  -----         \n",
      " 0   Customer Id            6500 non-null   object        \n",
      " 1   Artist Name            6500 non-null   object        \n",
      " 2   Artist Reputation      5750 non-null   float64       \n",
      " 3   Height                 6125 non-null   float64       \n",
      " 4   Width                  5916 non-null   float64       \n",
      " 5   Weight                 5913 non-null   float64       \n",
      " 6   Material               5736 non-null   object        \n",
      " 7   Price Of Sculpture     6500 non-null   float64       \n",
      " 8   Base Shipping Price    6500 non-null   float64       \n",
      " 9   International          6500 non-null   object        \n",
      " 10  Express Shipment       6500 non-null   object        \n",
      " 11  Installation Included  6500 non-null   object        \n",
      " 12  Transport              5108 non-null   object        \n",
      " 13  Fragile                6500 non-null   object        \n",
      " 14  Customer Information   6500 non-null   object        \n",
      " 15  Remote Location        5729 non-null   object        \n",
      " 16  Scheduled Date         6500 non-null   datetime64[ns]\n",
      " 17  Delivery Date          6500 non-null   datetime64[ns]\n",
      " 18  Customer Location      6500 non-null   object        \n",
      " 19  Cost                   6500 non-null   float64       \n",
      "dtypes: datetime64[ns](2), float64(7), object(11)\n",
      "memory usage: 1015.8+ KB\n"
     ]
    },
    {
     "data": {
      "application/javascript": [
       "\n",
       "            setTimeout(function() {\n",
       "                var nbb_cell_id = 3;\n",
       "                var nbb_unformatted_code = \"train_df.info()\";\n",
       "                var nbb_formatted_code = \"train_df.info()\";\n",
       "                var nbb_cells = Jupyter.notebook.get_cells();\n",
       "                for (var i = 0; i < nbb_cells.length; ++i) {\n",
       "                    if (nbb_cells[i].input_prompt_number == nbb_cell_id) {\n",
       "                        if (nbb_cells[i].get_text() == nbb_unformatted_code) {\n",
       "                             nbb_cells[i].set_text(nbb_formatted_code);\n",
       "                        }\n",
       "                        break;\n",
       "                    }\n",
       "                }\n",
       "            }, 500);\n",
       "            "
      ],
      "text/plain": [
       "<IPython.core.display.Javascript object>"
      ]
     },
     "metadata": {},
     "output_type": "display_data"
    }
   ],
   "source": [
    "train_df.info()"
   ]
  },
  {
   "cell_type": "markdown",
   "id": "hybrid-organization",
   "metadata": {},
   "source": [
    "We can immediately identify some of the missing columns as:\n",
    "* `Artist Reputation`\n",
    "* `Height`\n",
    "* `Width`\n",
    "* `Weight`\n",
    "* `Material`\n",
    "* `Transport`\n",
    "* `Remote Location`\n",
    "\n",
    "Missing values \"can have a significant effect on the conclusions that can be drawn from the data\" [1]. We need to figure out whether to drop these or imputate them based on how they can impact the results drawn by our model.\n",
    "\n",
    "This article Towards Data Science [2], explains the different ways the data can be missing. These are:\n",
    "1. Missing at random - there is a systematic relationship between the propensity of missing values and the observed data, but not the missing data\n",
    "2. Missing Completely at Random - no relationship between the missingness of the data and any values, observed or missing\n",
    "3. Missing Not at Random - data is missing is related to the unobserved data\n",
    "\n",
    "### Bivariate Analysis between column with missing values and target variable\n",
    "\n",
    "The easiest to do is to check if there's a relationship between the missing values itself and the target variable\n",
    "\n",
    "#### `Artist Reputation`"
   ]
  },
  {
   "cell_type": "markdown",
   "id": "greater-league",
   "metadata": {},
   "source": [
    "## References\n",
    "\n",
    "1. [The prevention and handling of the missing data](https://www.ncbi.nlm.nih.gov/pmc/articles/PMC3668100/)\n",
    "2. [How to Handle Missing Data](https://towardsdatascience.com/how-to-handle-missing-data-8646b18db0d4)"
   ]
  }
 ],
 "metadata": {
  "kernelspec": {
   "display_name": "Python 3",
   "language": "python",
   "name": "python3"
  },
  "language_info": {
   "codemirror_mode": {
    "name": "ipython",
    "version": 3
   },
   "file_extension": ".py",
   "mimetype": "text/x-python",
   "name": "python",
   "nbconvert_exporter": "python",
   "pygments_lexer": "ipython3",
   "version": "3.8.2"
  }
 },
 "nbformat": 4,
 "nbformat_minor": 5
}
