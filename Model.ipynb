{
 "cells": [
  {
   "cell_type": "markdown",
   "id": "loved-salon",
   "metadata": {},
   "source": [
    "# Building a model"
   ]
  },
  {
   "cell_type": "code",
   "execution_count": 1,
   "id": "caroline-insertion",
   "metadata": {
    "scrolled": true
   },
   "outputs": [
    {
     "data": {
      "application/javascript": [
       "\n",
       "            setTimeout(function() {\n",
       "                var nbb_cell_id = 1;\n",
       "                var nbb_unformatted_code = \"import pandas as pd\\nimport numpy as np\\nfrom sklearn.ensemble import RandomForestRegressor\\nfrom catboost import CatBoostRegressor, Pool\\nfrom boruta import BorutaPy\\n\\n%load_ext nb_black\";\n",
       "                var nbb_formatted_code = \"import pandas as pd\\nimport numpy as np\\nfrom sklearn.ensemble import RandomForestRegressor\\nfrom catboost import CatBoostRegressor, Pool\\nfrom boruta import BorutaPy\\n\\n%load_ext nb_black\";\n",
       "                var nbb_cells = Jupyter.notebook.get_cells();\n",
       "                for (var i = 0; i < nbb_cells.length; ++i) {\n",
       "                    if (nbb_cells[i].input_prompt_number == nbb_cell_id) {\n",
       "                        if (nbb_cells[i].get_text() == nbb_unformatted_code) {\n",
       "                             nbb_cells[i].set_text(nbb_formatted_code);\n",
       "                        }\n",
       "                        break;\n",
       "                    }\n",
       "                }\n",
       "            }, 500);\n",
       "            "
      ],
      "text/plain": [
       "<IPython.core.display.Javascript object>"
      ]
     },
     "metadata": {},
     "output_type": "display_data"
    }
   ],
   "source": [
    "import pandas as pd\n",
    "import numpy as np\n",
    "from sklearn.ensemble import RandomForestRegressor\n",
    "from catboost import CatBoostRegressor, Pool\n",
    "from boruta import BorutaPy\n",
    "\n",
    "%load_ext nb_black"
   ]
  },
  {
   "cell_type": "code",
   "execution_count": 2,
   "id": "absent-operations",
   "metadata": {},
   "outputs": [
    {
     "data": {
      "application/javascript": [
       "\n",
       "            setTimeout(function() {\n",
       "                var nbb_cell_id = 2;\n",
       "                var nbb_unformatted_code = \"TUNING = 0\";\n",
       "                var nbb_formatted_code = \"TUNING = 0\";\n",
       "                var nbb_cells = Jupyter.notebook.get_cells();\n",
       "                for (var i = 0; i < nbb_cells.length; ++i) {\n",
       "                    if (nbb_cells[i].input_prompt_number == nbb_cell_id) {\n",
       "                        if (nbb_cells[i].get_text() == nbb_unformatted_code) {\n",
       "                             nbb_cells[i].set_text(nbb_formatted_code);\n",
       "                        }\n",
       "                        break;\n",
       "                    }\n",
       "                }\n",
       "            }, 500);\n",
       "            "
      ],
      "text/plain": [
       "<IPython.core.display.Javascript object>"
      ]
     },
     "metadata": {},
     "output_type": "display_data"
    }
   ],
   "source": [
    "TUNING = 0"
   ]
  },
  {
   "cell_type": "code",
   "execution_count": 3,
   "id": "accessory-suspect",
   "metadata": {},
   "outputs": [
    {
     "data": {
      "application/javascript": [
       "\n",
       "            setTimeout(function() {\n",
       "                var nbb_cell_id = 3;\n",
       "                var nbb_unformatted_code = \"train_df = pd.read_csv(\\n    \\\"data/train_cleaned.csv\\\", parse_dates=[\\\"Scheduled Date\\\", \\\"Delivery Date\\\"]\\n)\\ntest_df = pd.read_csv(\\n    \\\"data/test_cleaned.csv\\\", parse_dates=[\\\"Scheduled Date\\\", \\\"Delivery Date\\\"]\\n)\";\n",
       "                var nbb_formatted_code = \"train_df = pd.read_csv(\\n    \\\"data/train_cleaned.csv\\\", parse_dates=[\\\"Scheduled Date\\\", \\\"Delivery Date\\\"]\\n)\\ntest_df = pd.read_csv(\\n    \\\"data/test_cleaned.csv\\\", parse_dates=[\\\"Scheduled Date\\\", \\\"Delivery Date\\\"]\\n)\";\n",
       "                var nbb_cells = Jupyter.notebook.get_cells();\n",
       "                for (var i = 0; i < nbb_cells.length; ++i) {\n",
       "                    if (nbb_cells[i].input_prompt_number == nbb_cell_id) {\n",
       "                        if (nbb_cells[i].get_text() == nbb_unformatted_code) {\n",
       "                             nbb_cells[i].set_text(nbb_formatted_code);\n",
       "                        }\n",
       "                        break;\n",
       "                    }\n",
       "                }\n",
       "            }, 500);\n",
       "            "
      ],
      "text/plain": [
       "<IPython.core.display.Javascript object>"
      ]
     },
     "metadata": {},
     "output_type": "display_data"
    }
   ],
   "source": [
    "train_df = pd.read_csv(\n",
    "    \"data/train_cleaned.csv\", parse_dates=[\"Scheduled Date\", \"Delivery Date\"]\n",
    ")\n",
    "test_df = pd.read_csv(\n",
    "    \"data/test_cleaned.csv\", parse_dates=[\"Scheduled Date\", \"Delivery Date\"]\n",
    ")"
   ]
  },
  {
   "cell_type": "markdown",
   "id": "several-display",
   "metadata": {},
   "source": [
    "## Boruta for Feature importance\n",
    "\n",
    "Features we're going to be using:\n",
    "```python\n",
    "[\n",
    "    \"Artist Reputation\",\n",
    "    \"Height\",\n",
    "    \"Width\",\n",
    "    \"Weight\",\n",
    "    \"Material\",\n",
    "    \"Price Of Sculpture\",\n",
    "    \"Base Shipping Price\",\n",
    "    \"International\",\n",
    "    \"Express Shipment\",\n",
    "    \"Installation Included\",\n",
    "    \"Transport\",\n",
    "    \"Fragile\",\n",
    "    \"Customer Information\",\n",
    "    \"Remote Location\",\n",
    "    \"Cost\",\n",
    "    \"delivery_offset\",\n",
    "    \"scheduled_year_month\",\n",
    "    \"scheduled_month\",\n",
    "    \"Customer State\",\n",
    "    \"Area\",\n",
    "    \"Price per unit weight\",\n",
    "]\n",
    "```"
   ]
  },
  {
   "cell_type": "code",
   "execution_count": 4,
   "id": "antique-inflation",
   "metadata": {},
   "outputs": [
    {
     "data": {
      "application/javascript": [
       "\n",
       "            setTimeout(function() {\n",
       "                var nbb_cell_id = 4;\n",
       "                var nbb_unformatted_code = \"train_X_dummified = pd.get_dummies(\\n    train_df[\\n        [\\n            \\\"Artist Reputation\\\",\\n            \\\"Height\\\",\\n            \\\"Width\\\",\\n            \\\"Weight\\\",\\n            \\\"Material\\\",\\n            \\\"Price Of Sculpture\\\",\\n            \\\"Base Shipping Price\\\",\\n            \\\"International\\\",\\n            \\\"Express Shipment\\\",\\n            \\\"Installation Included\\\",\\n            \\\"Transport\\\",\\n            \\\"Fragile\\\",\\n            \\\"Customer Information\\\",\\n            \\\"Remote Location\\\",\\n            \\\"delivery_offset\\\",\\n            \\\"scheduled_year_month\\\",\\n            \\\"scheduled_month\\\",\\n            \\\"Customer State\\\",\\n            \\\"Area\\\",\\n            \\\"Price per unit weight\\\",\\n        ]\\n    ]\\n)\\ntrain_y = train_df[[\\\"Cost\\\"]]\";\n",
       "                var nbb_formatted_code = \"train_X_dummified = pd.get_dummies(\\n    train_df[\\n        [\\n            \\\"Artist Reputation\\\",\\n            \\\"Height\\\",\\n            \\\"Width\\\",\\n            \\\"Weight\\\",\\n            \\\"Material\\\",\\n            \\\"Price Of Sculpture\\\",\\n            \\\"Base Shipping Price\\\",\\n            \\\"International\\\",\\n            \\\"Express Shipment\\\",\\n            \\\"Installation Included\\\",\\n            \\\"Transport\\\",\\n            \\\"Fragile\\\",\\n            \\\"Customer Information\\\",\\n            \\\"Remote Location\\\",\\n            \\\"delivery_offset\\\",\\n            \\\"scheduled_year_month\\\",\\n            \\\"scheduled_month\\\",\\n            \\\"Customer State\\\",\\n            \\\"Area\\\",\\n            \\\"Price per unit weight\\\",\\n        ]\\n    ]\\n)\\ntrain_y = train_df[[\\\"Cost\\\"]]\";\n",
       "                var nbb_cells = Jupyter.notebook.get_cells();\n",
       "                for (var i = 0; i < nbb_cells.length; ++i) {\n",
       "                    if (nbb_cells[i].input_prompt_number == nbb_cell_id) {\n",
       "                        if (nbb_cells[i].get_text() == nbb_unformatted_code) {\n",
       "                             nbb_cells[i].set_text(nbb_formatted_code);\n",
       "                        }\n",
       "                        break;\n",
       "                    }\n",
       "                }\n",
       "            }, 500);\n",
       "            "
      ],
      "text/plain": [
       "<IPython.core.display.Javascript object>"
      ]
     },
     "metadata": {},
     "output_type": "display_data"
    }
   ],
   "source": [
    "train_X_dummified = pd.get_dummies(\n",
    "    train_df[\n",
    "        [\n",
    "            \"Artist Reputation\",\n",
    "            \"Height\",\n",
    "            \"Width\",\n",
    "            \"Weight\",\n",
    "            \"Material\",\n",
    "            \"Price Of Sculpture\",\n",
    "            \"Base Shipping Price\",\n",
    "            \"International\",\n",
    "            \"Express Shipment\",\n",
    "            \"Installation Included\",\n",
    "            \"Transport\",\n",
    "            \"Fragile\",\n",
    "            \"Customer Information\",\n",
    "            \"Remote Location\",\n",
    "            \"delivery_offset\",\n",
    "            \"scheduled_year_month\",\n",
    "            \"scheduled_month\",\n",
    "            \"Customer State\",\n",
    "            \"Area\",\n",
    "            \"Price per unit weight\",\n",
    "        ]\n",
    "    ]\n",
    ")\n",
    "train_y = train_df[[\"Cost\"]]"
   ]
  },
  {
   "cell_type": "code",
   "execution_count": 5,
   "id": "liked-remedy",
   "metadata": {
    "scrolled": true
   },
   "outputs": [
    {
     "data": {
      "application/javascript": [
       "\n",
       "            setTimeout(function() {\n",
       "                var nbb_cell_id = 5;\n",
       "                var nbb_unformatted_code = \"if TUNING:\\n    # initialize Boruta\\n    rfr_boruta = RandomForestRegressor(n_jobs=-1, max_depth=5)\\n    boruta = BorutaPy(\\n        estimator=rfr_boruta,\\n        n_estimators=\\\"auto\\\",\\n        max_iter=100,  # number of trials to perform\\n    )\\n\\n    # fit Boruta (it accepts np.array, not pd.DataFrame)\\n    boruta.fit(np.array(train_X_dummified), np.array(train_y))\\n\\n    green_area = train_X_dummified.columns[boruta.support_].to_list()\\n    blue_area = train_X_dummified.columns[boruta.support_weak_].to_list()\\n\\n    print(\\\"features in the green area:\\\", green_area)\\n    print(\\\"features in the blue area:\\\", blue_area)\";\n",
       "                var nbb_formatted_code = \"if TUNING:\\n    # initialize Boruta\\n    rfr_boruta = RandomForestRegressor(n_jobs=-1, max_depth=5)\\n    boruta = BorutaPy(\\n        estimator=rfr_boruta,\\n        n_estimators=\\\"auto\\\",\\n        max_iter=100,  # number of trials to perform\\n    )\\n\\n    # fit Boruta (it accepts np.array, not pd.DataFrame)\\n    boruta.fit(np.array(train_X_dummified), np.array(train_y))\\n\\n    green_area = train_X_dummified.columns[boruta.support_].to_list()\\n    blue_area = train_X_dummified.columns[boruta.support_weak_].to_list()\\n\\n    print(\\\"features in the green area:\\\", green_area)\\n    print(\\\"features in the blue area:\\\", blue_area)\";\n",
       "                var nbb_cells = Jupyter.notebook.get_cells();\n",
       "                for (var i = 0; i < nbb_cells.length; ++i) {\n",
       "                    if (nbb_cells[i].input_prompt_number == nbb_cell_id) {\n",
       "                        if (nbb_cells[i].get_text() == nbb_unformatted_code) {\n",
       "                             nbb_cells[i].set_text(nbb_formatted_code);\n",
       "                        }\n",
       "                        break;\n",
       "                    }\n",
       "                }\n",
       "            }, 500);\n",
       "            "
      ],
      "text/plain": [
       "<IPython.core.display.Javascript object>"
      ]
     },
     "metadata": {},
     "output_type": "display_data"
    }
   ],
   "source": [
    "if TUNING:\n",
    "    # initialize Boruta\n",
    "    rfr_boruta = RandomForestRegressor(n_jobs=-1, max_depth=5)\n",
    "    boruta = BorutaPy(\n",
    "        estimator=rfr_boruta,\n",
    "        n_estimators=\"auto\",\n",
    "        max_iter=100,  # number of trials to perform\n",
    "    )\n",
    "\n",
    "    # fit Boruta (it accepts np.array, not pd.DataFrame)\n",
    "    boruta.fit(np.array(train_X_dummified), np.array(train_y))\n",
    "\n",
    "    green_area = train_X_dummified.columns[boruta.support_].to_list()\n",
    "    blue_area = train_X_dummified.columns[boruta.support_weak_].to_list()\n",
    "\n",
    "    print(\"features in the green area:\", green_area)\n",
    "    print(\"features in the blue area:\", blue_area)"
   ]
  },
  {
   "cell_type": "markdown",
   "id": "defined-senegal",
   "metadata": {},
   "source": [
    "According to Boruta:\n",
    "\n",
    "* features in the green area: ['Artist Reputation', 'Price Of Sculpture', 'Base Shipping Price', 'Customer State_ID']\n",
    "* features in the blue area: ['Weight', 'scheduled_month']"
   ]
  },
  {
   "cell_type": "code",
   "execution_count": 6,
   "id": "baking-escape",
   "metadata": {},
   "outputs": [
    {
     "data": {
      "application/javascript": [
       "\n",
       "            setTimeout(function() {\n",
       "                var nbb_cell_id = 6;\n",
       "                var nbb_unformatted_code = \"if TUNING:\\n    pd.DataFrame(\\n        {\\\"column\\\": train_X_dummified.columns.to_list(), \\\"rank\\\": boruta.ranking_}\\n    ).sort_values(by=\\\"rank\\\").to_csv(\\\"data/boruta_feature_ranking.csv\\\", index=False)\";\n",
       "                var nbb_formatted_code = \"if TUNING:\\n    pd.DataFrame(\\n        {\\\"column\\\": train_X_dummified.columns.to_list(), \\\"rank\\\": boruta.ranking_}\\n    ).sort_values(by=\\\"rank\\\").to_csv(\\\"data/boruta_feature_ranking.csv\\\", index=False)\";\n",
       "                var nbb_cells = Jupyter.notebook.get_cells();\n",
       "                for (var i = 0; i < nbb_cells.length; ++i) {\n",
       "                    if (nbb_cells[i].input_prompt_number == nbb_cell_id) {\n",
       "                        if (nbb_cells[i].get_text() == nbb_unformatted_code) {\n",
       "                             nbb_cells[i].set_text(nbb_formatted_code);\n",
       "                        }\n",
       "                        break;\n",
       "                    }\n",
       "                }\n",
       "            }, 500);\n",
       "            "
      ],
      "text/plain": [
       "<IPython.core.display.Javascript object>"
      ]
     },
     "metadata": {},
     "output_type": "display_data"
    }
   ],
   "source": [
    "if TUNING:\n",
    "    pd.DataFrame(\n",
    "        {\"column\": train_X_dummified.columns.to_list(), \"rank\": boruta.ranking_}\n",
    "    ).sort_values(by=\"rank\").to_csv(\"data/boruta_feature_ranking.csv\", index=False)"
   ]
  },
  {
   "cell_type": "markdown",
   "id": "destroyed-cinema",
   "metadata": {},
   "source": [
    "Based on the rankings, these are the features we'll be using:\n",
    "\n",
    "```python\n",
    "[\n",
    "    \"Artist Reputation\",\n",
    "    \"Customer State\",\n",
    "    \"Price Of Sculpture\",\n",
    "    \"Base Shipping Price\",\n",
    "    \"scheduled_month\",\n",
    "    \"Area\",\n",
    "    \"Weight\",\n",
    "    \"delivery_offset\",\n",
    "    \"Transport\",\n",
    "    \"Material\",\n",
    "    \"Customer Information\",\n",
    "    \"Installation Included\",\n",
    "    \"Express Shipment\",\n",
    "    \"Fragile\",\n",
    "    \"Remote Location\",\n",
    "    \"International\",\n",
    "]\n",
    "```"
   ]
  },
  {
   "cell_type": "markdown",
   "id": "coral-junior",
   "metadata": {},
   "source": [
    "## Random Forests"
   ]
  },
  {
   "cell_type": "code",
   "execution_count": null,
   "id": "bright-winter",
   "metadata": {},
   "outputs": [],
   "source": []
  }
 ],
 "metadata": {
  "kernelspec": {
   "display_name": "Python 3",
   "language": "python",
   "name": "python3"
  },
  "language_info": {
   "codemirror_mode": {
    "name": "ipython",
    "version": 3
   },
   "file_extension": ".py",
   "mimetype": "text/x-python",
   "name": "python",
   "nbconvert_exporter": "python",
   "pygments_lexer": "ipython3",
   "version": "3.8.9"
  }
 },
 "nbformat": 4,
 "nbformat_minor": 5
}
