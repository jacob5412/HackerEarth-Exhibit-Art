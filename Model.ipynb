{
 "cells": [
  {
   "cell_type": "markdown",
   "id": "loved-salon",
   "metadata": {},
   "source": [
    "# Building a model"
   ]
  },
  {
   "cell_type": "code",
   "execution_count": 1,
   "id": "caroline-insertion",
   "metadata": {
    "scrolled": true
   },
   "outputs": [
    {
     "data": {
      "application/javascript": [
       "\n",
       "            setTimeout(function() {\n",
       "                var nbb_cell_id = 1;\n",
       "                var nbb_unformatted_code = \"import pandas as pd\\nimport numpy as np\\nfrom sklearn.ensemble import RandomForestRegressor\\nfrom sklearn.model_selection import (\\n    RandomizedSearchCV,\\n    GridSearchCV,\\n    train_test_split,\\n    cross_validate,\\n)\\nfrom sklearn.metrics import mean_squared_error\\nfrom catboost import CatBoostRegressor, Pool\\nfrom boruta import BorutaPy\\n\\n%load_ext nb_black\";\n",
       "                var nbb_formatted_code = \"import pandas as pd\\nimport numpy as np\\nfrom sklearn.ensemble import RandomForestRegressor\\nfrom sklearn.model_selection import (\\n    RandomizedSearchCV,\\n    GridSearchCV,\\n    train_test_split,\\n    cross_validate,\\n)\\nfrom sklearn.metrics import mean_squared_error\\nfrom catboost import CatBoostRegressor, Pool\\nfrom boruta import BorutaPy\\n\\n%load_ext nb_black\";\n",
       "                var nbb_cells = Jupyter.notebook.get_cells();\n",
       "                for (var i = 0; i < nbb_cells.length; ++i) {\n",
       "                    if (nbb_cells[i].input_prompt_number == nbb_cell_id) {\n",
       "                        if (nbb_cells[i].get_text() == nbb_unformatted_code) {\n",
       "                             nbb_cells[i].set_text(nbb_formatted_code);\n",
       "                        }\n",
       "                        break;\n",
       "                    }\n",
       "                }\n",
       "            }, 500);\n",
       "            "
      ],
      "text/plain": [
       "<IPython.core.display.Javascript object>"
      ]
     },
     "metadata": {},
     "output_type": "display_data"
    }
   ],
   "source": [
    "import pandas as pd\n",
    "import numpy as np\n",
    "from sklearn.ensemble import RandomForestRegressor\n",
    "from sklearn.model_selection import (\n",
    "    RandomizedSearchCV,\n",
    "    GridSearchCV,\n",
    "    train_test_split,\n",
    "    cross_validate,\n",
    ")\n",
    "from sklearn.metrics import mean_squared_error\n",
    "from catboost import CatBoostRegressor, Pool\n",
    "from boruta import BorutaPy\n",
    "\n",
    "%load_ext nb_black"
   ]
  },
  {
   "cell_type": "code",
   "execution_count": 2,
   "id": "absent-operations",
   "metadata": {},
   "outputs": [
    {
     "data": {
      "application/javascript": [
       "\n",
       "            setTimeout(function() {\n",
       "                var nbb_cell_id = 2;\n",
       "                var nbb_unformatted_code = \"TUNING = 0\";\n",
       "                var nbb_formatted_code = \"TUNING = 0\";\n",
       "                var nbb_cells = Jupyter.notebook.get_cells();\n",
       "                for (var i = 0; i < nbb_cells.length; ++i) {\n",
       "                    if (nbb_cells[i].input_prompt_number == nbb_cell_id) {\n",
       "                        if (nbb_cells[i].get_text() == nbb_unformatted_code) {\n",
       "                             nbb_cells[i].set_text(nbb_formatted_code);\n",
       "                        }\n",
       "                        break;\n",
       "                    }\n",
       "                }\n",
       "            }, 500);\n",
       "            "
      ],
      "text/plain": [
       "<IPython.core.display.Javascript object>"
      ]
     },
     "metadata": {},
     "output_type": "display_data"
    }
   ],
   "source": [
    "TUNING = 0"
   ]
  },
  {
   "cell_type": "code",
   "execution_count": 3,
   "id": "accessory-suspect",
   "metadata": {},
   "outputs": [
    {
     "data": {
      "application/javascript": [
       "\n",
       "            setTimeout(function() {\n",
       "                var nbb_cell_id = 3;\n",
       "                var nbb_unformatted_code = \"train_df = pd.read_csv(\\n    \\\"data/train_cleaned.csv\\\", parse_dates=[\\\"Scheduled Date\\\", \\\"Delivery Date\\\"]\\n)\\ntest_df = pd.read_csv(\\n    \\\"data/test_cleaned.csv\\\", parse_dates=[\\\"Scheduled Date\\\", \\\"Delivery Date\\\"]\\n)\";\n",
       "                var nbb_formatted_code = \"train_df = pd.read_csv(\\n    \\\"data/train_cleaned.csv\\\", parse_dates=[\\\"Scheduled Date\\\", \\\"Delivery Date\\\"]\\n)\\ntest_df = pd.read_csv(\\n    \\\"data/test_cleaned.csv\\\", parse_dates=[\\\"Scheduled Date\\\", \\\"Delivery Date\\\"]\\n)\";\n",
       "                var nbb_cells = Jupyter.notebook.get_cells();\n",
       "                for (var i = 0; i < nbb_cells.length; ++i) {\n",
       "                    if (nbb_cells[i].input_prompt_number == nbb_cell_id) {\n",
       "                        if (nbb_cells[i].get_text() == nbb_unformatted_code) {\n",
       "                             nbb_cells[i].set_text(nbb_formatted_code);\n",
       "                        }\n",
       "                        break;\n",
       "                    }\n",
       "                }\n",
       "            }, 500);\n",
       "            "
      ],
      "text/plain": [
       "<IPython.core.display.Javascript object>"
      ]
     },
     "metadata": {},
     "output_type": "display_data"
    }
   ],
   "source": [
    "train_df = pd.read_csv(\n",
    "    \"data/train_cleaned.csv\", parse_dates=[\"Scheduled Date\", \"Delivery Date\"]\n",
    ")\n",
    "test_df = pd.read_csv(\n",
    "    \"data/test_cleaned.csv\", parse_dates=[\"Scheduled Date\", \"Delivery Date\"]\n",
    ")"
   ]
  },
  {
   "cell_type": "markdown",
   "id": "several-display",
   "metadata": {},
   "source": [
    "## Boruta for Feature importance\n",
    "\n",
    "Features we're going to be using:\n",
    "```python\n",
    "[\n",
    "    \"Artist Reputation\",\n",
    "    \"Height\",\n",
    "    \"Width\",\n",
    "    \"Weight\",\n",
    "    \"Material\",\n",
    "    \"Price Of Sculpture\",\n",
    "    \"Base Shipping Price\",\n",
    "    \"International\",\n",
    "    \"Express Shipment\",\n",
    "    \"Installation Included\",\n",
    "    \"Transport\",\n",
    "    \"Fragile\",\n",
    "    \"Customer Information\",\n",
    "    \"Remote Location\",\n",
    "    \"Cost\",\n",
    "    \"delivery_offset\",\n",
    "    \"scheduled_year_month\",\n",
    "    \"scheduled_month\",\n",
    "    \"Customer State\",\n",
    "    \"Area\",\n",
    "    \"Price per unit weight\",\n",
    "]\n",
    "```"
   ]
  },
  {
   "cell_type": "code",
   "execution_count": 4,
   "id": "antique-inflation",
   "metadata": {},
   "outputs": [
    {
     "data": {
      "application/javascript": [
       "\n",
       "            setTimeout(function() {\n",
       "                var nbb_cell_id = 4;\n",
       "                var nbb_unformatted_code = \"train_X_dummified = pd.get_dummies(\\n    train_df[\\n        [\\n            \\\"Artist Reputation\\\",\\n            \\\"Height\\\",\\n            \\\"Width\\\",\\n            \\\"Weight\\\",\\n            \\\"Material\\\",\\n            \\\"Price Of Sculpture\\\",\\n            \\\"Base Shipping Price\\\",\\n            \\\"International\\\",\\n            \\\"Express Shipment\\\",\\n            \\\"Installation Included\\\",\\n            \\\"Transport\\\",\\n            \\\"Fragile\\\",\\n            \\\"Customer Information\\\",\\n            \\\"Remote Location\\\",\\n            \\\"delivery_offset\\\",\\n            \\\"scheduled_year_month\\\",\\n            \\\"scheduled_month\\\",\\n            \\\"Customer State\\\",\\n            \\\"Area\\\",\\n            \\\"Price per unit weight\\\",\\n        ]\\n    ]\\n)\\ntrain_y = train_df[[\\\"Cost\\\"]]\";\n",
       "                var nbb_formatted_code = \"train_X_dummified = pd.get_dummies(\\n    train_df[\\n        [\\n            \\\"Artist Reputation\\\",\\n            \\\"Height\\\",\\n            \\\"Width\\\",\\n            \\\"Weight\\\",\\n            \\\"Material\\\",\\n            \\\"Price Of Sculpture\\\",\\n            \\\"Base Shipping Price\\\",\\n            \\\"International\\\",\\n            \\\"Express Shipment\\\",\\n            \\\"Installation Included\\\",\\n            \\\"Transport\\\",\\n            \\\"Fragile\\\",\\n            \\\"Customer Information\\\",\\n            \\\"Remote Location\\\",\\n            \\\"delivery_offset\\\",\\n            \\\"scheduled_year_month\\\",\\n            \\\"scheduled_month\\\",\\n            \\\"Customer State\\\",\\n            \\\"Area\\\",\\n            \\\"Price per unit weight\\\",\\n        ]\\n    ]\\n)\\ntrain_y = train_df[[\\\"Cost\\\"]]\";\n",
       "                var nbb_cells = Jupyter.notebook.get_cells();\n",
       "                for (var i = 0; i < nbb_cells.length; ++i) {\n",
       "                    if (nbb_cells[i].input_prompt_number == nbb_cell_id) {\n",
       "                        if (nbb_cells[i].get_text() == nbb_unformatted_code) {\n",
       "                             nbb_cells[i].set_text(nbb_formatted_code);\n",
       "                        }\n",
       "                        break;\n",
       "                    }\n",
       "                }\n",
       "            }, 500);\n",
       "            "
      ],
      "text/plain": [
       "<IPython.core.display.Javascript object>"
      ]
     },
     "metadata": {},
     "output_type": "display_data"
    }
   ],
   "source": [
    "train_X_dummified = pd.get_dummies(\n",
    "    train_df[\n",
    "        [\n",
    "            \"Artist Reputation\",\n",
    "            \"Height\",\n",
    "            \"Width\",\n",
    "            \"Weight\",\n",
    "            \"Material\",\n",
    "            \"Price Of Sculpture\",\n",
    "            \"Base Shipping Price\",\n",
    "            \"International\",\n",
    "            \"Express Shipment\",\n",
    "            \"Installation Included\",\n",
    "            \"Transport\",\n",
    "            \"Fragile\",\n",
    "            \"Customer Information\",\n",
    "            \"Remote Location\",\n",
    "            \"delivery_offset\",\n",
    "            \"scheduled_year_month\",\n",
    "            \"scheduled_month\",\n",
    "            \"Customer State\",\n",
    "            \"Area\",\n",
    "            \"Price per unit weight\",\n",
    "        ]\n",
    "    ]\n",
    ")\n",
    "train_y = train_df[[\"Cost\"]]"
   ]
  },
  {
   "cell_type": "code",
   "execution_count": 5,
   "id": "liked-remedy",
   "metadata": {
    "scrolled": true
   },
   "outputs": [
    {
     "data": {
      "application/javascript": [
       "\n",
       "            setTimeout(function() {\n",
       "                var nbb_cell_id = 5;\n",
       "                var nbb_unformatted_code = \"if TUNING:\\n    # initialize Boruta\\n    rfr_boruta = RandomForestRegressor(n_jobs=-1, max_depth=5)\\n    boruta = BorutaPy(\\n        estimator=rfr_boruta,\\n        n_estimators=\\\"auto\\\",\\n        max_iter=100,  # number of trials to perform\\n    )\\n\\n    # fit Boruta (it accepts np.array, not pd.DataFrame)\\n    boruta.fit(np.array(train_X_dummified), np.array(train_y))\\n\\n    green_area = train_X_dummified.columns[boruta.support_].to_list()\\n    blue_area = train_X_dummified.columns[boruta.support_weak_].to_list()\\n\\n    print(\\\"features in the green area:\\\", green_area)\\n    print(\\\"features in the blue area:\\\", blue_area)\";\n",
       "                var nbb_formatted_code = \"if TUNING:\\n    # initialize Boruta\\n    rfr_boruta = RandomForestRegressor(n_jobs=-1, max_depth=5)\\n    boruta = BorutaPy(\\n        estimator=rfr_boruta,\\n        n_estimators=\\\"auto\\\",\\n        max_iter=100,  # number of trials to perform\\n    )\\n\\n    # fit Boruta (it accepts np.array, not pd.DataFrame)\\n    boruta.fit(np.array(train_X_dummified), np.array(train_y))\\n\\n    green_area = train_X_dummified.columns[boruta.support_].to_list()\\n    blue_area = train_X_dummified.columns[boruta.support_weak_].to_list()\\n\\n    print(\\\"features in the green area:\\\", green_area)\\n    print(\\\"features in the blue area:\\\", blue_area)\";\n",
       "                var nbb_cells = Jupyter.notebook.get_cells();\n",
       "                for (var i = 0; i < nbb_cells.length; ++i) {\n",
       "                    if (nbb_cells[i].input_prompt_number == nbb_cell_id) {\n",
       "                        if (nbb_cells[i].get_text() == nbb_unformatted_code) {\n",
       "                             nbb_cells[i].set_text(nbb_formatted_code);\n",
       "                        }\n",
       "                        break;\n",
       "                    }\n",
       "                }\n",
       "            }, 500);\n",
       "            "
      ],
      "text/plain": [
       "<IPython.core.display.Javascript object>"
      ]
     },
     "metadata": {},
     "output_type": "display_data"
    }
   ],
   "source": [
    "if TUNING:\n",
    "    # initialize Boruta\n",
    "    rfr_boruta = RandomForestRegressor(n_jobs=-1, max_depth=5)\n",
    "    boruta = BorutaPy(\n",
    "        estimator=rfr_boruta,\n",
    "        n_estimators=\"auto\",\n",
    "        max_iter=100,  # number of trials to perform\n",
    "    )\n",
    "\n",
    "    # fit Boruta (it accepts np.array, not pd.DataFrame)\n",
    "    boruta.fit(np.array(train_X_dummified), np.array(train_y))\n",
    "\n",
    "    green_area = train_X_dummified.columns[boruta.support_].to_list()\n",
    "    blue_area = train_X_dummified.columns[boruta.support_weak_].to_list()\n",
    "\n",
    "    print(\"features in the green area:\", green_area)\n",
    "    print(\"features in the blue area:\", blue_area)"
   ]
  },
  {
   "cell_type": "markdown",
   "id": "defined-senegal",
   "metadata": {},
   "source": [
    "According to Boruta:\n",
    "\n",
    "* features in the green area: ['Artist Reputation', 'Price Of Sculpture', 'Base Shipping Price', 'Customer State_ID']\n",
    "* features in the blue area: ['Weight', 'scheduled_month']"
   ]
  },
  {
   "cell_type": "code",
   "execution_count": 6,
   "id": "baking-escape",
   "metadata": {},
   "outputs": [
    {
     "data": {
      "application/javascript": [
       "\n",
       "            setTimeout(function() {\n",
       "                var nbb_cell_id = 6;\n",
       "                var nbb_unformatted_code = \"if TUNING:\\n    pd.DataFrame(\\n        {\\\"column\\\": train_X_dummified.columns.to_list(), \\\"rank\\\": boruta.ranking_}\\n    ).sort_values(by=\\\"rank\\\").to_csv(\\\"data/boruta_feature_ranking.csv\\\", index=False)\";\n",
       "                var nbb_formatted_code = \"if TUNING:\\n    pd.DataFrame(\\n        {\\\"column\\\": train_X_dummified.columns.to_list(), \\\"rank\\\": boruta.ranking_}\\n    ).sort_values(by=\\\"rank\\\").to_csv(\\\"data/boruta_feature_ranking.csv\\\", index=False)\";\n",
       "                var nbb_cells = Jupyter.notebook.get_cells();\n",
       "                for (var i = 0; i < nbb_cells.length; ++i) {\n",
       "                    if (nbb_cells[i].input_prompt_number == nbb_cell_id) {\n",
       "                        if (nbb_cells[i].get_text() == nbb_unformatted_code) {\n",
       "                             nbb_cells[i].set_text(nbb_formatted_code);\n",
       "                        }\n",
       "                        break;\n",
       "                    }\n",
       "                }\n",
       "            }, 500);\n",
       "            "
      ],
      "text/plain": [
       "<IPython.core.display.Javascript object>"
      ]
     },
     "metadata": {},
     "output_type": "display_data"
    }
   ],
   "source": [
    "if TUNING:\n",
    "    pd.DataFrame(\n",
    "        {\"column\": train_X_dummified.columns.to_list(), \"rank\": boruta.ranking_}\n",
    "    ).sort_values(by=\"rank\").to_csv(\"data/boruta_feature_ranking.csv\", index=False)"
   ]
  },
  {
   "cell_type": "markdown",
   "id": "destroyed-cinema",
   "metadata": {},
   "source": [
    "Based on the rankings, these are the features we'll be using:\n",
    "\n",
    "```python\n",
    "[\n",
    "    \"Artist Reputation\",\n",
    "    \"Customer State\",\n",
    "    \"Price Of Sculpture\",\n",
    "    \"Base Shipping Price\",\n",
    "    \"scheduled_month\",\n",
    "    \"Area\",\n",
    "    \"Weight\",\n",
    "    \"delivery_offset\",\n",
    "    \"Transport\",\n",
    "    \"Material\",\n",
    "    \"Customer Information\",\n",
    "    \"Installation Included\",\n",
    "    \"Express Shipment\",\n",
    "    \"Fragile\",\n",
    "    \"Remote Location\",\n",
    "    \"International\",\n",
    "]\n",
    "```"
   ]
  },
  {
   "cell_type": "code",
   "execution_count": 7,
   "id": "harmful-fairy",
   "metadata": {},
   "outputs": [
    {
     "data": {
      "application/javascript": [
       "\n",
       "            setTimeout(function() {\n",
       "                var nbb_cell_id = 7;\n",
       "                var nbb_unformatted_code = \"keep_features_X = [\\n    \\\"Artist Reputation\\\",\\n    \\\"Customer State\\\",\\n    \\\"Price Of Sculpture\\\",\\n    \\\"Base Shipping Price\\\",\\n    \\\"scheduled_month\\\",\\n    \\\"Area\\\",\\n    \\\"Weight\\\",\\n    \\\"delivery_offset\\\",\\n    \\\"Transport\\\",\\n    \\\"Material\\\",\\n    \\\"Customer Information\\\",\\n    \\\"Installation Included\\\",\\n    \\\"Express Shipment\\\",\\n    \\\"Fragile\\\",\\n    \\\"Remote Location\\\",\\n    \\\"International\\\",\\n]\";\n",
       "                var nbb_formatted_code = \"keep_features_X = [\\n    \\\"Artist Reputation\\\",\\n    \\\"Customer State\\\",\\n    \\\"Price Of Sculpture\\\",\\n    \\\"Base Shipping Price\\\",\\n    \\\"scheduled_month\\\",\\n    \\\"Area\\\",\\n    \\\"Weight\\\",\\n    \\\"delivery_offset\\\",\\n    \\\"Transport\\\",\\n    \\\"Material\\\",\\n    \\\"Customer Information\\\",\\n    \\\"Installation Included\\\",\\n    \\\"Express Shipment\\\",\\n    \\\"Fragile\\\",\\n    \\\"Remote Location\\\",\\n    \\\"International\\\",\\n]\";\n",
       "                var nbb_cells = Jupyter.notebook.get_cells();\n",
       "                for (var i = 0; i < nbb_cells.length; ++i) {\n",
       "                    if (nbb_cells[i].input_prompt_number == nbb_cell_id) {\n",
       "                        if (nbb_cells[i].get_text() == nbb_unformatted_code) {\n",
       "                             nbb_cells[i].set_text(nbb_formatted_code);\n",
       "                        }\n",
       "                        break;\n",
       "                    }\n",
       "                }\n",
       "            }, 500);\n",
       "            "
      ],
      "text/plain": [
       "<IPython.core.display.Javascript object>"
      ]
     },
     "metadata": {},
     "output_type": "display_data"
    }
   ],
   "source": [
    "keep_features_X = [\n",
    "    \"Artist Reputation\",\n",
    "    \"Customer State\",\n",
    "    \"Price Of Sculpture\",\n",
    "    \"Base Shipping Price\",\n",
    "    \"scheduled_month\",\n",
    "    \"Area\",\n",
    "    \"Weight\",\n",
    "    \"delivery_offset\",\n",
    "    \"Transport\",\n",
    "    \"Material\",\n",
    "    \"Customer Information\",\n",
    "    \"Installation Included\",\n",
    "    \"Express Shipment\",\n",
    "    \"Fragile\",\n",
    "    \"Remote Location\",\n",
    "    \"International\",\n",
    "]"
   ]
  },
  {
   "cell_type": "code",
   "execution_count": 8,
   "id": "elect-secretary",
   "metadata": {},
   "outputs": [
    {
     "data": {
      "application/javascript": [
       "\n",
       "            setTimeout(function() {\n",
       "                var nbb_cell_id = 8;\n",
       "                var nbb_unformatted_code = \"keep_cat_features_X = [\\n    \\\"Customer State\\\",\\n    \\\"scheduled_month\\\",\\n    \\\"Transport\\\",\\n    \\\"Material\\\",\\n    \\\"Customer Information\\\",\\n    \\\"Installation Included\\\",\\n    \\\"Express Shipment\\\",\\n    \\\"Fragile\\\",\\n    \\\"Remote Location\\\",\\n    \\\"International\\\",\\n]\";\n",
       "                var nbb_formatted_code = \"keep_cat_features_X = [\\n    \\\"Customer State\\\",\\n    \\\"scheduled_month\\\",\\n    \\\"Transport\\\",\\n    \\\"Material\\\",\\n    \\\"Customer Information\\\",\\n    \\\"Installation Included\\\",\\n    \\\"Express Shipment\\\",\\n    \\\"Fragile\\\",\\n    \\\"Remote Location\\\",\\n    \\\"International\\\",\\n]\";\n",
       "                var nbb_cells = Jupyter.notebook.get_cells();\n",
       "                for (var i = 0; i < nbb_cells.length; ++i) {\n",
       "                    if (nbb_cells[i].input_prompt_number == nbb_cell_id) {\n",
       "                        if (nbb_cells[i].get_text() == nbb_unformatted_code) {\n",
       "                             nbb_cells[i].set_text(nbb_formatted_code);\n",
       "                        }\n",
       "                        break;\n",
       "                    }\n",
       "                }\n",
       "            }, 500);\n",
       "            "
      ],
      "text/plain": [
       "<IPython.core.display.Javascript object>"
      ]
     },
     "metadata": {},
     "output_type": "display_data"
    }
   ],
   "source": [
    "keep_cat_features_X = [\n",
    "    \"Customer State\",\n",
    "    \"scheduled_month\",\n",
    "    \"Transport\",\n",
    "    \"Material\",\n",
    "    \"Customer Information\",\n",
    "    \"Installation Included\",\n",
    "    \"Express Shipment\",\n",
    "    \"Fragile\",\n",
    "    \"Remote Location\",\n",
    "    \"International\",\n",
    "]"
   ]
  },
  {
   "cell_type": "code",
   "execution_count": 9,
   "id": "quality-sigma",
   "metadata": {},
   "outputs": [
    {
     "data": {
      "application/javascript": [
       "\n",
       "            setTimeout(function() {\n",
       "                var nbb_cell_id = 9;\n",
       "                var nbb_unformatted_code = \"train_df[keep_cat_features_X] = train_df[keep_cat_features_X].astype(object)\";\n",
       "                var nbb_formatted_code = \"train_df[keep_cat_features_X] = train_df[keep_cat_features_X].astype(object)\";\n",
       "                var nbb_cells = Jupyter.notebook.get_cells();\n",
       "                for (var i = 0; i < nbb_cells.length; ++i) {\n",
       "                    if (nbb_cells[i].input_prompt_number == nbb_cell_id) {\n",
       "                        if (nbb_cells[i].get_text() == nbb_unformatted_code) {\n",
       "                             nbb_cells[i].set_text(nbb_formatted_code);\n",
       "                        }\n",
       "                        break;\n",
       "                    }\n",
       "                }\n",
       "            }, 500);\n",
       "            "
      ],
      "text/plain": [
       "<IPython.core.display.Javascript object>"
      ]
     },
     "metadata": {},
     "output_type": "display_data"
    }
   ],
   "source": [
    "train_df[keep_cat_features_X] = train_df[keep_cat_features_X].astype(object)"
   ]
  },
  {
   "cell_type": "markdown",
   "id": "coral-junior",
   "metadata": {},
   "source": [
    "## Random Forests\n",
    "\n",
    "We're going using a Random Search and then a Grid Search to find the optimal hyperparameters for a Random Forests model.\n",
    "\n",
    "### Train-Validation Split"
   ]
  },
  {
   "cell_type": "code",
   "execution_count": 10,
   "id": "bright-winter",
   "metadata": {},
   "outputs": [
    {
     "data": {
      "application/javascript": [
       "\n",
       "            setTimeout(function() {\n",
       "                var nbb_cell_id = 10;\n",
       "                var nbb_unformatted_code = \"(train_X_df, val_X_df, train_y_df, val_y_df,) = train_test_split(\\n    train_df[keep_features_X],\\n    train_df[[\\\"Cost\\\"]],\\n    test_size=0.35,\\n    random_state=42,\\n)\";\n",
       "                var nbb_formatted_code = \"(train_X_df, val_X_df, train_y_df, val_y_df,) = train_test_split(\\n    train_df[keep_features_X],\\n    train_df[[\\\"Cost\\\"]],\\n    test_size=0.35,\\n    random_state=42,\\n)\";\n",
       "                var nbb_cells = Jupyter.notebook.get_cells();\n",
       "                for (var i = 0; i < nbb_cells.length; ++i) {\n",
       "                    if (nbb_cells[i].input_prompt_number == nbb_cell_id) {\n",
       "                        if (nbb_cells[i].get_text() == nbb_unformatted_code) {\n",
       "                             nbb_cells[i].set_text(nbb_formatted_code);\n",
       "                        }\n",
       "                        break;\n",
       "                    }\n",
       "                }\n",
       "            }, 500);\n",
       "            "
      ],
      "text/plain": [
       "<IPython.core.display.Javascript object>"
      ]
     },
     "metadata": {},
     "output_type": "display_data"
    }
   ],
   "source": [
    "(train_X_df, val_X_df, train_y_df, val_y_df,) = train_test_split(\n",
    "    train_df[keep_features_X],\n",
    "    train_df[[\"Cost\"]],\n",
    "    test_size=0.35,\n",
    "    random_state=42,\n",
    ")"
   ]
  },
  {
   "cell_type": "code",
   "execution_count": 11,
   "id": "polar-disabled",
   "metadata": {},
   "outputs": [
    {
     "data": {
      "application/javascript": [
       "\n",
       "            setTimeout(function() {\n",
       "                var nbb_cell_id = 11;\n",
       "                var nbb_unformatted_code = \"# dummifying variables\\ntrain_X_df = pd.get_dummies(train_X_df)\\nval_X_df = pd.get_dummies(val_X_df)\";\n",
       "                var nbb_formatted_code = \"# dummifying variables\\ntrain_X_df = pd.get_dummies(train_X_df)\\nval_X_df = pd.get_dummies(val_X_df)\";\n",
       "                var nbb_cells = Jupyter.notebook.get_cells();\n",
       "                for (var i = 0; i < nbb_cells.length; ++i) {\n",
       "                    if (nbb_cells[i].input_prompt_number == nbb_cell_id) {\n",
       "                        if (nbb_cells[i].get_text() == nbb_unformatted_code) {\n",
       "                             nbb_cells[i].set_text(nbb_formatted_code);\n",
       "                        }\n",
       "                        break;\n",
       "                    }\n",
       "                }\n",
       "            }, 500);\n",
       "            "
      ],
      "text/plain": [
       "<IPython.core.display.Javascript object>"
      ]
     },
     "metadata": {},
     "output_type": "display_data"
    }
   ],
   "source": [
    "# dummifying variables\n",
    "train_X_df = pd.get_dummies(train_X_df)\n",
    "val_X_df = pd.get_dummies(val_X_df)"
   ]
  },
  {
   "cell_type": "markdown",
   "id": "electrical-belly",
   "metadata": {},
   "source": [
    "### Random Search"
   ]
  },
  {
   "cell_type": "code",
   "execution_count": 12,
   "id": "short-compiler",
   "metadata": {},
   "outputs": [
    {
     "data": {
      "application/javascript": [
       "\n",
       "            setTimeout(function() {\n",
       "                var nbb_cell_id = 12;\n",
       "                var nbb_unformatted_code = \"# Number of trees in random forest\\nn_estimators = [int(x) for x in np.linspace(start=200, stop=2000, num=10)]\\n\\n# Number of features to consider at every split\\nmax_features = [\\\"auto\\\", \\\"sqrt\\\"]\\n\\n# Maximum number of levels in tree\\nmax_depth = [int(x) for x in np.linspace(10, 110, num=11)]\\nmax_depth.append(None)\\n\\n# Minimum number of samples required to split a node\\nmin_samples_split = [2, 5, 10]\\n\\n# Minimum number of samples required at each leaf node\\nmin_samples_leaf = [1, 2, 4]\\n\\n# Method of selecting samples for training each tree\\nbootstrap = [True, False]\\n\\n# Create the random grid\\nrandom_grid = {\\n    \\\"n_estimators\\\": n_estimators,\\n    \\\"max_features\\\": max_features,\\n    \\\"max_depth\\\": max_depth,\\n    \\\"min_samples_split\\\": min_samples_split,\\n    \\\"min_samples_leaf\\\": min_samples_leaf,\\n    \\\"bootstrap\\\": bootstrap,\\n}\";\n",
       "                var nbb_formatted_code = \"# Number of trees in random forest\\nn_estimators = [int(x) for x in np.linspace(start=200, stop=2000, num=10)]\\n\\n# Number of features to consider at every split\\nmax_features = [\\\"auto\\\", \\\"sqrt\\\"]\\n\\n# Maximum number of levels in tree\\nmax_depth = [int(x) for x in np.linspace(10, 110, num=11)]\\nmax_depth.append(None)\\n\\n# Minimum number of samples required to split a node\\nmin_samples_split = [2, 5, 10]\\n\\n# Minimum number of samples required at each leaf node\\nmin_samples_leaf = [1, 2, 4]\\n\\n# Method of selecting samples for training each tree\\nbootstrap = [True, False]\\n\\n# Create the random grid\\nrandom_grid = {\\n    \\\"n_estimators\\\": n_estimators,\\n    \\\"max_features\\\": max_features,\\n    \\\"max_depth\\\": max_depth,\\n    \\\"min_samples_split\\\": min_samples_split,\\n    \\\"min_samples_leaf\\\": min_samples_leaf,\\n    \\\"bootstrap\\\": bootstrap,\\n}\";\n",
       "                var nbb_cells = Jupyter.notebook.get_cells();\n",
       "                for (var i = 0; i < nbb_cells.length; ++i) {\n",
       "                    if (nbb_cells[i].input_prompt_number == nbb_cell_id) {\n",
       "                        if (nbb_cells[i].get_text() == nbb_unformatted_code) {\n",
       "                             nbb_cells[i].set_text(nbb_formatted_code);\n",
       "                        }\n",
       "                        break;\n",
       "                    }\n",
       "                }\n",
       "            }, 500);\n",
       "            "
      ],
      "text/plain": [
       "<IPython.core.display.Javascript object>"
      ]
     },
     "metadata": {},
     "output_type": "display_data"
    }
   ],
   "source": [
    "# Number of trees in random forest\n",
    "n_estimators = [int(x) for x in np.linspace(start=200, stop=2000, num=10)]\n",
    "\n",
    "# Number of features to consider at every split\n",
    "max_features = [\"auto\", \"sqrt\"]\n",
    "\n",
    "# Maximum number of levels in tree\n",
    "max_depth = [int(x) for x in np.linspace(10, 110, num=11)]\n",
    "max_depth.append(None)\n",
    "\n",
    "# Minimum number of samples required to split a node\n",
    "min_samples_split = [2, 5, 10]\n",
    "\n",
    "# Minimum number of samples required at each leaf node\n",
    "min_samples_leaf = [1, 2, 4]\n",
    "\n",
    "# Method of selecting samples for training each tree\n",
    "bootstrap = [True, False]\n",
    "\n",
    "# Create the random grid\n",
    "random_grid = {\n",
    "    \"n_estimators\": n_estimators,\n",
    "    \"max_features\": max_features,\n",
    "    \"max_depth\": max_depth,\n",
    "    \"min_samples_split\": min_samples_split,\n",
    "    \"min_samples_leaf\": min_samples_leaf,\n",
    "    \"bootstrap\": bootstrap,\n",
    "}"
   ]
  },
  {
   "cell_type": "code",
   "execution_count": 13,
   "id": "active-germany",
   "metadata": {},
   "outputs": [
    {
     "data": {
      "application/javascript": [
       "\n",
       "            setTimeout(function() {\n",
       "                var nbb_cell_id = 13;\n",
       "                var nbb_unformatted_code = \"random_rf_reg = RandomForestRegressor()\";\n",
       "                var nbb_formatted_code = \"random_rf_reg = RandomForestRegressor()\";\n",
       "                var nbb_cells = Jupyter.notebook.get_cells();\n",
       "                for (var i = 0; i < nbb_cells.length; ++i) {\n",
       "                    if (nbb_cells[i].input_prompt_number == nbb_cell_id) {\n",
       "                        if (nbb_cells[i].get_text() == nbb_unformatted_code) {\n",
       "                             nbb_cells[i].set_text(nbb_formatted_code);\n",
       "                        }\n",
       "                        break;\n",
       "                    }\n",
       "                }\n",
       "            }, 500);\n",
       "            "
      ],
      "text/plain": [
       "<IPython.core.display.Javascript object>"
      ]
     },
     "metadata": {},
     "output_type": "display_data"
    }
   ],
   "source": [
    "random_rf_reg = RandomForestRegressor()"
   ]
  },
  {
   "cell_type": "code",
   "execution_count": 14,
   "id": "artistic-assist",
   "metadata": {},
   "outputs": [
    {
     "data": {
      "application/javascript": [
       "\n",
       "            setTimeout(function() {\n",
       "                var nbb_cell_id = 14;\n",
       "                var nbb_unformatted_code = \"rf_random_search = RandomizedSearchCV(\\n    estimator=random_rf_reg,\\n    param_distributions=random_grid,\\n    n_iter=100,\\n    cv=5,\\n    verbose=2,\\n    random_state=42,\\n    n_jobs=-1,\\n)\";\n",
       "                var nbb_formatted_code = \"rf_random_search = RandomizedSearchCV(\\n    estimator=random_rf_reg,\\n    param_distributions=random_grid,\\n    n_iter=100,\\n    cv=5,\\n    verbose=2,\\n    random_state=42,\\n    n_jobs=-1,\\n)\";\n",
       "                var nbb_cells = Jupyter.notebook.get_cells();\n",
       "                for (var i = 0; i < nbb_cells.length; ++i) {\n",
       "                    if (nbb_cells[i].input_prompt_number == nbb_cell_id) {\n",
       "                        if (nbb_cells[i].get_text() == nbb_unformatted_code) {\n",
       "                             nbb_cells[i].set_text(nbb_formatted_code);\n",
       "                        }\n",
       "                        break;\n",
       "                    }\n",
       "                }\n",
       "            }, 500);\n",
       "            "
      ],
      "text/plain": [
       "<IPython.core.display.Javascript object>"
      ]
     },
     "metadata": {},
     "output_type": "display_data"
    }
   ],
   "source": [
    "rf_random_search = RandomizedSearchCV(\n",
    "    estimator=random_rf_reg,\n",
    "    param_distributions=random_grid,\n",
    "    n_iter=100,\n",
    "    cv=5,\n",
    "    verbose=2,\n",
    "    random_state=42,\n",
    "    n_jobs=-1,\n",
    ")"
   ]
  },
  {
   "cell_type": "code",
   "execution_count": 15,
   "id": "intellectual-riverside",
   "metadata": {},
   "outputs": [
    {
     "data": {
      "application/javascript": [
       "\n",
       "            setTimeout(function() {\n",
       "                var nbb_cell_id = 15;\n",
       "                var nbb_unformatted_code = \"if TUNING:\\n    rf_random_search.fit(train_X_df, train_y_df)\";\n",
       "                var nbb_formatted_code = \"if TUNING:\\n    rf_random_search.fit(train_X_df, train_y_df)\";\n",
       "                var nbb_cells = Jupyter.notebook.get_cells();\n",
       "                for (var i = 0; i < nbb_cells.length; ++i) {\n",
       "                    if (nbb_cells[i].input_prompt_number == nbb_cell_id) {\n",
       "                        if (nbb_cells[i].get_text() == nbb_unformatted_code) {\n",
       "                             nbb_cells[i].set_text(nbb_formatted_code);\n",
       "                        }\n",
       "                        break;\n",
       "                    }\n",
       "                }\n",
       "            }, 500);\n",
       "            "
      ],
      "text/plain": [
       "<IPython.core.display.Javascript object>"
      ]
     },
     "metadata": {},
     "output_type": "display_data"
    }
   ],
   "source": [
    "if TUNING:\n",
    "    rf_random_search.fit(train_X_df, train_y_df)"
   ]
  },
  {
   "cell_type": "code",
   "execution_count": 16,
   "id": "heated-census",
   "metadata": {},
   "outputs": [
    {
     "data": {
      "application/javascript": [
       "\n",
       "            setTimeout(function() {\n",
       "                var nbb_cell_id = 16;\n",
       "                var nbb_unformatted_code = \"if TUNING:\\n    print(rf_random_search.best_params_)\";\n",
       "                var nbb_formatted_code = \"if TUNING:\\n    print(rf_random_search.best_params_)\";\n",
       "                var nbb_cells = Jupyter.notebook.get_cells();\n",
       "                for (var i = 0; i < nbb_cells.length; ++i) {\n",
       "                    if (nbb_cells[i].input_prompt_number == nbb_cell_id) {\n",
       "                        if (nbb_cells[i].get_text() == nbb_unformatted_code) {\n",
       "                             nbb_cells[i].set_text(nbb_formatted_code);\n",
       "                        }\n",
       "                        break;\n",
       "                    }\n",
       "                }\n",
       "            }, 500);\n",
       "            "
      ],
      "text/plain": [
       "<IPython.core.display.Javascript object>"
      ]
     },
     "metadata": {},
     "output_type": "display_data"
    }
   ],
   "source": [
    "if TUNING:\n",
    "    print(rf_random_search.best_params_)"
   ]
  },
  {
   "cell_type": "markdown",
   "id": "acceptable-corruption",
   "metadata": {},
   "source": [
    "Random Search best params:\n",
    "\n",
    "```python\n",
    "{\n",
    "    \"n_estimators\": 400,\n",
    "    \"min_samples_split\": 2,\n",
    "    \"min_samples_leaf\": 1,\n",
    "    \"max_features\": \"sqrt\",\n",
    "    \"max_depth\": None,\n",
    "    \"bootstrap\": False,\n",
    "}\n",
    "```"
   ]
  },
  {
   "cell_type": "code",
   "execution_count": 17,
   "id": "british-evidence",
   "metadata": {},
   "outputs": [
    {
     "data": {
      "application/javascript": [
       "\n",
       "            setTimeout(function() {\n",
       "                var nbb_cell_id = 17;\n",
       "                var nbb_unformatted_code = \"rf_random_search = RandomForestRegressor(\\n    **{\\n        \\\"n_estimators\\\": 400,\\n        \\\"min_samples_split\\\": 2,\\n        \\\"min_samples_leaf\\\": 1,\\n        \\\"max_features\\\": \\\"sqrt\\\",\\n        \\\"max_depth\\\": None,\\n        \\\"bootstrap\\\": False,\\n    }\\n)\";\n",
       "                var nbb_formatted_code = \"rf_random_search = RandomForestRegressor(\\n    **{\\n        \\\"n_estimators\\\": 400,\\n        \\\"min_samples_split\\\": 2,\\n        \\\"min_samples_leaf\\\": 1,\\n        \\\"max_features\\\": \\\"sqrt\\\",\\n        \\\"max_depth\\\": None,\\n        \\\"bootstrap\\\": False,\\n    }\\n)\";\n",
       "                var nbb_cells = Jupyter.notebook.get_cells();\n",
       "                for (var i = 0; i < nbb_cells.length; ++i) {\n",
       "                    if (nbb_cells[i].input_prompt_number == nbb_cell_id) {\n",
       "                        if (nbb_cells[i].get_text() == nbb_unformatted_code) {\n",
       "                             nbb_cells[i].set_text(nbb_formatted_code);\n",
       "                        }\n",
       "                        break;\n",
       "                    }\n",
       "                }\n",
       "            }, 500);\n",
       "            "
      ],
      "text/plain": [
       "<IPython.core.display.Javascript object>"
      ]
     },
     "metadata": {},
     "output_type": "display_data"
    }
   ],
   "source": [
    "rf_random_search = RandomForestRegressor(\n",
    "    **{\n",
    "        \"n_estimators\": 400,\n",
    "        \"min_samples_split\": 2,\n",
    "        \"min_samples_leaf\": 1,\n",
    "        \"max_features\": \"sqrt\",\n",
    "        \"max_depth\": None,\n",
    "        \"bootstrap\": False,\n",
    "    }\n",
    ")"
   ]
  },
  {
   "cell_type": "code",
   "execution_count": 18,
   "id": "forty-receipt",
   "metadata": {},
   "outputs": [
    {
     "data": {
      "application/javascript": [
       "\n",
       "            setTimeout(function() {\n",
       "                var nbb_cell_id = 18;\n",
       "                var nbb_unformatted_code = \"if TUNING:\\n    scores = cross_validate(\\n        rf_random_search,\\n        pd.get_dummies(train_df[keep_features_X]),\\n        train_df[\\\"Cost\\\"],\\n        scoring=(\\\"r2\\\", \\\"neg_mean_squared_error\\\"),\\n        return_train_score=True,\\n        cv=5,\\n    )\\n    print(scores[\\\"test_r2\\\"].mean())\\n    print(scores[\\\"test_neg_mean_squared_error\\\"].mean())\";\n",
       "                var nbb_formatted_code = \"if TUNING:\\n    scores = cross_validate(\\n        rf_random_search,\\n        pd.get_dummies(train_df[keep_features_X]),\\n        train_df[\\\"Cost\\\"],\\n        scoring=(\\\"r2\\\", \\\"neg_mean_squared_error\\\"),\\n        return_train_score=True,\\n        cv=5,\\n    )\\n    print(scores[\\\"test_r2\\\"].mean())\\n    print(scores[\\\"test_neg_mean_squared_error\\\"].mean())\";\n",
       "                var nbb_cells = Jupyter.notebook.get_cells();\n",
       "                for (var i = 0; i < nbb_cells.length; ++i) {\n",
       "                    if (nbb_cells[i].input_prompt_number == nbb_cell_id) {\n",
       "                        if (nbb_cells[i].get_text() == nbb_unformatted_code) {\n",
       "                             nbb_cells[i].set_text(nbb_formatted_code);\n",
       "                        }\n",
       "                        break;\n",
       "                    }\n",
       "                }\n",
       "            }, 500);\n",
       "            "
      ],
      "text/plain": [
       "<IPython.core.display.Javascript object>"
      ]
     },
     "metadata": {},
     "output_type": "display_data"
    }
   ],
   "source": [
    "if TUNING:\n",
    "    scores = cross_validate(\n",
    "        rf_random_search,\n",
    "        pd.get_dummies(train_df[keep_features_X]),\n",
    "        train_df[\"Cost\"],\n",
    "        scoring=(\"r2\", \"neg_mean_squared_error\"),\n",
    "        return_train_score=True,\n",
    "        cv=5,\n",
    "    )\n",
    "    print(scores[\"test_r2\"].mean())\n",
    "    print(scores[\"test_neg_mean_squared_error\"].mean())"
   ]
  },
  {
   "cell_type": "code",
   "execution_count": 19,
   "id": "alive-front",
   "metadata": {},
   "outputs": [
    {
     "data": {
      "application/javascript": [
       "\n",
       "            setTimeout(function() {\n",
       "                var nbb_cell_id = 19;\n",
       "                var nbb_unformatted_code = \"if TUNING:\\n    rf_base_reg = RandomForestRegressor()\\n    scores = cross_validate(\\n        rf_base_reg,\\n        pd.get_dummies(train_df[keep_features_X]),\\n        train_df[\\\"Cost\\\"],\\n        scoring=(\\\"r2\\\", \\\"neg_mean_squared_error\\\"),\\n        return_train_score=True,\\n        cv=5,\\n    )\\n    print(scores[\\\"test_r2\\\"].mean())\\n    print(scores[\\\"test_neg_mean_squared_error\\\"].mean())\";\n",
       "                var nbb_formatted_code = \"if TUNING:\\n    rf_base_reg = RandomForestRegressor()\\n    scores = cross_validate(\\n        rf_base_reg,\\n        pd.get_dummies(train_df[keep_features_X]),\\n        train_df[\\\"Cost\\\"],\\n        scoring=(\\\"r2\\\", \\\"neg_mean_squared_error\\\"),\\n        return_train_score=True,\\n        cv=5,\\n    )\\n    print(scores[\\\"test_r2\\\"].mean())\\n    print(scores[\\\"test_neg_mean_squared_error\\\"].mean())\";\n",
       "                var nbb_cells = Jupyter.notebook.get_cells();\n",
       "                for (var i = 0; i < nbb_cells.length; ++i) {\n",
       "                    if (nbb_cells[i].input_prompt_number == nbb_cell_id) {\n",
       "                        if (nbb_cells[i].get_text() == nbb_unformatted_code) {\n",
       "                             nbb_cells[i].set_text(nbb_formatted_code);\n",
       "                        }\n",
       "                        break;\n",
       "                    }\n",
       "                }\n",
       "            }, 500);\n",
       "            "
      ],
      "text/plain": [
       "<IPython.core.display.Javascript object>"
      ]
     },
     "metadata": {},
     "output_type": "display_data"
    }
   ],
   "source": [
    "if TUNING:\n",
    "    rf_base_reg = RandomForestRegressor()\n",
    "    scores = cross_validate(\n",
    "        rf_base_reg,\n",
    "        pd.get_dummies(train_df[keep_features_X]),\n",
    "        train_df[\"Cost\"],\n",
    "        scoring=(\"r2\", \"neg_mean_squared_error\"),\n",
    "        return_train_score=True,\n",
    "        cv=5,\n",
    "    )\n",
    "    print(scores[\"test_r2\"].mean())\n",
    "    print(scores[\"test_neg_mean_squared_error\"].mean())"
   ]
  },
  {
   "cell_type": "markdown",
   "id": "split-villa",
   "metadata": {},
   "source": [
    "Since the MSE are very high, we'll be using a different model."
   ]
  },
  {
   "cell_type": "markdown",
   "id": "subjective-thread",
   "metadata": {},
   "source": [
    "## CatBoost"
   ]
  },
  {
   "cell_type": "code",
   "execution_count": 20,
   "id": "solved-convergence",
   "metadata": {},
   "outputs": [
    {
     "data": {
      "application/javascript": [
       "\n",
       "            setTimeout(function() {\n",
       "                var nbb_cell_id = 20;\n",
       "                var nbb_unformatted_code = \"cat_features = [\\n    \\\"Customer State_AK\\\",\\n    \\\"Customer State_AL\\\",\\n    \\\"Customer State_AP\\\",\\n    \\\"Customer State_AR\\\",\\n    \\\"Customer State_AZ\\\",\\n    \\\"Customer State_CA\\\",\\n    \\\"Customer State_CO\\\",\\n    \\\"Customer State_CT\\\",\\n    \\\"Customer State_DC\\\",\\n    \\\"Customer State_DE\\\",\\n    \\\"Customer State_DP\\\",\\n    \\\"Customer State_FL\\\",\\n    \\\"Customer State_FP\\\",\\n    \\\"Customer State_GA\\\",\\n    \\\"Customer State_HI\\\",\\n    \\\"Customer State_IA\\\",\\n    \\\"Customer State_ID\\\",\\n    \\\"Customer State_IL\\\",\\n    \\\"Customer State_IN\\\",\\n    \\\"Customer State_KS\\\",\\n    \\\"Customer State_KY\\\",\\n    \\\"Customer State_LA\\\",\\n    \\\"Customer State_MA\\\",\\n    \\\"Customer State_MD\\\",\\n    \\\"Customer State_ME\\\",\\n    \\\"Customer State_MI\\\",\\n    \\\"Customer State_MN\\\",\\n    \\\"Customer State_MO\\\",\\n    \\\"Customer State_MS\\\",\\n    \\\"Customer State_MT\\\",\\n    \\\"Customer State_NC\\\",\\n    \\\"Customer State_ND\\\",\\n    \\\"Customer State_NE\\\",\\n    \\\"Customer State_NH\\\",\\n    \\\"Customer State_NJ\\\",\\n    \\\"Customer State_NM\\\",\\n    \\\"Customer State_NV\\\",\\n    \\\"Customer State_NY\\\",\\n    \\\"Customer State_OH\\\",\\n    \\\"Customer State_OK\\\",\\n    \\\"Customer State_OR\\\",\\n    \\\"Customer State_PA\\\",\\n    \\\"Customer State_RI\\\",\\n    \\\"Customer State_SC\\\",\\n    \\\"Customer State_SD\\\",\\n    \\\"Customer State_TN\\\",\\n    \\\"Customer State_TX\\\",\\n    \\\"Customer State_UT\\\",\\n    \\\"Customer State_VA\\\",\\n    \\\"Customer State_VT\\\",\\n    \\\"Customer State_WA\\\",\\n    \\\"Customer State_WI\\\",\\n    \\\"Customer State_WV\\\",\\n    \\\"Customer State_WY\\\",\\n    \\\"scheduled_month_1\\\",\\n    \\\"scheduled_month_2\\\",\\n    \\\"scheduled_month_3\\\",\\n    \\\"scheduled_month_4\\\",\\n    \\\"scheduled_month_5\\\",\\n    \\\"scheduled_month_6\\\",\\n    \\\"scheduled_month_7\\\",\\n    \\\"scheduled_month_8\\\",\\n    \\\"scheduled_month_9\\\",\\n    \\\"scheduled_month_10\\\",\\n    \\\"scheduled_month_11\\\",\\n    \\\"scheduled_month_12\\\",\\n    \\\"Transport_Airways\\\",\\n    \\\"Transport_Roadways\\\",\\n    \\\"Transport_Waterways\\\",\\n    \\\"Material_Aluminium\\\",\\n    \\\"Material_Brass\\\",\\n    \\\"Material_Bronze\\\",\\n    \\\"Material_Clay\\\",\\n    \\\"Material_Marble\\\",\\n    \\\"Material_Stone\\\",\\n    \\\"Material_Wood\\\",\\n    \\\"Customer Information_Wealthy\\\",\\n    \\\"Customer Information_Working Class\\\",\\n    \\\"Installation Included_No\\\",\\n    \\\"Installation Included_Yes\\\",\\n    \\\"Express Shipment_No\\\",\\n    \\\"Express Shipment_Yes\\\",\\n    \\\"Fragile_No\\\",\\n    \\\"Fragile_Yes\\\",\\n    \\\"Remote Location_No\\\",\\n    \\\"Remote Location_Yes\\\",\\n    \\\"International_No\\\",\\n    \\\"International_Yes\\\",\\n]\";\n",
       "                var nbb_formatted_code = \"cat_features = [\\n    \\\"Customer State_AK\\\",\\n    \\\"Customer State_AL\\\",\\n    \\\"Customer State_AP\\\",\\n    \\\"Customer State_AR\\\",\\n    \\\"Customer State_AZ\\\",\\n    \\\"Customer State_CA\\\",\\n    \\\"Customer State_CO\\\",\\n    \\\"Customer State_CT\\\",\\n    \\\"Customer State_DC\\\",\\n    \\\"Customer State_DE\\\",\\n    \\\"Customer State_DP\\\",\\n    \\\"Customer State_FL\\\",\\n    \\\"Customer State_FP\\\",\\n    \\\"Customer State_GA\\\",\\n    \\\"Customer State_HI\\\",\\n    \\\"Customer State_IA\\\",\\n    \\\"Customer State_ID\\\",\\n    \\\"Customer State_IL\\\",\\n    \\\"Customer State_IN\\\",\\n    \\\"Customer State_KS\\\",\\n    \\\"Customer State_KY\\\",\\n    \\\"Customer State_LA\\\",\\n    \\\"Customer State_MA\\\",\\n    \\\"Customer State_MD\\\",\\n    \\\"Customer State_ME\\\",\\n    \\\"Customer State_MI\\\",\\n    \\\"Customer State_MN\\\",\\n    \\\"Customer State_MO\\\",\\n    \\\"Customer State_MS\\\",\\n    \\\"Customer State_MT\\\",\\n    \\\"Customer State_NC\\\",\\n    \\\"Customer State_ND\\\",\\n    \\\"Customer State_NE\\\",\\n    \\\"Customer State_NH\\\",\\n    \\\"Customer State_NJ\\\",\\n    \\\"Customer State_NM\\\",\\n    \\\"Customer State_NV\\\",\\n    \\\"Customer State_NY\\\",\\n    \\\"Customer State_OH\\\",\\n    \\\"Customer State_OK\\\",\\n    \\\"Customer State_OR\\\",\\n    \\\"Customer State_PA\\\",\\n    \\\"Customer State_RI\\\",\\n    \\\"Customer State_SC\\\",\\n    \\\"Customer State_SD\\\",\\n    \\\"Customer State_TN\\\",\\n    \\\"Customer State_TX\\\",\\n    \\\"Customer State_UT\\\",\\n    \\\"Customer State_VA\\\",\\n    \\\"Customer State_VT\\\",\\n    \\\"Customer State_WA\\\",\\n    \\\"Customer State_WI\\\",\\n    \\\"Customer State_WV\\\",\\n    \\\"Customer State_WY\\\",\\n    \\\"scheduled_month_1\\\",\\n    \\\"scheduled_month_2\\\",\\n    \\\"scheduled_month_3\\\",\\n    \\\"scheduled_month_4\\\",\\n    \\\"scheduled_month_5\\\",\\n    \\\"scheduled_month_6\\\",\\n    \\\"scheduled_month_7\\\",\\n    \\\"scheduled_month_8\\\",\\n    \\\"scheduled_month_9\\\",\\n    \\\"scheduled_month_10\\\",\\n    \\\"scheduled_month_11\\\",\\n    \\\"scheduled_month_12\\\",\\n    \\\"Transport_Airways\\\",\\n    \\\"Transport_Roadways\\\",\\n    \\\"Transport_Waterways\\\",\\n    \\\"Material_Aluminium\\\",\\n    \\\"Material_Brass\\\",\\n    \\\"Material_Bronze\\\",\\n    \\\"Material_Clay\\\",\\n    \\\"Material_Marble\\\",\\n    \\\"Material_Stone\\\",\\n    \\\"Material_Wood\\\",\\n    \\\"Customer Information_Wealthy\\\",\\n    \\\"Customer Information_Working Class\\\",\\n    \\\"Installation Included_No\\\",\\n    \\\"Installation Included_Yes\\\",\\n    \\\"Express Shipment_No\\\",\\n    \\\"Express Shipment_Yes\\\",\\n    \\\"Fragile_No\\\",\\n    \\\"Fragile_Yes\\\",\\n    \\\"Remote Location_No\\\",\\n    \\\"Remote Location_Yes\\\",\\n    \\\"International_No\\\",\\n    \\\"International_Yes\\\",\\n]\";\n",
       "                var nbb_cells = Jupyter.notebook.get_cells();\n",
       "                for (var i = 0; i < nbb_cells.length; ++i) {\n",
       "                    if (nbb_cells[i].input_prompt_number == nbb_cell_id) {\n",
       "                        if (nbb_cells[i].get_text() == nbb_unformatted_code) {\n",
       "                             nbb_cells[i].set_text(nbb_formatted_code);\n",
       "                        }\n",
       "                        break;\n",
       "                    }\n",
       "                }\n",
       "            }, 500);\n",
       "            "
      ],
      "text/plain": [
       "<IPython.core.display.Javascript object>"
      ]
     },
     "metadata": {},
     "output_type": "display_data"
    }
   ],
   "source": [
    "cat_features = [\n",
    "    \"Customer State_AK\",\n",
    "    \"Customer State_AL\",\n",
    "    \"Customer State_AP\",\n",
    "    \"Customer State_AR\",\n",
    "    \"Customer State_AZ\",\n",
    "    \"Customer State_CA\",\n",
    "    \"Customer State_CO\",\n",
    "    \"Customer State_CT\",\n",
    "    \"Customer State_DC\",\n",
    "    \"Customer State_DE\",\n",
    "    \"Customer State_DP\",\n",
    "    \"Customer State_FL\",\n",
    "    \"Customer State_FP\",\n",
    "    \"Customer State_GA\",\n",
    "    \"Customer State_HI\",\n",
    "    \"Customer State_IA\",\n",
    "    \"Customer State_ID\",\n",
    "    \"Customer State_IL\",\n",
    "    \"Customer State_IN\",\n",
    "    \"Customer State_KS\",\n",
    "    \"Customer State_KY\",\n",
    "    \"Customer State_LA\",\n",
    "    \"Customer State_MA\",\n",
    "    \"Customer State_MD\",\n",
    "    \"Customer State_ME\",\n",
    "    \"Customer State_MI\",\n",
    "    \"Customer State_MN\",\n",
    "    \"Customer State_MO\",\n",
    "    \"Customer State_MS\",\n",
    "    \"Customer State_MT\",\n",
    "    \"Customer State_NC\",\n",
    "    \"Customer State_ND\",\n",
    "    \"Customer State_NE\",\n",
    "    \"Customer State_NH\",\n",
    "    \"Customer State_NJ\",\n",
    "    \"Customer State_NM\",\n",
    "    \"Customer State_NV\",\n",
    "    \"Customer State_NY\",\n",
    "    \"Customer State_OH\",\n",
    "    \"Customer State_OK\",\n",
    "    \"Customer State_OR\",\n",
    "    \"Customer State_PA\",\n",
    "    \"Customer State_RI\",\n",
    "    \"Customer State_SC\",\n",
    "    \"Customer State_SD\",\n",
    "    \"Customer State_TN\",\n",
    "    \"Customer State_TX\",\n",
    "    \"Customer State_UT\",\n",
    "    \"Customer State_VA\",\n",
    "    \"Customer State_VT\",\n",
    "    \"Customer State_WA\",\n",
    "    \"Customer State_WI\",\n",
    "    \"Customer State_WV\",\n",
    "    \"Customer State_WY\",\n",
    "    \"scheduled_month_1\",\n",
    "    \"scheduled_month_2\",\n",
    "    \"scheduled_month_3\",\n",
    "    \"scheduled_month_4\",\n",
    "    \"scheduled_month_5\",\n",
    "    \"scheduled_month_6\",\n",
    "    \"scheduled_month_7\",\n",
    "    \"scheduled_month_8\",\n",
    "    \"scheduled_month_9\",\n",
    "    \"scheduled_month_10\",\n",
    "    \"scheduled_month_11\",\n",
    "    \"scheduled_month_12\",\n",
    "    \"Transport_Airways\",\n",
    "    \"Transport_Roadways\",\n",
    "    \"Transport_Waterways\",\n",
    "    \"Material_Aluminium\",\n",
    "    \"Material_Brass\",\n",
    "    \"Material_Bronze\",\n",
    "    \"Material_Clay\",\n",
    "    \"Material_Marble\",\n",
    "    \"Material_Stone\",\n",
    "    \"Material_Wood\",\n",
    "    \"Customer Information_Wealthy\",\n",
    "    \"Customer Information_Working Class\",\n",
    "    \"Installation Included_No\",\n",
    "    \"Installation Included_Yes\",\n",
    "    \"Express Shipment_No\",\n",
    "    \"Express Shipment_Yes\",\n",
    "    \"Fragile_No\",\n",
    "    \"Fragile_Yes\",\n",
    "    \"Remote Location_No\",\n",
    "    \"Remote Location_Yes\",\n",
    "    \"International_No\",\n",
    "    \"International_Yes\",\n",
    "]"
   ]
  },
  {
   "cell_type": "code",
   "execution_count": 21,
   "id": "individual-diary",
   "metadata": {},
   "outputs": [
    {
     "data": {
      "application/javascript": [
       "\n",
       "            setTimeout(function() {\n",
       "                var nbb_cell_id = 21;\n",
       "                var nbb_unformatted_code = \"train_pool = Pool(data=train_X_df, label=train_y_df, cat_features=cat_features)\";\n",
       "                var nbb_formatted_code = \"train_pool = Pool(data=train_X_df, label=train_y_df, cat_features=cat_features)\";\n",
       "                var nbb_cells = Jupyter.notebook.get_cells();\n",
       "                for (var i = 0; i < nbb_cells.length; ++i) {\n",
       "                    if (nbb_cells[i].input_prompt_number == nbb_cell_id) {\n",
       "                        if (nbb_cells[i].get_text() == nbb_unformatted_code) {\n",
       "                             nbb_cells[i].set_text(nbb_formatted_code);\n",
       "                        }\n",
       "                        break;\n",
       "                    }\n",
       "                }\n",
       "            }, 500);\n",
       "            "
      ],
      "text/plain": [
       "<IPython.core.display.Javascript object>"
      ]
     },
     "metadata": {},
     "output_type": "display_data"
    }
   ],
   "source": [
    "train_pool = Pool(data=train_X_df, label=train_y_df, cat_features=cat_features)"
   ]
  },
  {
   "cell_type": "code",
   "execution_count": 22,
   "id": "contemporary-union",
   "metadata": {},
   "outputs": [
    {
     "data": {
      "application/javascript": [
       "\n",
       "            setTimeout(function() {\n",
       "                var nbb_cell_id = 22;\n",
       "                var nbb_unformatted_code = \"cat_reg = CatBoostRegressor(\\n    iterations=2500,\\n    silent=True,\\n    loss_function=\\\"RMSE\\\",\\n    random_seed=2504,\\n)\";\n",
       "                var nbb_formatted_code = \"cat_reg = CatBoostRegressor(\\n    iterations=2500,\\n    silent=True,\\n    loss_function=\\\"RMSE\\\",\\n    random_seed=2504,\\n)\";\n",
       "                var nbb_cells = Jupyter.notebook.get_cells();\n",
       "                for (var i = 0; i < nbb_cells.length; ++i) {\n",
       "                    if (nbb_cells[i].input_prompt_number == nbb_cell_id) {\n",
       "                        if (nbb_cells[i].get_text() == nbb_unformatted_code) {\n",
       "                             nbb_cells[i].set_text(nbb_formatted_code);\n",
       "                        }\n",
       "                        break;\n",
       "                    }\n",
       "                }\n",
       "            }, 500);\n",
       "            "
      ],
      "text/plain": [
       "<IPython.core.display.Javascript object>"
      ]
     },
     "metadata": {},
     "output_type": "display_data"
    }
   ],
   "source": [
    "cat_reg = CatBoostRegressor(\n",
    "    iterations=2500,\n",
    "    silent=True,\n",
    "    loss_function=\"RMSE\",\n",
    "    random_seed=2504,\n",
    ")"
   ]
  },
  {
   "cell_type": "code",
   "execution_count": 23,
   "id": "suspected-relevance",
   "metadata": {},
   "outputs": [
    {
     "data": {
      "application/javascript": [
       "\n",
       "            setTimeout(function() {\n",
       "                var nbb_cell_id = 23;\n",
       "                var nbb_unformatted_code = \"grid = {\\n    \\\"learning_rate\\\": [0.03, 0.06, 0.1],\\n    \\\"depth\\\": [4, 6, 10],\\n    \\\"l2_leaf_reg\\\": [1, 3, 5, 7, 9],\\n}\";\n",
       "                var nbb_formatted_code = \"grid = {\\n    \\\"learning_rate\\\": [0.03, 0.06, 0.1],\\n    \\\"depth\\\": [4, 6, 10],\\n    \\\"l2_leaf_reg\\\": [1, 3, 5, 7, 9],\\n}\";\n",
       "                var nbb_cells = Jupyter.notebook.get_cells();\n",
       "                for (var i = 0; i < nbb_cells.length; ++i) {\n",
       "                    if (nbb_cells[i].input_prompt_number == nbb_cell_id) {\n",
       "                        if (nbb_cells[i].get_text() == nbb_unformatted_code) {\n",
       "                             nbb_cells[i].set_text(nbb_formatted_code);\n",
       "                        }\n",
       "                        break;\n",
       "                    }\n",
       "                }\n",
       "            }, 500);\n",
       "            "
      ],
      "text/plain": [
       "<IPython.core.display.Javascript object>"
      ]
     },
     "metadata": {},
     "output_type": "display_data"
    }
   ],
   "source": [
    "grid = {\n",
    "    \"learning_rate\": [0.03, 0.06, 0.1],\n",
    "    \"depth\": [4, 6, 10],\n",
    "    \"l2_leaf_reg\": [1, 3, 5, 7, 9],\n",
    "}"
   ]
  },
  {
   "cell_type": "code",
   "execution_count": 24,
   "id": "instrumental-holiday",
   "metadata": {
    "scrolled": true
   },
   "outputs": [
    {
     "data": {
      "application/javascript": [
       "\n",
       "            setTimeout(function() {\n",
       "                var nbb_cell_id = 24;\n",
       "                var nbb_unformatted_code = \"if TUNING:\\n    grid_search_result = cat_reg.grid_search(grid, cv=4, X=train_pool, plot=True)\";\n",
       "                var nbb_formatted_code = \"if TUNING:\\n    grid_search_result = cat_reg.grid_search(grid, cv=4, X=train_pool, plot=True)\";\n",
       "                var nbb_cells = Jupyter.notebook.get_cells();\n",
       "                for (var i = 0; i < nbb_cells.length; ++i) {\n",
       "                    if (nbb_cells[i].input_prompt_number == nbb_cell_id) {\n",
       "                        if (nbb_cells[i].get_text() == nbb_unformatted_code) {\n",
       "                             nbb_cells[i].set_text(nbb_formatted_code);\n",
       "                        }\n",
       "                        break;\n",
       "                    }\n",
       "                }\n",
       "            }, 500);\n",
       "            "
      ],
      "text/plain": [
       "<IPython.core.display.Javascript object>"
      ]
     },
     "metadata": {},
     "output_type": "display_data"
    }
   ],
   "source": [
    "if TUNING:\n",
    "    grid_search_result = cat_reg.grid_search(grid, cv=4, X=train_pool, plot=True)"
   ]
  },
  {
   "cell_type": "markdown",
   "id": "double-japanese",
   "metadata": {},
   "source": [
    "RMSE is very high. Hence will have to revisit feature engineering."
   ]
  }
 ],
 "metadata": {
  "kernelspec": {
   "display_name": "Python 3",
   "language": "python",
   "name": "python3"
  },
  "language_info": {
   "codemirror_mode": {
    "name": "ipython",
    "version": 3
   },
   "file_extension": ".py",
   "mimetype": "text/x-python",
   "name": "python",
   "nbconvert_exporter": "python",
   "pygments_lexer": "ipython3",
   "version": "3.8.9"
  }
 },
 "nbformat": 4,
 "nbformat_minor": 5
}
