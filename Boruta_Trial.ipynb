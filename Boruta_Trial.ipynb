{
 "cells": [
  {
   "cell_type": "markdown",
   "id": "alike-comment",
   "metadata": {},
   "source": [
    "# Boruta Trial\n",
    "\n",
    "Playing around with Boruta ([Source](https://towardsdatascience.com/boruta-explained-the-way-i-wish-someone-explained-it-to-me-4489d70e154a))"
   ]
  },
  {
   "cell_type": "code",
   "execution_count": 1,
   "id": "given-logistics",
   "metadata": {},
   "outputs": [
    {
     "data": {
      "application/javascript": [
       "\n",
       "            setTimeout(function() {\n",
       "                var nbb_cell_id = 1;\n",
       "                var nbb_unformatted_code = \"import pandas as pd\\nimport numpy as np\\nfrom sklearn.ensemble import RandomForestRegressor\\nimport scipy as sp\\nfrom boruta import BorutaPy\\nimport seaborn as sns\\nimport matplotlib.pyplot as plt\\n\\n%load_ext nb_black\";\n",
       "                var nbb_formatted_code = \"import pandas as pd\\nimport numpy as np\\nfrom sklearn.ensemble import RandomForestRegressor\\nimport scipy as sp\\nfrom boruta import BorutaPy\\nimport seaborn as sns\\nimport matplotlib.pyplot as plt\\n\\n%load_ext nb_black\";\n",
       "                var nbb_cells = Jupyter.notebook.get_cells();\n",
       "                for (var i = 0; i < nbb_cells.length; ++i) {\n",
       "                    if (nbb_cells[i].input_prompt_number == nbb_cell_id) {\n",
       "                        if (nbb_cells[i].get_text() == nbb_unformatted_code) {\n",
       "                             nbb_cells[i].set_text(nbb_formatted_code);\n",
       "                        }\n",
       "                        break;\n",
       "                    }\n",
       "                }\n",
       "            }, 500);\n",
       "            "
      ],
      "text/plain": [
       "<IPython.core.display.Javascript object>"
      ]
     },
     "metadata": {},
     "output_type": "display_data"
    }
   ],
   "source": [
    "import pandas as pd\n",
    "import numpy as np\n",
    "from sklearn.ensemble import RandomForestRegressor\n",
    "import scipy as sp\n",
    "from boruta import BorutaPy\n",
    "import seaborn as sns\n",
    "import matplotlib.pyplot as plt\n",
    "\n",
    "%load_ext nb_black"
   ]
  },
  {
   "cell_type": "code",
   "execution_count": 2,
   "id": "commercial-study",
   "metadata": {},
   "outputs": [
    {
     "data": {
      "application/javascript": [
       "\n",
       "            setTimeout(function() {\n",
       "                var nbb_cell_id = 2;\n",
       "                var nbb_unformatted_code = \"### make X and y\\nX = pd.DataFrame(\\n    {\\n        \\\"age\\\": [25, 32, 47, 51, 62],\\n        \\\"height\\\": [182, 176, 174, 168, 181],\\n        \\\"weight\\\": [75, 71, 78, 72, 86],\\n    }\\n)\\ny = pd.Series([20, 32, 45, 55, 61], name=\\\"income\\\")\";\n",
       "                var nbb_formatted_code = \"### make X and y\\nX = pd.DataFrame(\\n    {\\n        \\\"age\\\": [25, 32, 47, 51, 62],\\n        \\\"height\\\": [182, 176, 174, 168, 181],\\n        \\\"weight\\\": [75, 71, 78, 72, 86],\\n    }\\n)\\ny = pd.Series([20, 32, 45, 55, 61], name=\\\"income\\\")\";\n",
       "                var nbb_cells = Jupyter.notebook.get_cells();\n",
       "                for (var i = 0; i < nbb_cells.length; ++i) {\n",
       "                    if (nbb_cells[i].input_prompt_number == nbb_cell_id) {\n",
       "                        if (nbb_cells[i].get_text() == nbb_unformatted_code) {\n",
       "                             nbb_cells[i].set_text(nbb_formatted_code);\n",
       "                        }\n",
       "                        break;\n",
       "                    }\n",
       "                }\n",
       "            }, 500);\n",
       "            "
      ],
      "text/plain": [
       "<IPython.core.display.Javascript object>"
      ]
     },
     "metadata": {},
     "output_type": "display_data"
    }
   ],
   "source": [
    "### make X and y\n",
    "X = pd.DataFrame(\n",
    "    {\n",
    "        \"age\": [25, 32, 47, 51, 62],\n",
    "        \"height\": [182, 176, 174, 168, 181],\n",
    "        \"weight\": [75, 71, 78, 72, 86],\n",
    "    }\n",
    ")\n",
    "y = pd.Series([20, 32, 45, 55, 61], name=\"income\")"
   ]
  },
  {
   "cell_type": "markdown",
   "id": "scientific-import",
   "metadata": {},
   "source": [
    "* In Boruta, features do not compete among themselves. Instead — and this is the first brilliant idea — they compete with a randomized version of them.\n",
    "* In practice, starting from X, another dataframe is created by randomly shuffling each feature. These permuted features are called shadow features."
   ]
  },
  {
   "cell_type": "code",
   "execution_count": 3,
   "id": "bored-municipality",
   "metadata": {},
   "outputs": [
    {
     "data": {
      "application/javascript": [
       "\n",
       "            setTimeout(function() {\n",
       "                var nbb_cell_id = 3;\n",
       "                var nbb_unformatted_code = \"### make X_shadow by randomly permuting each column of X\\nnp.random.seed(42)\\nX_shadow = X.apply(np.random.permutation)\\nX_shadow.columns = [\\\"shadow_\\\" + feat for feat in X.columns]\\n### make X_boruta by appending X_shadow to X\\nX_boruta = pd.concat([X, X_shadow], axis=1)\";\n",
       "                var nbb_formatted_code = \"### make X_shadow by randomly permuting each column of X\\nnp.random.seed(42)\\nX_shadow = X.apply(np.random.permutation)\\nX_shadow.columns = [\\\"shadow_\\\" + feat for feat in X.columns]\\n### make X_boruta by appending X_shadow to X\\nX_boruta = pd.concat([X, X_shadow], axis=1)\";\n",
       "                var nbb_cells = Jupyter.notebook.get_cells();\n",
       "                for (var i = 0; i < nbb_cells.length; ++i) {\n",
       "                    if (nbb_cells[i].input_prompt_number == nbb_cell_id) {\n",
       "                        if (nbb_cells[i].get_text() == nbb_unformatted_code) {\n",
       "                             nbb_cells[i].set_text(nbb_formatted_code);\n",
       "                        }\n",
       "                        break;\n",
       "                    }\n",
       "                }\n",
       "            }, 500);\n",
       "            "
      ],
      "text/plain": [
       "<IPython.core.display.Javascript object>"
      ]
     },
     "metadata": {},
     "output_type": "display_data"
    }
   ],
   "source": [
    "### make X_shadow by randomly permuting each column of X\n",
    "np.random.seed(42)\n",
    "X_shadow = X.apply(np.random.permutation)\n",
    "X_shadow.columns = [\"shadow_\" + feat for feat in X.columns]\n",
    "### make X_boruta by appending X_shadow to X\n",
    "X_boruta = pd.concat([X, X_shadow], axis=1)"
   ]
  },
  {
   "cell_type": "code",
   "execution_count": 4,
   "id": "dress-technology",
   "metadata": {
    "scrolled": true
   },
   "outputs": [
    {
     "data": {
      "text/html": [
       "<div>\n",
       "<style scoped>\n",
       "    .dataframe tbody tr th:only-of-type {\n",
       "        vertical-align: middle;\n",
       "    }\n",
       "\n",
       "    .dataframe tbody tr th {\n",
       "        vertical-align: top;\n",
       "    }\n",
       "\n",
       "    .dataframe thead th {\n",
       "        text-align: right;\n",
       "    }\n",
       "</style>\n",
       "<table border=\"1\" class=\"dataframe\">\n",
       "  <thead>\n",
       "    <tr style=\"text-align: right;\">\n",
       "      <th></th>\n",
       "      <th>age</th>\n",
       "      <th>height</th>\n",
       "      <th>weight</th>\n",
       "      <th>shadow_age</th>\n",
       "      <th>shadow_height</th>\n",
       "      <th>shadow_weight</th>\n",
       "    </tr>\n",
       "  </thead>\n",
       "  <tbody>\n",
       "    <tr>\n",
       "      <th>0</th>\n",
       "      <td>25</td>\n",
       "      <td>182</td>\n",
       "      <td>75</td>\n",
       "      <td>32</td>\n",
       "      <td>168</td>\n",
       "      <td>71</td>\n",
       "    </tr>\n",
       "    <tr>\n",
       "      <th>1</th>\n",
       "      <td>32</td>\n",
       "      <td>176</td>\n",
       "      <td>71</td>\n",
       "      <td>62</td>\n",
       "      <td>176</td>\n",
       "      <td>75</td>\n",
       "    </tr>\n",
       "    <tr>\n",
       "      <th>2</th>\n",
       "      <td>47</td>\n",
       "      <td>174</td>\n",
       "      <td>78</td>\n",
       "      <td>47</td>\n",
       "      <td>174</td>\n",
       "      <td>72</td>\n",
       "    </tr>\n",
       "    <tr>\n",
       "      <th>3</th>\n",
       "      <td>51</td>\n",
       "      <td>168</td>\n",
       "      <td>72</td>\n",
       "      <td>25</td>\n",
       "      <td>182</td>\n",
       "      <td>86</td>\n",
       "    </tr>\n",
       "    <tr>\n",
       "      <th>4</th>\n",
       "      <td>62</td>\n",
       "      <td>181</td>\n",
       "      <td>86</td>\n",
       "      <td>51</td>\n",
       "      <td>181</td>\n",
       "      <td>78</td>\n",
       "    </tr>\n",
       "  </tbody>\n",
       "</table>\n",
       "</div>"
      ],
      "text/plain": [
       "   age  height  weight  shadow_age  shadow_height  shadow_weight\n",
       "0   25     182      75          32            168             71\n",
       "1   32     176      71          62            176             75\n",
       "2   47     174      78          47            174             72\n",
       "3   51     168      72          25            182             86\n",
       "4   62     181      86          51            181             78"
      ]
     },
     "execution_count": 4,
     "metadata": {},
     "output_type": "execute_result"
    },
    {
     "data": {
      "application/javascript": [
       "\n",
       "            setTimeout(function() {\n",
       "                var nbb_cell_id = 4;\n",
       "                var nbb_unformatted_code = \"X_boruta\";\n",
       "                var nbb_formatted_code = \"X_boruta\";\n",
       "                var nbb_cells = Jupyter.notebook.get_cells();\n",
       "                for (var i = 0; i < nbb_cells.length; ++i) {\n",
       "                    if (nbb_cells[i].input_prompt_number == nbb_cell_id) {\n",
       "                        if (nbb_cells[i].get_text() == nbb_unformatted_code) {\n",
       "                             nbb_cells[i].set_text(nbb_formatted_code);\n",
       "                        }\n",
       "                        break;\n",
       "                    }\n",
       "                }\n",
       "            }, 500);\n",
       "            "
      ],
      "text/plain": [
       "<IPython.core.display.Javascript object>"
      ]
     },
     "metadata": {},
     "output_type": "display_data"
    }
   ],
   "source": [
    "X_boruta"
   ]
  },
  {
   "cell_type": "markdown",
   "id": "lesser-consumption",
   "metadata": {},
   "source": [
    "* Now, we take the importance of each original features and compare it with a threshold. \n",
    "* This time, the threshold is defined as the highest feature importance recorded among the shadow features. \n",
    "* When the importance of a feature is higher than this threshold, this is called a “hit”. \n",
    "> The idea is that a feature is useful only if it’s capable of doing better than the best randomized feature."
   ]
  },
  {
   "cell_type": "code",
   "execution_count": 5,
   "id": "statewide-library",
   "metadata": {},
   "outputs": [
    {
     "data": {
      "application/javascript": [
       "\n",
       "            setTimeout(function() {\n",
       "                var nbb_cell_id = 5;\n",
       "                var nbb_unformatted_code = \"### fit a random forest (suggested max_depth between 3 and 7)\\nforest = RandomForestRegressor(max_depth=5, random_state=42)\\nforest.fit(X_boruta, y)\\n### store feature importances\\nfeat_imp_X = forest.feature_importances_[: len(X.columns)]\\nfeat_imp_shadow = forest.feature_importances_[len(X.columns) :]\\n### compute hits\\nhits = feat_imp_X > feat_imp_shadow.max()\";\n",
       "                var nbb_formatted_code = \"### fit a random forest (suggested max_depth between 3 and 7)\\nforest = RandomForestRegressor(max_depth=5, random_state=42)\\nforest.fit(X_boruta, y)\\n### store feature importances\\nfeat_imp_X = forest.feature_importances_[: len(X.columns)]\\nfeat_imp_shadow = forest.feature_importances_[len(X.columns) :]\\n### compute hits\\nhits = feat_imp_X > feat_imp_shadow.max()\";\n",
       "                var nbb_cells = Jupyter.notebook.get_cells();\n",
       "                for (var i = 0; i < nbb_cells.length; ++i) {\n",
       "                    if (nbb_cells[i].input_prompt_number == nbb_cell_id) {\n",
       "                        if (nbb_cells[i].get_text() == nbb_unformatted_code) {\n",
       "                             nbb_cells[i].set_text(nbb_formatted_code);\n",
       "                        }\n",
       "                        break;\n",
       "                    }\n",
       "                }\n",
       "            }, 500);\n",
       "            "
      ],
      "text/plain": [
       "<IPython.core.display.Javascript object>"
      ]
     },
     "metadata": {},
     "output_type": "display_data"
    }
   ],
   "source": [
    "### fit a random forest (suggested max_depth between 3 and 7)\n",
    "forest = RandomForestRegressor(max_depth=5, random_state=42)\n",
    "forest.fit(X_boruta, y)\n",
    "### store feature importances\n",
    "feat_imp_X = forest.feature_importances_[: len(X.columns)]\n",
    "feat_imp_shadow = forest.feature_importances_[len(X.columns) :]\n",
    "### compute hits\n",
    "hits = feat_imp_X > feat_imp_shadow.max()"
   ]
  },
  {
   "cell_type": "code",
   "execution_count": 6,
   "id": "colonial-edinburgh",
   "metadata": {},
   "outputs": [
    {
     "data": {
      "text/html": [
       "<div>\n",
       "<style scoped>\n",
       "    .dataframe tbody tr th:only-of-type {\n",
       "        vertical-align: middle;\n",
       "    }\n",
       "\n",
       "    .dataframe tbody tr th {\n",
       "        vertical-align: top;\n",
       "    }\n",
       "\n",
       "    .dataframe thead th {\n",
       "        text-align: right;\n",
       "    }\n",
       "</style>\n",
       "<table border=\"1\" class=\"dataframe\">\n",
       "  <thead>\n",
       "    <tr style=\"text-align: right;\">\n",
       "      <th></th>\n",
       "      <th>age</th>\n",
       "      <th>height</th>\n",
       "      <th>weight</th>\n",
       "      <th>shadow_age</th>\n",
       "      <th>shadow_height</th>\n",
       "      <th>shadow_weight</th>\n",
       "    </tr>\n",
       "  </thead>\n",
       "  <tbody>\n",
       "    <tr>\n",
       "      <th>feature importance %</th>\n",
       "      <td>28.112381</td>\n",
       "      <td>15.808892</td>\n",
       "      <td>9.25464</td>\n",
       "      <td>10.162149</td>\n",
       "      <td>21.182001</td>\n",
       "      <td>15.479937</td>\n",
       "    </tr>\n",
       "    <tr>\n",
       "      <th>hits</th>\n",
       "      <td>True</td>\n",
       "      <td>False</td>\n",
       "      <td>False</td>\n",
       "      <td>NaN</td>\n",
       "      <td>NaN</td>\n",
       "      <td>NaN</td>\n",
       "    </tr>\n",
       "  </tbody>\n",
       "</table>\n",
       "</div>"
      ],
      "text/plain": [
       "                            age     height   weight  shadow_age  \\\n",
       "feature importance %  28.112381  15.808892  9.25464   10.162149   \n",
       "hits                       True      False    False         NaN   \n",
       "\n",
       "                      shadow_height  shadow_weight  \n",
       "feature importance %      21.182001      15.479937  \n",
       "hits                            NaN            NaN  "
      ]
     },
     "execution_count": 6,
     "metadata": {},
     "output_type": "execute_result"
    },
    {
     "data": {
      "application/javascript": [
       "\n",
       "            setTimeout(function() {\n",
       "                var nbb_cell_id = 6;\n",
       "                var nbb_unformatted_code = \"pd.DataFrame(\\n    [np.concatenate((feat_imp_X * 100, feat_imp_shadow * 100)), hits],\\n    columns=X_boruta.columns,\\n    index=[\\\"feature importance %\\\", \\\"hits\\\"],\\n)\";\n",
       "                var nbb_formatted_code = \"pd.DataFrame(\\n    [np.concatenate((feat_imp_X * 100, feat_imp_shadow * 100)), hits],\\n    columns=X_boruta.columns,\\n    index=[\\\"feature importance %\\\", \\\"hits\\\"],\\n)\";\n",
       "                var nbb_cells = Jupyter.notebook.get_cells();\n",
       "                for (var i = 0; i < nbb_cells.length; ++i) {\n",
       "                    if (nbb_cells[i].input_prompt_number == nbb_cell_id) {\n",
       "                        if (nbb_cells[i].get_text() == nbb_unformatted_code) {\n",
       "                             nbb_cells[i].set_text(nbb_formatted_code);\n",
       "                        }\n",
       "                        break;\n",
       "                    }\n",
       "                }\n",
       "            }, 500);\n",
       "            "
      ],
      "text/plain": [
       "<IPython.core.display.Javascript object>"
      ]
     },
     "metadata": {},
     "output_type": "display_data"
    }
   ],
   "source": [
    "pd.DataFrame(\n",
    "    [np.concatenate((feat_imp_X * 100, feat_imp_shadow * 100)), hits],\n",
    "    columns=X_boruta.columns,\n",
    "    index=[\"feature importance %\", \"hits\"],\n",
    ")"
   ]
  },
  {
   "cell_type": "markdown",
   "id": "emotional-chocolate",
   "metadata": {},
   "source": [
    "Apparently, we should drop weight and get on with age and height. But should we trust this run? What if it was just an unlucky run for weight? What if instead it was just a lucky run for age and height?"
   ]
  },
  {
   "cell_type": "code",
   "execution_count": 7,
   "id": "historical-silly",
   "metadata": {},
   "outputs": [
    {
     "data": {
      "application/javascript": [
       "\n",
       "            setTimeout(function() {\n",
       "                var nbb_cell_id = 7;\n",
       "                var nbb_unformatted_code = \"### initialize hits counter\\nhits = np.zeros((len(X.columns)))\\n\\n### repeat 20 times\\nfor iter_ in range(20):\\n    ### make X_shadow by randomly permuting each column of X\\n    np.random.seed(iter_)\\n    X_shadow = X.apply(np.random.permutation)\\n    X_boruta = pd.concat([X, X_shadow], axis=1)\\n\\n    ### fit a random forest (suggested max_depth between 3 and 7)\\n    forest = RandomForestRegressor(max_depth=5, random_state=42)\\n    forest.fit(X_boruta, y)\\n\\n    ### store feature importance\\n    feat_imp_X = forest.feature_importances_[: len(X.columns)]\\n    feat_imp_shadow = forest.feature_importances_[len(X.columns) :]\\n\\n    ### compute hits for this trial and add to counter\\n    hits += feat_imp_X > feat_imp_shadow.max()\";\n",
       "                var nbb_formatted_code = \"### initialize hits counter\\nhits = np.zeros((len(X.columns)))\\n\\n### repeat 20 times\\nfor iter_ in range(20):\\n    ### make X_shadow by randomly permuting each column of X\\n    np.random.seed(iter_)\\n    X_shadow = X.apply(np.random.permutation)\\n    X_boruta = pd.concat([X, X_shadow], axis=1)\\n\\n    ### fit a random forest (suggested max_depth between 3 and 7)\\n    forest = RandomForestRegressor(max_depth=5, random_state=42)\\n    forest.fit(X_boruta, y)\\n\\n    ### store feature importance\\n    feat_imp_X = forest.feature_importances_[: len(X.columns)]\\n    feat_imp_shadow = forest.feature_importances_[len(X.columns) :]\\n\\n    ### compute hits for this trial and add to counter\\n    hits += feat_imp_X > feat_imp_shadow.max()\";\n",
       "                var nbb_cells = Jupyter.notebook.get_cells();\n",
       "                for (var i = 0; i < nbb_cells.length; ++i) {\n",
       "                    if (nbb_cells[i].input_prompt_number == nbb_cell_id) {\n",
       "                        if (nbb_cells[i].get_text() == nbb_unformatted_code) {\n",
       "                             nbb_cells[i].set_text(nbb_formatted_code);\n",
       "                        }\n",
       "                        break;\n",
       "                    }\n",
       "                }\n",
       "            }, 500);\n",
       "            "
      ],
      "text/plain": [
       "<IPython.core.display.Javascript object>"
      ]
     },
     "metadata": {},
     "output_type": "display_data"
    }
   ],
   "source": [
    "### initialize hits counter\n",
    "hits = np.zeros((len(X.columns)))\n",
    "\n",
    "### repeat 20 times\n",
    "for iter_ in range(20):\n",
    "    ### make X_shadow by randomly permuting each column of X\n",
    "    np.random.seed(iter_)\n",
    "    X_shadow = X.apply(np.random.permutation)\n",
    "    X_boruta = pd.concat([X, X_shadow], axis=1)\n",
    "\n",
    "    ### fit a random forest (suggested max_depth between 3 and 7)\n",
    "    forest = RandomForestRegressor(max_depth=5, random_state=42)\n",
    "    forest.fit(X_boruta, y)\n",
    "\n",
    "    ### store feature importance\n",
    "    feat_imp_X = forest.feature_importances_[: len(X.columns)]\n",
    "    feat_imp_shadow = forest.feature_importances_[len(X.columns) :]\n",
    "\n",
    "    ### compute hits for this trial and add to counter\n",
    "    hits += feat_imp_X > feat_imp_shadow.max()"
   ]
  },
  {
   "cell_type": "code",
   "execution_count": 8,
   "id": "european-abuse",
   "metadata": {},
   "outputs": [
    {
     "data": {
      "text/html": [
       "<div>\n",
       "<style scoped>\n",
       "    .dataframe tbody tr th:only-of-type {\n",
       "        vertical-align: middle;\n",
       "    }\n",
       "\n",
       "    .dataframe tbody tr th {\n",
       "        vertical-align: top;\n",
       "    }\n",
       "\n",
       "    .dataframe thead th {\n",
       "        text-align: right;\n",
       "    }\n",
       "</style>\n",
       "<table border=\"1\" class=\"dataframe\">\n",
       "  <thead>\n",
       "    <tr style=\"text-align: right;\">\n",
       "      <th></th>\n",
       "      <th>age</th>\n",
       "      <th>height</th>\n",
       "      <th>weight</th>\n",
       "    </tr>\n",
       "  </thead>\n",
       "  <tbody>\n",
       "    <tr>\n",
       "      <th>hits</th>\n",
       "      <td>18.0</td>\n",
       "      <td>5.0</td>\n",
       "      <td>0.0</td>\n",
       "    </tr>\n",
       "  </tbody>\n",
       "</table>\n",
       "</div>"
      ],
      "text/plain": [
       "       age  height  weight\n",
       "hits  18.0     5.0     0.0"
      ]
     },
     "execution_count": 8,
     "metadata": {},
     "output_type": "execute_result"
    },
    {
     "data": {
      "application/javascript": [
       "\n",
       "            setTimeout(function() {\n",
       "                var nbb_cell_id = 8;\n",
       "                var nbb_unformatted_code = \"pd.DataFrame([hits], columns=X.columns, index=[\\\"hits\\\"])\";\n",
       "                var nbb_formatted_code = \"pd.DataFrame([hits], columns=X.columns, index=[\\\"hits\\\"])\";\n",
       "                var nbb_cells = Jupyter.notebook.get_cells();\n",
       "                for (var i = 0; i < nbb_cells.length; ++i) {\n",
       "                    if (nbb_cells[i].input_prompt_number == nbb_cell_id) {\n",
       "                        if (nbb_cells[i].get_text() == nbb_unformatted_code) {\n",
       "                             nbb_cells[i].set_text(nbb_formatted_code);\n",
       "                        }\n",
       "                        break;\n",
       "                    }\n",
       "                }\n",
       "            }, 500);\n",
       "            "
      ],
      "text/plain": [
       "<IPython.core.display.Javascript object>"
      ]
     },
     "metadata": {},
     "output_type": "display_data"
    }
   ],
   "source": [
    "pd.DataFrame([hits], columns=X.columns, index=[\"hits\"])"
   ]
  },
  {
   "cell_type": "markdown",
   "id": "worthy-startup",
   "metadata": {},
   "source": [
    "## Binomial Distribution\n",
    "\n",
    "**Now, how do we set a decision criterion?**\n",
    "* What is the probability that we shall keep it? \n",
    "* The maximum level of uncertainty about the feature is expressed by a probability of 50%, like tossing a coin. \n",
    "* Since each independent experiment can give a binary outcome (hit or no hit), a series of n trials follows a binomial distribution."
   ]
  },
  {
   "cell_type": "code",
   "execution_count": 9,
   "id": "abroad-reset",
   "metadata": {},
   "outputs": [
    {
     "data": {
      "application/javascript": [
       "\n",
       "            setTimeout(function() {\n",
       "                var nbb_cell_id = 9;\n",
       "                var nbb_unformatted_code = \"trials = 20\\npmf = [sp.stats.binom.pmf(x, trials, 0.5) for x in range(trials + 1)]\";\n",
       "                var nbb_formatted_code = \"trials = 20\\npmf = [sp.stats.binom.pmf(x, trials, 0.5) for x in range(trials + 1)]\";\n",
       "                var nbb_cells = Jupyter.notebook.get_cells();\n",
       "                for (var i = 0; i < nbb_cells.length; ++i) {\n",
       "                    if (nbb_cells[i].input_prompt_number == nbb_cell_id) {\n",
       "                        if (nbb_cells[i].get_text() == nbb_unformatted_code) {\n",
       "                             nbb_cells[i].set_text(nbb_formatted_code);\n",
       "                        }\n",
       "                        break;\n",
       "                    }\n",
       "                }\n",
       "            }, 500);\n",
       "            "
      ],
      "text/plain": [
       "<IPython.core.display.Javascript object>"
      ]
     },
     "metadata": {},
     "output_type": "display_data"
    }
   ],
   "source": [
    "trials = 20\n",
    "pmf = [sp.stats.binom.pmf(x, trials, 0.5) for x in range(trials + 1)]"
   ]
  },
  {
   "cell_type": "code",
   "execution_count": 10,
   "id": "filled-melbourne",
   "metadata": {},
   "outputs": [
    {
     "data": {
      "image/png": "[encoded data removed]",
      "text/plain": [
       "<Figure size 432x288 with 1 Axes>"
      ]
     },
     "metadata": {
      "needs_background": "light"
     },
     "output_type": "display_data"
    },
    {
     "data": {
      "application/javascript": [
       "\n",
       "            setTimeout(function() {\n",
       "                var nbb_cell_id = 10;\n",
       "                var nbb_unformatted_code = \"ax = sns.barplot(data=pd.DataFrame([(i, j) for i, j in enumerate(pmf)]), x=0, y=1)\\nax.set_xlabel(\\\"number of hits in 20 trials\\\")\\nax.set_ylabel(\\\"pmf of binomial distribution \\\\n(n=20, p=.5)\\\")\\nplt.show()\";\n",
       "                var nbb_formatted_code = \"ax = sns.barplot(data=pd.DataFrame([(i, j) for i, j in enumerate(pmf)]), x=0, y=1)\\nax.set_xlabel(\\\"number of hits in 20 trials\\\")\\nax.set_ylabel(\\\"pmf of binomial distribution \\\\n(n=20, p=.5)\\\")\\nplt.show()\";\n",
       "                var nbb_cells = Jupyter.notebook.get_cells();\n",
       "                for (var i = 0; i < nbb_cells.length; ++i) {\n",
       "                    if (nbb_cells[i].input_prompt_number == nbb_cell_id) {\n",
       "                        if (nbb_cells[i].get_text() == nbb_unformatted_code) {\n",
       "                             nbb_cells[i].set_text(nbb_formatted_code);\n",
       "                        }\n",
       "                        break;\n",
       "                    }\n",
       "                }\n",
       "            }, 500);\n",
       "            "
      ],
      "text/plain": [
       "<IPython.core.display.Javascript object>"
      ]
     },
     "metadata": {},
     "output_type": "display_data"
    }
   ],
   "source": [
    "ax = sns.barplot(data=pd.DataFrame([(i, j) for i, j in enumerate(pmf)]), x=0, y=1)\n",
    "ax.set_xlabel(\"number of hits in 20 trials\")\n",
    "ax.set_ylabel(\"pmf of binomial distribution \\n(n=20, p=.5)\")\n",
    "plt.show()"
   ]
  },
  {
   "cell_type": "markdown",
   "id": "sophisticated-gossip",
   "metadata": {},
   "source": [
    "![Img](https://miro.medium.com/1*yqAUlMtPUiFyr8gYLFagTA.png)\n",
    "\n",
    "In Boruta, there is not a hard threshold between a refusal and an acceptance area. Instead, there are 3 areas:\n",
    "* an area of refusal (the red area): the features that end up here are considered as noise, so they are dropped;\n",
    "    - having 0 - 5 hits has a low probability\n",
    "    - we're not interested in features that have low hits\n",
    "* an area of irresolution (the blue area): Boruta is indecisive about the features that are in this area;\n",
    "* an area of acceptance (the green area): the features that are here are considered as predictive, so they are kept.\n",
    "    - having 16+ hits has a low probability\n",
    "    - a likelihood of having those high hits is low, hence the feature must be important and not chosen just by a factor of chance\n",
    "\n",
    "So, we did 20 iterations on our toy data and ended up with some statistically grounded conclusions:\n",
    "* in order to predict the income of a person, age is predictive and should be kept, weight is just noise and should be dropped,\n",
    "* Boruta was indecisive about height: the choice is up to us, but in a conservative frame, it is advisable to keep it.\n",
    "\n",
    "## BorutaPy"
   ]
  },
  {
   "cell_type": "code",
   "execution_count": 11,
   "id": "swiss-click",
   "metadata": {},
   "outputs": [
    {
     "name": "stdout",
     "output_type": "stream",
     "text": [
      "features in the green area: []\n",
      "features in the blue area: ['age']\n"
     ]
    },
    {
     "data": {
      "application/javascript": [
       "\n",
       "            setTimeout(function() {\n",
       "                var nbb_cell_id = 11;\n",
       "                var nbb_unformatted_code = \"###initialize Boruta\\nforest = RandomForestRegressor(n_jobs=-1, max_depth=5)\\nboruta = BorutaPy(\\n    estimator=forest, n_estimators=\\\"auto\\\", max_iter=100  # number of trials to perform\\n)\\n\\n### fit Boruta (it accepts np.array, not pd.DataFrame)\\nboruta.fit(np.array(X), np.array(y))\\n\\n### print results\\ngreen_area = X.columns[boruta.support_].to_list()\\nblue_area = X.columns[boruta.support_weak_].to_list()\\n\\nprint(\\\"features in the green area:\\\", green_area)\\nprint(\\\"features in the blue area:\\\", blue_area)\";\n",
       "                var nbb_formatted_code = \"###initialize Boruta\\nforest = RandomForestRegressor(n_jobs=-1, max_depth=5)\\nboruta = BorutaPy(\\n    estimator=forest, n_estimators=\\\"auto\\\", max_iter=100  # number of trials to perform\\n)\\n\\n### fit Boruta (it accepts np.array, not pd.DataFrame)\\nboruta.fit(np.array(X), np.array(y))\\n\\n### print results\\ngreen_area = X.columns[boruta.support_].to_list()\\nblue_area = X.columns[boruta.support_weak_].to_list()\\n\\nprint(\\\"features in the green area:\\\", green_area)\\nprint(\\\"features in the blue area:\\\", blue_area)\";\n",
       "                var nbb_cells = Jupyter.notebook.get_cells();\n",
       "                for (var i = 0; i < nbb_cells.length; ++i) {\n",
       "                    if (nbb_cells[i].input_prompt_number == nbb_cell_id) {\n",
       "                        if (nbb_cells[i].get_text() == nbb_unformatted_code) {\n",
       "                             nbb_cells[i].set_text(nbb_formatted_code);\n",
       "                        }\n",
       "                        break;\n",
       "                    }\n",
       "                }\n",
       "            }, 500);\n",
       "            "
      ],
      "text/plain": [
       "<IPython.core.display.Javascript object>"
      ]
     },
     "metadata": {},
     "output_type": "display_data"
    }
   ],
   "source": [
    "###initialize Boruta\n",
    "forest = RandomForestRegressor(n_jobs=-1, max_depth=5)\n",
    "boruta = BorutaPy(\n",
    "    estimator=forest, n_estimators=\"auto\", max_iter=100  # number of trials to perform\n",
    ")\n",
    "\n",
    "### fit Boruta (it accepts np.array, not pd.DataFrame)\n",
    "boruta.fit(np.array(X), np.array(y))\n",
    "\n",
    "### print results\n",
    "green_area = X.columns[boruta.support_].to_list()\n",
    "blue_area = X.columns[boruta.support_weak_].to_list()\n",
    "\n",
    "print(\"features in the green area:\", green_area)\n",
    "print(\"features in the blue area:\", blue_area)"
   ]
  },
  {
   "cell_type": "markdown",
   "id": "accomplished-freedom",
   "metadata": {},
   "source": [
    "Feature selection is a decisive part of a machine learning pipeline: being too conservative means introducing unnecessary noise, while being too aggressive means throwing away useful information."
   ]
  }
 ],
 "metadata": {
  "kernelspec": {
   "display_name": "Python 3",
   "language": "python",
   "name": "python3"
  },
  "language_info": {
   "codemirror_mode": {
    "name": "ipython",
    "version": 3
   },
   "file_extension": ".py",
   "mimetype": "text/x-python",
   "name": "python",
   "nbconvert_exporter": "python",
   "pygments_lexer": "ipython3",
   "version": "3.8.2"
  }
 },
 "nbformat": 4,
 "nbformat_minor": 5
}
