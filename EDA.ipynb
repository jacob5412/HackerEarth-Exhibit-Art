{
 "cells": [
  {
   "cell_type": "markdown",
   "id": "numeric-channels",
   "metadata": {},
   "source": [
    "# Exploratory Data Analysis\n",
    "\n",
    "**Goal:** You work for a company that sells sculptures that are acquired from various artists around the world. Your task is to predict the cost required to ship these sculptures to customers based on the information provided in the dataset.\n",
    "\n",
    "## Brainstorm\n",
    "\n",
    "### Without looking at the data, what are some of the factors that could immediately affect shipping costs?\n",
    "\n",
    "1. Distance:\n",
    "    - the further away the source and destinations are, the higher the shipping costs\n",
    "2. Weight\n",
    "    - the higher the weight, the more the shipping costs\n",
    "3. Dimensions\n",
    "    - According to USPS [1], \"Dimensional Weight Pricing charges more for large packages that weigh very little.\"\n",
    "    - Since larger packages occupy more space, they are bound to increase packaging costs\n",
    "    - This is also why major companies like Apple [2] prefer to cut down on packaging sizes.\n",
    "4. Fragility\n",
    "    - Fragile packages need to be handled carefully and hence need more time and patience from the ground staff\n",
    "5. Price of item\n",
    "    - The more valuable the item is, the more it's going to cost to insure the item\n",
    "6. Mode of transport\n",
    "    - air transportation being the most expensive, followed by water and then land"
   ]
  },
  {
   "cell_type": "code",
   "execution_count": 1,
   "id": "expanded-hampshire",
   "metadata": {},
   "outputs": [
    {
     "data": {
      "application/javascript": [
       "\n",
       "            setTimeout(function() {\n",
       "                var nbb_cell_id = 1;\n",
       "                var nbb_unformatted_code = \"import pandas as pd\\nimport numpy as np\\nimport matplotlib.pyplot as plt\\nimport seaborn as sns\\nfrom scipy import stats\\nimport statsmodels.api as sm\\n\\n%load_ext nb_black\";\n",
       "                var nbb_formatted_code = \"import pandas as pd\\nimport numpy as np\\nimport matplotlib.pyplot as plt\\nimport seaborn as sns\\nfrom scipy import stats\\nimport statsmodels.api as sm\\n\\n%load_ext nb_black\";\n",
       "                var nbb_cells = Jupyter.notebook.get_cells();\n",
       "                for (var i = 0; i < nbb_cells.length; ++i) {\n",
       "                    if (nbb_cells[i].input_prompt_number == nbb_cell_id) {\n",
       "                        if (nbb_cells[i].get_text() == nbb_unformatted_code) {\n",
       "                             nbb_cells[i].set_text(nbb_formatted_code);\n",
       "                        }\n",
       "                        break;\n",
       "                    }\n",
       "                }\n",
       "            }, 500);\n",
       "            "
      ],
      "text/plain": [
       "<IPython.core.display.Javascript object>"
      ]
     },
     "metadata": {},
     "output_type": "display_data"
    }
   ],
   "source": [
    "import pandas as pd\n",
    "import numpy as np\n",
    "import matplotlib.pyplot as plt\n",
    "import seaborn as sns\n",
    "from scipy import stats\n",
    "import statsmodels.api as sm\n",
    "\n",
    "%load_ext nb_black"
   ]
  },
  {
   "cell_type": "code",
   "execution_count": 2,
   "id": "excited-inside",
   "metadata": {},
   "outputs": [
    {
     "data": {
      "application/javascript": [
       "\n",
       "            setTimeout(function() {\n",
       "                var nbb_cell_id = 2;\n",
       "                var nbb_unformatted_code = \"train_df = pd.read_csv(\\n    \\\"data/train.csv\\\", parse_dates=[\\\"Scheduled Date\\\", \\\"Delivery Date\\\"]\\n)\";\n",
       "                var nbb_formatted_code = \"train_df = pd.read_csv(\\n    \\\"data/train.csv\\\", parse_dates=[\\\"Scheduled Date\\\", \\\"Delivery Date\\\"]\\n)\";\n",
       "                var nbb_cells = Jupyter.notebook.get_cells();\n",
       "                for (var i = 0; i < nbb_cells.length; ++i) {\n",
       "                    if (nbb_cells[i].input_prompt_number == nbb_cell_id) {\n",
       "                        if (nbb_cells[i].get_text() == nbb_unformatted_code) {\n",
       "                             nbb_cells[i].set_text(nbb_formatted_code);\n",
       "                        }\n",
       "                        break;\n",
       "                    }\n",
       "                }\n",
       "            }, 500);\n",
       "            "
      ],
      "text/plain": [
       "<IPython.core.display.Javascript object>"
      ]
     },
     "metadata": {},
     "output_type": "display_data"
    }
   ],
   "source": [
    "train_df = pd.read_csv(\n",
    "    \"data/train.csv\", parse_dates=[\"Scheduled Date\", \"Delivery Date\"]\n",
    ")"
   ]
  },
  {
   "cell_type": "markdown",
   "id": "cleared-concentrate",
   "metadata": {},
   "source": [
    "## Data\n",
    "\n",
    "### Data Description\n",
    "\n",
    "The columns provided in the dataset are as follows:\n",
    "\n",
    "| Column name           \t| Description                                                                                                                                      \t|\n",
    "|-----------------------\t|--------------------------------------------------------------------------------------------------------------------------------------------------\t|\n",
    "| Customer Id           \t| Represents the unique identification number of the customers                                                                                     \t|\n",
    "| Artist Name           \t| Represents the name of the artist                                                                                                                \t|\n",
    "| Artist Reputation     \t| Represents the reputation of an artist in the market (the greater the   reputation value, the higher the reputation of the artist in the market) \t|\n",
    "| Height                \t| Represents the height of the sculpture                                                                                                           \t|\n",
    "| Width                 \t| Represents the width of the sculpture                                                                                                            \t|\n",
    "| Weight                \t| Represents the weight of the sculpture                                                                                                           \t|\n",
    "| Material              \t| Represents the material that the sculpture is made of                                                                                            \t|\n",
    "| Price Of Sculpture    \t| Represents the price of the sculpture                                                                                                            \t|\n",
    "| Base Shipping Price   \t| Represents the base price for shipping a sculpture                                                                                               \t|\n",
    "| International         \t| Represents whether the shipping is international                                                                                                 \t|\n",
    "| Express Shipment      \t| Represents whether the shipping was in the express (fast) mode                                                                                   \t|\n",
    "| Installation Included \t| Represents whether the order had installation included in the purchase of   the sculpture                                                        \t|\n",
    "| Transport             \t| Represents the mode of transport of the order                                                                                                    \t|\n",
    "| Fragile               \t| Represents whether the order is fragile                                                                                                          \t|\n",
    "| Customer Information  \t| Represents details about a customer                                                                                                              \t|\n",
    "| Remote Location       \t| Represents whether the customer resides in a remote location                                                                                     \t|\n",
    "| Scheduled Date        \t| Represents the date when the order was placed                                                                                                    \t|\n",
    "| Delivery Date         \t| Represents the date of delivery of the order                                                                                                     \t|\n",
    "| Customer Location     \t| Represents the location of the customer                                                                                                          \t|\n",
    "| Cost                  \t| Represents the cost of the order                                                                                                                 \t|"
   ]
  },
  {
   "cell_type": "code",
   "execution_count": 3,
   "id": "fitted-smooth",
   "metadata": {},
   "outputs": [
    {
     "data": {
      "text/html": [
       "<div>\n",
       "<style scoped>\n",
       "    .dataframe tbody tr th:only-of-type {\n",
       "        vertical-align: middle;\n",
       "    }\n",
       "\n",
       "    .dataframe tbody tr th {\n",
       "        vertical-align: top;\n",
       "    }\n",
       "\n",
       "    .dataframe thead th {\n",
       "        text-align: right;\n",
       "    }\n",
       "</style>\n",
       "<table border=\"1\" class=\"dataframe\">\n",
       "  <thead>\n",
       "    <tr style=\"text-align: right;\">\n",
       "      <th></th>\n",
       "      <th>Artist Reputation</th>\n",
       "      <th>Height</th>\n",
       "      <th>Width</th>\n",
       "      <th>Weight</th>\n",
       "      <th>Price Of Sculpture</th>\n",
       "      <th>Base Shipping Price</th>\n",
       "      <th>Cost</th>\n",
       "    </tr>\n",
       "  </thead>\n",
       "  <tbody>\n",
       "    <tr>\n",
       "      <th>count</th>\n",
       "      <td>5750.000000</td>\n",
       "      <td>6125.000000</td>\n",
       "      <td>5916.000000</td>\n",
       "      <td>5.913000e+03</td>\n",
       "      <td>6500.00000</td>\n",
       "      <td>6500.000000</td>\n",
       "      <td>6.500000e+03</td>\n",
       "    </tr>\n",
       "    <tr>\n",
       "      <th>mean</th>\n",
       "      <td>0.461850</td>\n",
       "      <td>21.766204</td>\n",
       "      <td>9.617647</td>\n",
       "      <td>4.006948e+05</td>\n",
       "      <td>1192.42009</td>\n",
       "      <td>37.407174</td>\n",
       "      <td>1.713920e+04</td>\n",
       "    </tr>\n",
       "    <tr>\n",
       "      <th>std</th>\n",
       "      <td>0.265781</td>\n",
       "      <td>11.968192</td>\n",
       "      <td>5.417000</td>\n",
       "      <td>2.678081e+06</td>\n",
       "      <td>8819.61675</td>\n",
       "      <td>26.873519</td>\n",
       "      <td>2.406579e+05</td>\n",
       "    </tr>\n",
       "    <tr>\n",
       "      <th>min</th>\n",
       "      <td>0.000000</td>\n",
       "      <td>3.000000</td>\n",
       "      <td>2.000000</td>\n",
       "      <td>3.000000e+00</td>\n",
       "      <td>3.00000</td>\n",
       "      <td>10.000000</td>\n",
       "      <td>-8.801727e+05</td>\n",
       "    </tr>\n",
       "    <tr>\n",
       "      <th>25%</th>\n",
       "      <td>0.240000</td>\n",
       "      <td>12.000000</td>\n",
       "      <td>6.000000</td>\n",
       "      <td>5.030000e+02</td>\n",
       "      <td>5.23000</td>\n",
       "      <td>16.700000</td>\n",
       "      <td>1.884400e+02</td>\n",
       "    </tr>\n",
       "    <tr>\n",
       "      <th>50%</th>\n",
       "      <td>0.450000</td>\n",
       "      <td>20.000000</td>\n",
       "      <td>8.000000</td>\n",
       "      <td>3.102000e+03</td>\n",
       "      <td>8.02500</td>\n",
       "      <td>23.505000</td>\n",
       "      <td>3.820650e+02</td>\n",
       "    </tr>\n",
       "    <tr>\n",
       "      <th>75%</th>\n",
       "      <td>0.680000</td>\n",
       "      <td>30.000000</td>\n",
       "      <td>12.000000</td>\n",
       "      <td>3.645600e+04</td>\n",
       "      <td>89.47000</td>\n",
       "      <td>57.905000</td>\n",
       "      <td>1.156115e+03</td>\n",
       "    </tr>\n",
       "    <tr>\n",
       "      <th>max</th>\n",
       "      <td>1.000000</td>\n",
       "      <td>73.000000</td>\n",
       "      <td>50.000000</td>\n",
       "      <td>1.179279e+08</td>\n",
       "      <td>382385.67000</td>\n",
       "      <td>99.980000</td>\n",
       "      <td>1.114343e+07</td>\n",
       "    </tr>\n",
       "  </tbody>\n",
       "</table>\n",
       "</div>"
      ],
      "text/plain": [
       "       Artist Reputation       Height        Width        Weight  \\\n",
       "count        5750.000000  6125.000000  5916.000000  5.913000e+03   \n",
       "mean            0.461850    21.766204     9.617647  4.006948e+05   \n",
       "std             0.265781    11.968192     5.417000  2.678081e+06   \n",
       "min             0.000000     3.000000     2.000000  3.000000e+00   \n",
       "25%             0.240000    12.000000     6.000000  5.030000e+02   \n",
       "50%             0.450000    20.000000     8.000000  3.102000e+03   \n",
       "75%             0.680000    30.000000    12.000000  3.645600e+04   \n",
       "max             1.000000    73.000000    50.000000  1.179279e+08   \n",
       "\n",
       "       Price Of Sculpture  Base Shipping Price          Cost  \n",
       "count          6500.00000          6500.000000  6.500000e+03  \n",
       "mean           1192.42009            37.407174  1.713920e+04  \n",
       "std            8819.61675            26.873519  2.406579e+05  \n",
       "min               3.00000            10.000000 -8.801727e+05  \n",
       "25%               5.23000            16.700000  1.884400e+02  \n",
       "50%               8.02500            23.505000  3.820650e+02  \n",
       "75%              89.47000            57.905000  1.156115e+03  \n",
       "max          382385.67000            99.980000  1.114343e+07  "
      ]
     },
     "execution_count": 3,
     "metadata": {},
     "output_type": "execute_result"
    },
    {
     "data": {
      "application/javascript": [
       "\n",
       "            setTimeout(function() {\n",
       "                var nbb_cell_id = 3;\n",
       "                var nbb_unformatted_code = \"train_df.describe()\";\n",
       "                var nbb_formatted_code = \"train_df.describe()\";\n",
       "                var nbb_cells = Jupyter.notebook.get_cells();\n",
       "                for (var i = 0; i < nbb_cells.length; ++i) {\n",
       "                    if (nbb_cells[i].input_prompt_number == nbb_cell_id) {\n",
       "                        if (nbb_cells[i].get_text() == nbb_unformatted_code) {\n",
       "                             nbb_cells[i].set_text(nbb_formatted_code);\n",
       "                        }\n",
       "                        break;\n",
       "                    }\n",
       "                }\n",
       "            }, 500);\n",
       "            "
      ],
      "text/plain": [
       "<IPython.core.display.Javascript object>"
      ]
     },
     "metadata": {},
     "output_type": "display_data"
    }
   ],
   "source": [
    "train_df.describe()"
   ]
  },
  {
   "cell_type": "code",
   "execution_count": 4,
   "id": "arabic-designation",
   "metadata": {},
   "outputs": [
    {
     "data": {
      "text/html": [
       "<div>\n",
       "<style scoped>\n",
       "    .dataframe tbody tr th:only-of-type {\n",
       "        vertical-align: middle;\n",
       "    }\n",
       "\n",
       "    .dataframe tbody tr th {\n",
       "        vertical-align: top;\n",
       "    }\n",
       "\n",
       "    .dataframe thead th {\n",
       "        text-align: right;\n",
       "    }\n",
       "</style>\n",
       "<table border=\"1\" class=\"dataframe\">\n",
       "  <thead>\n",
       "    <tr style=\"text-align: right;\">\n",
       "      <th></th>\n",
       "      <th>0</th>\n",
       "    </tr>\n",
       "  </thead>\n",
       "  <tbody>\n",
       "    <tr>\n",
       "      <th>Customer Id</th>\n",
       "      <td>fffe3900350033003300</td>\n",
       "    </tr>\n",
       "    <tr>\n",
       "      <th>Artist Name</th>\n",
       "      <td>Billy Jenkins</td>\n",
       "    </tr>\n",
       "    <tr>\n",
       "      <th>Artist Reputation</th>\n",
       "      <td>0.26</td>\n",
       "    </tr>\n",
       "    <tr>\n",
       "      <th>Height</th>\n",
       "      <td>17.0</td>\n",
       "    </tr>\n",
       "    <tr>\n",
       "      <th>Width</th>\n",
       "      <td>6.0</td>\n",
       "    </tr>\n",
       "    <tr>\n",
       "      <th>Weight</th>\n",
       "      <td>4128.0</td>\n",
       "    </tr>\n",
       "    <tr>\n",
       "      <th>Material</th>\n",
       "      <td>Brass</td>\n",
       "    </tr>\n",
       "    <tr>\n",
       "      <th>Price Of Sculpture</th>\n",
       "      <td>13.91</td>\n",
       "    </tr>\n",
       "    <tr>\n",
       "      <th>Base Shipping Price</th>\n",
       "      <td>16.27</td>\n",
       "    </tr>\n",
       "    <tr>\n",
       "      <th>International</th>\n",
       "      <td>Yes</td>\n",
       "    </tr>\n",
       "    <tr>\n",
       "      <th>Express Shipment</th>\n",
       "      <td>Yes</td>\n",
       "    </tr>\n",
       "    <tr>\n",
       "      <th>Installation Included</th>\n",
       "      <td>No</td>\n",
       "    </tr>\n",
       "    <tr>\n",
       "      <th>Transport</th>\n",
       "      <td>Airways</td>\n",
       "    </tr>\n",
       "    <tr>\n",
       "      <th>Fragile</th>\n",
       "      <td>No</td>\n",
       "    </tr>\n",
       "    <tr>\n",
       "      <th>Customer Information</th>\n",
       "      <td>Working Class</td>\n",
       "    </tr>\n",
       "    <tr>\n",
       "      <th>Remote Location</th>\n",
       "      <td>No</td>\n",
       "    </tr>\n",
       "    <tr>\n",
       "      <th>Scheduled Date</th>\n",
       "      <td>2015-06-07 00:00:00</td>\n",
       "    </tr>\n",
       "    <tr>\n",
       "      <th>Delivery Date</th>\n",
       "      <td>2015-06-03 00:00:00</td>\n",
       "    </tr>\n",
       "    <tr>\n",
       "      <th>Customer Location</th>\n",
       "      <td>New Michelle, OH 50777</td>\n",
       "    </tr>\n",
       "    <tr>\n",
       "      <th>Cost</th>\n",
       "      <td>-283.29</td>\n",
       "    </tr>\n",
       "  </tbody>\n",
       "</table>\n",
       "</div>"
      ],
      "text/plain": [
       "                                            0\n",
       "Customer Id              fffe3900350033003300\n",
       "Artist Name                     Billy Jenkins\n",
       "Artist Reputation                        0.26\n",
       "Height                                   17.0\n",
       "Width                                     6.0\n",
       "Weight                                 4128.0\n",
       "Material                                Brass\n",
       "Price Of Sculpture                      13.91\n",
       "Base Shipping Price                     16.27\n",
       "International                             Yes\n",
       "Express Shipment                          Yes\n",
       "Installation Included                      No\n",
       "Transport                             Airways\n",
       "Fragile                                    No\n",
       "Customer Information            Working Class\n",
       "Remote Location                            No\n",
       "Scheduled Date            2015-06-07 00:00:00\n",
       "Delivery Date             2015-06-03 00:00:00\n",
       "Customer Location      New Michelle, OH 50777\n",
       "Cost                                  -283.29"
      ]
     },
     "execution_count": 4,
     "metadata": {},
     "output_type": "execute_result"
    },
    {
     "data": {
      "application/javascript": [
       "\n",
       "            setTimeout(function() {\n",
       "                var nbb_cell_id = 4;\n",
       "                var nbb_unformatted_code = \"train_df.head(1).T\";\n",
       "                var nbb_formatted_code = \"train_df.head(1).T\";\n",
       "                var nbb_cells = Jupyter.notebook.get_cells();\n",
       "                for (var i = 0; i < nbb_cells.length; ++i) {\n",
       "                    if (nbb_cells[i].input_prompt_number == nbb_cell_id) {\n",
       "                        if (nbb_cells[i].get_text() == nbb_unformatted_code) {\n",
       "                             nbb_cells[i].set_text(nbb_formatted_code);\n",
       "                        }\n",
       "                        break;\n",
       "                    }\n",
       "                }\n",
       "            }, 500);\n",
       "            "
      ],
      "text/plain": [
       "<IPython.core.display.Javascript object>"
      ]
     },
     "metadata": {},
     "output_type": "display_data"
    }
   ],
   "source": [
    "train_df.head(1).T"
   ]
  },
  {
   "cell_type": "markdown",
   "id": "prime-cookie",
   "metadata": {},
   "source": [
    "## Univariate Analysis\n",
    "\n",
    "### `Artist Name`"
   ]
  },
  {
   "cell_type": "code",
   "execution_count": 5,
   "id": "expanded-creek",
   "metadata": {},
   "outputs": [
    {
     "data": {
      "text/plain": [
       "John Brown         4\n",
       "James Moore        3\n",
       "James White        3\n",
       "Robert Davis       3\n",
       "James Smith        2\n",
       "                  ..\n",
       "Alejandro Reyes    1\n",
       "Linda Orellana     1\n",
       "Mary Lopez         1\n",
       "Mary Jones         1\n",
       "Terri Whitaker     1\n",
       "Name: Artist Name, Length: 6449, dtype: int64"
      ]
     },
     "execution_count": 5,
     "metadata": {},
     "output_type": "execute_result"
    },
    {
     "data": {
      "application/javascript": [
       "\n",
       "            setTimeout(function() {\n",
       "                var nbb_cell_id = 5;\n",
       "                var nbb_unformatted_code = \"train_df[\\\"Artist Name\\\"].value_counts()\";\n",
       "                var nbb_formatted_code = \"train_df[\\\"Artist Name\\\"].value_counts()\";\n",
       "                var nbb_cells = Jupyter.notebook.get_cells();\n",
       "                for (var i = 0; i < nbb_cells.length; ++i) {\n",
       "                    if (nbb_cells[i].input_prompt_number == nbb_cell_id) {\n",
       "                        if (nbb_cells[i].get_text() == nbb_unformatted_code) {\n",
       "                             nbb_cells[i].set_text(nbb_formatted_code);\n",
       "                        }\n",
       "                        break;\n",
       "                    }\n",
       "                }\n",
       "            }, 500);\n",
       "            "
      ],
      "text/plain": [
       "<IPython.core.display.Javascript object>"
      ]
     },
     "metadata": {},
     "output_type": "display_data"
    }
   ],
   "source": [
    "train_df[\"Artist Name\"].value_counts()"
   ]
  },
  {
   "cell_type": "markdown",
   "id": "concrete-pleasure",
   "metadata": {},
   "source": [
    "There's no noticeable consistency in the artist's name; therefore, it's unlikely that this variable is likely to drive any insights.\n",
    "\n",
    "### `Artist Reputation`"
   ]
  },
  {
   "cell_type": "code",
   "execution_count": 6,
   "id": "aggressive-issue",
   "metadata": {},
   "outputs": [
    {
     "data": {
      "image/png": "[encoded data removed]",
      "text/plain": [
       "<Figure size 1800x600 with 2 Axes>"
      ]
     },
     "metadata": {
      "needs_background": "light"
     },
     "output_type": "display_data"
    },
    {
     "data": {
      "application/javascript": [
       "\n",
       "            setTimeout(function() {\n",
       "                var nbb_cell_id = 6;\n",
       "                var nbb_unformatted_code = \"fig, ax = plt.subplots(nrows=1, ncols=2, figsize=(12, 4), dpi=150)\\n\\nsns.histplot(train_df[\\\"Artist Reputation\\\"], kde=True, ax=ax[0])\\n\\n# Get the fitted parameters used by the function\\n(mu, sigma) = stats.norm.fit(\\n    data=train_df.loc[~train_df[\\\"Artist Reputation\\\"].isna(), \\\"Artist Reputation\\\"]\\n)\\n\\n# plot with the distribution\\nax[0].legend(\\n    [\\\"Normal dist. ($\\\\mu=$ {:.2f} and $\\\\sigma=$ {:.2f} )\\\".format(mu, sigma)], loc=\\\"best\\\"\\n)\\nax[0].set_ylabel(\\\"Frequency\\\")\\nax[0].grid()\\n\\n# Probablity plot\\nsm.qqplot(data=train_df[\\\"Artist Reputation\\\"], line=\\\"45\\\", ax=ax[1])\\nax[1].grid()\\nplt.show()\";\n",
       "                var nbb_formatted_code = \"fig, ax = plt.subplots(nrows=1, ncols=2, figsize=(12, 4), dpi=150)\\n\\nsns.histplot(train_df[\\\"Artist Reputation\\\"], kde=True, ax=ax[0])\\n\\n# Get the fitted parameters used by the function\\n(mu, sigma) = stats.norm.fit(\\n    data=train_df.loc[~train_df[\\\"Artist Reputation\\\"].isna(), \\\"Artist Reputation\\\"]\\n)\\n\\n# plot with the distribution\\nax[0].legend(\\n    [\\\"Normal dist. ($\\\\mu=$ {:.2f} and $\\\\sigma=$ {:.2f} )\\\".format(mu, sigma)], loc=\\\"best\\\"\\n)\\nax[0].set_ylabel(\\\"Frequency\\\")\\nax[0].grid()\\n\\n# Probablity plot\\nsm.qqplot(data=train_df[\\\"Artist Reputation\\\"], line=\\\"45\\\", ax=ax[1])\\nax[1].grid()\\nplt.show()\";\n",
       "                var nbb_cells = Jupyter.notebook.get_cells();\n",
       "                for (var i = 0; i < nbb_cells.length; ++i) {\n",
       "                    if (nbb_cells[i].input_prompt_number == nbb_cell_id) {\n",
       "                        if (nbb_cells[i].get_text() == nbb_unformatted_code) {\n",
       "                             nbb_cells[i].set_text(nbb_formatted_code);\n",
       "                        }\n",
       "                        break;\n",
       "                    }\n",
       "                }\n",
       "            }, 500);\n",
       "            "
      ],
      "text/plain": [
       "<IPython.core.display.Javascript object>"
      ]
     },
     "metadata": {},
     "output_type": "display_data"
    }
   ],
   "source": [
    "fig, ax = plt.subplots(nrows=1, ncols=2, figsize=(12, 4), dpi=150)\n",
    "\n",
    "sns.histplot(train_df[\"Artist Reputation\"], kde=True, ax=ax[0])\n",
    "\n",
    "# Get the fitted parameters used by the function\n",
    "(mu, sigma) = stats.norm.fit(\n",
    "    data=train_df.loc[~train_df[\"Artist Reputation\"].isna(), \"Artist Reputation\"]\n",
    ")\n",
    "\n",
    "# plot with the distribution\n",
    "ax[0].legend(\n",
    "    [\"Normal dist. ($\\mu=$ {:.2f} and $\\sigma=$ {:.2f} )\".format(mu, sigma)], loc=\"best\"\n",
    ")\n",
    "ax[0].set_ylabel(\"Frequency\")\n",
    "ax[0].grid()\n",
    "\n",
    "# Probablity plot\n",
    "sm.qqplot(data=train_df[\"Artist Reputation\"], line=\"45\", ax=ax[1])\n",
    "ax[1].grid()\n",
    "plt.show()"
   ]
  },
  {
   "cell_type": "markdown",
   "id": "widespread-cricket",
   "metadata": {},
   "source": [
    "### Missing Info"
   ]
  },
  {
   "cell_type": "code",
   "execution_count": 7,
   "id": "brilliant-intensity",
   "metadata": {},
   "outputs": [
    {
     "name": "stdout",
     "output_type": "stream",
     "text": [
      "<class 'pandas.core.frame.DataFrame'>\n",
      "RangeIndex: 6500 entries, 0 to 6499\n",
      "Data columns (total 20 columns):\n",
      " #   Column                 Non-Null Count  Dtype         \n",
      "---  ------                 --------------  -----         \n",
      " 0   Customer Id            6500 non-null   object        \n",
      " 1   Artist Name            6500 non-null   object        \n",
      " 2   Artist Reputation      5750 non-null   float64       \n",
      " 3   Height                 6125 non-null   float64       \n",
      " 4   Width                  5916 non-null   float64       \n",
      " 5   Weight                 5913 non-null   float64       \n",
      " 6   Material               5736 non-null   object        \n",
      " 7   Price Of Sculpture     6500 non-null   float64       \n",
      " 8   Base Shipping Price    6500 non-null   float64       \n",
      " 9   International          6500 non-null   object        \n",
      " 10  Express Shipment       6500 non-null   object        \n",
      " 11  Installation Included  6500 non-null   object        \n",
      " 12  Transport              5108 non-null   object        \n",
      " 13  Fragile                6500 non-null   object        \n",
      " 14  Customer Information   6500 non-null   object        \n",
      " 15  Remote Location        5729 non-null   object        \n",
      " 16  Scheduled Date         6500 non-null   datetime64[ns]\n",
      " 17  Delivery Date          6500 non-null   datetime64[ns]\n",
      " 18  Customer Location      6500 non-null   object        \n",
      " 19  Cost                   6500 non-null   float64       \n",
      "dtypes: datetime64[ns](2), float64(7), object(11)\n",
      "memory usage: 1015.8+ KB\n"
     ]
    },
    {
     "data": {
      "application/javascript": [
       "\n",
       "            setTimeout(function() {\n",
       "                var nbb_cell_id = 7;\n",
       "                var nbb_unformatted_code = \"train_df.info()\";\n",
       "                var nbb_formatted_code = \"train_df.info()\";\n",
       "                var nbb_cells = Jupyter.notebook.get_cells();\n",
       "                for (var i = 0; i < nbb_cells.length; ++i) {\n",
       "                    if (nbb_cells[i].input_prompt_number == nbb_cell_id) {\n",
       "                        if (nbb_cells[i].get_text() == nbb_unformatted_code) {\n",
       "                             nbb_cells[i].set_text(nbb_formatted_code);\n",
       "                        }\n",
       "                        break;\n",
       "                    }\n",
       "                }\n",
       "            }, 500);\n",
       "            "
      ],
      "text/plain": [
       "<IPython.core.display.Javascript object>"
      ]
     },
     "metadata": {},
     "output_type": "display_data"
    }
   ],
   "source": [
    "train_df.info()"
   ]
  },
  {
   "cell_type": "markdown",
   "id": "piano-classification",
   "metadata": {},
   "source": [
    "We can immediately identify some of the missing columns as:\n",
    "* `Artist Reputation`\n",
    "* `Height`\n",
    "* `Width`\n",
    "* `Weight`\n",
    "* `Material`\n",
    "* `Transport`\n",
    "* `Remote Location`\n",
    "\n",
    "Missing values \"can have a significant effect on the conclusions that can be drawn from the data\" [3]. We need to figure out whether to drop these or imputate them based on how they can impact the results drawn by our model."
   ]
  },
  {
   "cell_type": "markdown",
   "id": "productive-pennsylvania",
   "metadata": {},
   "source": [
    "## Treating Missing Data\n",
    "\n",
    "This article Towards Data Science [4], explains the different ways the data can be missing. These are:\n",
    "1. Missing at random - there is a systematic relationship between the propensity of missing values and the observed data, but not the missing data\n",
    "2. Missing Completely at Random - no relationship between the missingness of the data and any values, observed or missing\n",
    "3. Missing Not at Random - data is missing is related to the unobserved data\n",
    "\n",
    "### Bivariate Analysis between column with missing values and target variable\n",
    "\n",
    "The easiest to do is to check if there's a relationship between the missing values itself and the target variable\n",
    "\n",
    "#### `Artist Reputation`"
   ]
  },
  {
   "cell_type": "markdown",
   "id": "fiscal-forge",
   "metadata": {},
   "source": [
    "## References\n",
    "\n",
    "1. [All About USPS Dimensional Weight Pricing](https://stamps.custhelp.com/app/answers/detail/a_id/6114/~/all-about-usps-dimensional-weight-pricing)\n",
    "2. [Apple’s Paper and Packaging Strategy](https://www.apple.com/environment/pdf/Packaging_and_Forestry_September_2017.pdf)\n",
    "3. [The prevention and handling of the missing data](https://www.ncbi.nlm.nih.gov/pmc/articles/PMC3668100/)\n",
    "4. [How to Handle Missing Data](https://towardsdatascience.com/how-to-handle-missing-data-8646b18db0d4)\n",
    "5. [qqplot (Quantile-Quantile Plot) in Python](https://www.geeksforgeeks.org/qqplot-quantile-quantile-plot-in-python/)"
   ]
  }
 ],
 "metadata": {
  "kernelspec": {
   "display_name": "Python 3",
   "language": "python",
   "name": "python3"
  },
  "language_info": {
   "codemirror_mode": {
    "name": "ipython",
    "version": 3
   },
   "file_extension": ".py",
   "mimetype": "text/x-python",
   "name": "python",
   "nbconvert_exporter": "python",
   "pygments_lexer": "ipython3",
   "version": "3.8.8"
  }
 },
 "nbformat": 4,
 "nbformat_minor": 5
}
